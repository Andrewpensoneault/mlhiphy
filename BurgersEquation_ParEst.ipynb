{
 "cells": [
  {
   "cell_type": "markdown",
   "metadata": {},
   "source": [
    "## Heat Equation\n",
    "#### Parameter estimation for Burgers' Equation (no source) using Gaussian processes (Backward Euler scheme)\n",
    "\n",
    "\n",
    "#### Problem Setup\n",
    "\n",
    "$u_t + u u_{x} + (\\nu - e) u_{xx} = 0$\n",
    "\n",
    "$u(x,t) = \\frac{x}{1+t}$\n",
    "\n",
    "$u_0(x) := u(x,0) = x$\n",
    "\n",
    "$x \\in [0, 1], t \\in \\{0, \\tau \\}$\n",
    "\n",
    "Using the backward Euler scheme, the equation can be re-written as:\n",
    "\n",
    "$\\frac{u_n - u_{n-1}}{\\tau} + u_n \\frac{d}{dx}u_n - (\\nu - e) \\frac{d^2}{dx^2}u_n = 0$\n",
    "\n",
    "and setting $u_n = \\mu_n$ to deal with the non-linearity:\n",
    "\n",
    "$u_n + \\tau \\mu_n \\frac{d}{dx}u_n - \\tau (\\nu - e) \\frac{d^2}{dx^2}u_n = u_{n-1}$\n",
    "\n",
    "\n",
    "Consider $u_n$ to be a Gaussian processes.\n",
    "\n",
    "$u_n \\sim \\mathcal{GP}(0, k_{uu}(x_i, x_j, \\theta))$\n",
    "\n",
    "And the linear operator:\n",
    "\n",
    "$\\mathcal{L}_x^\\nu = \\cdot + \\tau \\mu_n \\frac{d}{dx}\\cdot - \\tau (\\nu - e) \\frac{d^2}{dx^2} \\cdot$\n",
    "\n",
    "so that\n",
    "\n",
    "$\\mathcal{L}_x^\\nu u_n = u_{n-1}$\n",
    "\n",
    "Problem at hand: estimate $\\nu$ (should be $\\nu = e$ in the end).\n",
    "\n",
    "For the sake of simplicity, take $u := u_n$ and $f := u_{n-1}$.\n",
    "\n",
    "\n",
    "#### step 1: Simulate data\n",
    "\n",
    "Take data points at $t = 0$ for $(u_{n-1})$ and $t = \\tau$ for $(u_n)$, where $\\tau$ is the time step."
   ]
  },
  {
   "cell_type": "code",
   "execution_count": 98,
   "metadata": {},
   "outputs": [],
   "source": [
    "import numpy as np\n",
    "import sympy as sp\n",
    "from scipy.optimize import minimize\n",
    "import matplotlib.pyplot as plt"
   ]
  },
  {
   "cell_type": "code",
   "execution_count": 99,
   "metadata": {},
   "outputs": [],
   "source": [
    "tau = 0.01\n",
    "def get_simulated_data(tau):\n",
    "    x = np.random.rand(20)\n",
    "    y_u = x/(1+tau)\n",
    "    y_f = x\n",
    "    return (x, y_u,y_f)\n",
    "\n",
    "(x, y_u, y_f) = get_simulated_data(tau)"
   ]
  },
  {
   "cell_type": "code",
   "execution_count": 100,
   "metadata": {},
   "outputs": [
    {
     "data": {
      "image/png": "[encoded data removed]",
      "text/plain": [
       "<Figure size 432x288 with 1 Axes>"
      ]
     },
     "metadata": {},
     "output_type": "display_data"
    }
   ],
   "source": [
    "plt.plot(x, y_u, 'ro')\n",
    "plt.show()"
   ]
  },
  {
   "cell_type": "code",
   "execution_count": 101,
   "metadata": {},
   "outputs": [
    {
     "data": {
      "image/png": "[encoded data removed]",
      "text/plain": [
       "<Figure size 432x288 with 1 Axes>"
      ]
     },
     "metadata": {},
     "output_type": "display_data"
    }
   ],
   "source": [
    "plt.plot(x, y_f, 'bo')\n",
    "plt.show()"
   ]
  },
  {
   "cell_type": "markdown",
   "metadata": {},
   "source": [
    "#### Step 2:Evaluate kernels\n",
    "\n",
    "$k_{nn}(x_i, x_j; \\theta) = \\theta exp(-\\frac{1}{2}(x_i-x_j)^2)$"
   ]
  },
  {
   "cell_type": "code",
   "execution_count": 102,
   "metadata": {},
   "outputs": [],
   "source": [
    "x_i, x_j, theta, mu_n, nu = sp.symbols('x_i x_j theta mu_n nu')\n",
    "kuu_sym = theta*sp.exp(-1/(2)*((x_i - x_j)**2))\n",
    "kuu_fn = sp.lambdify((x_i, x_j, theta), kuu_sym, \"numpy\")\n",
    "def kuu(x, theta):\n",
    "    k = np.zeros((x.size, x.size))\n",
    "    for i in range(x.size):\n",
    "        for j in range(x.size):\n",
    "            k[i,j] = kuu_fn(x[i], x[j], theta)\n",
    "    return k"
   ]
  },
  {
   "cell_type": "markdown",
   "metadata": {},
   "source": [
    "$k_{ff}(x_i,x_j;\\theta,\\phi) \\\\\n",
    "= \\mathcal{L}_{x_i}^\\nu \\mathcal{L}_{x_j}^\\nu k_{uu}(x_i, x_j; \\theta) \\\\\n",
    "= \\mathcal{L}_{x_i}^\\nu \\left( k_{uu} + \\tau \\mu_n \\frac{d}{dx_j}k_{uu} - \\tau(\\nu - e)\\frac{d^2}{dx_j^2}k_{uu} \\right) \\\\\n",
    " = k_{uu} + \\tau \\mu_n \\frac{d}{dx_i}k_{uu} - \\tau(\\nu-e)\\frac{d^2}{dx_i^2}k_{uu} + \\tau\\mu_n\\frac{d}{dx_j}k_{uu} + \\tau\\mu_n\\frac{d}{dx_i}\\tau\\mu_n\\frac{d}{dx_j}k_{uu} - \\tau(\\nu - e)\\frac{d^2}{dx_i^2}\\tau\\mu_n\\frac{d}{dx_j}k_{uu} - \\tau(\\nu-e)\\frac{d^2}{dx_j^2}k_{uu} - \\tau\\mu_n\\frac{d}{dx_i}\\tau(\\nu-e)\\frac{d^2}{dx_j^2}k_{uu} + \\tau(\\nu - e)\\frac{d^2}{dx_i^2}\\tau(\\nu-e)\\frac{d^2}{dx_j^2}k_{uu}$"
   ]
  },
  {
   "cell_type": "code",
   "execution_count": 103,
   "metadata": {},
   "outputs": [],
   "source": [
    "kff_sym = kuu_sym \\\n",
    "        + tau*mu_n*(sp.diff(kuu_sym, x_i)) \\\n",
    "        - tau*(nu-np.e)*sp.diff(kuu_sym, x_i, x_i) \\\n",
    "        + tau*mu_n*sp.diff(kuu_sym, x_j) \\\n",
    "        + tau**2*mu_n**2*sp.diff(kuu_sym, x_i, x_j) \\\n",
    "        - tau**2*(nu-np.e)*mu_n*sp.diff(kuu_sym, x_j, x_i, x_i) \\\n",
    "        - tau*(nu-np.e)*sp.diff(kuu_sym, x_j, x_j) \\\n",
    "        - tau**2*mu_n*(nu-np.e)*sp.diff(kuu_sym, x_j, x_j, x_i) \\\n",
    "        + tau**2*(nu-np.e)**2*sp.diff(kuu_sym, x_j, x_j, x_i, x_i)\n",
    "kff_fn = sp.lambdify((x_i, x_j, theta, mu_n, nu), kff_sym, \"numpy\")\n",
    "def kff(x, theta, mu_n, nu):\n",
    "    k = np.zeros((x.size, x.size))\n",
    "    for i in range(x.size):\n",
    "        for j in range(x.size):\n",
    "            k[i,j] = kff_fn(x[i], x[j], theta, mu_n, nu)\n",
    "    return k"
   ]
  },
  {
   "cell_type": "markdown",
   "metadata": {},
   "source": [
    "$k_{fu}(x_i,x_j;\\theta,\\phi) \\\\\n",
    "= \\mathcal{L}_{x_i}^\\nu k_{uu}(x_i, x_j; \\theta) \\\\\n",
    "= k_{uu} + \\tau \\mu_n \\frac{d}{dx_i}k_{uu} - \\tau(\\nu - e) \\frac{d^2}{dx_i^2}k_{uu}$"
   ]
  },
  {
   "cell_type": "code",
   "execution_count": 104,
   "metadata": {},
   "outputs": [],
   "source": [
    "kfu_sym = kuu_sym + tau*mu_n*sp.diff(kuu_sym, x_i) - tau*(nu-np.e)*sp.diff(kuu_sym, x_i, x_i)\n",
    "kfu_fn = sp.lambdify((x_i, x_j, theta, mu_n, nu), kfu_sym, \"numpy\")\n",
    "def kfu(x, theta, mu_n, nu):\n",
    "    k = np.zeros((x.size, x.size))\n",
    "    for i in range(x.size):\n",
    "        for j in range(x.size):\n",
    "            k[i,j] = kfu_fn(x[i], x[j], theta, mu_n, nu)\n",
    "    return k"
   ]
  },
  {
   "cell_type": "code",
   "execution_count": 105,
   "metadata": {},
   "outputs": [],
   "source": [
    "def kuf(x, theta, mu_n, nu):\n",
    "    return kfu(x,theta,mu_n, nu).T"
   ]
  },
  {
   "cell_type": "markdown",
   "metadata": {},
   "source": [
    "#### Step 3: Compute NLML"
   ]
  },
  {
   "cell_type": "code",
   "execution_count": 106,
   "metadata": {},
   "outputs": [],
   "source": [
    "def nlml(params, x, y1, y2, s):\n",
    "    theta_exp = np.exp(params[0]) # don't see why mu or nu must be positive\n",
    "    K = np.block([\n",
    "        [kuu(x, theta_exp) + s*np.identity(x.size), kuf(x, theta_exp, params[1], params[2])],\n",
    "        [kfu(x, theta_exp, params[1], params[2]), kff(x, theta_exp, params[1], params[2]) + s*np.identity(x.size)]\n",
    "    ])\n",
    "    y = np.concatenate((y1, y2))\n",
    "    val = 0.5*(np.log(abs(np.linalg.det(K))) + np.mat(y) * np.linalg.inv(K) * np.mat(y).T)\n",
    "    return val.item(0)"
   ]
  },
  {
   "cell_type": "code",
   "execution_count": 107,
   "metadata": {},
   "outputs": [
    {
     "data": {
      "text/plain": [
       "-236.5129841780265"
      ]
     },
     "execution_count": 107,
     "metadata": {},
     "output_type": "execute_result"
    }
   ],
   "source": [
    "nlml((np.exp(-2.42), 0.43, 6.25), x, y_u, y_f, 1e-6)\n"
   ]
  },
  {
   "cell_type": "code",
   "execution_count": 114,
   "metadata": {},
   "outputs": [
    {
     "data": {
      "text/plain": [
       "[<matplotlib.lines.Line2D at 0x236760f5c88>]"
      ]
     },
     "execution_count": 114,
     "metadata": {},
     "output_type": "execute_result"
    },
    {
     "data": {
      "image/png": "[encoded data removed]",
      "text/plain": [
       "<Figure size 432x288 with 1 Axes>"
      ]
     },
     "metadata": {},
     "output_type": "display_data"
    }
   ],
   "source": [
    "nlml((-2.4, 0.5, np.e) ,x ,y_u,y_f,1e-6) # mu should be roughly 0.5\n",
    "\n",
    "z = np.linspace(-10, 10)\n",
    "z_out = [nlml((0.8, 0.5, q), x, y_u, y_f, 1e-6) for q in z]\n",
    "plt.plot(z, z_out)"
   ]
  },
  {
   "cell_type": "markdown",
   "metadata": {},
   "source": [
    "#### Step 4: Optimise hyperparameters"
   ]
  },
  {
   "cell_type": "code",
   "execution_count": 109,
   "metadata": {},
   "outputs": [],
   "source": [
    "m = minimize(nlml, (np.random.rand(1), 0.5, np.e), args=(x, y_u, y_f, 1e-6), method=\"Nelder-Mead\", options = {'maxiter' : 1000})"
   ]
  },
  {
   "cell_type": "code",
   "execution_count": 110,
   "metadata": {},
   "outputs": [
    {
     "data": {
      "text/plain": [
       "6.2198395417518855"
      ]
     },
     "execution_count": 110,
     "metadata": {},
     "output_type": "execute_result"
    }
   ],
   "source": [
    "m.x[2]"
   ]
  },
  {
   "cell_type": "code",
   "execution_count": 111,
   "metadata": {},
   "outputs": [
    {
     "data": {
      "text/plain": [
       " final_simplex: (array([[-0.63551394,  0.52538897,  6.21983954],\n",
       "       [-0.63551501,  0.52538874,  6.21974606],\n",
       "       [-0.63553883,  0.5253878 ,  6.21976136],\n",
       "       [-0.63553225,  0.52539213,  6.21980002]]), array([-239.48495151, -239.48495151, -239.48495151, -239.48495151]))\n",
       "           fun: -239.48495151445627\n",
       "       message: 'Optimization terminated successfully.'\n",
       "          nfev: 163\n",
       "           nit: 93\n",
       "        status: 0\n",
       "       success: True\n",
       "             x: array([-0.63551394,  0.52538897,  6.21983954])"
      ]
     },
     "execution_count": 111,
     "metadata": {},
     "output_type": "execute_result"
    }
   ],
   "source": [
    "m"
   ]
  },
  {
   "cell_type": "markdown",
   "metadata": {
    "collapsed": true
   },
   "source": [
    "### Some analysis [to-do]"
   ]
  },
  {
   "cell_type": "markdown",
   "metadata": {},
   "source": [
    "Predicted values of $\\alpha$ against time steps."
   ]
  }
 ],
 "metadata": {
  "kernelspec": {
   "display_name": "Python 3",
   "language": "python",
   "name": "python3"
  },
  "language_info": {
   "codemirror_mode": {
    "name": "ipython",
    "version": 3
   },
   "file_extension": ".py",
   "mimetype": "text/x-python",
   "name": "python",
   "nbconvert_exporter": "python",
   "pygments_lexer": "ipython3",
   "version": "3.6.5"
  }
 },
 "nbformat": 4,
 "nbformat_minor": 2
}
