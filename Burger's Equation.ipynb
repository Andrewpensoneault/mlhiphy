{
 "cells": [
  {
   "cell_type": "markdown",
   "metadata": {},
   "source": [
    "We are working on the Burger's Equation: <br>\n",
    "$u_t + uu_x = \\nu u_{xx}$ with $x \\in [-1,1]$.<br> <br>\n",
    "Provided are the Dirichlet boundary conditions $u(t,-1)=u(t,1)=0$ and noisy measurements $\\{x^0, u^0\\}$ of the black-box initial function $u(0,x)=-\\sin(\\pi x)$. <br>\n",
    "The noise is chosen to be uniformly distributed in $[-0.25, 0.25].$ <br> <br>\n",
    "We apply the backward Euler scheme to discretize over time: <br>\n",
    "$u^{n}(x) = u^{n-1}(x) - \\Delta t u^n \\frac{d}{dx}u^n(x) + \\Delta t \\nu \\frac{d^2}{dx^2}u^n(x)$ <br> <br>\n",
    "In order to be able to put Gaussian Processes as priors on $u^{n-1}$ and on $u^n$, we have to relinquish the non-linear term and approximate it with $\\mu^{n-1}$, which is the posterior mean of the $n-1$-th time step. We get: <br>\n",
    "$u^n(x) = u^{n-1}(x) - \\Delta t \\mu^{n-1} \\frac{d}{dx}u^n(x) + \\Delta t \\nu \\frac{d^2}{dx^2}u^n(x)$. <br> <br>\n",
    "Or:\n",
    "$\n",
    "u^{n-1}(x) = u^n(x) + \\Delta t \\mu^{n-1} \\frac{d}{dx}u^n(x) - \\Delta t \\nu \\frac{d^2}{dx^2}u^n(x) =: \\mathcal{L}_x u^n(x)\n",
    "$\n",
    "<br> <br>\n",
    "We can then assume: <br>\n",
    "Prior: $u^n \\sim \\mathcal{GP}(0, k(x,x';\\theta_n))$ <br> <br>\n",
    "We obtain the Numerical Gaussian Process: <br>\n",
    "$\\begin{pmatrix}\n",
    "u^n \\\\\n",
    "u^{n-1} \\end{pmatrix}\n",
    "\\sim\n",
    "\\mathcal{GP}\\left(0,\n",
    "\\begin{pmatrix}\n",
    "k_{u,u}^{n,n} & k_{u,u}^{n,n-1} \\\\\n",
    "k_{u,u}^{n-1,n} & k_{u,u}^{n-1,n-1}\n",
    "\\end{pmatrix} \\right)$, where $k_{u,u}^{n,n} = k$.\n",
    "<br> \n",
    "\n",
    "\n",
    "#### Step 1: Simulate data"
   ]
  },
  {
   "cell_type": "code",
   "execution_count": 131,
   "metadata": {},
   "outputs": [],
   "source": [
    "import time\n",
    "import numpy as np\n",
    "import sympy as sp\n",
    "import matplotlib.pyplot as plt\n",
    "from scipy.optimize import minimize"
   ]
  },
  {
   "cell_type": "code",
   "execution_count": 132,
   "metadata": {},
   "outputs": [],
   "source": [
    "n = 24\n",
    "np.random.seed(int(time.time()))\n",
    "noise = 0.5*np.random.rand(24) - 0.25\n",
    "x0 = 2*np.random.rand(n) - 1 \n",
    "u0 = -np.sin(2*np.pi*x0) + noise\n",
    "\n",
    "xb = np.array([-1,1])\n",
    "ub = np.array([0,0])"
   ]
  },
  {
   "cell_type": "markdown",
   "metadata": {},
   "source": [
    "Plotting the function"
   ]
  },
  {
   "cell_type": "code",
   "execution_count": 133,
   "metadata": {},
   "outputs": [
    {
     "data": {
      "text/plain": [
       "[<matplotlib.lines.Line2D at 0x1c6db566978>]"
      ]
     },
     "execution_count": 133,
     "metadata": {},
     "output_type": "execute_result"
    },
    {
     "data": {
      "image/png": "[encoded data removed]",
      "text/plain": [
       "<Figure size 432x288 with 1 Axes>"
      ]
     },
     "metadata": {},
     "output_type": "display_data"
    }
   ],
   "source": [
    "plt.plot(x0,u0,'bo')\n",
    "plt.plot(xb,ub,'bo', color = 'red')\n",
    "xplot = np.arange(-1,1,0.002)\n",
    "uplot = -np.sin(2*np.pi*xplot)\n",
    "plt.plot(xplot,uplot)"
   ]
  },
  {
   "cell_type": "markdown",
   "metadata": {},
   "source": [
    "#### Step 2: evaluate kernels and covariance matrix\n",
    "\n",
    "Declare symbols"
   ]
  },
  {
   "cell_type": "code",
   "execution_count": 134,
   "metadata": {},
   "outputs": [],
   "source": [
    "x, xp, sig0, sig = sp.symbols('x, xp, sig0, sig')"
   ]
  },
  {
   "cell_type": "markdown",
   "metadata": {},
   "source": [
    "We choose a non-stationary prior, since Burger's equation can develop discontinuities: <br>\n",
    "$ k_{u,u}^{n,n} = k(x, x'; \\theta) = \\frac{2}{\\pi}\\sin^{-1}\\left( \n",
    "\\frac{2(\\sigma_0^2 + \\sigma^2xx')}{\\sqrt{(1+2(\\sigma_0^2 + \\sigma^2x^2))(1+2(\\sigma_0^2 + \\sigma^2x'^2))}} \\right)$    "
   ]
  },
  {
   "cell_type": "code",
   "execution_count": 135,
   "metadata": {},
   "outputs": [],
   "source": [
    "k_sym = 2/sp.pi*sp.asin(2*(sig0**2 + sig**2*x*xp)/sp.sqrt((1+2*(sig0**2+sig**2*x**2))*(1+2*(sig0**2+sig**2*xp**2))))\n",
    "k_fn = sp.lambdify((x, xp, sig0, sig), k_sym, \"numpy\")\n",
    "def k(x, sig0, sig):\n",
    "    m = np.zeros((x.size, x.size))\n",
    "    for i in range(x.size):\n",
    "        for j in range(x.size):\n",
    "            m[i,j] = k_fn(x[i], x[j], sig0, sig)\n",
    "    return m"
   ]
  },
  {
   "cell_type": "markdown",
   "metadata": {},
   "source": [
    "Choosing parameters"
   ]
  },
  {
   "cell_type": "code",
   "execution_count": 136,
   "metadata": {},
   "outputs": [],
   "source": [
    "mu = np.mean(u0)\n",
    "dt = 0.01\n",
    "nu = dt/np.pi"
   ]
  },
  {
   "cell_type": "markdown",
   "metadata": {},
   "source": [
    "$k_{u,u}^{n,n-1} = \\mathcal{L}_{x'}k = k + \\Delta t \\mu^{n-1}(x')\\frac{d}{dx'}k - \\nu \\Delta t \\frac{d^2}{dx'^2}k$"
   ]
  },
  {
   "cell_type": "code",
   "execution_count": 137,
   "metadata": {},
   "outputs": [],
   "source": [
    "knn0_sym = k_sym + dt*mu*sp.diff(k_sym, xp) - nu*dt*sp.diff(k_sym, xp, xp)\n",
    "knn0_fn = sp.lambdify((x, xp, sig0, sig), knn0_sym, \"numpy\")\n",
    "def knn0(xb, x, sig0, sig):\n",
    "    m = np.zeros((xb.size, x.size))\n",
    "    for i in range(xb.size):\n",
    "        for j in range(x.size):\n",
    "            m[i,j] = knn0_fn(xb[i], x[j], sig0, sig)\n",
    "    return m"
   ]
  },
  {
   "cell_type": "markdown",
   "metadata": {},
   "source": [
    "$k_{u,u}^{n-1,n} = \\mathcal{L}_{x}k = k + \\Delta t \\mu^{n-1}(x)\\frac{d}{dx}k - \\nu \\Delta t \\frac{d^2}{dx^2}k$"
   ]
  },
  {
   "cell_type": "code",
   "execution_count": 138,
   "metadata": {},
   "outputs": [],
   "source": [
    "def kn0n(xb, x, sig0, sig):\n",
    "    return knn0(xb, x, sig0, sig).T"
   ]
  },
  {
   "cell_type": "markdown",
   "metadata": {},
   "source": [
    "Calculating the kernel of $u^{n-1}$: <br>\n",
    "$k_{u,u}^{n-1,n-1} = \\mathcal{L}_x \\mathcal{L}_{x'} k = \\mathcal{L}_x k_{u,u}^{n,n-1} \\\\ = k_{u,u}^{n,n-1} + \\Delta t \\mu^{n-1}(x)\\frac{d}{dx}k_{u,u}^{n,n-1} - \\nu \\Delta t \\frac{d^2}{dx^2}k_{u,u}^{n,n-1} \\\\ = k + \\Delta t \\mu^{n-1}(x')\\frac{d}{dx'}k - \\nu \\Delta t \\frac{d^2}{dx'^2}k + \\Delta t \\mu^{n-1}(x)\\frac{d}{dx}k + \\Delta t^2 \\mu^{n-1}(x)\\mu^{n-1}(x')\\frac{d}{dx}\\frac{d}{dx'}k - \\nu \\Delta t^2 \\mu^{n-1}(x)\\frac{d}{dx}\\frac{d^2}{dx'^2}k - \\nu \\Delta t \\frac{d^2}{dx^2}k - \\nu \\Delta t^2 \\mu^{n-1}(x')\\frac{d^2}{dx^2}\\frac{d}{dx'}k + \\nu^2\\Delta t^2 \\frac{d^2}{dx^2} \\frac{d^2}{dx'^2}k$"
   ]
  },
  {
   "cell_type": "code",
   "execution_count": 139,
   "metadata": {},
   "outputs": [],
   "source": [
    "kn0n0_sym = knn0_sym + dt*mu*sp.diff(knn0_sym, x) - mu*dt*sp.diff(knn0_sym, x, x)\n",
    "kn0n0_fn = sp.lambdify((x, xp, sig0, sig), kn0n0_sym, \"numpy\")\n",
    "def kn0n0(x, sig0, sig):\n",
    "    m = np.zeros((x.size, x.size))\n",
    "    for i in range(x.size):\n",
    "        for j in range(x.size):\n",
    "            m[i,j] = kn0n0_fn(x[i], x[j], sig0, sig)\n",
    "    return m"
   ]
  },
  {
   "cell_type": "markdown",
   "metadata": {},
   "source": [
    "#### Step 3: create covariance matrix and NLML\n",
    "\n",
    "```\n",
    "params = [sig0, sig]\n",
    "```"
   ]
  },
  {
   "cell_type": "code",
   "execution_count": 140,
   "metadata": {},
   "outputs": [],
   "source": [
    "def nlml(params, xb, x0, ub, u0, s):\n",
    "    params = np.exp(params)\n",
    "    K = np.block([\n",
    "        [\n",
    "            k(xb, params[0], params[1]) + s*np.identity(xb.size),\n",
    "            knn0(xb, x0, params[0], params[1])\n",
    "        ],\n",
    "        [\n",
    "            kn0n(xb, x0, params[0], params[1]),\n",
    "            kn0n0(x0, params[0], params[1]) + s*np.identity(x0.size)\n",
    "        ]\n",
    "    ])\n",
    "    y = np.concatenate((ub,u0))\n",
    "    val = 0.5*(np.log(abs(np.linalg.det(K))) + np.mat(y) * np.linalg.inv(K) * np.mat(y).T)\n",
    "    return val.item(0)"
   ]
  },
  {
   "cell_type": "code",
   "execution_count": 141,
   "metadata": {},
   "outputs": [
    {
     "data": {
      "text/plain": [
       "5949290.832508889"
      ]
     },
     "execution_count": 141,
     "metadata": {},
     "output_type": "execute_result"
    }
   ],
   "source": [
    "nlml((1,1), xb, x0, ub, u0, 1e-8)"
   ]
  },
  {
   "cell_type": "code",
   "execution_count": 142,
   "metadata": {},
   "outputs": [
    {
     "data": {
      "text/plain": [
       " final_simplex: (array([[1.39185121, 1.39541777],\n",
       "       [1.39185121, 1.39541777],\n",
       "       [1.39185121, 1.39541777]]), array([-3.23761254e+15, -3.23761254e+15, -3.23761254e+15]))\n",
       "           fun: -3237612538384236.5\n",
       "       message: 'Optimization terminated successfully.'\n",
       "          nfev: 338\n",
       "           nit: 150\n",
       "        status: 0\n",
       "       success: True\n",
       "             x: array([1.39185121, 1.39541777])"
      ]
     },
     "execution_count": 142,
     "metadata": {},
     "output_type": "execute_result"
    }
   ],
   "source": [
    "nlml_wp = lambda params: nlml(params, xb, x0, ub, u0, 1e-8)\n",
    "res = minimize(nlml_wp, np.random.rand(2), method=\"Nelder-Mead\", options={'maxiter' : 5000, 'fatol' : 0.001})\n",
    "res"
   ]
  },
  {
   "cell_type": "markdown",
   "metadata": {},
   "source": [
    "Predicting $u_n(x_{\\ast}^n)$ at a test point $x_{\\ast}^n$: <br>\n",
    "$u^n(x_{\\ast}^n) \\vert \\begin{pmatrix} u_b^n \\\\ u^{n-1} \\end{pmatrix} \\sim \\mathcal{N} \\left( q^T K^{-1} \\begin{pmatrix} u_b^n \\\\ u^{n-1} \\end{pmatrix} , k_{u,u}^{n,n}(x_{\\ast}^n, x_{\\ast}^n) - q^T K^{-1}q \\right)$, where <br>\n",
    "$ q^T := \\begin{pmatrix} k_{u,b}^{n,n}(x_{\\ast}^n, x_b^n) & k_{u,u}^{n, n-1}(x_{\\ast}^n, x^{n-1}) \\end{pmatrix} $ <br>\n",
    "So the expected value is: <br>\n",
    "$u^n(x_{\\ast}^n) = q^T K^{-1} \\begin{pmatrix} u_b^n \\\\ u^{n-1} \\end{pmatrix}$."
   ]
  },
  {
   "cell_type": "code",
   "execution_count": 149,
   "metadata": {},
   "outputs": [
    {
     "name": "stdout",
     "output_type": "stream",
     "text": [
      "4.022289251796972\n",
      "192914482.55315757\n"
     ]
    }
   ],
   "source": [
    "sig0 = np.exp(res.x[0])\n",
    "sig = np.exp(res.x[1])\n",
    "s = 1e-8\n",
    "xstar = 0.8                # As an example\n",
    "\n",
    "K = np.block([\n",
    "    [\n",
    "        k(xb, sig0, sig) + s*np.identity(xb.size),\n",
    "        knn0(xb, x0, sig0, sig)\n",
    "    ],\n",
    "    [\n",
    "        kn0n(xb, x0, sig0, sig),\n",
    "        kn0n0(x0, sig0, sig) + s*np.identity(x0.size)\n",
    "    ]\n",
    "])\n",
    "\n",
    "q = np.zeros(xb.size + x0.size)\n",
    "\n",
    "for i in range(xb.size):\n",
    "    q[i] = k_fn(xb[i], xstar, sig0, sig)\n",
    "    \n",
    "for j in range(x0.size):\n",
    "    q[xb.size + j] = knn0_fn(x0[j], xstar, sig0, sig)\n",
    "    \n",
    "y = np.concatenate([ub, u0])\n",
    "\n",
    "print((q.T).dot(np.linalg.inv(K)).dot(y))\n"
   ]
  },
  {
   "cell_type": "code",
   "execution_count": null,
   "metadata": {},
   "outputs": [],
   "source": [
    "#def minimize_restarts(xb, x0, ub, u0, n = 5):\n",
    "#    nlml_wp = lambda params: nlml(params, xb, x0, ub, u0, 1e-8)\n",
    "#    all_results = []\n",
    "#    for it in range(0,n):\n",
    "#        all_results.append(minimize(nlml_wp, np.random.rand(2), method=\"Nelder-Mead\", options={'maxiter' : 5000, 'fatol' : 0.001}))\n",
    "#    filtered_results = [m for m in all_results if 0 == m.status]\n",
    "#    return min(filtered_results, key = lambda x: x.fun)"
   ]
  },
  {
   "cell_type": "code",
   "execution_count": null,
   "metadata": {},
   "outputs": [],
   "source": [
    "#m = minimize_restarts(xb, x0, ub, u0)\n",
    "#m"
   ]
  }
 ],
 "metadata": {
  "kernelspec": {
   "display_name": "Python 3",
   "language": "python",
   "name": "python3"
  },
  "language_info": {
   "codemirror_mode": {
    "name": "ipython",
    "version": 3
   },
   "file_extension": ".py",
   "mimetype": "text/x-python",
   "name": "python",
   "nbconvert_exporter": "python",
   "pygments_lexer": "ipython3",
   "version": "3.6.5"
  }
 },
 "nbformat": 4,
 "nbformat_minor": 2
}
