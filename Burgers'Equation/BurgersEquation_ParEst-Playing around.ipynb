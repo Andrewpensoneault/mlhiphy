{
 "cells": [
  {
   "cell_type": "markdown",
   "metadata": {},
   "source": [
    "## Burgers Equation\n",
    "#### Parameter estimation for Burgers' Equation using Gaussian processes (Backward Euler scheme)\n",
    "\n",
    "\n",
    "#### Problem Setup\n",
    "\n",
    "$u_t + u u_{x} - (\\nu - e) u_{xx} = 0$\n",
    "\n",
    "$u(x,t) = \\frac{x}{1+t}$\n",
    "\n",
    "$u_0(x) := u(x,0) = x$\n",
    "\n",
    "$x \\in [0, 1], t \\in \\{0, \\tau \\}$\n",
    "\n",
    "Using the backward Euler scheme, the equation can be re-written as:\n",
    "\n",
    "$\\frac{u_n - u_{n-1}}{\\tau} + u_n \\frac{d}{dx}u_n - (\\nu - e) \\frac{d^2}{dx^2}u_n = 0$\n",
    "\n",
    "and setting $u_n = \\mu_n$ to deal with the non-linearity:\n",
    "\n",
    "$u_n + \\tau \\mu_n \\frac{d}{dx}u_n - \\tau (\\nu - e) \\frac{d^2}{dx^2}u_n = u_{n-1}$\n",
    "\n",
    "\n",
    "Consider $u_n$ to be a Gaussian processes.\n",
    "\n",
    "$u_n \\sim \\mathcal{GP}(0, k_{uu}(x_i, x_j, \\theta))$\n",
    "\n",
    "And the linear operator:\n",
    "\n",
    "$\\mathcal{L}_x^\\nu = \\cdot + \\tau \\mu_n \\frac{d}{dx}\\cdot - \\tau (\\nu - e) \\frac{d^2}{dx^2} \\cdot$\n",
    "\n",
    "so that\n",
    "\n",
    "$\\mathcal{L}_x^\\nu u_n = u_{n-1}$\n",
    "\n",
    "Problem at hand: estimate $\\nu$ (should be $\\nu = e$ in the end).\n",
    "\n",
    "For the sake of simplicity, take $u := u_n$ and $f := u_{n-1}$.\n",
    "\n",
    "\n",
    "#### step 1: Simulate data\n",
    "\n",
    "Take data points at $t = 0$ for $(u_{n-1})$ and $t = \\tau$ for $(u_n)$, where $\\tau$ is the time step."
   ]
  },
  {
   "cell_type": "code",
   "execution_count": 88,
   "metadata": {},
   "outputs": [],
   "source": [
    "import numpy as np\n",
    "import sympy as sp\n",
    "from scipy.optimize import minimize\n",
    "import matplotlib.pyplot as plt"
   ]
  },
  {
   "cell_type": "code",
   "execution_count": 89,
   "metadata": {},
   "outputs": [],
   "source": [
    "tau = 0.001\n",
    "def get_simulated_data(tau):\n",
    "    x = np.random.rand(50)\n",
    "    y_u = x/(1+tau)\n",
    "    y_f = x\n",
    "    return (x, y_u,y_f)\n",
    "\n",
    "(x, y_u, y_f) = get_simulated_data(tau)"
   ]
  },
  {
   "cell_type": "code",
   "execution_count": 90,
   "metadata": {},
   "outputs": [
    {
     "data": {
      "image/png": "[encoded data removed]",
      "text/plain": [
       "<Figure size 432x288 with 1 Axes>"
      ]
     },
     "metadata": {},
     "output_type": "display_data"
    }
   ],
   "source": [
    "plt.plot(x, y_u, 'ro')\n",
    "plt.show()"
   ]
  },
  {
   "cell_type": "code",
   "execution_count": 91,
   "metadata": {},
   "outputs": [
    {
     "data": {
      "image/png": "[encoded data removed]",
      "text/plain": [
       "<Figure size 432x288 with 1 Axes>"
      ]
     },
     "metadata": {},
     "output_type": "display_data"
    }
   ],
   "source": [
    "plt.plot(x, y_f, 'bo')\n",
    "plt.show()"
   ]
  },
  {
   "cell_type": "markdown",
   "metadata": {},
   "source": [
    "#### Step 2:Evaluate kernels\n",
    "\n",
    "$k_{nn}(x_i, x_j; \\theta) = \\theta exp(-\\frac{1}{2l}(x_i-x_j)^2)$"
   ]
  },
  {
   "cell_type": "code",
   "execution_count": 92,
   "metadata": {},
   "outputs": [],
   "source": [
    "x_i, x_j, theta, l, nu = sp.symbols('x_i x_j theta l nu')\n",
    "mu_n = np.mean(y_f)\n",
    "kuu_sym = theta*sp.exp(-1/(2*l)*((x_i - x_j)**2))\n",
    "kuu_fn = sp.lambdify((x_i, x_j, theta, l), kuu_sym, \"numpy\")\n",
    "def kuu(x, theta, l):\n",
    "    k = np.zeros((x.size, x.size))\n",
    "    for i in range(x.size):\n",
    "        for j in range(x.size):\n",
    "            k[i,j] = kuu_fn(x[i], x[j], theta, l)\n",
    "    return k"
   ]
  },
  {
   "cell_type": "markdown",
   "metadata": {},
   "source": [
    "$k_{ff}(x_i,x_j;\\theta,\\phi) \\\\\n",
    "= \\mathcal{L}_{x_i}^\\nu \\mathcal{L}_{x_j}^\\nu k_{uu}(x_i, x_j; \\theta) \\\\\n",
    "= \\mathcal{L}_{x_i}^\\nu \\left( k_{uu} + \\tau \\mu_n \\frac{d}{dx_j}k_{uu} - \\tau(\\nu - e)\\frac{d^2}{dx_j^2}k_{uu} \\right) \\\\\n",
    " = k_{uu} + \\tau \\mu_n \\frac{d}{dx_i}k_{uu} - \\tau(\\nu-e)\\frac{d^2}{dx_i^2}k_{uu} + \\tau\\mu_n\\frac{d}{dx_j}k_{uu} + \\tau\\mu_n\\frac{d}{dx_i}\\tau\\mu_n\\frac{d}{dx_j}k_{uu} - \\tau(\\nu - e)\\frac{d^2}{dx_i^2}\\tau\\mu_n\\frac{d}{dx_j}k_{uu} - \\tau(\\nu-e)\\frac{d^2}{dx_j^2}k_{uu} - \\tau\\mu_n\\frac{d}{dx_i}\\tau(\\nu-e)\\frac{d^2}{dx_j^2}k_{uu} + \\tau(\\nu - e)\\frac{d^2}{dx_i^2}\\tau(\\nu-e)\\frac{d^2}{dx_j^2}k_{uu}$"
   ]
  },
  {
   "cell_type": "code",
   "execution_count": 93,
   "metadata": {},
   "outputs": [],
   "source": [
    "kff_sym = kuu_sym \\\n",
    "        + tau*mu_n*(sp.diff(kuu_sym, x_i)) \\\n",
    "        - tau*(nu-np.e)*sp.diff(kuu_sym, x_i, x_i) \\\n",
    "        + tau*mu_n*sp.diff(kuu_sym, x_j) \\\n",
    "        + tau**2*mu_n**2*sp.diff(kuu_sym, x_i, x_j) \\\n",
    "        - tau**2*(nu-np.e)*mu_n*sp.diff(kuu_sym, x_j, x_i, x_i) \\\n",
    "        - tau*(nu-np.e)*sp.diff(kuu_sym, x_j, x_j) \\\n",
    "        - tau**2*mu_n*(nu-np.e)*sp.diff(kuu_sym, x_j, x_j, x_i) \\\n",
    "        + tau**2*(nu-np.e)**2*sp.diff(kuu_sym, x_j, x_j, x_i, x_i)\n",
    "kff_fn = sp.lambdify((x_i, x_j, theta, l, nu), kff_sym, \"numpy\")\n",
    "def kff(x, theta, l, nu):\n",
    "    k = np.zeros((x.size, x.size))\n",
    "    for i in range(x.size):\n",
    "        for j in range(x.size):\n",
    "            k[i,j] = kff_fn(x[i], x[j], theta, l, nu)\n",
    "    return k"
   ]
  },
  {
   "cell_type": "markdown",
   "metadata": {},
   "source": [
    "$k_{fu}(x_i,x_j;\\theta,\\phi) \\\\\n",
    "= \\mathcal{L}_{x_i}^\\nu k_{uu}(x_i, x_j; \\theta) \\\\\n",
    "= k_{uu} + \\tau \\mu_n \\frac{d}{dx_i}k_{uu} - \\tau(\\nu - e) \\frac{d^2}{dx_i^2}k_{uu}$"
   ]
  },
  {
   "cell_type": "code",
   "execution_count": 94,
   "metadata": {},
   "outputs": [],
   "source": [
    "kfu_sym = kuu_sym + tau*mu_n*sp.diff(kuu_sym, x_i) - tau*(nu-np.e)*sp.diff(kuu_sym, x_i, x_i)\n",
    "kfu_fn = sp.lambdify((x_i, x_j, theta, l, nu), kfu_sym, \"numpy\")\n",
    "def kfu(x, theta, l, nu):\n",
    "    k = np.zeros((x.size, x.size))\n",
    "    for i in range(x.size):\n",
    "        for j in range(x.size):\n",
    "            k[i,j] = kfu_fn(x[i], x[j], theta, l, nu)\n",
    "    return k"
   ]
  },
  {
   "cell_type": "code",
   "execution_count": 95,
   "metadata": {},
   "outputs": [],
   "source": [
    "def kuf(x, theta, l, nu):\n",
    "    return kfu(x,theta, l, nu).T"
   ]
  },
  {
   "cell_type": "markdown",
   "metadata": {},
   "source": [
    "#### Step 3: Compute NLML"
   ]
  },
  {
   "cell_type": "code",
   "execution_count": 96,
   "metadata": {},
   "outputs": [],
   "source": [
    "def nlml(params, x, y1, y2, s):\n",
    "    theta_exp = np.exp(params[0]) # don't see why mu or nu must be positive\n",
    "    l_exp = np.exp(params[1])\n",
    "    K = np.block([\n",
    "        [kuu(x, theta_exp, l_exp) + s*np.identity(x.size), kuf(x, theta_exp, l_exp, params[2])],\n",
    "        [kfu(x, theta_exp, l_exp, params[2]), kff(x, theta_exp, l_exp, params[2]) + s*np.identity(x.size)]\n",
    "    ])\n",
    "    y = np.concatenate((y1, y2))\n",
    "    print(np.linalg.det(K))\n",
    "    val = 0.5*(np.log(abs(np.linalg.det(K))) + np.mat(y) * np.linalg.inv(K) * np.mat(y).T)\n",
    "    return val.item(0)\n"
   ]
  },
  {
   "cell_type": "code",
   "execution_count": 97,
   "metadata": {},
   "outputs": [],
   "source": [
    "# nlml((5,2,1), mu_n, x, y_u, y_f, 1e-2)\n"
   ]
  },
  {
   "cell_type": "markdown",
   "metadata": {},
   "source": [
    "Mapping w.r.t. theta:"
   ]
  },
  {
   "cell_type": "code",
   "execution_count": 98,
   "metadata": {},
   "outputs": [],
   "source": [
    "#z = np.linspace(-10, 10)\n",
    "#z_out = [nlml((q, 0.53, 6.22), x, y_u, y_f, 1e-3) for q in z]\n",
    "#plt.plot(z, z_out)\n",
    "\n",
    "#nlml((-0.47, 0.5, np.e), x, y_u, y_f, 1e-3)"
   ]
  },
  {
   "cell_type": "markdown",
   "metadata": {},
   "source": [
    "Mapping w.r.t. nu:"
   ]
  },
  {
   "cell_type": "code",
   "execution_count": 99,
   "metadata": {},
   "outputs": [],
   "source": [
    "#nlml((-2.4, 0.5, np.e) ,x ,y_u,y_f,1e-3) # mu should be roughly 0.5\n",
    "\n",
    "#z = np.linspace(-10, 10)\n",
    "#z_out = [nlml((0.53, 0.53, q), x, y_u, y_f, 1e-6) for q in z]\n",
    "#plt.plot(z, z_out)\n",
    "\n",
    "# Relatively consistently we get the info, that vu = np.e is the maximizer, not the minimizer of the function:\n",
    "#print(nlml((0.53, 0.525, np.e - 0.2) ,x ,y_u,y_f,1e-6))\n",
    "#print(nlml((0.53, 0.525, np.e) ,x ,y_u,y_f,1e-6))\n",
    "#print(nlml((0.53, 0.525, np.e + 0.2) ,x ,y_u,y_f,1e-6))\n",
    "\n",
    "# This is possibly hinting at a sign error somewhere"
   ]
  },
  {
   "cell_type": "markdown",
   "metadata": {},
   "source": [
    "#### Step 4: Optimise hyperparameters"
   ]
  },
  {
   "cell_type": "code",
   "execution_count": 100,
   "metadata": {},
   "outputs": [
    {
     "name": "stdout",
     "output_type": "stream",
     "text": [
      "3.042479607885426e-289\n",
      "3.211504591379622e-289\n",
      "2.705343498901258e-289\n",
      "3.045866688178866e-289\n",
      "2.667469683555439e-289\n",
      "2.5750665933306594e-289\n",
      "2.3696734601830804e-289\n",
      "2.185272801279879e-289\n",
      "1.8575882622698195e-289\n",
      "1.9563998173887035e-289\n",
      "1.5604475454613908e-289\n",
      "1.195360032029416e-289\n",
      "1.1321244075621684e-289\n",
      "7.961810210777395e-290\n",
      "7.526304817032698e-290\n",
      "4.7950841144188857e-290\n",
      "3.369233974253082e-290\n",
      "1.5749050625598486e-290\n",
      "1.373243922729275e-290\n",
      "5.3615650427673284e-291\n",
      "3.6316181008283006e-291\n",
      "1.203896017568132e-291\n",
      "2.7629759532199307e-291\n",
      "1.0214558835641094e-291\n",
      "7.549794235087319e-291\n",
      "1.0354504530100237e-290\n",
      "3.79936132106044e-291\n",
      "7.932536460860595e-291\n",
      "3.9392615226491996e-291\n",
      "8.022568995184481e-291\n",
      "3.872901697701663e-291\n",
      "2.3984044809562556e-291\n",
      "5.8803043325259495e-291\n",
      "6.443529281594926e-291\n",
      "5.663592130832428e-291\n",
      "8.128831064273123e-291\n",
      "4.70437232819429e-291\n",
      "5.417029382744925e-291\n",
      "5.4450885729180534e-291\n",
      "4.998241575355497e-291\n",
      "6.269064228695591e-291\n",
      "7.247426497263659e-291\n",
      "5.755946304204629e-291\n",
      "5.696626624004703e-291\n",
      "7.398294730531573e-291\n",
      "8.328966224180752e-291\n",
      "1.0320476050053674e-290\n",
      "7.9040435479855e-291\n",
      "8.25806362805192e-291\n",
      "8.331869847745779e-291\n",
      "8.84833212844404e-291\n",
      "1.4548025677788654e-290\n",
      "1.0128046093944295e-290\n",
      "1.010444873704958e-290\n",
      "1.4353675823118626e-290\n",
      "8.238612766634865e-291\n",
      "6.333723727007314e-291\n",
      "1.0725772327100948e-290\n",
      "1.2033346272451032e-290\n",
      "6.034947965741531e-291\n",
      "6.2168521586712064e-291\n",
      "9.491384217217396e-291\n",
      "1.2215531006702021e-290\n",
      "1.3072472545868666e-290\n",
      "1.9456141506562074e-290\n",
      "2.0746489158104317e-290\n",
      "1.6361768324630202e-290\n",
      "1.2746996118356228e-290\n",
      "6.569952781015258e-291\n",
      "1.5504582415392838e-290\n",
      "1.999905109682775e-290\n",
      "1.138382226657001e-290\n",
      "1.385127934395591e-290\n",
      "1.2954316024752876e-290\n",
      "1.332693055136552e-290\n",
      "1.0098821718123158e-290\n",
      "1.3928311331942932e-290\n",
      "1.2172004347984677e-290\n",
      "1.300484306592837e-290\n",
      "1.5584444649914195e-290\n",
      "1.22916543815668e-290\n",
      "1.3081352366958155e-290\n",
      "1.3130522887969534e-290\n",
      "1.1710162115610029e-290\n",
      "1.3335721710982394e-290\n",
      "1.284518806094573e-290\n",
      "1.2923126390620203e-290\n",
      "1.3988313610040983e-290\n",
      "1.269476781741983e-290\n",
      "1.2886614747285333e-290\n",
      "1.293351326115241e-290\n",
      "1.3047227808244396e-290\n",
      "1.310993948843718e-290\n",
      "1.2500751977040135e-290\n",
      "1.2998070807602015e-290\n",
      "1.3153524571885094e-290\n",
      "1.2801620149978336e-290\n",
      "1.2738533875046376e-290\n",
      "1.3454596075437664e-290\n",
      "1.3053236030837564e-290\n",
      "1.3025149017782212e-290\n",
      "1.3185236702148285e-290\n",
      "1.2566703192473965e-290\n",
      "1.3045010867151362e-290\n",
      "1.3168919090248406e-290\n",
      "1.371180451948931e-290\n",
      "1.341699460051791e-290\n",
      "1.2711413370527375e-290\n",
      "1.2535869892939049e-290\n",
      "1.3189573358794402e-290\n",
      "1.3017857045209372e-290\n",
      "1.301495278161119e-290\n",
      "1.3549733863243344e-290\n",
      "1.3295847662300316e-290\n",
      "1.3350221764836223e-290\n",
      "1.344033483881101e-290\n",
      "1.2991076533347112e-290\n",
      "1.2722468299576116e-290\n",
      "1.3322571752853282e-290\n",
      "1.3483810269775947e-290\n",
      "1.292870227307488e-290\n",
      "1.2749209644970125e-290\n",
      "1.2476159897560091e-290\n",
      "1.339405577748121e-290\n",
      "1.3758026750954533e-290\n",
      "1.3490457935087472e-290\n",
      "1.379041366079343e-290\n",
      "1.2947395166724097e-290\n",
      "1.307467351842352e-290\n",
      "1.3916465099141506e-290\n",
      "1.3029973230139468e-290\n",
      "1.3004741120254598e-290\n",
      "1.3294498785750784e-290\n",
      "1.278402094228633e-290\n",
      "1.331005694981482e-290\n",
      "1.3350167286093053e-290\n",
      "1.328004621910627e-290\n",
      "1.309324365581318e-290\n",
      "1.325525613845143e-290\n",
      "1.3082674107741344e-290\n",
      "1.3241025280817044e-290\n",
      "1.3491553257629533e-290\n",
      "1.3143836115964853e-290\n",
      "1.3147073886200703e-290\n",
      "1.3180091491605076e-290\n",
      "1.3121590351473222e-290\n",
      "1.305532595443574e-290\n",
      "1.3056564953780745e-290\n",
      "1.3194657281050077e-290\n",
      "1.3187072607052716e-290\n",
      "1.3154599209760836e-290\n",
      "1.3133888819474485e-290\n",
      "1.3168481724015914e-290\n",
      "1.322377019302309e-290\n",
      "1.3147049355736595e-290\n",
      "1.3118861156235442e-290\n",
      "1.317566616616631e-290\n",
      "1.317286862000096e-290\n",
      "1.316829408377248e-290\n",
      "1.319463037256115e-290\n",
      "1.3158923886314727e-290\n",
      "1.31667796211023e-290\n",
      "1.3168052522978547e-290\n",
      "1.3154521897203146e-290\n",
      "1.3152706312978763e-290\n",
      "1.3144920439970796e-290\n",
      "1.316526820525933e-290\n",
      "1.3162579595793682e-290\n",
      "1.3163300605137524e-290\n",
      "1.3160017162209353e-290\n",
      "1.3148823327910448e-290\n",
      "1.3163241977180237e-290\n",
      "1.3171192474122106e-290\n",
      "1.31573253455097e-290\n",
      "1.3157810487288286e-290\n",
      "1.315900239448257e-290\n",
      "1.315969588927048e-290\n",
      "1.3159936685262285e-290\n",
      "1.3164129354162765e-290\n",
      "1.3159025985600324e-290\n",
      "1.3155402608608054e-290\n",
      "1.3161281662973015e-290\n",
      "1.3159603330989056e-290\n",
      "1.3159686635123664e-290\n",
      "1.316099383281274e-290\n",
      "1.3160495928678136e-290\n",
      "1.3161950315818192e-290\n",
      "1.3159756996876206e-290\n",
      "1.315867815386356e-290\n",
      "1.3160630736936854e-290\n",
      "1.3160902518513062e-290\n",
      "1.3159990583821882e-290\n",
      "1.315975628940763e-290\n",
      "1.3159941192408428e-290\n",
      "1.3160618025712554e-290\n",
      "1.3159972245228635e-290\n",
      "1.3159305310250826e-290\n",
      "1.31602993678775e-290\n",
      "1.3160151286621835e-290\n",
      "1.3160340743801878e-290\n",
      "1.3160240854177034e-290\n",
      "1.3159943558963245e-290\n",
      "1.316021041421481e-290\n",
      "1.3159981777607144e-290\n",
      "1.3160176084377993e-290\n",
      "1.3160087876604254e-290\n",
      "1.3160135433801913e-290\n",
      "1.31603757122559e-290\n",
      "1.3160073111682713e-290\n",
      "1.316015575943632e-290\n",
      "1.3160193249422104e-290\n",
      "1.3160074164712364e-290\n",
      "1.3160139906079882e-290\n",
      "1.316013197969384e-290\n",
      "1.316026532925396e-290\n",
      "1.3160194296870287e-290\n",
      "1.3160194821007346e-290\n",
      "1.3160074863463636e-290\n",
      "1.3160217711693276e-290\n"
     ]
    }
   ],
   "source": [
    "m = minimize(nlml, (np.random.rand(1), 0.5, np.e), args=(x, y_u, y_f, 1e-3), method=\"Nelder-Mead\", options = {'maxiter' : 1000})"
   ]
  },
  {
   "cell_type": "code",
   "execution_count": 101,
   "metadata": {},
   "outputs": [
    {
     "data": {
      "text/plain": [
       "4.355178275479192"
      ]
     },
     "execution_count": 101,
     "metadata": {},
     "output_type": "execute_result"
    }
   ],
   "source": [
    "m.x[2]"
   ]
  },
  {
   "cell_type": "code",
   "execution_count": 102,
   "metadata": {},
   "outputs": [
    {
     "data": {
      "text/plain": [
       " final_simplex: (array([[1.79784263, 2.81784441, 4.35517828],\n",
       "       [1.79783886, 2.81784109, 4.35520677],\n",
       "       [1.79783707, 2.8178407 , 4.35510619],\n",
       "       [1.79784109, 2.81784399, 4.35526421]]), array([-332.29109637, -332.29109637, -332.29109637, -332.29109637]))\n",
       "           fun: -332.29109636678197\n",
       "       message: 'Optimization terminated successfully.'\n",
       "          nfev: 219\n",
       "           nit: 121\n",
       "        status: 0\n",
       "       success: True\n",
       "             x: array([1.79784263, 2.81784441, 4.35517828])"
      ]
     },
     "execution_count": 102,
     "metadata": {},
     "output_type": "execute_result"
    }
   ],
   "source": [
    "m"
   ]
  },
  {
   "cell_type": "code",
   "execution_count": null,
   "metadata": {},
   "outputs": [],
   "source": []
  }
 ],
 "metadata": {
  "kernelspec": {
   "display_name": "Python 3",
   "language": "python",
   "name": "python3"
  },
  "language_info": {
   "codemirror_mode": {
    "name": "ipython",
    "version": 3
   },
   "file_extension": ".py",
   "mimetype": "text/x-python",
   "name": "python",
   "nbconvert_exporter": "python",
   "pygments_lexer": "ipython3",
   "version": "3.6.5"
  }
 },
 "nbformat": 4,
 "nbformat_minor": 2
}
