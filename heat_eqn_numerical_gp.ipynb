{
 "cells": [
  {
   "cell_type": "markdown",
   "metadata": {},
   "source": [
    "## Heat Equation\n",
    "#### Parameter estimation for the heat equation (no source) using Gaussian processes (Backward Euler scheme)\n",
    "\n",
    "\n",
    "#### Problem Setup\n",
    "\n",
    "$u_t - \\alpha u_{xx} = 0$\n",
    "\n",
    "$u(x,t) = e^{-t}sin(\\frac{x}{\\sqrt{\\alpha}})$\n",
    "\n",
    "$u_0(x) := u(x,0) = sin(\\frac{x}{\\sqrt{\\alpha}})$\n",
    "\n",
    "$x \\in [0, 2\\pi \\sqrt{\\alpha}], t \\in [0,1]$\n",
    "\n",
    "Using the backward Euler scheme, the equation can be re-written as:\n",
    "\n",
    "$\\frac{u_n - u_{n-1}}{\\tau} - \\alpha \\frac{d^2}{dx^2}u_n = 0$\n",
    "\n",
    "and so:\n",
    "\n",
    "$u_n - \\tau \\alpha \\frac{d^2}{dx^2}u_n = u_{n-1}$\n",
    "\n",
    "\n",
    "Consider $u_n$ to be a Gaussian processes.\n",
    "\n",
    "$u_n \\sim \\mathcal{GP}(0, k_{uu}(x_i, x_j, \\theta))$\n",
    "\n",
    "And the linear operator:\n",
    "\n",
    "$\\mathcal{L}_x^\\alpha = \\cdot - \\tau \\alpha \\frac{d^2}{dx^2}\\cdot$\n",
    "\n",
    "so that\n",
    "\n",
    "$\\mathcal{L}_x^\\alpha u_n = u_{n-1}$\n",
    "\n",
    "Problem at hand: estimate $\\alpha$.\n",
    "\n",
    "For the sake of simplicity, take $u := u_n$ and $f := u_{n-1}$.\n",
    "\n",
    "\n",
    "#### step 1: Simulate data\n",
    "\n",
    "Take data points at $t = 0$ for $(u_{n-1})$ and $t = \\tau$ for $(u_n)$, where $\\tau$ is the time step.\n",
    "\n",
    "$\\alpha = 1$ and $x \\in (0,2\\pi)$."
   ]
  },
  {
   "cell_type": "code",
   "execution_count": 1,
   "metadata": {
    "collapsed": true
   },
   "outputs": [],
   "source": [
    "import numpy as np\n",
    "import sympy as sp\n",
    "from scipy.optimize import minimize\n",
    "import matplotlib.pyplot as plt"
   ]
  },
  {
   "cell_type": "code",
   "execution_count": 2,
   "metadata": {
    "collapsed": true
   },
   "outputs": [],
   "source": [
    "tau = 0.2\n",
    "def get_simulated_data(tau_param, alpha_param):\n",
    "    x = 2*np.pi*np.sqrt(alpha_param)*np.random.rand(20)\n",
    "    y_u = np.exp(-tau_param)*np.sin(x/np.sqrt(alpha_param))\n",
    "    y_f = np.sin(x/np.sqrt(alpha_param))\n",
    "    return (x, y_u, y_f)\n",
    "\n",
    "(x, yu, yf) = get_simulated_data(tau, 1)"
   ]
  },
  {
   "cell_type": "code",
   "execution_count": 3,
   "metadata": {},
   "outputs": [
    {
     "data": {
      "image/png": "[encoded data removed]",
      "text/plain": [
       "<matplotlib.figure.Figure at 0x105e22d30>"
      ]
     },
     "metadata": {},
     "output_type": "display_data"
    }
   ],
   "source": [
    "plt.plot(x, yu, 'ro')\n",
    "plt.show()"
   ]
  },
  {
   "cell_type": "code",
   "execution_count": 4,
   "metadata": {},
   "outputs": [
    {
     "data": {
      "image/png": "[encoded data removed]",
      "text/plain": [
       "<matplotlib.figure.Figure at 0x105f8bb70>"
      ]
     },
     "metadata": {},
     "output_type": "display_data"
    }
   ],
   "source": [
    "plt.plot(x, yf, 'bo')\n",
    "plt.show()"
   ]
  },
  {
   "cell_type": "markdown",
   "metadata": {},
   "source": [
    "#### Step 2:Evaluate kernels\n",
    "\n",
    "$k_{uu}(x_i, x_j; \\theta) = \\theta exp(-\\frac{1}{2}(x_i-x_j)^2)$"
   ]
  },
  {
   "cell_type": "code",
   "execution_count": 5,
   "metadata": {
    "collapsed": true
   },
   "outputs": [],
   "source": [
    "x_i, x_j, theta, alpha = sp.symbols('x_i x_j theta alpha')\n",
    "kuu_sym = theta*sp.exp(-1/(2)*((x_i - x_j)**2))\n",
    "kuu_fn = sp.lambdify((x_i, x_j, theta), kuu_sym, \"numpy\")\n",
    "def kuu(x, theta):\n",
    "    k = np.zeros((x.size, x.size))\n",
    "    for i in range(x.size):\n",
    "        for j in range(x.size):\n",
    "            k[i,j] = kuu_fn(x[i], x[j], theta)\n",
    "    return k"
   ]
  },
  {
   "cell_type": "markdown",
   "metadata": {},
   "source": [
    "$k_{ff}(x_i,x_j;\\theta,\\phi) \\\\\n",
    "= \\mathcal{L}_{x_i}^\\phi \\mathcal{L}_{x_j}^\\phi k_{uu}(x_i, x_j; \\theta) \\\\\n",
    "= \\mathcal{L}_{x_i}^\\phi \\left( k_{uu} - \\tau \\alpha \\frac{\\partial^2}{\\partial x_j^2}k_{uu} \\right) \\\\\n",
    " = k_{uu} - \\tau \\alpha \\left( \\frac{\\partial^2}{\\partial x_j^2} + \\frac{\\partial^2}{\\partial x_i^2} \\right)k_{uu} + \\tau^2 \\alpha^2 \\frac{\\partial^2}{\\partial x_i^2}\\frac{\\partial^2}{\\partial x_j^2}k_{uu}$"
   ]
  },
  {
   "cell_type": "code",
   "execution_count": 6,
   "metadata": {
    "collapsed": true
   },
   "outputs": [],
   "source": [
    "kff_sym = kuu_sym \\\n",
    "        - tau*alpha*(sp.diff(kuu_sym, x_j, x_j) \\\n",
    "        + sp.diff(kuu_sym, x_i, x_i)) \\\n",
    "        + tau**2*alpha**2*sp.diff(kuu_sym, x_j, x_j, x_i, x_i)\n",
    "kff_fn = sp.lambdify((x_i, x_j, theta, alpha), kff_sym, \"numpy\")\n",
    "def kff(x, theta, alpha):\n",
    "    k = np.zeros((x.size, x.size))\n",
    "    for i in range(x.size):\n",
    "        for j in range(x.size):\n",
    "            k[i,j] = kff_fn(x[i], x[j], theta, alpha)\n",
    "    return k"
   ]
  },
  {
   "cell_type": "markdown",
   "metadata": {},
   "source": [
    "$k_{fu}(x_i,x_j;\\theta,\\phi) \\\\\n",
    "= \\mathcal{L}_{x_i}^\\alpha k_{uu}(x_i, x_j; \\theta) \\\\\n",
    "= k_{uu} - \\tau \\alpha \\frac{\\partial^2}{\\partial x_i^2}k_{uu} $"
   ]
  },
  {
   "cell_type": "code",
   "execution_count": 7,
   "metadata": {
    "collapsed": true
   },
   "outputs": [],
   "source": [
    "kfu_sym = kuu_sym - tau*alpha*sp.diff(kuu_sym, x_i, x_i)\n",
    "kfu_fn = sp.lambdify((x_i, x_j, theta, alpha), kfu_sym, \"numpy\")\n",
    "def kfu(x, theta, alpha):\n",
    "    k = np.zeros((x.size, x.size))\n",
    "    for i in range(x.size):\n",
    "        for j in range(x.size):\n",
    "            k[i,j] = kfu_fn(x[i], x[j], theta, alpha)\n",
    "    return k"
   ]
  },
  {
   "cell_type": "code",
   "execution_count": 8,
   "metadata": {
    "collapsed": true
   },
   "outputs": [],
   "source": [
    "def kuf(x, theta, alpha):\n",
    "    return kfu(x,theta,alpha).T"
   ]
  },
  {
   "cell_type": "markdown",
   "metadata": {},
   "source": [
    "#### Step 3: Compute NLML"
   ]
  },
  {
   "cell_type": "code",
   "execution_count": 9,
   "metadata": {
    "collapsed": true
   },
   "outputs": [],
   "source": [
    "def nlml(params, x, y1, y2, s):\n",
    "    params = np.exp(params)\n",
    "    K = np.block([\n",
    "        [kuu(x, params[0]) + s*np.identity(x.size), kuf(x, params[0], params[1])],\n",
    "        [kfu(x, params[0], params[1]), kff(x, params[0], params[1]) + s*np.identity(x.size)]\n",
    "    ])\n",
    "    y = np.concatenate((y1, y2))\n",
    "    val = 0.5*(np.log(abs(np.linalg.det(K))) + np.mat(y) * np.linalg.inv(K) * np.mat(y).T)\n",
    "    return val.item(0)"
   ]
  },
  {
   "cell_type": "code",
   "execution_count": 10,
   "metadata": {},
   "outputs": [
    {
     "data": {
      "text/plain": [
       "214.20663351001247"
      ]
     },
     "execution_count": 10,
     "metadata": {},
     "output_type": "execute_result"
    }
   ],
   "source": [
    "nlml((-0.5, 0), x, yu, yf, 1e-6)"
   ]
  },
  {
   "cell_type": "markdown",
   "metadata": {},
   "source": [
    "#### Step 4: Optimise hyperparameters\n",
    "\n",
    "##### Comparison of different optimisers"
   ]
  },
  {
   "cell_type": "code",
   "execution_count": 11,
   "metadata": {},
   "outputs": [
    {
     "name": "stdout",
     "output_type": "stream",
     "text": [
      "2.65 s ± 249 ms per loop (mean ± std. dev. of 7 runs, 1 loop each)\n"
     ]
    }
   ],
   "source": [
    "%%timeit\n",
    "minimize(nlml, np.random.rand(2), args=(x, yu, yf, 1e-6), method=\"Nelder-Mead\")"
   ]
  },
  {
   "cell_type": "code",
   "execution_count": 12,
   "metadata": {},
   "outputs": [
    {
     "name": "stdout",
     "output_type": "stream",
     "text": [
      "The slowest run took 5.85 times longer than the fastest. This could mean that an intermediate result is being cached.\n",
      "7.37 s ± 3.09 s per loop (mean ± std. dev. of 7 runs, 1 loop each)\n"
     ]
    }
   ],
   "source": [
    "nlml_wp = lambda params: nlml(params, x, yu, yf, 1e-6)\n",
    "param_bounds = np.array([[-3,0], [-5,1]])\n",
    "%timeit minimize(nlml_wp, np.random.rand(2), method=\"TNC\", bounds = param_bounds)"
   ]
  },
  {
   "cell_type": "markdown",
   "metadata": {},
   "source": [
    "##### Take minimum over multiple optimisations"
   ]
  },
  {
   "cell_type": "code",
   "execution_count": 13,
   "metadata": {
    "collapsed": true
   },
   "outputs": [],
   "source": [
    "def minimize_restarts(x, y_u, y_f, n = 10):\n",
    "    nlml_wp = lambda params: nlml(params, x, y_u, y_f, 1e-6)\n",
    "    all_results = []\n",
    "    for it in range(0,n):\n",
    "        all_results.append(minimize(nlml_wp, np.random.rand(2), method=\"Nelder-Mead\"))\n",
    "    filtered_results = [m for m in all_results if 0 == m.status]\n",
    "    return min(filtered_results, key = lambda x: x.fun)"
   ]
  },
  {
   "cell_type": "code",
   "execution_count": 14,
   "metadata": {
    "collapsed": true
   },
   "outputs": [],
   "source": [
    "a = minimize_restarts(x, yu, yf)"
   ]
  },
  {
   "cell_type": "code",
   "execution_count": 15,
   "metadata": {
    "scrolled": true
   },
   "outputs": [
    {
     "data": {
      "text/plain": [
       " final_simplex: (array([[-1.91262025,  0.10228481],\n",
       "       [-1.91268019,  0.10228458],\n",
       "       [-1.91268472,  0.10228511]]), array([-193.41696227, -193.41696227, -193.41696226]))\n",
       "           fun: -193.4169622748442\n",
       "       message: 'Optimization terminated successfully.'\n",
       "          nfev: 118\n",
       "           nit: 60\n",
       "        status: 0\n",
       "       success: True\n",
       "             x: array([-1.91262025,  0.10228481])"
      ]
     },
     "execution_count": 15,
     "metadata": {},
     "output_type": "execute_result"
    }
   ],
   "source": [
    "a"
   ]
  },
  {
   "cell_type": "markdown",
   "metadata": {},
   "source": [
    "##### Estimated value of $\\alpha$"
   ]
  },
  {
   "cell_type": "code",
   "execution_count": 16,
   "metadata": {},
   "outputs": [
    {
     "data": {
      "text/plain": [
       "1.1076989062041889"
      ]
     },
     "execution_count": 16,
     "metadata": {},
     "output_type": "execute_result"
    }
   ],
   "source": [
    "np.exp(a.x[1])"
   ]
  },
  {
   "cell_type": "markdown",
   "metadata": {
    "collapsed": true
   },
   "source": [
    "### Some analysis [to-do]"
   ]
  },
  {
   "cell_type": "markdown",
   "metadata": {},
   "source": [
    "##### Predicted values of $\\alpha$ against time steps.\n",
    "\n",
    "[this is not working as expected. the error is probably because of the mixing between local-global variables]"
   ]
  },
  {
   "cell_type": "code",
   "execution_count": 17,
   "metadata": {
    "collapsed": true
   },
   "outputs": [],
   "source": [
    "tau_val = np.array([0.2, 0.1, 0.02, 0.01, 0.002, 0.001])\n",
    "alpha_est = np.zeros(tau_val.size)\n",
    "alpha_sim = 1"
   ]
  },
  {
   "cell_type": "code",
   "execution_count": 18,
   "metadata": {
    "collapsed": true
   },
   "outputs": [],
   "source": [
    "for i in np.arange(tau_val.size):\n",
    "    (loop_x, loop_yu, loop_yf) = get_simulated_data(tau_val[i], alpha_sim)\n",
    "    a = minimize_restarts(loop_x, loop_yu, loop_yf)\n",
    "    alpha_est[i] = np.exp(a.x[1])"
   ]
  },
  {
   "cell_type": "code",
   "execution_count": 19,
   "metadata": {},
   "outputs": [
    {
     "data": {
      "image/png": "[encoded data removed]",
      "text/plain": [
       "<matplotlib.figure.Figure at 0x105f07c88>"
      ]
     },
     "metadata": {},
     "output_type": "display_data"
    }
   ],
   "source": [
    "plt.plot(tau_val, alpha_est)\n",
    "plt.show()"
   ]
  },
  {
   "cell_type": "code",
   "execution_count": 20,
   "metadata": {},
   "outputs": [
    {
     "data": {
      "text/plain": [
       "array([1.10698052, 0.52560495, 0.10103834, 0.05024151, 0.00994848,\n",
       "       0.00489536])"
      ]
     },
     "execution_count": 20,
     "metadata": {},
     "output_type": "execute_result"
    }
   ],
   "source": [
    "alpha_est"
   ]
  },
  {
   "cell_type": "markdown",
   "metadata": {},
   "source": [
    "##### Convergence plot"
   ]
  },
  {
   "cell_type": "code",
   "execution_count": 21,
   "metadata": {},
   "outputs": [
    {
     "data": {
      "text/plain": [
       " final_simplex: (array([[-1.9125754 ,  0.10228521],\n",
       "       [-1.91265367,  0.10228597],\n",
       "       [-1.91266492,  0.10228357]]), array([-193.41696225, -193.41696221, -193.41696221]))\n",
       "           fun: -193.41696225113878\n",
       "       message: 'Optimization terminated successfully.'\n",
       "          nfev: 120\n",
       "           nit: 61\n",
       "        status: 0\n",
       "       success: True\n",
       "             x: array([-1.9125754 ,  0.10228521])"
      ]
     },
     "execution_count": 21,
     "metadata": {},
     "output_type": "execute_result"
    }
   ],
   "source": [
    "fn_values_convergence = []\n",
    "def callback_fn(params):\n",
    "    global fn_values_convergence\n",
    "    fn_values_convergence.append(nlml_wp(params))\n",
    "\n",
    "\n",
    "minimize(nlml_wp, np.random.rand(2), method=\"Nelder-Mead\", callback=callback_fn)"
   ]
  },
  {
   "cell_type": "code",
   "execution_count": 25,
   "metadata": {},
   "outputs": [
    {
     "data": {
      "image/png": "[encoded data removed]",
      "text/plain": [
       "<matplotlib.figure.Figure at 0x106179470>"
      ]
     },
     "metadata": {},
     "output_type": "display_data"
    }
   ],
   "source": [
    "plt.plot(fn_values_convergence)\n",
    "plt.show()"
   ]
  },
  {
   "cell_type": "code",
   "execution_count": null,
   "metadata": {
    "collapsed": true
   },
   "outputs": [],
   "source": []
  }
 ],
 "metadata": {
  "kernelspec": {
   "display_name": "Python 3",
   "language": "python",
   "name": "python3"
  },
  "language_info": {
   "codemirror_mode": {
    "name": "ipython",
    "version": 3
   },
   "file_extension": ".py",
   "mimetype": "text/x-python",
   "name": "python",
   "nbconvert_exporter": "python",
   "pygments_lexer": "ipython3",
   "version": "3.6.5"
  }
 },
 "nbformat": 4,
 "nbformat_minor": 2
}
