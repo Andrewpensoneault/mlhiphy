{
 "cells": [
  {
   "cell_type": "markdown",
   "metadata": {},
   "source": [
    "## Heat Equation\n",
    "#### Parameter estimation for the heat equation (no source) using Gaussian processes (Backward Euler scheme)\n",
    "\n",
    "\n",
    "#### Problem Setup\n",
    "\n",
    "$u_t - \\alpha u_{xx} = 0$\n",
    "\n",
    "$u(x,t) = e^{-t}sin(\\frac{x}{\\sqrt{\\alpha}})$\n",
    "\n",
    "Using the backward Euler scheme, the equation can be re-written as:\n",
    "\n",
    "$\\frac{u_n - u_{n-1}}{\\tau} - \\alpha \\frac{d^2}{dx^2}u_n = 0$\n",
    "\n",
    "and so:\n",
    "\n",
    "$u_n - \\tau \\alpha \\frac{d^2}{dx^2}u_n = u_{n-1}$\n",
    "\n",
    "\n",
    "Consider $u_n$ to be a Gaussian processes.\n",
    "\n",
    "$u_n \\sim \\mathcal{GP}(x_i, x_j, \\theta)$\n",
    "\n",
    "And the linear operator:\n",
    "\n",
    "$\\mathcal{L}_x^\\alpha = \\cdot - \\tau \\alpha \\frac{d^2}{dx^2}\\cdot$\n",
    "\n",
    "so that\n",
    "\n",
    "$\\mathcal{L}_x^\\alpha u_n = u_{n-1}$\n",
    "\n",
    "Problem at hand: estimate $\\alpha$.\n",
    "\n",
    "For the sake of simplicity, take $u := u_n$ and $f := u_{n-1}$.\n",
    "\n",
    "\n",
    "#### step 1: Simulate data\n",
    "\n",
    "Take data points at $t = 0$ for $(u_{n-1})$ and $t = \\tau$ for $(u_n)$, where $\\tau$ is the time step.\n",
    "\n",
    "$\\alpha = 1$ and $x \\in (0,2\\pi)$."
   ]
  },
  {
   "cell_type": "code",
   "execution_count": 1,
   "metadata": {
    "collapsed": true
   },
   "outputs": [],
   "source": [
    "import numpy as np\n",
    "import sympy as sp\n",
    "from scipy.optimize import minimize\n",
    "import matplotlib.pyplot as plt"
   ]
  },
  {
   "cell_type": "code",
   "execution_count": 2,
   "metadata": {
    "collapsed": true
   },
   "outputs": [],
   "source": [
    "tau = 0.02\n",
    "x_u = np.linspace(0,2*np.pi,10)\n",
    "y_u = np.exp(-tau)*np.sin(x_u)\n",
    "x_f = np.linspace(0,2*np.pi, 10)\n",
    "y_f = np.sin(x_f)"
   ]
  },
  {
   "cell_type": "code",
   "execution_count": 3,
   "metadata": {},
   "outputs": [
    {
     "data": {
      "image/png": "[encoded data removed]",
      "text/plain": [
       "<matplotlib.figure.Figure at 0x10bdd4c18>"
      ]
     },
     "metadata": {},
     "output_type": "display_data"
    }
   ],
   "source": [
    "plt.plot(x_u, y_u)\n",
    "plt.show()"
   ]
  },
  {
   "cell_type": "code",
   "execution_count": 4,
   "metadata": {},
   "outputs": [
    {
     "data": {
      "image/png": "[encoded data removed]",
      "text/plain": [
       "<matplotlib.figure.Figure at 0x10bf1d7f0>"
      ]
     },
     "metadata": {},
     "output_type": "display_data"
    }
   ],
   "source": [
    "plt.plot(x_f, y_f)\n",
    "plt.show()"
   ]
  },
  {
   "cell_type": "markdown",
   "metadata": {},
   "source": [
    "#### Step 2:Evaluate kernels\n",
    "\n",
    "$k_{nn}(x_i, x_j; \\theta) = \\theta exp(-\\frac{1}{2}(x_i-x_j)^2)$"
   ]
  },
  {
   "cell_type": "code",
   "execution_count": 5,
   "metadata": {
    "collapsed": true
   },
   "outputs": [],
   "source": [
    "x_i, x_j, theta, alpha = sp.symbols('x_i x_j theta alpha')\n",
    "kuu_sym = theta*sp.exp(-1/(2)*((x_i - x_j)**2))\n",
    "kuu_fn = sp.lambdify((x_i, x_j, theta), kuu_sym, \"numpy\")\n",
    "def kuu(x, theta):\n",
    "    k = np.zeros((x.size, x.size))\n",
    "    for i in range(x.size):\n",
    "        for j in range(x.size):\n",
    "            k[i,j] = kuu_fn(x[i], x[j], theta)\n",
    "    return k"
   ]
  },
  {
   "cell_type": "markdown",
   "metadata": {},
   "source": [
    "$k_{ff}(x_i,x_j;\\theta,\\phi) \\\\\n",
    "= \\mathcal{L}_{x_i}^\\phi \\mathcal{L}_{x_j}^\\phi k_{uu}(x_i, x_j; \\theta) \\\\\n",
    "= \\mathcal{L}_{x_i}^\\phi \\left( k_{uu} - \\tau \\alpha \\frac{\\partial^2}{\\partial x_j^2}k_{uu} \\right) \\\\\n",
    " = k_{uu} - \\tau \\alpha \\left( \\frac{\\partial^2}{\\partial x_j^2} + \\frac{\\partial^2}{\\partial x_i^2} \\right)k_{uu} + \\tau^2 \\alpha^2 \\frac{\\partial^2}{\\partial x_i^2}\\frac{\\partial^2}{\\partial x_j^2}k_{uu}$"
   ]
  },
  {
   "cell_type": "code",
   "execution_count": 6,
   "metadata": {
    "collapsed": true
   },
   "outputs": [],
   "source": [
    "kff_sym = kuu_sym \\\n",
    "        - tau*alpha*(sp.diff(kuu_sym, x_j, x_j) \\\n",
    "        + sp.diff(kuu_sym, x_i, x_i)) \\\n",
    "        + tau**2*alpha**2*sp.diff(kuu_sym, x_j, x_j, x_i, x_i)\n",
    "kff_fn = sp.lambdify((x_i, x_j, theta, alpha), kff_sym, \"numpy\")\n",
    "def kff(x, theta, alpha):\n",
    "    k = np.zeros((x.size, x.size))\n",
    "    for i in range(x.size):\n",
    "        for j in range(x.size):\n",
    "            k[i,j] = kff_fn(x[i], x[j], theta, alpha)\n",
    "    return k"
   ]
  },
  {
   "cell_type": "markdown",
   "metadata": {},
   "source": [
    "$k_{fu}(x_i,x_j;\\theta,\\phi) \\\\\n",
    "= \\mathcal{L}_{x_i}^\\alpha k_{uu}(x_i, x_j; \\theta) \\\\\n",
    "= k_{uu} - \\tau \\alpha \\frac{\\partial^2}{\\partial x_i^2}k_{uu} $"
   ]
  },
  {
   "cell_type": "code",
   "execution_count": 7,
   "metadata": {
    "collapsed": true
   },
   "outputs": [],
   "source": [
    "kfu_sym = kuu_sym - tau*alpha*sp.diff(kuu_sym, x_i, x_i)\n",
    "kfu_fn = sp.lambdify((x_i, x_j, theta, alpha), kfu_sym, \"numpy\")\n",
    "def kfu(x1, x2, theta, alpha):\n",
    "    k = np.zeros((x1.size, x2.size))\n",
    "    for i in range(x1.size):\n",
    "        for j in range(x2.size):\n",
    "            k[i,j] = kfu_fn(x1[i], x2[j], theta, alpha)\n",
    "    return k"
   ]
  },
  {
   "cell_type": "code",
   "execution_count": 8,
   "metadata": {
    "collapsed": true
   },
   "outputs": [],
   "source": [
    "def kuf(x1, x2, theta, alpha):\n",
    "    return kfu(x1,x2,theta,alpha).T"
   ]
  },
  {
   "cell_type": "markdown",
   "metadata": {},
   "source": [
    "#### Step 3: Compute NLML"
   ]
  },
  {
   "cell_type": "code",
   "execution_count": 9,
   "metadata": {
    "collapsed": true
   },
   "outputs": [],
   "source": [
    "def nlml(params, x1, x2, y1, y2, s):\n",
    "    K = np.block([\n",
    "        [kuu(x1, params[0]) + s*np.identity(x1.size), kuf(x1, x2, params[0], params[1])],\n",
    "        [kfu(x1, x2, params[0], params[1]), kff(x2, params[0], params[1]) + s*np.identity(x2.size)]\n",
    "    ])\n",
    "    y = np.concatenate((y1, y2))\n",
    "    val = 0.5*(np.log(abs(np.linalg.det(K))) + np.mat(y) * np.linalg.inv(K) * np.mat(y).T)\n",
    "    return val.item(0)"
   ]
  },
  {
   "cell_type": "code",
   "execution_count": 10,
   "metadata": {},
   "outputs": [
    {
     "data": {
      "text/plain": [
       "336.29131757122735"
      ]
     },
     "execution_count": 10,
     "metadata": {},
     "output_type": "execute_result"
    }
   ],
   "source": [
    "nlml((1, 2), x_u, x_f, y_u, y_f, 1e-6)"
   ]
  },
  {
   "cell_type": "markdown",
   "metadata": {},
   "source": [
    "#### Step 4: Optimise hyperparameters"
   ]
  },
  {
   "cell_type": "code",
   "execution_count": 14,
   "metadata": {},
   "outputs": [
    {
     "data": {
      "text/plain": [
       " final_simplex: (array([[0.26883017, 1.00824536],\n",
       "       [0.26889311, 1.0082226 ],\n",
       "       [0.26884961, 1.00826224]]), array([-69.5115607 , -69.51156067, -69.51156051]))\n",
       "           fun: -69.51156070134961\n",
       "       message: 'Optimization terminated successfully.'\n",
       "          nfev: 96\n",
       "           nit: 49\n",
       "        status: 0\n",
       "       success: True\n",
       "             x: array([0.26883017, 1.00824536])"
      ]
     },
     "execution_count": 14,
     "metadata": {},
     "output_type": "execute_result"
    }
   ],
   "source": [
    "minimize(nlml, np.random.rand(2), args=(x_u, x_f, y_u, y_f, 1e-6), method=\"Nelder-Mead\")"
   ]
  },
  {
   "cell_type": "markdown",
   "metadata": {
    "collapsed": true
   },
   "source": [
    "### Some analysis [to-do]"
   ]
  },
  {
   "cell_type": "markdown",
   "metadata": {},
   "source": [
    "Predicted values of $\\alpha$ against time steps."
   ]
  }
 ],
 "metadata": {
  "kernelspec": {
   "display_name": "Python 3",
   "language": "python",
   "name": "python3"
  },
  "language_info": {
   "codemirror_mode": {
    "name": "ipython",
    "version": 3
   },
   "file_extension": ".py",
   "mimetype": "text/x-python",
   "name": "python",
   "nbconvert_exporter": "python",
   "pygments_lexer": "ipython3",
   "version": "3.6.5"
  }
 },
 "nbformat": 4,
 "nbformat_minor": 2
}
