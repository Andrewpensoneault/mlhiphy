{
 "cells": [
  {
   "cell_type": "markdown",
   "metadata": {},
   "source": [
    "# Own Covariance function for the Heat Equation"
   ]
  },
  {
   "cell_type": "code",
   "execution_count": 1,
   "metadata": {},
   "outputs": [
    {
     "ename": "NameError",
     "evalue": "name 'Kernel' is not defined",
     "output_type": "error",
     "traceback": [
      "\u001b[1;31m---------------------------------------------------------------------------\u001b[0m",
      "\u001b[1;31mNameError\u001b[0m                                 Traceback (most recent call last)",
      "\u001b[1;32m<ipython-input-1-d9b1cf5b1f02>\u001b[0m in \u001b[0;36m<module>\u001b[1;34m()\u001b[0m\n\u001b[0;32m      1\u001b[0m \u001b[1;31m# To be added in /pyGPs/core/cov.py.\u001b[0m\u001b[1;33m\u001b[0m\u001b[1;33m\u001b[0m\u001b[0m\n\u001b[0;32m      2\u001b[0m \u001b[1;31m# Own Kernel function:\u001b[0m\u001b[1;33m\u001b[0m\u001b[1;33m\u001b[0m\u001b[0m\n\u001b[1;32m----> 3\u001b[1;33m \u001b[1;32mclass\u001b[0m \u001b[0mMyKernel\u001b[0m\u001b[1;33m(\u001b[0m\u001b[0mKernel\u001b[0m\u001b[1;33m)\u001b[0m\u001b[1;33m:\u001b[0m\u001b[1;33m\u001b[0m\u001b[0m\n\u001b[0m\u001b[0;32m      4\u001b[0m \u001b[1;33m\u001b[0m\u001b[0m\n\u001b[0;32m      5\u001b[0m     \u001b[1;32mdef\u001b[0m \u001b[0m__init__\u001b[0m\u001b[1;33m(\u001b[0m\u001b[0mself\u001b[0m\u001b[1;33m,\u001b[0m \u001b[0mlog_phi\u001b[0m\u001b[1;33m=\u001b[0m\u001b[1;36m0.\u001b[0m\u001b[1;33m)\u001b[0m\u001b[1;33m:\u001b[0m\u001b[1;33m\u001b[0m\u001b[0m\n",
      "\u001b[1;31mNameError\u001b[0m: name 'Kernel' is not defined"
     ]
    }
   ],
   "source": [
    "# Unfortunately the kernel is basically equal to zero and the optimizer will stick with the default value\n",
    "# for the hyperparameter, which in turn returns 1.0 for phi.\n",
    "\n",
    "# Own Kernel function:\n",
    "class MyKernel2(Kernel):\n",
    "\n",
    "    def __init__(self, log_phi=0.):\n",
    "        self.hyp = [log_phi]\n",
    "        \n",
    "    def getCovMatrix(self,x=None,z=None,mode=None):\n",
    "        self.checkInputGetCovMatrix(x,z,mode)\n",
    "        p = np.exp(self.hyp[0])           # phi\n",
    "        A = 0\n",
    "        if not x is None:\n",
    "            n, D = x.shape\n",
    "            A = np.zeros((n,n))\n",
    "        if not z is None:\n",
    "            nn, D = z.shape\n",
    "            A = np.zeros((nn,nn))\n",
    "        if mode == 'self_test':\n",
    "            A = np.zeros((nn,1))\n",
    "        elif mode == 'train':             # compute covariance matrix for training set\n",
    "            A = np.zeros((n,n))\n",
    "            for i in range(n):\n",
    "                for j in range(n):\n",
    "                    A[i][j] = (p**2*(7.36e-33*(x[i][1] - x[j][1])**4 - 3.74e-26*(x[i][1] - x[j][1])**2 + 1.58e-20) - 5.28e-21*(x[i][0] - x[j][0])**2 + 4.47e-15)*np.exp(-5.9e-7*(x[i][0] - x[j][0])**2 - 5.9e-7*(x[i][1] - x[j][1])**2)\n",
    "        elif mode == 'cross':             # compute covariance between data sets x and z\n",
    "            m = z.shape[0]\n",
    "            A = np.zeros((n,m))\n",
    "            for i in range(n):\n",
    "                for j in range(m):\n",
    "                    A[i][j] = (p**2*(0.67*(x[i][1] - z[j][1])**4 - 20.75*(x[i][1] - z[j][1])**2 + 53.61) - 17.87*(x[i][0] - z[j][0])**2 + 92.34)*np.exp(-0.1*(x[i][0] - z[j][0])**2 - 0.1*(x[i][1] - z[j][1])**2)\n",
    "        return A\n",
    "        \n",
    "# We are taking the derivative w.r.t. p, but are multiplying it with 2*p or p, since that seems to be the pattern\n",
    "# in the source code of pyGPs as well:\n",
    "    def getDerMatrix(self,x=None,z=None,mode=None,der=None):\n",
    "        self.checkInputGetCovMatrix(x,z,mode)\n",
    "        p = np.exp(self.hyp[0])           # phi\n",
    "        n = 0\n",
    "        if not x is None:\n",
    "            n, D = x.shape\n",
    "        if not z is None:\n",
    "            nn, D = z.shape\n",
    "        if mode == 'self_test':           # self covariances for the test cases\n",
    "            A = np.zeros((nn,1))\n",
    "        elif mode == 'train':             # compute covariance matix for dataset x\n",
    "            A = np.zeros((n,n))\n",
    "            for i in range(n):\n",
    "                for j in range(n):\n",
    "                    A[i][j] = (p**2*(7.36e-33*(x[i][1] - x[j][1])**4 - 3.74e-26*(x[i][1] - x[j][1])**2 + 1.58e-20) - 5.28e-21*(x[i][0] - x[j][0])**2 + 4.47e-15)*np.exp(-5.9e-7*(x[i][0] - x[j][0])**2 - 5.9e-7*(x[i][1] - x[j][1])**2)\n",
    "        elif mode == 'cross':             # compute covariance between data sets x and z\n",
    "            A = np.zeros((n,nn))\n",
    "            for i in range(n):\n",
    "                for j in range(nn):\n",
    "                    A[i][j] = (p**2*(0.67*(x[i][1] - z[j][1])**4 - 20.75*(x[i][1] - z[j][1])**2 + 53.61) - 17.87*(x[i][0] - z[j][0])**2 + 92.34)*np.exp(-0.1*(x[i][0] - z[j][0])**2 - 0.1*(x[i][1] - z[j][1])**2)          \n",
    "        if der == 0:    # compute derivative matrix wrt 1st parameter\n",
    "            if mode == 'train':\n",
    "                A = np.zeros((n,n))\n",
    "                for i in range(n):\n",
    "                    for j in range(n):\n",
    "                        A[i][j] = 4*p**2*(7.36e-33*(x[i][1] - x[j][1])**4 - 3.74e-26*(x[i][1] - x[j][1])**2 + 1.58e-20)*np.exp(-5.9e-7*(x[i][0] - x[j][0])**2 - 5.9e-7*(x[i][1] - x[j][1])**2)\n",
    "            elif mode == 'cross':\n",
    "                A = np.zeros((n,nn))\n",
    "                for i in range(n):\n",
    "                    for j in range(nn):\n",
    "                        A[i][j] = 4*p**2*(0.67*(x[i][1] - z[j][1])**4 - 20.75*(x[i][1] - z[j][1])**2 + 53.61)*np.exp(-0.1*(x[i][0] - z[j][0])**2 - 0.1*(x[i][1] - z[j][1])**2)\n",
    "        else:\n",
    "            raise Exception(\"Calling for a derivative in RBF that does not exist\")\n",
    "        return A"
   ]
  },
  {
   "cell_type": "code",
   "execution_count": null,
   "metadata": {
    "collapsed": true
   },
   "outputs": [],
   "source": [
    "# Has to be added to pyGPs/Testing/unit_test_cov.py and then unit_test_cov.py has to be executed.\n",
    "# For testing purposes only:\n",
    "def test_cov_new(self):\n",
    "    k = pyGPs.cov.MyKernel()     # specify your covariance function\n",
    "    self.checkCovariance(k)\n",
    "    "
   ]
  },
  {
   "cell_type": "code",
   "execution_count": null,
   "metadata": {
    "collapsed": true
   },
   "outputs": [],
   "source": []
  }
 ],
 "metadata": {
  "kernelspec": {
   "display_name": "Python 3",
   "language": "python",
   "name": "python3"
  },
  "language_info": {
   "codemirror_mode": {
    "name": "ipython",
    "version": 3
   },
   "file_extension": ".py",
   "mimetype": "text/x-python",
   "name": "python",
   "nbconvert_exporter": "python",
   "pygments_lexer": "ipython3",
   "version": "3.6.5"
  }
 },
 "nbformat": 4,
 "nbformat_minor": 2
}
