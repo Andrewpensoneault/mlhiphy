{
 "cells": [
  {
   "cell_type": "markdown",
   "metadata": {},
   "source": [
    "# 2. 2-D example with 1 parameters"
   ]
  },
  {
   "cell_type": "markdown",
   "metadata": {},
   "source": [
    "The following example shows how to construct the kernel, automatically, from a symbolic expression defining the linear differential operator in **2D**.\n",
    "\n",
    "We consider the following operator, for an unknwon *u*\n",
    "\n",
    "$$\n",
    "\\mathcal{L}^{\\phi} u := \\phi u + \\partial_x u + \\partial_{yy} u\n",
    "$$"
   ]
  },
  {
   "cell_type": "code",
   "execution_count": 5,
   "metadata": {},
   "outputs": [],
   "source": [
    "# imports\n",
    "from mlhiphy.calculus import dx, dy, dz\n",
    "from mlhiphy.calculus import Constant\n",
    "from mlhiphy.calculus import Unknown\n",
    "from mlhiphy.kernels import compute_kernel, generic_kernel\n",
    "\n",
    "from sympy import expand\n",
    "from sympy import symbols\n",
    "from sympy import exp\n",
    "from sympy import Tuple"
   ]
  },
  {
   "cell_type": "code",
   "execution_count": 6,
   "metadata": {},
   "outputs": [],
   "source": [
    "x, x_i, x_j = symbols('x x_i x_j')\n",
    "y, y_i, y_j = symbols('y y_i y_j')\n",
    "\n",
    "X  = Tuple(x,y)\n",
    "X_i = Tuple(x_i,y_i)\n",
    "X_j = Tuple(x_j,y_j)\n",
    "\n",
    "u = Unknown('u')\n",
    "\n",
    "phi = Constant('phi')\n",
    "theta = Constant('theta')\n",
    "\n",
    "expr = phi * u + dx(u) + dy(dy(u))"
   ]
  },
  {
   "cell_type": "code",
   "execution_count": 8,
   "metadata": {},
   "outputs": [],
   "source": [
    "kuu = generic_kernel(expr, u, (X_i, X_j))"
   ]
  },
  {
   "cell_type": "code",
   "execution_count": 9,
   "metadata": {},
   "outputs": [
    {
     "data": {
      "text/latex": [
       "$$\\phi^{2} u{\\left (x_{i},y_{i},x_{j},y_{j} \\right )} + \\phi \\frac{\\partial}{\\partial x_{i}} u{\\left (x_{i},y_{i},x_{j},y_{j} \\right )} + \\phi \\frac{\\partial}{\\partial x_{j}} u{\\left (x_{i},y_{i},x_{j},y_{j} \\right )} + \\phi \\frac{\\partial^{2}}{\\partial y_{i}^{2}}  u{\\left (x_{i},y_{i},x_{j},y_{j} \\right )} + \\phi \\frac{\\partial^{2}}{\\partial y_{j}^{2}}  u{\\left (x_{i},y_{i},x_{j},y_{j} \\right )} + \\frac{\\partial^{2}}{\\partial x_{i}\\partial x_{j}}  u{\\left (x_{i},y_{i},x_{j},y_{j} \\right )} + \\frac{\\partial^{3}}{\\partial x_{i}\\partial y_{j}^{2}}  u{\\left (x_{i},y_{i},x_{j},y_{j} \\right )} + \\frac{\\partial^{3}}{\\partial x_{j}\\partial y_{i}^{2}}  u{\\left (x_{i},y_{i},x_{j},y_{j} \\right )} + \\frac{\\partial^{4}}{\\partial y_{i}^{2}\\partial y_{j}^{2}}  u{\\left (x_{i},y_{i},x_{j},y_{j} \\right )}$$"
      ],
      "text/plain": [
       "<IPython.core.display.Math object>"
      ]
     },
     "execution_count": 9,
     "metadata": {},
     "output_type": "execute_result"
    }
   ],
   "source": [
    "from IPython.display import Math\n",
    "from sympy import latex\n",
    "\n",
    "Math(latex(expand(kuu)))"
   ]
  },
  {
   "cell_type": "code",
   "execution_count": 11,
   "metadata": {},
   "outputs": [],
   "source": [
    "# RBF kernel\n",
    "\n",
    "kuu = theta * exp(-0.5*((x_i - x_j)**2 + (y_i - y_j)**2))\n",
    "\n",
    "kuf = compute_kernel(expr, kuu, X_i)\n",
    "kfu = compute_kernel(expr, kuu, X_j)\n",
    "kff = compute_kernel(expr, kuu, (X_i, X_j))"
   ]
  },
  {
   "cell_type": "code",
   "execution_count": 12,
   "metadata": {},
   "outputs": [
    {
     "data": {
      "text/latex": [
       "$$\\phi u{\\left (x_{i},y_{i} \\right )} - 1.0 \\theta x_{i} e^{- 0.5 x_{i}^{2}} e^{- 0.5 x_{j}^{2}} e^{- 0.5 y_{i}^{2}} e^{- 0.5 y_{j}^{2}} e^{1.0 x_{i} x_{j}} e^{1.0 y_{i} y_{j}} + 1.0 \\theta x_{j} e^{- 0.5 x_{i}^{2}} e^{- 0.5 x_{j}^{2}} e^{- 0.5 y_{i}^{2}} e^{- 0.5 y_{j}^{2}} e^{1.0 x_{i} x_{j}} e^{1.0 y_{i} y_{j}} + 1.0 \\theta y_{i}^{2} e^{- 0.5 x_{i}^{2}} e^{- 0.5 x_{j}^{2}} e^{- 0.5 y_{i}^{2}} e^{- 0.5 y_{j}^{2}} e^{1.0 x_{i} x_{j}} e^{1.0 y_{i} y_{j}} - 2.0 \\theta y_{i} y_{j} e^{- 0.5 x_{i}^{2}} e^{- 0.5 x_{j}^{2}} e^{- 0.5 y_{i}^{2}} e^{- 0.5 y_{j}^{2}} e^{1.0 x_{i} x_{j}} e^{1.0 y_{i} y_{j}} + 1.0 \\theta y_{j}^{2} e^{- 0.5 x_{i}^{2}} e^{- 0.5 x_{j}^{2}} e^{- 0.5 y_{i}^{2}} e^{- 0.5 y_{j}^{2}} e^{1.0 x_{i} x_{j}} e^{1.0 y_{i} y_{j}} - 1.0 \\theta e^{- 0.5 x_{i}^{2}} e^{- 0.5 x_{j}^{2}} e^{- 0.5 y_{i}^{2}} e^{- 0.5 y_{j}^{2}} e^{1.0 x_{i} x_{j}} e^{1.0 y_{i} y_{j}}$$"
      ],
      "text/plain": [
       "<IPython.core.display.Math object>"
      ]
     },
     "execution_count": 12,
     "metadata": {},
     "output_type": "execute_result"
    }
   ],
   "source": [
    "Math(latex(expand(kuf)))"
   ]
  },
  {
   "cell_type": "code",
   "execution_count": 13,
   "metadata": {},
   "outputs": [
    {
     "data": {
      "text/latex": [
       "$$\\phi u{\\left (x_{j},y_{j} \\right )} + 1.0 \\theta x_{i} e^{- 0.5 x_{i}^{2}} e^{- 0.5 x_{j}^{2}} e^{- 0.5 y_{i}^{2}} e^{- 0.5 y_{j}^{2}} e^{1.0 x_{i} x_{j}} e^{1.0 y_{i} y_{j}} - 1.0 \\theta x_{j} e^{- 0.5 x_{i}^{2}} e^{- 0.5 x_{j}^{2}} e^{- 0.5 y_{i}^{2}} e^{- 0.5 y_{j}^{2}} e^{1.0 x_{i} x_{j}} e^{1.0 y_{i} y_{j}} + 1.0 \\theta y_{i}^{2} e^{- 0.5 x_{i}^{2}} e^{- 0.5 x_{j}^{2}} e^{- 0.5 y_{i}^{2}} e^{- 0.5 y_{j}^{2}} e^{1.0 x_{i} x_{j}} e^{1.0 y_{i} y_{j}} - 2.0 \\theta y_{i} y_{j} e^{- 0.5 x_{i}^{2}} e^{- 0.5 x_{j}^{2}} e^{- 0.5 y_{i}^{2}} e^{- 0.5 y_{j}^{2}} e^{1.0 x_{i} x_{j}} e^{1.0 y_{i} y_{j}} + 1.0 \\theta y_{j}^{2} e^{- 0.5 x_{i}^{2}} e^{- 0.5 x_{j}^{2}} e^{- 0.5 y_{i}^{2}} e^{- 0.5 y_{j}^{2}} e^{1.0 x_{i} x_{j}} e^{1.0 y_{i} y_{j}} - 1.0 \\theta e^{- 0.5 x_{i}^{2}} e^{- 0.5 x_{j}^{2}} e^{- 0.5 y_{i}^{2}} e^{- 0.5 y_{j}^{2}} e^{1.0 x_{i} x_{j}} e^{1.0 y_{i} y_{j}}$$"
      ],
      "text/plain": [
       "<IPython.core.display.Math object>"
      ]
     },
     "execution_count": 13,
     "metadata": {},
     "output_type": "execute_result"
    }
   ],
   "source": [
    "Math(latex(expand(kfu)))"
   ]
  },
  {
   "cell_type": "code",
   "execution_count": 14,
   "metadata": {},
   "outputs": [
    {
     "data": {
      "text/latex": [
       "$$\\phi^{2} u{\\left (x_{i},y_{i},x_{j},y_{j} \\right )} - 1.0 \\phi \\theta x_{i} e^{- 0.5 x_{i}^{2}} e^{- 0.5 x_{j}^{2}} e^{- 0.5 y_{i}^{2}} e^{- 0.5 y_{j}^{2}} e^{1.0 x_{i} x_{j}} e^{1.0 y_{i} y_{j}} + 1.0 \\phi \\theta x_{j} e^{- 0.5 x_{i}^{2}} e^{- 0.5 x_{j}^{2}} e^{- 0.5 y_{i}^{2}} e^{- 0.5 y_{j}^{2}} e^{1.0 x_{i} x_{j}} e^{1.0 y_{i} y_{j}} + 2.0 \\phi \\theta y_{i}^{2} e^{- 0.5 x_{i}^{2}} e^{- 0.5 x_{j}^{2}} e^{- 0.5 y_{i}^{2}} e^{- 0.5 y_{j}^{2}} e^{1.0 x_{i} x_{j}} e^{1.0 y_{i} y_{j}} - 4.0 \\phi \\theta y_{i} y_{j} e^{- 0.5 x_{i}^{2}} e^{- 0.5 x_{j}^{2}} e^{- 0.5 y_{i}^{2}} e^{- 0.5 y_{j}^{2}} e^{1.0 x_{i} x_{j}} e^{1.0 y_{i} y_{j}} + 2.0 \\phi \\theta y_{j}^{2} e^{- 0.5 x_{i}^{2}} e^{- 0.5 x_{j}^{2}} e^{- 0.5 y_{i}^{2}} e^{- 0.5 y_{j}^{2}} e^{1.0 x_{i} x_{j}} e^{1.0 y_{i} y_{j}} - 2.0 \\phi \\theta e^{- 0.5 x_{i}^{2}} e^{- 0.5 x_{j}^{2}} e^{- 0.5 y_{i}^{2}} e^{- 0.5 y_{j}^{2}} e^{1.0 x_{i} x_{j}} e^{1.0 y_{i} y_{j}} + \\phi \\frac{\\partial}{\\partial x_{j}} u{\\left (x_{i},y_{i},x_{j},y_{j} \\right )} - 1.0 \\theta x_{i}^{2} e^{- 0.5 x_{i}^{2}} e^{- 0.5 x_{j}^{2}} e^{- 0.5 y_{i}^{2}} e^{- 0.5 y_{j}^{2}} e^{1.0 x_{i} x_{j}} e^{1.0 y_{i} y_{j}} + 2.0 \\theta x_{i} x_{j} e^{- 0.5 x_{i}^{2}} e^{- 0.5 x_{j}^{2}} e^{- 0.5 y_{i}^{2}} e^{- 0.5 y_{j}^{2}} e^{1.0 x_{i} x_{j}} e^{1.0 y_{i} y_{j}} - 1.0 \\theta x_{j}^{2} e^{- 0.5 x_{i}^{2}} e^{- 0.5 x_{j}^{2}} e^{- 0.5 y_{i}^{2}} e^{- 0.5 y_{j}^{2}} e^{1.0 x_{i} x_{j}} e^{1.0 y_{i} y_{j}} + 1.0 \\theta y_{i}^{4} e^{- 0.5 x_{i}^{2}} e^{- 0.5 x_{j}^{2}} e^{- 0.5 y_{i}^{2}} e^{- 0.5 y_{j}^{2}} e^{1.0 x_{i} x_{j}} e^{1.0 y_{i} y_{j}} - 4.0 \\theta y_{i}^{3} y_{j} e^{- 0.5 x_{i}^{2}} e^{- 0.5 x_{j}^{2}} e^{- 0.5 y_{i}^{2}} e^{- 0.5 y_{j}^{2}} e^{1.0 x_{i} x_{j}} e^{1.0 y_{i} y_{j}} + 6.0 \\theta y_{i}^{2} y_{j}^{2} e^{- 0.5 x_{i}^{2}} e^{- 0.5 x_{j}^{2}} e^{- 0.5 y_{i}^{2}} e^{- 0.5 y_{j}^{2}} e^{1.0 x_{i} x_{j}} e^{1.0 y_{i} y_{j}} - 6.0 \\theta y_{i}^{2} e^{- 0.5 x_{i}^{2}} e^{- 0.5 x_{j}^{2}} e^{- 0.5 y_{i}^{2}} e^{- 0.5 y_{j}^{2}} e^{1.0 x_{i} x_{j}} e^{1.0 y_{i} y_{j}} - 4.0 \\theta y_{i} y_{j}^{3} e^{- 0.5 x_{i}^{2}} e^{- 0.5 x_{j}^{2}} e^{- 0.5 y_{i}^{2}} e^{- 0.5 y_{j}^{2}} e^{1.0 x_{i} x_{j}} e^{1.0 y_{i} y_{j}} + 12.0 \\theta y_{i} y_{j} e^{- 0.5 x_{i}^{2}} e^{- 0.5 x_{j}^{2}} e^{- 0.5 y_{i}^{2}} e^{- 0.5 y_{j}^{2}} e^{1.0 x_{i} x_{j}} e^{1.0 y_{i} y_{j}} + 1.0 \\theta y_{j}^{4} e^{- 0.5 x_{i}^{2}} e^{- 0.5 x_{j}^{2}} e^{- 0.5 y_{i}^{2}} e^{- 0.5 y_{j}^{2}} e^{1.0 x_{i} x_{j}} e^{1.0 y_{i} y_{j}} - 6.0 \\theta y_{j}^{2} e^{- 0.5 x_{i}^{2}} e^{- 0.5 x_{j}^{2}} e^{- 0.5 y_{i}^{2}} e^{- 0.5 y_{j}^{2}} e^{1.0 x_{i} x_{j}} e^{1.0 y_{i} y_{j}} + 4.0 \\theta e^{- 0.5 x_{i}^{2}} e^{- 0.5 x_{j}^{2}} e^{- 0.5 y_{i}^{2}} e^{- 0.5 y_{j}^{2}} e^{1.0 x_{i} x_{j}} e^{1.0 y_{i} y_{j}}$$"
      ],
      "text/plain": [
       "<IPython.core.display.Math object>"
      ]
     },
     "execution_count": 14,
     "metadata": {},
     "output_type": "execute_result"
    }
   ],
   "source": [
    "Math(latex(expand(kff)))"
   ]
  },
  {
   "cell_type": "code",
   "execution_count": 15,
   "metadata": {},
   "outputs": [
    {
     "data": {
      "text/html": [
       "<link href='http://fonts.googleapis.com/css?family=Fenix' rel='stylesheet' type='text/css'>\n",
       "<link href='http://fonts.googleapis.com/css?family=Alegreya+Sans:100,300,400,500,700,800,900,100italic,300italic,400italic,500italic,700italic,800italic,900italic' rel='stylesheet' type='text/css'>\n",
       "<link href='http://fonts.googleapis.com/css?family=Source+Code+Pro:300,400' rel='stylesheet' type='text/css'>\n",
       "<style>\n",
       "    @font-face {\n",
       "        font-family: \"Computer Modern\";\n",
       "        src: url('http://mirrors.ctan.org/fonts/cm-unicode/fonts/otf/cmunss.otf');\n",
       "    }\n",
       "    div.cell{\n",
       "        width:600px;\n",
       "        margin-left:16% !important;\n",
       "        margin-right:auto;\n",
       "    }\n",
       "    h1 {\n",
       "        font-family: 'Alegreya Sans', sans-serif;\n",
       "    }\n",
       "    h2 {\n",
       "        font-family: 'Fenix', serif;\n",
       "    }\n",
       "    h3{\n",
       "\t\tfont-family: 'Fenix', serif;\n",
       "        margin-top:12px;\n",
       "        margin-bottom: 3px;\n",
       "       }\n",
       "\th4{\n",
       "\t\tfont-family: 'Fenix', serif;\n",
       "       }\n",
       "    h5 {\n",
       "        font-family: 'Alegreya Sans', sans-serif;\n",
       "    }\t   \n",
       "    div.text_cell_render{\n",
       "        font-family: 'Alegreya Sans',Computer Modern, \"Helvetica Neue\", Arial, Helvetica, Geneva, sans-serif;\n",
       "        line-height: 135%;\n",
       "        font-size: 120%;\n",
       "        width:600px;\n",
       "        margin-left:auto;\n",
       "        margin-right:auto;\n",
       "    }\n",
       "    .CodeMirror{\n",
       "            font-family: \"Source Code Pro\";\n",
       "\t\t\tfont-size: 90%;\n",
       "    }\n",
       "/*    .prompt{\n",
       "        display: None;\n",
       "    }*/\n",
       "    .text_cell_render h1 {\n",
       "        font-weight: 200;\n",
       "        font-size: 50pt;\n",
       "\t\tline-height: 100%;\n",
       "        color:#054BCD;\n",
       "        margin-bottom: 0.5em;\n",
       "        margin-top: 0.5em;\n",
       "        display: block;\n",
       "    }\t\n",
       "    .text_cell_render h5 {\n",
       "        font-weight: 300;\n",
       "        font-size: 16pt;\n",
       "        color: #054BCD;\n",
       "        font-style: italic;\n",
       "        margin-bottom: .5em;\n",
       "        margin-top: 0.5em;\n",
       "        display: block;\n",
       "    }\n",
       "    \n",
       "    .warning{\n",
       "        color: rgb( 240, 20, 20 )\n",
       "        }  \n",
       "</style>\n",
       "<script>\n",
       "    MathJax.Hub.Config({\n",
       "                        TeX: {\n",
       "                           extensions: [\"AMSmath.js\"]\n",
       "                           },\n",
       "                tex2jax: {\n",
       "                    inlineMath: [ ['$','$'], [\"\\\\(\",\"\\\\)\"] ],\n",
       "                    displayMath: [ ['$$','$$'], [\"\\\\[\",\"\\\\]\"] ]\n",
       "                },\n",
       "                displayAlign: 'center', // Change this to 'center' to center equations.\n",
       "                \"HTML-CSS\": {\n",
       "                    styles: {'.MathJax_Display': {\"margin\": 4}}\n",
       "                }\n",
       "        });\n",
       "</script>\n"
      ],
      "text/plain": [
       "<IPython.core.display.HTML object>"
      ]
     },
     "execution_count": 15,
     "metadata": {},
     "output_type": "execute_result"
    }
   ],
   "source": [
    "from IPython.core.display import HTML\n",
    "def css_styling():\n",
    "    styles = open(\"../styles/custom.css\", \"r\").read()\n",
    "    return HTML(styles)\n",
    "css_styling()"
   ]
  }
 ],
 "metadata": {
  "kernelspec": {
   "display_name": "Python 3",
   "language": "python",
   "name": "python3"
  },
  "language_info": {
   "codemirror_mode": {
    "name": "ipython",
    "version": 3
   },
   "file_extension": ".py",
   "mimetype": "text/x-python",
   "name": "python",
   "nbconvert_exporter": "python",
   "pygments_lexer": "ipython3",
   "version": "3.5.2"
  }
 },
 "nbformat": 4,
 "nbformat_minor": 2
}
