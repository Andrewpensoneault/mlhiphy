{
 "cells": [
  {
   "cell_type": "code",
   "execution_count": 2,
   "metadata": {},
   "outputs": [],
   "source": [
    "# imports\n",
    "from mlhiphy.calculus import dx, dy, dz\n",
    "from mlhiphy.calculus import Constant\n",
    "from mlhiphy.calculus import Unknown\n",
    "from mlhiphy.kernels import compute_kernel, generic_kernel\n",
    "\n",
    "from sympy import expand\n",
    "from sympy import symbols\n",
    "from sympy import exp"
   ]
  },
  {
   "cell_type": "code",
   "execution_count": 11,
   "metadata": {},
   "outputs": [],
   "source": [
    "x, x_i, x_j = symbols('x x_i x_j')\n",
    "\n",
    "u = Unknown('u')\n",
    "\n",
    "alpha = Constant('alpha')\n",
    "beta  = Constant('beta')\n",
    "mu    = Constant('mu')\n",
    "theta = Constant('theta')\n",
    "\n",
    "expr = mu * u + alpha * dx(u) + beta * dx(dx(u))"
   ]
  },
  {
   "cell_type": "code",
   "execution_count": 14,
   "metadata": {},
   "outputs": [],
   "source": [
    "kuu = generic_kernel(expr, u, (x_i, x_j))"
   ]
  },
  {
   "cell_type": "code",
   "execution_count": 15,
   "metadata": {},
   "outputs": [
    {
     "data": {
      "text/latex": [
       "$$\\alpha^{2} \\frac{\\partial^{2}}{\\partial x_{i}\\partial x_{j}}  u{\\left (x_{i},x_{j} \\right )} + \\alpha \\beta \\frac{\\partial^{3}}{\\partial x_{i}^{2}\\partial x_{j}}  u{\\left (x_{i},x_{j} \\right )} + \\alpha \\beta \\frac{\\partial^{3}}{\\partial x_{i}\\partial x_{j}^{2}}  u{\\left (x_{i},x_{j} \\right )} + \\alpha \\mu \\frac{\\partial}{\\partial x_{i}} u{\\left (x_{i},x_{j} \\right )} + \\alpha \\mu \\frac{\\partial}{\\partial x_{j}} u{\\left (x_{i},x_{j} \\right )} + \\beta^{2} \\frac{\\partial^{4}}{\\partial x_{i}^{2}\\partial x_{j}^{2}}  u{\\left (x_{i},x_{j} \\right )} + \\beta \\mu \\frac{\\partial^{2}}{\\partial x_{i}^{2}}  u{\\left (x_{i},x_{j} \\right )} + \\beta \\mu \\frac{\\partial^{2}}{\\partial x_{j}^{2}}  u{\\left (x_{i},x_{j} \\right )} + \\mu^{2} u{\\left (x_{i},x_{j} \\right )}$$"
      ],
      "text/plain": [
       "<IPython.core.display.Math object>"
      ]
     },
     "execution_count": 15,
     "metadata": {},
     "output_type": "execute_result"
    }
   ],
   "source": [
    "from IPython.display import Math\n",
    "from sympy import latex\n",
    "\n",
    "Math(latex(expand(kuu)))"
   ]
  },
  {
   "cell_type": "code",
   "execution_count": 16,
   "metadata": {},
   "outputs": [],
   "source": [
    "# RBF kernel\n",
    "kuu = theta * exp(-0.5*((x_i - x_j)**2))"
   ]
  },
  {
   "cell_type": "code",
   "execution_count": 17,
   "metadata": {},
   "outputs": [],
   "source": [
    "kuf = compute_kernel(expr, kuu, x_i)\n",
    "kfu = compute_kernel(expr, kuu, x_j)\n",
    "kff = compute_kernel(expr, kuu, (x_i, x_j))"
   ]
  },
  {
   "cell_type": "code",
   "execution_count": 18,
   "metadata": {},
   "outputs": [
    {
     "data": {
      "text/latex": [
       "$$- 1.0 \\alpha \\theta x_{i} e^{- 0.5 x_{i}^{2}} e^{- 0.5 x_{j}^{2}} e^{1.0 x_{i} x_{j}} + 1.0 \\alpha \\theta x_{j} e^{- 0.5 x_{i}^{2}} e^{- 0.5 x_{j}^{2}} e^{1.0 x_{i} x_{j}} + 1.0 \\beta \\theta x_{i}^{2} e^{- 0.5 x_{i}^{2}} e^{- 0.5 x_{j}^{2}} e^{1.0 x_{i} x_{j}} - 2.0 \\beta \\theta x_{i} x_{j} e^{- 0.5 x_{i}^{2}} e^{- 0.5 x_{j}^{2}} e^{1.0 x_{i} x_{j}} + 1.0 \\beta \\theta x_{j}^{2} e^{- 0.5 x_{i}^{2}} e^{- 0.5 x_{j}^{2}} e^{1.0 x_{i} x_{j}} - 1.0 \\beta \\theta e^{- 0.5 x_{i}^{2}} e^{- 0.5 x_{j}^{2}} e^{1.0 x_{i} x_{j}} + \\mu u{\\left (x_{i} \\right )}$$"
      ],
      "text/plain": [
       "<IPython.core.display.Math object>"
      ]
     },
     "execution_count": 18,
     "metadata": {},
     "output_type": "execute_result"
    }
   ],
   "source": [
    "Math(latex(expand(kuf)))"
   ]
  },
  {
   "cell_type": "code",
   "execution_count": 19,
   "metadata": {},
   "outputs": [
    {
     "data": {
      "text/latex": [
       "$$1.0 \\alpha \\theta x_{i} e^{- 0.5 x_{i}^{2}} e^{- 0.5 x_{j}^{2}} e^{1.0 x_{i} x_{j}} - 1.0 \\alpha \\theta x_{j} e^{- 0.5 x_{i}^{2}} e^{- 0.5 x_{j}^{2}} e^{1.0 x_{i} x_{j}} + 1.0 \\beta \\theta x_{i}^{2} e^{- 0.5 x_{i}^{2}} e^{- 0.5 x_{j}^{2}} e^{1.0 x_{i} x_{j}} - 2.0 \\beta \\theta x_{i} x_{j} e^{- 0.5 x_{i}^{2}} e^{- 0.5 x_{j}^{2}} e^{1.0 x_{i} x_{j}} + 1.0 \\beta \\theta x_{j}^{2} e^{- 0.5 x_{i}^{2}} e^{- 0.5 x_{j}^{2}} e^{1.0 x_{i} x_{j}} - 1.0 \\beta \\theta e^{- 0.5 x_{i}^{2}} e^{- 0.5 x_{j}^{2}} e^{1.0 x_{i} x_{j}} + \\mu u{\\left (x_{j} \\right )}$$"
      ],
      "text/plain": [
       "<IPython.core.display.Math object>"
      ]
     },
     "execution_count": 19,
     "metadata": {},
     "output_type": "execute_result"
    }
   ],
   "source": [
    "Math(latex(expand(kfu)))"
   ]
  },
  {
   "cell_type": "code",
   "execution_count": 20,
   "metadata": {},
   "outputs": [
    {
     "data": {
      "text/latex": [
       "$$- 1.0 \\alpha^{2} \\theta x_{i}^{2} e^{- 0.5 x_{i}^{2}} e^{- 0.5 x_{j}^{2}} e^{1.0 x_{i} x_{j}} + 2.0 \\alpha^{2} \\theta x_{i} x_{j} e^{- 0.5 x_{i}^{2}} e^{- 0.5 x_{j}^{2}} e^{1.0 x_{i} x_{j}} - 1.0 \\alpha^{2} \\theta x_{j}^{2} e^{- 0.5 x_{i}^{2}} e^{- 0.5 x_{j}^{2}} e^{1.0 x_{i} x_{j}} + 1.0 \\alpha^{2} \\theta e^{- 0.5 x_{i}^{2}} e^{- 0.5 x_{j}^{2}} e^{1.0 x_{i} x_{j}} + 1.0 \\beta^{2} \\theta x_{i}^{4} e^{- 0.5 x_{i}^{2}} e^{- 0.5 x_{j}^{2}} e^{1.0 x_{i} x_{j}} - 4.0 \\beta^{2} \\theta x_{i}^{3} x_{j} e^{- 0.5 x_{i}^{2}} e^{- 0.5 x_{j}^{2}} e^{1.0 x_{i} x_{j}} + 6.0 \\beta^{2} \\theta x_{i}^{2} x_{j}^{2} e^{- 0.5 x_{i}^{2}} e^{- 0.5 x_{j}^{2}} e^{1.0 x_{i} x_{j}} - 6.0 \\beta^{2} \\theta x_{i}^{2} e^{- 0.5 x_{i}^{2}} e^{- 0.5 x_{j}^{2}} e^{1.0 x_{i} x_{j}} - 4.0 \\beta^{2} \\theta x_{i} x_{j}^{3} e^{- 0.5 x_{i}^{2}} e^{- 0.5 x_{j}^{2}} e^{1.0 x_{i} x_{j}} + 12.0 \\beta^{2} \\theta x_{i} x_{j} e^{- 0.5 x_{i}^{2}} e^{- 0.5 x_{j}^{2}} e^{1.0 x_{i} x_{j}} + 1.0 \\beta^{2} \\theta x_{j}^{4} e^{- 0.5 x_{i}^{2}} e^{- 0.5 x_{j}^{2}} e^{1.0 x_{i} x_{j}} - 6.0 \\beta^{2} \\theta x_{j}^{2} e^{- 0.5 x_{i}^{2}} e^{- 0.5 x_{j}^{2}} e^{1.0 x_{i} x_{j}} + 3.0 \\beta^{2} \\theta e^{- 0.5 x_{i}^{2}} e^{- 0.5 x_{j}^{2}} e^{1.0 x_{i} x_{j}} + 2.0 \\beta \\mu \\theta x_{i}^{2} e^{- 0.5 x_{i}^{2}} e^{- 0.5 x_{j}^{2}} e^{1.0 x_{i} x_{j}} - 4.0 \\beta \\mu \\theta x_{i} x_{j} e^{- 0.5 x_{i}^{2}} e^{- 0.5 x_{j}^{2}} e^{1.0 x_{i} x_{j}} + 2.0 \\beta \\mu \\theta x_{j}^{2} e^{- 0.5 x_{i}^{2}} e^{- 0.5 x_{j}^{2}} e^{1.0 x_{i} x_{j}} - 2.0 \\beta \\mu \\theta e^{- 0.5 x_{i}^{2}} e^{- 0.5 x_{j}^{2}} e^{1.0 x_{i} x_{j}} + \\mu^{2} u{\\left (x_{i},x_{j} \\right )}$$"
      ],
      "text/plain": [
       "<IPython.core.display.Math object>"
      ]
     },
     "execution_count": 20,
     "metadata": {},
     "output_type": "execute_result"
    }
   ],
   "source": [
    "Math(latex(expand(kff)))"
   ]
  },
  {
   "cell_type": "code",
   "execution_count": null,
   "metadata": {},
   "outputs": [],
   "source": []
  }
 ],
 "metadata": {
  "kernelspec": {
   "display_name": "Python 3",
   "language": "python",
   "name": "python3"
  },
  "language_info": {
   "codemirror_mode": {
    "name": "ipython",
    "version": 3
   },
   "file_extension": ".py",
   "mimetype": "text/x-python",
   "name": "python",
   "nbconvert_exporter": "python",
   "pygments_lexer": "ipython3",
   "version": "3.5.2"
  }
 },
 "nbformat": 4,
 "nbformat_minor": 2
}
