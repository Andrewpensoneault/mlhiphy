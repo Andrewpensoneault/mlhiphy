{
 "cells": [
  {
   "cell_type": "markdown",
   "metadata": {},
   "source": [
    "## Heat Equation\n",
    "#### Parameter estimation for the heat equation (no source) using Gaussian processes (Backward Euler scheme)\n",
    "\n",
    "\n",
    "#### Problem Setup\n",
    "\n",
    "$u_t - \\alpha u_{xx} = f$\n",
    "\n",
    "$u(x,t) = e^{-t}sin(2\\pi x)$\n",
    "\n",
    "$f(x,t) = (-1 + 4 \\alpha \\pi^2 ) e^{-t} sin(2\\pi x)$\n",
    "\n",
    "$u_0(x) := u(x,0) = sin(2\\pi x)$\n",
    "\n",
    "$x \\in [0, 1], t \\in [0,1]$\n",
    "\n",
    "Using the backward Euler scheme, the equation can be re-written as:\n",
    "\n",
    "$\\frac{u_n - u_{n-1}}{\\tau} - \\alpha \\frac{d^2}{dx^2}u_n = f_n$\n",
    "\n",
    "and so:\n",
    "\n",
    "$u_n - \\tau \\alpha \\frac{d^2}{dx^2}u_n = u_{n-1} + \\tau f_n$\n",
    "\n",
    "\n",
    "Consider $u_n$ to be a Gaussian processes.\n",
    "\n",
    "$u_n \\sim \\mathcal{GP}(0, k_{uu}(x_i, x_j, \\theta))$\n",
    "\n",
    "And the linear operator:\n",
    "\n",
    "$\\mathcal{L}_x^\\alpha = \\cdot - \\tau \\alpha \\frac{d^2}{dx^2}\\cdot$\n",
    "\n",
    "so that\n",
    "\n",
    "$\\mathcal{L}_x^\\alpha u_n = u_{n-1} + \\tau f_n$\n",
    "\n",
    "Problem at hand: estimate $\\alpha$.\n",
    "\n",
    "For the sake of simplicity, take $u := u_n$ and $f := u_{n-1} + \\tau f_n$.\n",
    "\n",
    "\n",
    "#### step 1: Simulate data\n",
    "\n",
    "Take data points at $t = 0$ for $(u_{n-1})$ and $t = \\tau$ for $(u_n)$, where $\\tau$ is the time step.\n",
    "\n",
    "$\\alpha = 1$ and $x \\in (0,2\\pi)$."
   ]
  },
  {
   "cell_type": "code",
   "execution_count": 1,
   "metadata": {},
   "outputs": [],
   "source": [
    "import numpy as np\n",
    "import sympy as sp\n",
    "from scipy.optimize import minimize\n",
    "import matplotlib.pyplot as plt"
   ]
  },
  {
   "cell_type": "code",
   "execution_count": 2,
   "metadata": {},
   "outputs": [],
   "source": [
    "tau = 0.01\n",
    "alpha = 1\n",
    "def get_simulated_data(tau, alpha):\n",
    "    x = np.random.rand(20)\n",
    "    y_u0 = np.sin(2*np.pi*x)\n",
    "    y_u1 = np.exp(-tau)*np.sin(2*np.pi*x)\n",
    "    y_f = tau*( -1 + 4 * alpha * np.pi ** 2) * np.exp(-tau)*np.sin(2*np.pi*x)\n",
    "    return (x, y_u1, y_u0 + y_f)\n",
    "\n",
    "(x, y_u, y_f) = get_simulated_data(tau, alpha)"
   ]
  },
  {
   "cell_type": "code",
   "execution_count": 3,
   "metadata": {},
   "outputs": [
    {
     "data": {
      "image/png": "[encoded data removed]",
      "text/plain": [
       "<Figure size 432x288 with 1 Axes>"
      ]
     },
     "metadata": {},
     "output_type": "display_data"
    }
   ],
   "source": [
    "plt.plot(x, y_u, 'ro')\n",
    "plt.show()"
   ]
  },
  {
   "cell_type": "code",
   "execution_count": 4,
   "metadata": {},
   "outputs": [
    {
     "data": {
      "image/png": "[encoded data removed]",
      "text/plain": [
       "<Figure size 432x288 with 1 Axes>"
      ]
     },
     "metadata": {},
     "output_type": "display_data"
    }
   ],
   "source": [
    "plt.plot(x, y_f, 'bo')\n",
    "plt.show()"
   ]
  },
  {
   "cell_type": "markdown",
   "metadata": {},
   "source": [
    "#### Step 2:Evaluate kernels\n",
    "\n",
    "$k_{nn}(x_i, x_j; \\theta) = \\theta exp(-\\frac{1}{2}(x_i-x_j)^2)$"
   ]
  },
  {
   "cell_type": "code",
   "execution_count": 5,
   "metadata": {},
   "outputs": [],
   "source": [
    "x_i, x_j, theta, alpha = sp.symbols('x_i x_j theta alpha')\n",
    "kuu_sym = theta*sp.exp(-1/(2)*((x_i - x_j)**2))\n",
    "kuu_fn = sp.lambdify((x_i, x_j, theta), kuu_sym, \"numpy\")\n",
    "def kuu(x, theta):\n",
    "    k = np.zeros((x.size, x.size))\n",
    "    for i in range(x.size):\n",
    "        for j in range(x.size):\n",
    "            k[i,j] = kuu_fn(x[i], x[j], theta)\n",
    "    return k"
   ]
  },
  {
   "cell_type": "markdown",
   "metadata": {},
   "source": [
    "$k_{ff}(x_i,x_j;\\theta,\\phi) \\\\\n",
    "= \\mathcal{L}_{x_i}^\\phi \\mathcal{L}_{x_j}^\\phi k_{uu}(x_i, x_j; \\theta) \\\\\n",
    "= \\mathcal{L}_{x_i}^\\phi \\left( k_{uu} - \\tau \\alpha \\frac{\\partial^2}{\\partial x_j^2}k_{uu} \\right) \\\\\n",
    " = k_{uu} - \\tau \\alpha \\left( \\frac{\\partial^2}{\\partial x_j^2} + \\frac{\\partial^2}{\\partial x_i^2} \\right)k_{uu} + \\tau^2 \\alpha^2 \\frac{\\partial^2}{\\partial x_i^2}\\frac{\\partial^2}{\\partial x_j^2}k_{uu}$"
   ]
  },
  {
   "cell_type": "code",
   "execution_count": 6,
   "metadata": {},
   "outputs": [],
   "source": [
    "kff_sym = kuu_sym \\\n",
    "        - tau*alpha*(sp.diff(kuu_sym, x_j, x_j) \\\n",
    "        + sp.diff(kuu_sym, x_i, x_i)) \\\n",
    "        + tau**2*alpha**2*sp.diff(kuu_sym, x_j, x_j, x_i, x_i)\n",
    "kff_fn = sp.lambdify((x_i, x_j, theta, alpha), kff_sym, \"numpy\")\n",
    "def kff(x, theta, alpha):\n",
    "    k = np.zeros((x.size, x.size))\n",
    "    for i in range(x.size):\n",
    "        for j in range(x.size):\n",
    "            k[i,j] = kff_fn(x[i], x[j], theta, alpha)\n",
    "    return k"
   ]
  },
  {
   "cell_type": "markdown",
   "metadata": {},
   "source": [
    "$k_{fu}(x_i,x_j;\\theta,\\phi) \\\\\n",
    "= \\mathcal{L}_{x_i}^\\alpha k_{uu}(x_i, x_j; \\theta) \\\\\n",
    "= k_{uu} - \\tau \\alpha \\frac{\\partial^2}{\\partial x_i^2}k_{uu} $"
   ]
  },
  {
   "cell_type": "code",
   "execution_count": 7,
   "metadata": {},
   "outputs": [],
   "source": [
    "kfu_sym = kuu_sym - tau*alpha*sp.diff(kuu_sym, x_i, x_i)\n",
    "kfu_fn = sp.lambdify((x_i, x_j, theta, alpha), kfu_sym, \"numpy\")\n",
    "def kfu(x, theta, alpha):\n",
    "    k = np.zeros((x.size, x.size))\n",
    "    for i in range(x.size):\n",
    "        for j in range(x.size):\n",
    "            k[i,j] = kfu_fn(x[i], x[j], theta, alpha)\n",
    "    return k"
   ]
  },
  {
   "cell_type": "code",
   "execution_count": 8,
   "metadata": {},
   "outputs": [],
   "source": [
    "def kuf(x, theta, alpha):\n",
    "    return kfu(x,theta,alpha).T"
   ]
  },
  {
   "cell_type": "markdown",
   "metadata": {},
   "source": [
    "#### Step 3: Compute NLML"
   ]
  },
  {
   "cell_type": "code",
   "execution_count": 9,
   "metadata": {},
   "outputs": [],
   "source": [
    "def nlml(params, x, y1, y2, s):\n",
    "    params = np.exp(params)\n",
    "    K = np.block([\n",
    "        [kuu(x, params[0]) + s*np.identity(x.size), kuf(x, params[0], params[1])],\n",
    "        [kfu(x, params[0], params[1]), kff(x, params[0], params[1]) + s*np.identity(x.size)]\n",
    "    ])\n",
    "    y = np.concatenate((y1, y2))\n",
    "    val = 0.5*(np.log(abs(np.linalg.det(K))) + np.mat(y) * np.linalg.inv(K) * np.mat(y).T)\n",
    "    return val.item(0)"
   ]
  },
  {
   "cell_type": "code",
   "execution_count": 10,
   "metadata": {},
   "outputs": [
    {
     "data": {
      "text/plain": [
       "3423940.0998912584"
      ]
     },
     "execution_count": 10,
     "metadata": {},
     "output_type": "execute_result"
    }
   ],
   "source": [
    "nlml((1, 2), x, y_u, y_f, 1e-6)"
   ]
  },
  {
   "cell_type": "markdown",
   "metadata": {},
   "source": [
    "#### Step 4: Optimise hyperparameters"
   ]
  },
  {
   "cell_type": "code",
   "execution_count": 12,
   "metadata": {},
   "outputs": [
    {
     "data": {
      "text/plain": [
       " final_simplex: (array([[ 23.52532352, -22.29869045],\n",
       "       [ 23.52532352, -22.29869045],\n",
       "       [ 23.52532352, -22.29869045]]), array([-4028801.50570256,  -176630.67122958,  -176630.67122958]))\n",
       "           fun: -4028801.5057025626\n",
       "       message: 'Maximum number of iterations has been exceeded.'\n",
       "          nfev: 3839\n",
       "           nit: 1000\n",
       "        status: 2\n",
       "       success: False\n",
       "             x: array([ 23.52532352, -22.29869045])"
      ]
     },
     "execution_count": 12,
     "metadata": {},
     "output_type": "execute_result"
    }
   ],
   "source": [
    "minimize(nlml, np.random.rand(2), args=(x, y_u, y_f, 1e-6), method=\"Nelder-Mead\", options = {'maxiter' : 1000})"
   ]
  },
  {
   "cell_type": "markdown",
   "metadata": {
    "collapsed": true
   },
   "source": [
    "### Some analysis [to-do]"
   ]
  },
  {
   "cell_type": "markdown",
   "metadata": {},
   "source": [
    "Predicted values of $\\alpha$ against time steps."
   ]
  }
 ],
 "metadata": {
  "kernelspec": {
   "display_name": "Python 3",
   "language": "python",
   "name": "python3"
  },
  "language_info": {
   "codemirror_mode": {
    "name": "ipython",
    "version": 3
   },
   "file_extension": ".py",
   "mimetype": "text/x-python",
   "name": "python",
   "nbconvert_exporter": "python",
   "pygments_lexer": "ipython3",
   "version": "3.6.5"
  }
 },
 "nbformat": 4,
 "nbformat_minor": 2
}
