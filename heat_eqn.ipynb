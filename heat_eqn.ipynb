{
 "cells": [
  {
   "cell_type": "markdown",
   "metadata": {},
   "source": [
    "## Heat Eq (without discretisation)\n",
    "\n",
    "\n",
    "$\\mathcal{L}_{\\bar{x}}^{\\phi}u(\\bar{x}) = \\frac{\\partial}{\\partial t}u(\\bar{x}) - \\phi \\frac{\\partial^2}{\\partial x^2}u(\\bar{x}) = f(\\bar{x})$, where $\\bar{x} = (t, x) \\in \\mathbb{R}^2$\n",
    "\n",
    "$u(x,t) = e^{-t}sin(2\\pi x)$\n",
    "\n",
    "$f(x,t) = e^{-t}(4\\pi^2 - 1)sin(2\\pi x)$\n",
    "\n",
    "\n",
    "#### Step 1: simulate data"
   ]
  },
  {
   "cell_type": "code",
   "execution_count": 1,
   "metadata": {},
   "outputs": [],
   "source": [
    "import time\n",
    "import numpy as np\n",
    "import sympy as sp\n",
    "from scipy.optimize import minimize\n",
    "import pyGPs"
   ]
  },
  {
   "cell_type": "code",
   "execution_count": 2,
   "metadata": {},
   "outputs": [],
   "source": [
    "n1 = 5\n",
    "n2 = 5\n",
    "np.random.seed(int(time.time()))\n",
    "t_u, x_u = np.random.rand(n1), np.random.rand(n1)\n",
    "t_f, x_f = np.random.rand(n2), np.random.rand(n2)"
   ]
  },
  {
   "cell_type": "code",
   "execution_count": 3,
   "metadata": {},
   "outputs": [],
   "source": [
    "#y_u = 2*np.square(x_u) + np.multiply(x_u, t_u) + np.random.normal(0,1, x_u.size)\n",
    "#y_f = x_f - 4*12.0 + np.random.normal(0,1, x_f.size)\n",
    "\n",
    "y_u = np.multiply(np.exp(-t_u), np.sin(2*np.pi*x_u))\n",
    "y_f = (4*np.pi**2 - 1) * np.multiply(np.exp(-t_f), np.sin(2*np.pi*x_f))"
   ]
  },
  {
   "cell_type": "markdown",
   "metadata": {},
   "source": [
    "#### Step 2: evaluate kernels and covariance matrix\n",
    "\n",
    "Declare symbols"
   ]
  },
  {
   "cell_type": "code",
   "execution_count": 4,
   "metadata": {},
   "outputs": [],
   "source": [
    "x_i, x_j, t_i, t_j, sig_u, l_u, phi = sp.symbols('x_i x_j t_i t_j sig_u l_u phi')"
   ]
  },
  {
   "cell_type": "markdown",
   "metadata": {},
   "source": [
    "$k_{uu}(\\bar{x}_i, \\bar{x}_j; \\theta) = \\sigma_u^2 exp(-\\frac{1}{2l_u}\\left[(x_i-x_j)^2 +(t_i-t_j)^2\\right])$"
   ]
  },
  {
   "cell_type": "code",
   "execution_count": 5,
   "metadata": {},
   "outputs": [],
   "source": [
    "k_uu_sym = sig_u**2*sp.exp(-1/(2*l_u)*((x_i - x_j)**2 + (t_i - t_j)**2))\n",
    "k_uu_fn = sp.lambdify((x_i, x_j, t_i, t_j, sig_u, l_u), k_uu_sym, \"numpy\")\n",
    "def kuu(t, x, sigma, l):\n",
    "    k = np.zeros((t.size, t.size))\n",
    "    for i in range(t.size):\n",
    "        for j in range(t.size):\n",
    "            k[i,j] = k_uu_fn(x[i], x[j], t[i], t[j], sigma, l)\n",
    "    return k"
   ]
  },
  {
   "cell_type": "markdown",
   "metadata": {},
   "source": [
    "$k_{ff}(\\bar{x}_i,\\bar{x}_j;\\theta,\\phi) \\\\\n",
    "= \\mathcal{L}_{\\bar{x}_i}^\\phi \\mathcal{L}_{\\bar{x}_j}^\\phi k_{uu}(\\bar{x}_i, \\bar{x}_j; \\theta) \\\\\n",
    "= \\mathcal{L}_{\\bar{x}_i}^\\phi \\left[ \\frac{\\partial}{\\partial t_j}k_{uu} - \\phi \\frac{\\partial^2}{\\partial x_j^2} k_{uu} \\right] \\\\\n",
    "= \\frac{\\partial}{\\partial t_i}\\frac{\\partial}{\\partial t_j}k_{uu} - \\phi \\left[ \\frac{\\partial}{\\partial t_i}\\frac{\\partial^2}{\\partial x_j^2}k_{uu} + \\frac{\\partial^2}{\\partial x_i^2}\\frac{\\partial}{\\partial t_j}k_{uu} \\right] + \\phi^2 \\frac{\\partial^2}{\\partial x_i^2}\\frac{\\partial^2}{\\partial x_j^2}k_{uu}$"
   ]
  },
  {
   "cell_type": "code",
   "execution_count": 6,
   "metadata": {},
   "outputs": [],
   "source": [
    "k_ff_sym = sp.diff(k_uu_sym, t_j, t_i) \\\n",
    "        - phi*sp.diff(k_uu_sym,x_j,x_j,t_i) \\\n",
    "        - phi*sp.diff(k_uu_sym,t_j,x_i,x_i) \\\n",
    "        + phi**2*sp.diff(k_uu_sym,x_j,x_j,x_i,x_i)\n",
    "k_ff_fn = sp.lambdify((x_i, x_j, t_i, t_j, sig_u, l_u, phi), k_ff_sym, \"numpy\")\n",
    "def kff(t, x, sigma, l, p):\n",
    "    k = np.zeros((t.size, t.size))\n",
    "    for i in range(t.size):\n",
    "        for j in range(t.size):\n",
    "            k[i,j] = k_ff_fn(x[i], x[j], t[i], t[j], sigma, l, p)\n",
    "    return k"
   ]
  },
  {
   "cell_type": "markdown",
   "metadata": {},
   "source": [
    "$k_{fu}(\\bar{x}_i,\\bar{x}_j;\\theta,\\phi) \\\\\n",
    "= \\mathcal{L}_{\\bar{x}_i}^\\phi k_{uu}(\\bar{x}_i, \\bar{x}_j; \\theta) \\\\\n",
    "= \\frac{\\partial}{\\partial t_i}k_{uu} - \\phi \\frac{\\partial^2}{\\partial x_i^2}k_{uu}$"
   ]
  },
  {
   "cell_type": "code",
   "execution_count": 7,
   "metadata": {},
   "outputs": [],
   "source": [
    "k_fu_sym = sp.diff(k_uu_sym,t_i) - phi*sp.diff(k_uu_sym,x_i,x_i)\n",
    "k_fu_fn = sp.lambdify((x_i, x_j, t_i, t_j, sig_u, l_u, phi), k_fu_sym, \"numpy\")\n",
    "def kfu(t1, x1, t2, x2, sigma, l, p):\n",
    "    k = np.zeros((t1.size, t2.size))\n",
    "    for i in range(t1.size):\n",
    "        for j in range(t2.size):\n",
    "            k[i,j] = k_fu_fn(x1[i], x2[j], t1[i], t2[j], sigma, l, p)\n",
    "    return k"
   ]
  },
  {
   "cell_type": "code",
   "execution_count": 8,
   "metadata": {},
   "outputs": [],
   "source": [
    "k_uf_sym = sp.diff(k_uu_sym,t_j) - phi*sp.diff(k_uu_sym,x_j,x_j)\n",
    "k_uf_fn = sp.lambdify((x_i, x_j, t_i, t_j, sig_u, l_u, phi), k_uf_sym, \"numpy\")\n",
    "def kuf(t1, x1, t2, x2, sigma, l, p):\n",
    "    k = np.zeros((t2.size, t1.size))\n",
    "    for i in range(t2.size):\n",
    "        for j in range(t1.size):\n",
    "            k[i,j] = k_uf_fn(x2[i], x1[j], t2[i], t1[j], sigma, l, p)\n",
    "    return k"
   ]
  },
  {
   "cell_type": "markdown",
   "metadata": {},
   "source": [
    "#### Step 3: create covariance matrix and NLML\n",
    "\n",
    "```\n",
    "params = [sig_u, l_u, phi]\n",
    "```"
   ]
  },
  {
   "cell_type": "code",
   "execution_count": 9,
   "metadata": {},
   "outputs": [],
   "source": [
    "def nlml(params, t1, x1, y1, t2, x2, y2, s):\n",
    "    K = np.block([\n",
    "        [\n",
    "            kuu(t1, x1, params[0], params[1]) + s*np.identity(x1.size),\n",
    "            kuf(t1, x1, t2, x2, params[0], params[1], params[2])\n",
    "        ],\n",
    "        [\n",
    "            kfu(t1, x1, t2, x2, params[0], params[1], params[2]),\n",
    "            kff(t2, x2, params[0], params[1], params[2]) + s*np.identity(x2.size)\n",
    "        ]\n",
    "    ])\n",
    "    y = np.concatenate((y1, y2))\n",
    "    val = 0.5*(np.log(abs(np.linalg.det(K))) + np.mat(y) * np.linalg.inv(K) * np.mat(y).T)\n",
    "    return val.item(0)"
   ]
  },
  {
   "cell_type": "code",
   "execution_count": 10,
   "metadata": {},
   "outputs": [
    {
     "data": {
      "text/plain": [
       "744.0723881092091"
      ]
     },
     "execution_count": 10,
     "metadata": {},
     "output_type": "execute_result"
    }
   ],
   "source": [
    "nlml((1,1,1), t_u, x_u, y_u, t_f, x_f, y_f, 1e-6)"
   ]
  },
  {
   "cell_type": "code",
   "execution_count": 11,
   "metadata": {
    "scrolled": true
   },
   "outputs": [
    {
     "data": {
      "text/plain": [
       " final_simplex: (array([[0.49897309, 0.50643613, 1.03721407],\n",
       "       [0.49897309, 0.50643613, 1.03721407],\n",
       "       [0.49897309, 0.50643613, 1.03721407],\n",
       "       [0.49897309, 0.50643613, 1.03721407]]), array([-5.67633348e+17, -5.67633348e+17, -5.67633348e+17, -5.67633348e+17]))\n",
       "           fun: -5.676333483239761e+17\n",
       "       message: 'Optimization terminated successfully.'\n",
       "          nfev: 473\n",
       "           nit: 210\n",
       "        status: 0\n",
       "       success: True\n",
       "             x: array([0.49897309, 0.50643613, 1.03721407])"
      ]
     },
     "execution_count": 11,
     "metadata": {},
     "output_type": "execute_result"
    }
   ],
   "source": [
    "minimize(nlml, (0.5,0.5,1), args=(t_u, x_u, y_u, t_f, x_f, y_f, 1e-6), method=\"Nelder-Mead\", options={'maxiter' : 5000})"
   ]
  },
  {
   "cell_type": "markdown",
   "metadata": {},
   "source": [
    "### Using pyGPs"
   ]
  },
  {
   "cell_type": "code",
   "execution_count": 12,
   "metadata": {},
   "outputs": [
    {
     "name": "stderr",
     "output_type": "stream",
     "text": [
      "Number of line searches 40\n",
      "Number of line searches 40\n"
     ]
    }
   ],
   "source": [
    "model_u = pyGPs.GPR()\n",
    "model_u.setData(np.matrix([t_u, x_u]).T, y_u)\n",
    "model_u.optimize(np.matrix([t_u, x_u]).T, y_u)\n",
    "\n",
    "model_f = pyGPs.GPR()\n",
    "model_f.setData(np.matrix([t_f, x_f]).T, y_f)\n",
    "model_f.optimize(np.matrix([t_f, x_f]).T, y_f)\n"
   ]
  },
  {
   "cell_type": "code",
   "execution_count": null,
   "metadata": {
    "collapsed": true
   },
   "outputs": [],
   "source": []
  }
 ],
 "metadata": {
  "kernelspec": {
   "display_name": "Python 3",
   "language": "python",
   "name": "python3"
  },
  "language_info": {
   "codemirror_mode": {
    "name": "ipython",
    "version": 3
   },
   "file_extension": ".py",
   "mimetype": "text/x-python",
   "name": "python",
   "nbconvert_exporter": "python",
   "pygments_lexer": "ipython3",
   "version": "3.6.5"
  }
 },
 "nbformat": 4,
 "nbformat_minor": 2
}
