{
 "cells": [
  {
   "cell_type": "markdown",
   "metadata": {
    "collapsed": true
   },
   "source": [
    "### Simple example of a Gaussian process\n",
    "\n",
    "\n",
    "The following example illustrates how we move from process to distribution and also shows that the Gaussian process defines a distribution over functions.\n",
    "\n",
    "$f \\sim \\mathcal{GP}(m,k)$\n",
    "\n",
    "$m(x) = \\frac{x^2}{4}$\n",
    "\n",
    "$k(x,x') = exp(-\\frac{1}{2}(x-x')^2)$\n",
    "\n",
    "$y = f + \\epsilon$\n",
    "\n",
    "$\\epsilon \\sim \\mathcal{N}(0, \\sigma^2)$"
   ]
  },
  {
   "cell_type": "code",
   "execution_count": 1,
   "metadata": {
    "collapsed": true
   },
   "outputs": [],
   "source": [
    "## Importing necessary packages\n",
    "import numpy as np \n",
    "import scipy as sp\n",
    "import matplotlib.pyplot as plt"
   ]
  },
  {
   "cell_type": "code",
   "execution_count": 2,
   "metadata": {
    "collapsed": true
   },
   "outputs": [],
   "source": [
    "## Generating x-axis of data points \n",
    "x = np.arange(-5,5,0.2) \n",
    "n = x.size\n",
    "s = 1e-9"
   ]
  },
  {
   "cell_type": "code",
   "execution_count": 3,
   "metadata": {
    "collapsed": true
   },
   "outputs": [],
   "source": [
    "## Setting mean values corresponding to each data point\n",
    "m = np.square(x) * 0.25"
   ]
  },
  {
   "cell_type": "code",
   "execution_count": 4,
   "metadata": {
    "collapsed": true
   },
   "outputs": [],
   "source": [
    "## Defining the covariance matrix k with respect to x\n",
    "a = np.repeat(x, n).reshape(n, n)\n",
    "k = np.exp(-0.5*np.square(a - a.transpose())) + s*np.identity(n)"
   ]
  },
  {
   "cell_type": "code",
   "execution_count": 5,
   "metadata": {
    "collapsed": true
   },
   "outputs": [],
   "source": [
    "## Computing the values of y-axis based on the mean and covariance matrix of the distribution \n",
    "r = np.random.multivariate_normal(m, k, 1)\n",
    "y = np.reshape(r, n)"
   ]
  },
  {
   "cell_type": "code",
   "execution_count": 6,
   "metadata": {},
   "outputs": [
    {
     "data": {
      "image/png": "[encoded data removed]",
      "text/plain": [
       "<matplotlib.figure.Figure at 0x1035715f8>"
      ]
     },
     "metadata": {},
     "output_type": "display_data"
    }
   ],
   "source": [
    "## Plotting the function of (x, y)\n",
    "plt.plot(x,y)\n",
    "plt.show()"
   ]
  }
 ],
 "metadata": {
  "kernelspec": {
   "display_name": "Python 3",
   "language": "python",
   "name": "python3"
  },
  "language_info": {
   "codemirror_mode": {
    "name": "ipython",
    "version": 3
   },
   "file_extension": ".py",
   "mimetype": "text/x-python",
   "name": "python",
   "nbconvert_exporter": "python",
   "pygments_lexer": "ipython3",
   "version": "3.6.5"
  }
 },
 "nbformat": 4,
 "nbformat_minor": 2
}
