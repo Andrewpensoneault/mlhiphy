{
 "cells": [
  {
   "cell_type": "markdown",
   "metadata": {},
   "source": [
    "## Wave equation\n",
    "#### Parameter estimation for the Wave Equation using Gaussian processes (Without temporal discretization since we'd need a second order time scheme)\n",
    "\n",
    "\n",
    "#### Problem Setup\n",
    "\n",
    "$u_{tt} - c u_{xx} = 0$\n",
    "\n",
    "General solution:\n",
    "$u(x,t) = F(x-ct) + G(x+ct)$ with F, G some functions.\n",
    "\n",
    "Take $F(x) = x^2$ and $G(x) = \\sin(x)$ and $c=1$.\n",
    "\n",
    "Thus: $u(x,t) = (x-t)^2 + \\sin(x + t)$.\n",
    "\n",
    "$x \\in [0, 1], t \\in [0,1]$\n",
    "\n",
    "Set $f = 0$.\n",
    "\n",
    "Consider $u$ to be a Gaussian process.\n",
    "\n",
    "$u \\sim \\mathcal{GP}(0, k_{uu}(x_i, x_j, \\theta))$\n",
    "\n",
    "And the linear operator:\n",
    "\n",
    "$\\mathcal{L}_x^c = \\frac{d^2}{dt^2} \\cdot - c \\frac{d^2}{dx^2} \\cdot$\n",
    "\n",
    "so that\n",
    "\n",
    "$\\mathcal{L}_x^c u = f$\n",
    "\n",
    "Problem at hand: estimate $c$ (should be $c = 1$ in the end).\n",
    "\n",
    "\n",
    "#### step 1: Simulate data"
   ]
  },
  {
   "cell_type": "code",
   "execution_count": 55,
   "metadata": {},
   "outputs": [],
   "source": [
    "import time\n",
    "import numpy as np\n",
    "import sympy as sp\n",
    "from scipy.optimize import minimize\n",
    "import matplotlib.pyplot as plt"
   ]
  },
  {
   "cell_type": "code",
   "execution_count": 56,
   "metadata": {},
   "outputs": [],
   "source": [
    "n = 10\n",
    "np.random.seed(int(time.time()))\n",
    "t = np.random.rand(n)\n",
    "x = np.random.rand(n)"
   ]
  },
  {
   "cell_type": "code",
   "execution_count": 57,
   "metadata": {},
   "outputs": [],
   "source": [
    "y_u = np.multiply(x-t, x-t) + np.sin(x+t)\n",
    "y_f = 0*x"
   ]
  },
  {
   "cell_type": "markdown",
   "metadata": {},
   "source": [
    "#### Step 2:Evaluate kernels\n",
    "\n",
    "$k_{nn}(x_i, x_j; \\theta) = \\theta exp(-\\frac{1}{2l_x}(x_i-x_j)^2 - \\frac{1}{2l_t}(t_i-t_j)^2)$"
   ]
  },
  {
   "cell_type": "code",
   "execution_count": 58,
   "metadata": {},
   "outputs": [],
   "source": [
    "x_i, x_j, t_i, t_j, theta, l_x, l_t, c = sp.symbols('x_i x_j t_i t_j theta l_x l_t c')\n",
    "kuu_sym = theta*sp.exp(-1/(2*l_x)*((x_i - x_j)**2) - 1/(2*l_t)*((t_i - t_j)**2))\n",
    "kuu_fn = sp.lambdify((x_i, x_j, t_i, t_j, theta, l_x, l_t), kuu_sym, \"numpy\")\n",
    "def kuu(x, t, theta, l_x, l_t):\n",
    "    k = np.zeros((x.size, x.size))\n",
    "    for i in range(x.size):\n",
    "        for j in range(x.size):\n",
    "            k[i,j] = kuu_fn(x[i], x[j], t[i], t[j], theta, l_x, l_t)\n",
    "    return k"
   ]
  },
  {
   "cell_type": "markdown",
   "metadata": {},
   "source": [
    "$k_{ff}(x_i,x_j;\\theta,\\phi) \\\\\n",
    "= \\mathcal{L}_{\\tilde{x}_i}^c \\mathcal{L}_{\\tilde{x}_j}^c k_{uu}(x_i, x_j; \\theta) \\\\\n",
    "= \\frac{d^4}{dt_i^2 dt_j^2}k_{uu} - c\\frac{d^4}{dt_i^2 dx_j^2}k_{uu} - c\\frac{d^4}{dx_i^2 dt_j^2}k_{uu} + c^2\\frac{d^4}{dx_i^2 dx_j^2}k_{uu}$"
   ]
  },
  {
   "cell_type": "code",
   "execution_count": 59,
   "metadata": {},
   "outputs": [],
   "source": [
    "kff_sym = sp.diff(kuu_sym, t_i, t_i, t_j, t_j) \\\n",
    "        - c*sp.diff(kuu_sym, t_i, t_i, x_j, x_j) \\\n",
    "        - c*sp.diff(kuu_sym, x_i, x_i, t_j, t_j) \\\n",
    "        + c**2*sp.diff(kuu_sym, x_i, x_i, x_j, x_j)\n",
    "kff_fn = sp.lambdify((x_i, x_j, t_i, t_j, theta, l_x, l_t, c), kff_sym, \"numpy\")\n",
    "def kff(x, t, theta, l_x, l_t, c):\n",
    "    k = np.zeros((x.size, x.size))\n",
    "    for i in range(x.size):\n",
    "        for j in range(x.size):\n",
    "            k[i,j] = kff_fn(x[i], x[j], t[i], t[j], theta, l_x, l_t, c)\n",
    "    return k"
   ]
  },
  {
   "cell_type": "markdown",
   "metadata": {},
   "source": [
    "$k_{fu}(x_i,x_j;\\theta,\\phi) \\\\\n",
    "= \\mathcal{L}_{\\tilde{x}_i}^c k_{uu}(x_i, x_j; \\theta) \\\\\n",
    "= \\frac{d^2}{dt_i^2}k_{uu} - c\\frac{d^2}{dx_i^2}k_{uu}$"
   ]
  },
  {
   "cell_type": "code",
   "execution_count": 60,
   "metadata": {},
   "outputs": [],
   "source": [
    "kfu_sym = sp.diff(kuu_sym, t_i, t_i) - c*sp.diff(kuu_sym, x_i, x_i)\n",
    "kfu_fn = sp.lambdify((x_i, x_j, t_i, t_j, theta, l_x, l_t, c), kfu_sym, \"numpy\")\n",
    "def kfu(x, t, theta, l_x, l_t, c):\n",
    "    k = np.zeros((x.size, x.size))\n",
    "    for i in range(x.size):\n",
    "        for j in range(x.size):\n",
    "            k[i,j] = kfu_fn(x[i], x[j], t[i], t[j], theta, l_x, l_t, c)\n",
    "    return k"
   ]
  },
  {
   "cell_type": "code",
   "execution_count": 61,
   "metadata": {},
   "outputs": [],
   "source": [
    "def kuf(x, t, theta, l_x, l_t, c):\n",
    "    return kfu(x, t, theta, l_x, l_t, c).T"
   ]
  },
  {
   "cell_type": "markdown",
   "metadata": {},
   "source": [
    "#### Step 3: Compute NLML"
   ]
  },
  {
   "cell_type": "code",
   "execution_count": 62,
   "metadata": {},
   "outputs": [],
   "source": [
    "def nlml(params, x, t, y1, y2, s):\n",
    "    theta_exp = np.exp(params[0]) \n",
    "    l_x_exp = np.exp(params[1])\n",
    "    l_t_exp = np.exp(params[2]) # params[3] = c\n",
    "    K = np.block([\n",
    "        [kuu(x, t, theta_exp, l_x_exp, l_t_exp) + s*np.identity(x.size), kuf(x, t, theta_exp, l_x_exp, l_t_exp, params[3])],\n",
    "        [kfu(x, t, theta_exp, l_x_exp, l_t_exp, params[3]), kff(x, t, theta_exp, l_x_exp, l_t_exp, params[3]) + s*np.identity(x.size)]\n",
    "    ])\n",
    "    y = np.concatenate((y1, y2))\n",
    "    val = 0.5*(np.log(abs(np.linalg.det(K))) + np.mat(y) * np.linalg.inv(K) * np.mat(y).T)\n",
    "    return val.item(0)"
   ]
  },
  {
   "cell_type": "code",
   "execution_count": 63,
   "metadata": {},
   "outputs": [],
   "source": [
    "def nlml(params, x, t, y1, y2, s):\n",
    "    p0 = np.exp(params[0])\n",
    "    p1 = np.exp(params[1])\n",
    "    p2 = np.exp(params[2])\n",
    "    K = np.block([\n",
    "        [kuu(x, t, p0, p1, p2) + s*np.identity(x.size), kuf(x, t, p0, p1, p2, params[3])],\n",
    "        [kfu(x, t, p0, p1, p2, params[3]), kff(x, t, p0, p1, p2, params[3]) + s*np.identity(x.size)]\n",
    "    ])\n",
    "    y = np.concatenate((y1, y2))\n",
    "    val = 0.5*(np.log(abs(np.linalg.det(K))) + np.mat(y) * np.linalg.inv(K) * np.mat(y).T)\n",
    "    return val.item(0)"
   ]
  },
  {
   "cell_type": "markdown",
   "metadata": {},
   "source": [
    "#### Step 4: Optimise hyperparameters"
   ]
  },
  {
   "cell_type": "code",
   "execution_count": 64,
   "metadata": {},
   "outputs": [],
   "source": [
    "# m = minimize(nlml, np.random.rand(4), args=(x, t, y_u, y_f, 1e-3), method=\"Nelder-Mead\", options = {'maxiter' : 1000})"
   ]
  },
  {
   "cell_type": "code",
   "execution_count": 65,
   "metadata": {},
   "outputs": [],
   "source": [
    "def minimize_restarts(x,t,y_u,y_f,n=10): \n",
    "    nlml_wp = lambda params: nlml(params, x, t, y_u, y_f, 1e-7)\n",
    "    all_results = []\n",
    "    for it in range(0,n):\n",
    "        all_results.append(minimize(nlml_wp, np.random.rand(4), method=\"Nelder-Mead\", options={'maxiter':5000, 'fatol':0.001}))\n",
    "    filtered_results = [m for m in all_results if 0==m.status]\n",
    "    return min(filtered_results, key = lambda x: x.fun)"
   ]
  },
  {
   "cell_type": "code",
   "execution_count": 66,
   "metadata": {},
   "outputs": [
    {
     "name": "stdout",
     "output_type": "stream",
     "text": [
      " final_simplex: (array([[8.78390398, 3.86732869, 3.9106687 , 1.00911339],\n",
      "       [8.78398731, 3.86735661, 3.91069946, 1.00911266],\n",
      "       [8.78396363, 3.86734651, 3.91069106, 1.00911287],\n",
      "       [8.78392838, 3.86733734, 3.91067646, 1.00911299],\n",
      "       [8.78398712, 3.86736026, 3.91069478, 1.00911306]]), array([-59.1504288 , -59.15042286, -59.15041931, -59.15041695,\n",
      "       -59.15041616]))\n",
      "           fun: -59.15042880375972\n",
      "       message: 'Optimization terminated successfully.'\n",
      "          nfev: 324\n",
      "           nit: 176\n",
      "        status: 0\n",
      "       success: True\n",
      "             x: array([8.78390398, 3.86732869, 3.9106687 , 1.00911339])\n"
     ]
    }
   ],
   "source": [
    "m = minimize_restarts(x, t, y_u, y_f, 10)\n",
    "print(m)"
   ]
  },
  {
   "cell_type": "code",
   "execution_count": 67,
   "metadata": {},
   "outputs": [
    {
     "data": {
      "text/plain": [
       "1.0091133949475404"
      ]
     },
     "execution_count": 67,
     "metadata": {},
     "output_type": "execute_result"
    }
   ],
   "source": [
    "m.x[3]"
   ]
  },
  {
   "cell_type": "code",
   "execution_count": 68,
   "metadata": {},
   "outputs": [
    {
     "data": {
      "text/plain": [
       "[<matplotlib.lines.Line2D at 0x1e048f9b240>]"
      ]
     },
     "execution_count": 68,
     "metadata": {},
     "output_type": "execute_result"
    },
    {
     "data": {
      "image/png": "[encoded data removed]",
      "text/plain": [
       "<Figure size 432x288 with 1 Axes>"
      ]
     },
     "metadata": {},
     "output_type": "display_data"
    }
   ],
   "source": [
    "lin = np.linspace(0, 10, 50)\n",
    "res = [nlml((q, m.x[1], m.x[2], m.x[3]), x, t, y_u, y_f, 1e-3) for q in lin]\n",
    "plt.plot(lin, res)\n",
    "# nlml((4.8159, 0.4641, 4.4104, 0.006), x, t, y_u, y_f, 1e-3)"
   ]
  },
  {
   "cell_type": "code",
   "execution_count": 69,
   "metadata": {},
   "outputs": [
    {
     "data": {
      "text/plain": [
       "[<matplotlib.lines.Line2D at 0x1e048fea7f0>]"
      ]
     },
     "execution_count": 69,
     "metadata": {},
     "output_type": "execute_result"
    },
    {
     "data": {
      "image/png": "[encoded data removed]",
      "text/plain": [
       "<Figure size 432x288 with 1 Axes>"
      ]
     },
     "metadata": {},
     "output_type": "display_data"
    }
   ],
   "source": [
    "lin = np.linspace(0, 10, 50)\n",
    "res = [nlml((m.x[0], q, m.x[2], m.x[3]), x, t, y_u, y_f, 1e-3) for q in lin]\n",
    "plt.plot(lin, res)\n",
    "# nlml((4.8159, 0.4641, 4.4104, 0.006), x, t, y_u, y_f, 1e-3)"
   ]
  },
  {
   "cell_type": "code",
   "execution_count": 70,
   "metadata": {},
   "outputs": [
    {
     "data": {
      "text/plain": [
       "[<matplotlib.lines.Line2D at 0x1e04904a518>]"
      ]
     },
     "execution_count": 70,
     "metadata": {},
     "output_type": "execute_result"
    },
    {
     "data": {
      "image/png": "[encoded data removed]",
      "text/plain": [
       "<Figure size 432x288 with 1 Axes>"
      ]
     },
     "metadata": {},
     "output_type": "display_data"
    }
   ],
   "source": [
    "lin = np.linspace(0, 10, 50)\n",
    "res = [nlml((m.x[0], m.x[1], q, m.x[3]), x, t, y_u, y_f, 1e-3) for q in lin]\n",
    "plt.plot(lin, res)\n",
    "# nlml((4.8159, 0.4641, 4.4104, 0.006), x, t, y_u, y_f, 1e-3)"
   ]
  },
  {
   "cell_type": "code",
   "execution_count": 71,
   "metadata": {},
   "outputs": [
    {
     "data": {
      "text/plain": [
       "[<matplotlib.lines.Line2D at 0x1e0490a92b0>]"
      ]
     },
     "execution_count": 71,
     "metadata": {},
     "output_type": "execute_result"
    },
    {
     "data": {
      "image/png": "[encoded data removed]",
      "text/plain": [
       "<Figure size 432x288 with 1 Axes>"
      ]
     },
     "metadata": {},
     "output_type": "display_data"
    }
   ],
   "source": [
    "lin = np.linspace(-1, 1, 50)\n",
    "res = [nlml((m.x[0], m.x[1], m.x[2], q), x, t, y_u, y_f, 1e-3) for q in lin]\n",
    "plt.plot(lin, res)\n",
    "# nlml((4.8159, 0.4641, 4.4104, 0.006), x, t, y_u, y_f, 1e-3)"
   ]
  },
  {
   "cell_type": "code",
   "execution_count": null,
   "metadata": {},
   "outputs": [],
   "source": []
  }
 ],
 "metadata": {
  "kernelspec": {
   "display_name": "Python 3",
   "language": "python",
   "name": "python3"
  },
  "language_info": {
   "codemirror_mode": {
    "name": "ipython",
    "version": 3
   },
   "file_extension": ".py",
   "mimetype": "text/x-python",
   "name": "python",
   "nbconvert_exporter": "python",
   "pygments_lexer": "ipython3",
   "version": "3.6.5"
  }
 },
 "nbformat": 4,
 "nbformat_minor": 2
}
