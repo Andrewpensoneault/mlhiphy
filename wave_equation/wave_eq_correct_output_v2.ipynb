{
 "cells": [
  {
   "cell_type": "markdown",
   "metadata": {},
   "source": [
    "## Wave equation\n",
    "#### Parameter estimation for the Wave Equation using Gaussian processes (Without temporal discretization since we'd need a second order time scheme)\n",
    "\n",
    "\n",
    "#### Problem Setup\n",
    "\n",
    "$u_{tt} - c u_{xx} = 0$\n",
    "\n",
    "General solution:\n",
    "$u(x,t) = F(x-ct) + G(x+ct)$ with F, G some functions.\n",
    "\n",
    "Take $F(x) = x^2$ and $G(x) = \\sin(x)$ and $c=1$.\n",
    "\n",
    "Thus: $u(x,t) = (x-t)^2 + \\sin(x + t)$.\n",
    "\n",
    "$x \\in [0, 1], t \\in [0,1]$\n",
    "\n",
    "Set $f = 0$.\n",
    "\n",
    "Consider $u$ to be a Gaussian process.\n",
    "\n",
    "$u \\sim \\mathcal{GP}(0, k_{uu}(x_i, x_j, \\theta))$\n",
    "\n",
    "And the linear operator:\n",
    "\n",
    "$\\mathcal{L}_x^c = \\frac{d^2}{dt^2} \\cdot - c \\frac{d^2}{dx^2} \\cdot$\n",
    "\n",
    "so that\n",
    "\n",
    "$\\mathcal{L}_x^c u = f$\n",
    "\n",
    "Problem at hand: estimate $c$ (should be $c = 1$ in the end).\n",
    "\n",
    "\n",
    "#### step 1: Simulate data"
   ]
  },
  {
   "cell_type": "code",
   "execution_count": 45,
   "metadata": {},
   "outputs": [],
   "source": [
    "import time\n",
    "import numpy as np\n",
    "import sympy as sp\n",
    "import math\n",
    "import warnings\n",
    "from scipy.optimize import minimize\n",
    "import matplotlib.pyplot as plt"
   ]
  },
  {
   "cell_type": "code",
   "execution_count": 46,
   "metadata": {},
   "outputs": [],
   "source": [
    "n = 10\n",
    "np.random.seed(int(time.time()))\n",
    "t = np.random.rand(n)\n",
    "x = np.random.rand(n)"
   ]
  },
  {
   "cell_type": "code",
   "execution_count": 47,
   "metadata": {},
   "outputs": [],
   "source": [
    "y_u = np.multiply(x-t, x-t) + np.sin(x+t)\n",
    "y_f = 0*x"
   ]
  },
  {
   "cell_type": "markdown",
   "metadata": {},
   "source": [
    "#### Step 2:Evaluate kernels\n",
    "\n",
    "$k_{uu}(x_i, x_j; \\theta) = \\theta exp(-\\frac{1}{2l_x}(x_i-x_j)^2 - \\frac{1}{2l_t}(t_i-t_j)^2)$"
   ]
  },
  {
   "cell_type": "code",
   "execution_count": 48,
   "metadata": {},
   "outputs": [],
   "source": [
    "x_i, x_j, t_i, t_j, theta, l_x, l_t, c = sp.symbols('x_i x_j t_i t_j theta l_x l_t c')\n",
    "kuu_sym = theta*sp.exp(-1/(2*l_x)*((x_i - x_j)**2) - 1/(2*l_t)*((t_i - t_j)**2))\n",
    "kuu_fn = sp.lambdify((x_i, x_j, t_i, t_j, theta, l_x, l_t), kuu_sym, \"numpy\")\n",
    "def kuu(x, t, theta, l_x, l_t):\n",
    "    k = np.zeros((x.size, x.size))\n",
    "    for i in range(x.size):\n",
    "        for j in range(x.size):\n",
    "            k[i,j] = kuu_fn(x[i], x[j], t[i], t[j], theta, l_x, l_t)\n",
    "    return k"
   ]
  },
  {
   "cell_type": "markdown",
   "metadata": {},
   "source": [
    "$k_{ff}(x_i,x_j;\\theta,\\phi) \\\\\n",
    "= \\mathcal{L}_{\\tilde{x}_i}^c \\mathcal{L}_{\\tilde{x}_j}^c k_{uu}(x_i, x_j; \\theta) \\\\\n",
    "= \\frac{d^4}{dt_i^2 dt_j^2}k_{uu} - c\\frac{d^4}{dt_i^2 dx_j^2}k_{uu} - c\\frac{d^4}{dx_i^2 dt_j^2}k_{uu} + c^2\\frac{d^4}{dx_i^2 dx_j^2}k_{uu}$"
   ]
  },
  {
   "cell_type": "code",
   "execution_count": 49,
   "metadata": {},
   "outputs": [],
   "source": [
    "kff_sym = sp.diff(kuu_sym, t_i, t_i, t_j, t_j) \\\n",
    "        - c*sp.diff(kuu_sym, t_i, t_i, x_j, x_j) \\\n",
    "        - c*sp.diff(kuu_sym, x_i, x_i, t_j, t_j) \\\n",
    "        + c**2*sp.diff(kuu_sym, x_i, x_i, x_j, x_j)\n",
    "kff_fn = sp.lambdify((x_i, x_j, t_i, t_j, theta, l_x, l_t, c), kff_sym, \"numpy\")\n",
    "def kff(x, t, theta, l_x, l_t, c):\n",
    "    k = np.zeros((x.size, x.size))\n",
    "    for i in range(x.size):\n",
    "        for j in range(x.size):\n",
    "            k[i,j] = kff_fn(x[i], x[j], t[i], t[j], theta, l_x, l_t, c)\n",
    "    return k"
   ]
  },
  {
   "cell_type": "markdown",
   "metadata": {},
   "source": [
    "$k_{fu}(x_i,x_j;\\theta,\\phi) \\\\\n",
    "= \\mathcal{L}_{\\tilde{x}_i}^c k_{uu}(x_i, x_j; \\theta) \\\\\n",
    "= \\frac{d^2}{dt_i^2}k_{uu} - c\\frac{d^2}{dx_i^2}k_{uu}$"
   ]
  },
  {
   "cell_type": "code",
   "execution_count": 50,
   "metadata": {},
   "outputs": [],
   "source": [
    "kfu_sym = sp.diff(kuu_sym, t_i, t_i) - c*sp.diff(kuu_sym, x_i, x_i)\n",
    "kfu_fn = sp.lambdify((x_i, x_j, t_i, t_j, theta, l_x, l_t, c), kfu_sym, \"numpy\")\n",
    "def kfu(x, t, theta, l_x, l_t, c):\n",
    "    k = np.zeros((x.size, x.size))\n",
    "    for i in range(x.size):\n",
    "        for j in range(x.size):\n",
    "            k[i,j] = kfu_fn(x[i], x[j], t[i], t[j], theta, l_x, l_t, c)\n",
    "    return k"
   ]
  },
  {
   "cell_type": "code",
   "execution_count": 51,
   "metadata": {},
   "outputs": [],
   "source": [
    "def kuf(x, t, theta, l_x, l_t, c):\n",
    "    return kfu(x, t, theta, l_x, l_t, c).T"
   ]
  },
  {
   "cell_type": "markdown",
   "metadata": {},
   "source": [
    "#### Step 3: Compute NLML"
   ]
  },
  {
   "cell_type": "code",
   "execution_count": 52,
   "metadata": {},
   "outputs": [],
   "source": [
    "def nlml(params, x, t, y1, y2, s):\n",
    "    theta_exp = np.exp(params[0]) \n",
    "    l_x_exp = np.exp(params[1])\n",
    "    l_t_exp = np.exp(params[2]) # params[3] = c\n",
    "    K = np.block([\n",
    "        [kuu(x, t, theta_exp, l_x_exp, l_t_exp) + s*np.identity(x.size), kuf(x, t, theta_exp, l_x_exp, l_t_exp, params[3])],\n",
    "        [kfu(x, t, theta_exp, l_x_exp, l_t_exp, params[3]), kff(x, t, theta_exp, l_x_exp, l_t_exp, params[3]) + s*np.identity(x.size)]\n",
    "    ])\n",
    "    y = np.concatenate((y1, y2))\n",
    "    val = 0.5*(np.log(abs(np.linalg.det(K))) + np.mat(y) * np.linalg.inv(K) * np.mat(y).T)\n",
    "    return val.item(0)"
   ]
  },
  {
   "cell_type": "code",
   "execution_count": 53,
   "metadata": {},
   "outputs": [],
   "source": [
    "def nlml(params, x, t, y1, y2, s):\n",
    "    p0 = np.exp(params[0])\n",
    "    p1 = np.exp(params[1])\n",
    "    p2 = np.exp(params[2])\n",
    "    K = np.block([\n",
    "        [kuu(x, t, p0, p1, p2) + s*np.identity(x.size), kuf(x, t, p0, p1, p2, params[3])],\n",
    "        [kfu(x, t, p0, p1, p2, params[3]), kff(x, t, p0, p1, p2, params[3]) + s*np.identity(x.size)]\n",
    "    ])\n",
    "    y = np.concatenate((y1, y2))\n",
    "    val = 0.5*(np.log(abs(np.linalg.det(K))) + np.mat(y) * np.linalg.inv(K) * np.mat(y).T)\n",
    "    return val.item(0)"
   ]
  },
  {
   "cell_type": "markdown",
   "metadata": {},
   "source": [
    "#### Step 4: Optimise hyperparameters"
   ]
  },
  {
   "cell_type": "code",
   "execution_count": 54,
   "metadata": {},
   "outputs": [],
   "source": [
    "# m = minimize(nlml, np.random.rand(4), args=(x, t, y_u, y_f, 1e-3), method=\"Nelder-Mead\", options = {'maxiter' : 1000})"
   ]
  },
  {
   "cell_type": "code",
   "execution_count": 55,
   "metadata": {},
   "outputs": [],
   "source": [
    "# Want to define a nice sequence of numbers, that won't increase too quickly.\n",
    "def fib_formula(n):\n",
    "    golden_ratio = (1+math.sqrt(5))/2\n",
    "    val = (golden_ratio**n - (1-golden_ratio)**n) / math.sqrt(5)\n",
    "    return int(round(val))"
   ]
  },
  {
   "cell_type": "code",
   "execution_count": 56,
   "metadata": {},
   "outputs": [],
   "source": [
    "def minimize_restarts(x,t,y_u,y_f,n=10): \n",
    "    nlml_wp = lambda params: nlml(params, x, t, y_u, y_f, 1e-7)\n",
    "    all_results = []\n",
    "    for it in range(0,n):\n",
    "        try:\n",
    "            all_results.append(minimize(nlml_wp, fib_formula(it+1)*np.random.rand(4), method=\"Nelder-Mead\", options={'maxiter':5000, 'fatol':0.001}))\n",
    "        except np.linalg.LinAlgError:\n",
    "            pass\n",
    "    filtered_results = [m for m in all_results if 0==m.status]\n",
    "    function_values = [m.fun for m in filtered_results]\n",
    "    return (min(filtered_results, key = lambda x: x.fun), function_values)"
   ]
  },
  {
   "cell_type": "code",
   "execution_count": 57,
   "metadata": {},
   "outputs": [
    {
     "name": "stdout",
     "output_type": "stream",
     "text": [
      " final_simplex: (array([[4.86645347, 2.24557135, 2.26801076, 0.99941617],\n",
      "       [4.86645827, 2.24557443, 2.26800613, 0.99941624],\n",
      "       [4.86640334, 2.24555928, 2.26798639, 0.99941623],\n",
      "       [4.86643431, 2.24556428, 2.26800092, 0.99941608],\n",
      "       [4.86643649, 2.24557204, 2.26800084, 0.99941611]]), array([-49.65683717, -49.65683673, -49.65683669, -49.65683662,\n",
      "       -49.65683637]))\n",
      "           fun: -49.656837169347604\n",
      "       message: 'Optimization terminated successfully.'\n",
      "          nfev: 670\n",
      "           nit: 390\n",
      "        status: 0\n",
      "       success: True\n",
      "             x: array([4.86645347, 2.24557135, 2.26801076, 0.99941617])\n"
     ]
    },
    {
     "data": {
      "image/png": "[encoded data removed]",
      "text/plain": [
       "<Figure size 432x288 with 1 Axes>"
      ]
     },
     "metadata": {},
     "output_type": "display_data"
    }
   ],
   "source": [
    "repeats = 10\n",
    "warnings.filterwarnings(\"ignore\") # Suppressing warnings\n",
    "(m, function_values) = minimize_restarts(x, t, y_u, y_f, repeats)\n",
    "print(m)\n",
    "\n",
    "# This plot will show us how frail our model is w.r.t. the initial values\n",
    "lin = np.linspace(0, repeats, len(function_values))\n",
    "plt.plot(lin, function_values)  \n",
    "plt.show()"
   ]
  },
  {
   "cell_type": "code",
   "execution_count": 58,
   "metadata": {},
   "outputs": [
    {
     "data": {
      "text/plain": [
       "0.9994161659419571"
      ]
     },
     "execution_count": 58,
     "metadata": {},
     "output_type": "execute_result"
    }
   ],
   "source": [
    "m.x[3] # This is our predicted value for c"
   ]
  },
  {
   "cell_type": "markdown",
   "metadata": {},
   "source": [
    "Plotting by varying theta:"
   ]
  },
  {
   "cell_type": "code",
   "execution_count": 67,
   "metadata": {},
   "outputs": [
    {
     "data": {
      "text/plain": [
       "[<matplotlib.lines.Line2D at 0x23db238f208>]"
      ]
     },
     "execution_count": 67,
     "metadata": {},
     "output_type": "execute_result"
    },
    {
     "data": {
      "image/png": "[encoded data removed]",
      "text/plain": [
       "<Figure size 432x288 with 1 Axes>"
      ]
     },
     "metadata": {},
     "output_type": "display_data"
    }
   ],
   "source": [
    "lin = np.linspace(2, 10, 50)\n",
    "res = [nlml((q, m.x[1], m.x[2], m.x[3]), x, t, y_u, y_f, 1e-7) for q in lin]\n",
    "plt.plot(lin, res)\n",
    "# nlml((4.8159, 0.4641, 4.4104, 0.006), x, t, y_u, y_f, 1e-3)"
   ]
  },
  {
   "cell_type": "markdown",
   "metadata": {},
   "source": [
    "Plotting by varying l_x:"
   ]
  },
  {
   "cell_type": "code",
   "execution_count": 69,
   "metadata": {},
   "outputs": [
    {
     "data": {
      "text/plain": [
       "[<matplotlib.lines.Line2D at 0x23db2451898>]"
      ]
     },
     "execution_count": 69,
     "metadata": {},
     "output_type": "execute_result"
    },
    {
     "data": {
      "image/png": "[encoded data removed]",
      "text/plain": [
       "<Figure size 432x288 with 1 Axes>"
      ]
     },
     "metadata": {},
     "output_type": "display_data"
    }
   ],
   "source": [
    "lin = np.linspace(0, 4, 50)\n",
    "res = [nlml((m.x[0], q, m.x[2], m.x[3]), x, t, y_u, y_f, 1e-7) for q in lin]\n",
    "plt.plot(lin, res)\n",
    "# nlml((4.8159, 0.4641, 4.4104, 0.006), x, t, y_u, y_f, 1e-3)"
   ]
  },
  {
   "cell_type": "markdown",
   "metadata": {},
   "source": [
    "Plotting by varying l_t:"
   ]
  },
  {
   "cell_type": "code",
   "execution_count": 68,
   "metadata": {},
   "outputs": [
    {
     "data": {
      "text/plain": [
       "[<matplotlib.lines.Line2D at 0x23db23f0940>]"
      ]
     },
     "execution_count": 68,
     "metadata": {},
     "output_type": "execute_result"
    },
    {
     "data": {
      "image/png": "[encoded data removed]",
      "text/plain": [
       "<Figure size 432x288 with 1 Axes>"
      ]
     },
     "metadata": {},
     "output_type": "display_data"
    }
   ],
   "source": [
    "lin = np.linspace(0, 4, 50)\n",
    "res = [nlml((m.x[0], m.x[1], q, m.x[3]), x, t, y_u, y_f, 1e-7) for q in lin]\n",
    "plt.plot(lin, res)\n",
    "# nlml((4.8159, 0.4641, 4.4104, 0.006), x, t, y_u, y_f, 1e-3)"
   ]
  },
  {
   "cell_type": "markdown",
   "metadata": {},
   "source": [
    "Plotting by varying c:"
   ]
  },
  {
   "cell_type": "code",
   "execution_count": 64,
   "metadata": {},
   "outputs": [
    {
     "data": {
      "text/plain": [
       "[<matplotlib.lines.Line2D at 0x23db218eb00>]"
      ]
     },
     "execution_count": 64,
     "metadata": {},
     "output_type": "execute_result"
    },
    {
     "data": {
      "image/png": "[encoded data removed]",
      "text/plain": [
       "<Figure size 432x288 with 1 Axes>"
      ]
     },
     "metadata": {},
     "output_type": "display_data"
    }
   ],
   "source": [
    "lin = np.linspace(-1, 3, 50)\n",
    "res = [nlml((m.x[0], m.x[1], m.x[2], q), x, t, y_u, y_f, 1e-7) for q in lin]\n",
    "plt.plot(lin, res)\n",
    "# nlml((4.8159, 0.4641, 4.4104, 0.006), x, t, y_u, y_f, 1e-3)"
   ]
  },
  {
   "cell_type": "code",
   "execution_count": null,
   "metadata": {},
   "outputs": [],
   "source": []
  }
 ],
 "metadata": {
  "kernelspec": {
   "display_name": "Python 3",
   "language": "python",
   "name": "python3"
  },
  "language_info": {
   "codemirror_mode": {
    "name": "ipython",
    "version": 3
   },
   "file_extension": ".py",
   "mimetype": "text/x-python",
   "name": "python",
   "nbconvert_exporter": "python",
   "pygments_lexer": "ipython3",
   "version": "3.6.5"
  }
 },
 "nbformat": 4,
 "nbformat_minor": 2
}
