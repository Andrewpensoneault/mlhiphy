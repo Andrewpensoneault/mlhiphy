{
 "cells": [
  {
   "cell_type": "markdown",
   "metadata": {
    "raw_mimetype": "text/latex"
   },
   "source": [
    "## 1D Linear operator with two parameters\n",
    "\n",
    "In the previous examples we focus on systems with only one parameter. To see if the framework can be applied to a more general case, we use a 1D linear operator on two parameters, and verify the prediction. \n",
    "\n",
    "Here we set up the linear operator as follows:\n",
    "\n",
    "\\begin{align*}\n",
    "\\mathcal{L}_x^\\phi u(x) &= f(x) \\\\\n",
    "\\mathcal{L}_x^\\phi &:= \\phi_1 \\cdot + \\phi_2\\frac{d}{dx}\\cdot\n",
    "\\end{align*}\n",
    "\n",
    "\n",
    "A suitable solution can be: \n",
    "\\begin{align*}\n",
    "\\left.\\begin{aligned} u ( x ) & = \\sin ( x ) \\\\ f ( x ) & = \\phi _ { 1 } \\sin ( x ) + \\phi _ { 2 } \\cos ( x ) \\\\ x & \\in [ 0,1 ] \\end{aligned} \\right.\n",
    "\\end{align*}\n",
    "\n",
    "\n",
    "In this example, we assume $\\phi_1 = 2$, $\\phi_2 = 5$, and estimate $\\phi_1$ and $\\phi_2$.\n",
    "\n",
    "\n",
    "#### Simulate data\n"
   ]
  },
  {
   "cell_type": "code",
   "execution_count": 1,
   "metadata": {
    "nbsphinx": "hidden"
   },
   "outputs": [],
   "source": [
    "import numpy as np\n",
    "import sympy as sp\n",
    "from scipy.optimize import minimize\n",
    "import matplotlib.pyplot as plt"
   ]
  },
  {
   "cell_type": "code",
   "execution_count": 2,
   "metadata": {},
   "outputs": [],
   "source": [
    "##Initiating f(x) and u(x) with 20 data points\n",
    "x = np.random.rand(20)\n",
    "phi1 = 2.0\n",
    "phi2 = 5.0\n",
    "y_u = np.sin(x)\n",
    "y_f = phi1*np.sin(x) + phi2*np.cos(x)"
   ]
  },
  {
   "cell_type": "code",
   "execution_count": 3,
   "metadata": {
    "nbsphinx": "hidden"
   },
   "outputs": [
    {
     "data": {
      "image/png": "[encoded data removed]",
      "text/plain": [
       "<Figure size 432x288 with 1 Axes>"
      ]
     },
     "metadata": {},
     "output_type": "display_data"
    }
   ],
   "source": [
    "\n",
    "plt.plot(x, y_u, 'ro')\n",
    "plt.show()"
   ]
  },
  {
   "cell_type": "markdown",
   "metadata": {},
   "source": [
    "#### Evaluate kernels\n",
    "Corresponding kernels are defined as following:\n",
    "\n",
    "$k _ { u u } \\left( x _ { i } , x _ { j } ; \\theta \\right) = \\theta \\exp \\left( - \\frac { 1 } { 2 l } \\left( x _ { i } - x _ { j } \\right) ^ { 2 } \\right)$\n",
    "\n",
    "$\\left. \\begin{array} { l } { k _ { f f } \\left( x _ { i } , x _ { j } ; \\theta , \\phi _ { 1 } , \\phi _ { 2 } \\right) } \\\\ { = \\mathcal { L } _ { x _ { i } } ^ { \\phi } \\mathcal { L } _ { x _ { j } } ^ { \\phi } k _ { u u } \\left( x _ { i } , x _ { j } ; \\theta \\right) } \\\\ { = \\mathcal { L } _ { x _ { i } } ^ { \\phi } \\left( \\phi _ { 1 } k _ { u u } + \\phi _ { 2 } \\frac { \\partial } { \\partial x _ { j } } k _ { u u } \\right) } \\\\ { = \\phi _ { 1 } ^ { 2 } k _ { u u } + \\phi _ { 1 } \\phi _ { 2 } \\frac { \\partial } { \\partial x _ { j } } k _ { u u } + \\phi _ { 1 } \\phi _ { 2 } \\frac { \\partial } { \\partial x _ { i } } k _ { u u } + \\phi _ { 2 } ^ { 2 } \\frac { \\partial } { \\partial x _ { i } } \\frac { \\partial } { \\partial x _ { i } } k _ { u u } } \\end{array} \\right.$\n",
    "\n",
    "$k_{fu}(x_i,x_j;\\theta,\\phi_1, \\phi_2) \\\\\n",
    "= \\mathcal{L}_{x_i}^\\phi k_{uu}(x_i, x_j; \\theta) \\\\\n",
    "= \\phi_1 k_{uu} + \\phi_2 \\frac{\\partial}{\\partial x_i}k_{uu}$\n",
    "\n",
    "$\\left. \\begin{array} { l } { k _ { u f } \\left( x _ { i } , x _ { j } ; \\theta , \\phi _ { 1 } , \\phi _ { 2 } \\right) } \\\\ { = \\mathcal { L } _ { x _ { j } } ^ { \\phi } k _ { u u } \\left( x _ { i } , x _ { j } ; \\theta \\right) } \\end{array} \\right.$ "
   ]
  },
  {
   "cell_type": "code",
   "execution_count": 4,
   "metadata": {
    "nbsphinx": "hidden"
   },
   "outputs": [],
   "source": [
    "x_i, x_j, theta, phi1, phi2 = sp.symbols('x_i x_j theta phi1 phi2')\n",
    "kuu_sym = sp.exp(theta*(-1)/(2)*((x_i - x_j)**2))\n",
    "kuu_fn = sp.lambdify((x_i, x_j, theta), kuu_sym, \"numpy\")\n",
    "def kuu(x, theta):\n",
    "    k = np.zeros((x.size, x.size))\n",
    "    for i in range(x.size):\n",
    "        for j in range(x.size):\n",
    "            k[i,j] = kuu_fn(x[i], x[j], theta)\n",
    "    return k"
   ]
  },
  {
   "cell_type": "code",
   "execution_count": 5,
   "metadata": {
    "nbsphinx": "hidden"
   },
   "outputs": [],
   "source": [
    "kff_sym = phi1**2*kuu_sym + phi1*phi2*sp.diff(kuu_sym, x_j) + phi1*phi2*sp.diff(kuu_sym, x_i) + phi2**2*sp.diff(kuu_sym, x_j, x_i)\n",
    "kff_fn = sp.lambdify((x_i, x_j, theta, phi1,phi2), kff_sym, \"numpy\")\n",
    "def kff(x, theta, phi1, phi2):\n",
    "    k = np.zeros((x.size, x.size))\n",
    "    for i in range(x.size):\n",
    "        for j in range(x.size):\n",
    "            k[i,j] = kff_fn(x[i], x[j], theta, phi1, phi2)\n",
    "    return k"
   ]
  },
  {
   "cell_type": "code",
   "execution_count": 6,
   "metadata": {
    "nbsphinx": "hidden"
   },
   "outputs": [],
   "source": [
    "kfu_sym = phi1*kuu_sym + phi2*sp.diff(kuu_sym, x_i)\n",
    "kfu_fn = sp.lambdify((x_i, x_j, theta, phi1, phi2), kfu_sym, \"numpy\")\n",
    "def kfu(x1, x2, theta, phi1, phi2):\n",
    "    k = np.zeros((x1.size, x2.size))\n",
    "    for i in range(x1.size):\n",
    "        for j in range(x2.size):\n",
    "            k[i,j] = kfu_fn(x1[i], x2[j], theta, phi1, phi2)\n",
    "    return k"
   ]
  },
  {
   "cell_type": "code",
   "execution_count": 7,
   "metadata": {
    "nbsphinx": "hidden"
   },
   "outputs": [],
   "source": [
    "def kuf(x1, x2, theta, phi1, phi2):\n",
    "    return kfu(x1,x2,theta,phi1, phi2).T"
   ]
  },
  {
   "cell_type": "markdown",
   "metadata": {
    "nbsphinx": "hidden"
   },
   "source": [
    "#### step 3: define negative log marginal likelihood  \n",
    "\n",
    "\n",
    "\n",
    "$K = \\begin{bmatrix}\n",
    "k_{uu}(X_u, X_u; \\theta) + \\sigma_u^2I & k_{uf}(X_u, X_f; \\theta, \\phi) \\\\\n",
    "k_{fu}(X_f, X_u; \\theta, \\phi) & k_{ff}(X_f, X_f; \\theta, \\phi) + \\sigma_f^2I\n",
    "\\end{bmatrix}$\n",
    "\n",
    "For simplicity, assume $\\sigma_u = \\sigma_f$.\n",
    "\n",
    "$\\mathcal{NLML} = \\frac{1}{2} \\left[ log|K| + y^TK^{-1}y + Nlog(2\\pi) \\right]$\n",
    "\n",
    "where $y = \\begin{bmatrix}\n",
    "y_u \\\\\n",
    "y_f\n",
    "\\end{bmatrix}$"
   ]
  },
  {
   "cell_type": "code",
   "execution_count": 8,
   "metadata": {
    "nbsphinx": "hidden"
   },
   "outputs": [],
   "source": [
    "def nlml(params, x1, x2, y1, y2, s):\n",
    "    params = np.exp(params)\n",
    "    K = np.block([\n",
    "        [kuu(x1, params[0]) + s*np.identity(x1.size), kuf(x1, x2, params[0], params[1], params[2])],\n",
    "        [kfu(x1, x2, params[0], params[1], params[2]), kff(x2, params[0], params[1], params[2]) + s*np.identity(x2.size)]\n",
    "    ])\n",
    "    y = np.concatenate((y1, y2))\n",
    "    val = 0.5*(np.log(abs(np.linalg.det(K))) + np.mat(y) * np.linalg.inv(K) * np.mat(y).T)\n",
    "    return val.item(0)"
   ]
  },
  {
   "cell_type": "code",
   "execution_count": 9,
   "metadata": {
    "nbsphinx": "hidden"
   },
   "outputs": [
    {
     "data": {
      "text/plain": [
       "4451304.977390464"
      ]
     },
     "execution_count": 9,
     "metadata": {},
     "output_type": "execute_result"
    }
   ],
   "source": [
    "nlml((1,2,5), x, x, y_u, y_f, 1e-7)\n"
   ]
  },
  {
   "cell_type": "markdown",
   "metadata": {},
   "source": [
    "#### Optimize hyperparameters\n"
   ]
  },
  {
   "cell_type": "code",
   "execution_count": 10,
   "metadata": {
    "nbsphinx": "hidden",
    "scrolled": true
   },
   "outputs": [
    {
     "data": {
      "text/plain": [
       " final_simplex: (array([[-1.38622423,  0.69314495,  1.60943818],\n",
       "       [-1.38616747,  0.69314524,  1.60943819],\n",
       "       [-1.38614913,  0.69314664,  1.60943791],\n",
       "       [-1.38626227,  0.6931484 ,  1.60943784]]), array([-277.7085336 , -277.70853355, -277.70853348, -277.70853343]))\n",
       "           fun: -277.7085336009113\n",
       "       message: 'Optimization terminated successfully.'\n",
       "          nfev: 274\n",
       "           nit: 152\n",
       "        status: 0\n",
       "       success: True\n",
       "             x: array([-1.38622423,  0.69314495,  1.60943818])"
      ]
     },
     "execution_count": 10,
     "metadata": {},
     "output_type": "execute_result"
    }
   ],
   "source": [
    "m = minimize(nlml, np.random.rand(3), args=(x, x, y_u, y_f, 1e-7), method=\"Nelder-Mead\")\n",
    "m"
   ]
  },
  {
   "cell_type": "code",
   "execution_count": 11,
   "metadata": {
    "nbsphinx": "hidden"
   },
   "outputs": [
    {
     "data": {
      "text/plain": [
       "1.9999955379492513"
      ]
     },
     "execution_count": 11,
     "metadata": {},
     "output_type": "execute_result"
    }
   ],
   "source": [
    "\n",
    "np.exp(m.x[1])\n"
   ]
  },
  {
   "cell_type": "code",
   "execution_count": 12,
   "metadata": {
    "nbsphinx": "hidden"
   },
   "outputs": [
    {
     "data": {
      "text/plain": [
       "5.000001322351089"
      ]
     },
     "execution_count": 12,
     "metadata": {},
     "output_type": "execute_result"
    }
   ],
   "source": [
    "np.exp(m.x[2])"
   ]
  },
  {
   "cell_type": "code",
   "execution_count": 13,
   "metadata": {
    "nbsphinx": "hidden"
   },
   "outputs": [],
   "source": [
    "phi = [np.exp(m.x[1]),np.exp(m.x[2])]"
   ]
  },
  {
   "cell_type": "code",
   "execution_count": 14,
   "metadata": {},
   "outputs": [
    {
     "data": {
      "text/plain": [
       "[1.9999955379492513, 5.000001322351089]"
      ]
     },
     "execution_count": 14,
     "metadata": {},
     "output_type": "execute_result"
    }
   ],
   "source": [
    "phi ## Estimated phi1 and phi2 using noiseless data points"
   ]
  },
  {
   "cell_type": "markdown",
   "metadata": {},
   "source": [
    "| Parameter | Value |\n",
    "|-----------|-------|\n",
    "| $\\phi_1$  |1.9999 |\n",
    "| $\\phi_2$  |5.0000 |\n",
    "\n",
    "We see that the error rate is less than 0.01% for the hyperparameter estimation. This example shows, that one can use our framework for multiple parameter estimation."
   ]
  },
  {
   "cell_type": "code",
   "execution_count": 33,
   "metadata": {
    "nbsphinx": "hidden"
   },
   "outputs": [
    {
     "name": "stderr",
     "output_type": "stream",
     "text": [
      "/usr/local/lib/python3.6/site-packages/numpy/linalg/linalg.py:1874: RuntimeWarning: overflow encountered in det\n",
      "  r = _umath_linalg.det(a, signature=signature)\n",
      "/usr/local/Cellar/ipython/6.4.0/libexec/vendor/lib/python3.6/site-packages/ipykernel_launcher.py:2: RuntimeWarning: overflow encountered in exp\n",
      "  \n",
      "/usr/local/lib/python3.6/site-packages/numpy/__init__.py:1: RuntimeWarning: invalid value encountered in double_scalars\n",
      "  \"\"\"\n",
      "/usr/local/lib/python3.6/site-packages/numpy/__init__.py:1: RuntimeWarning: invalid value encountered in double_scalars\n",
      "  \"\"\"\n",
      "/usr/local/lib/python3.6/site-packages/numpy/__init__.py:1: RuntimeWarning: invalid value encountered in double_scalars\n",
      "  \"\"\"\n",
      "/usr/local/lib/python3.6/site-packages/numpy/linalg/linalg.py:1874: RuntimeWarning: invalid value encountered in det\n",
      "  r = _umath_linalg.det(a, signature=signature)\n",
      "/usr/local/lib/python3.6/site-packages/numpy/__init__.py:1: RuntimeWarning: overflow encountered in double_scalars\n",
      "  \"\"\"\n",
      "/usr/local/lib/python3.6/site-packages/numpy/__init__.py:1: RuntimeWarning: overflow encountered in double_scalars\n",
      "  \"\"\"\n"
     ]
    },
    {
     "ename": "SyntaxError",
     "evalue": "'return' outside function (<ipython-input-33-35b2be66bae5>, line 19)",
     "output_type": "error",
     "traceback": [
      "\u001b[0;36m  File \u001b[0;32m\"<ipython-input-33-35b2be66bae5>\"\u001b[0;36m, line \u001b[0;32m19\u001b[0m\n\u001b[0;31m    return res\u001b[0m\n\u001b[0m              ^\u001b[0m\n\u001b[0;31mSyntaxError\u001b[0m\u001b[0;31m:\u001b[0m 'return' outside function\n"
     ]
    }
   ],
   "source": [
    "def get_simulated_data(n = 20):\n",
    "    x = np.random.rand(n)\n",
    "    phi1 = 2.0\n",
    "    phi2 = 5.0\n",
    "    y_u = np.sin(x)\n",
    "    y_f = phi1*np.sin(x) + phi2*np.cos(x)\n",
    "    y_f = 0*x\n",
    "    return(x, x, y_u, y_f)\n",
    "\n",
    "(x, x, y_u, y_f) = get_simulated_data()\n",
    "res = np.zeros((5,25))\n",
    "for k in range(5, 25):\n",
    "    (x, x, y_u, y_f) = get_simulated_data(k)\n",
    "    nlml_wp = lambda params: nlml(params, x, x, y_u, y_f, 1e-7)\n",
    "    m = minimize(nlml_wp, np.random.rand(3), method=\"Nelder-Mead\")\n",
    "    p1 = np.exp(m.x[1])\n",
    "    p2 = np.exp(m.x[2])\n",
    "    res = np.square(p1-2)+np.square(p2-5)\n"
   ]
  }
 ],
 "metadata": {
  "celltoolbar": "Edit Metadata",
  "kernelspec": {
   "display_name": "Python 3",
   "language": "python",
   "name": "python3"
  },
  "language_info": {
   "codemirror_mode": {
    "name": "ipython",
    "version": 3
   },
   "file_extension": ".py",
   "mimetype": "text/x-python",
   "name": "python",
   "nbconvert_exporter": "python",
   "pygments_lexer": "ipython3",
   "version": "3.6.5"
  }
 },
 "nbformat": 4,
 "nbformat_minor": 2
}
