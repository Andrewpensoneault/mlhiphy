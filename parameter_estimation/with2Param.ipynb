{
 "cells": [
  {
   "cell_type": "markdown",
   "metadata": {
    "raw_mimetype": "text/latex"
   },
   "source": [
    "## 1D Linear operator with two parameters\n",
    "\n",
    "The previous examples focus on the systems with one parameter. To see if the framework can be applied to a more general case, we use 1D linear operator on two parameters, and verify the prediction. \n",
    "\n",
    "Here we set up the linear operator as following:\n",
    "\n",
    "\\begin{align*}\n",
    "\\mathcal{L}_x^\\phi u(x) &= f(x) \\\\\n",
    "\\mathcal{L}_x^\\phi &:= \\phi_1 \\cdot + \\phi_2\\frac{d}{dx}\\cdot\n",
    "\\end{align*}\n",
    "\n",
    "\n",
    "A suitable solution can be: \n",
    "\\begin{align*}\n",
    "u(x) &= sin(x) \\\\\n",
    "f(x) &= \\phi_1 sin(x) + \\phi_2 cos(x) \\\\\n",
    "x &\\in [0, 1]\n",
    "\\end{align*}\n",
    "\n",
    "\n",
    "In this example, we assume $\\phi_1 = 2$ $ \\phi_2 = 5$, and estimate $\\phi_1$ $\\phi_2$.\n",
    "\n",
    "\n",
    "#### simulate data\n"
   ]
  },
  {
   "cell_type": "code",
   "execution_count": 1,
   "metadata": {
    "nbsphinx": "hidden"
   },
   "outputs": [],
   "source": [
    "import numpy as np\n",
    "import sympy as sp\n",
    "from scipy.optimize import minimize\n",
    "import matplotlib.pyplot as plt"
   ]
  },
  {
   "cell_type": "code",
   "execution_count": 2,
   "metadata": {},
   "outputs": [],
   "source": [
    "x = np.random.rand(20)\n",
    "phi1 = 2.0\n",
    "phi2 = 5.0\n",
    "y_u = np.sin(x)\n",
    "y_f = phi1*np.sin(x) + phi2*np.cos(x)"
   ]
  },
  {
   "cell_type": "code",
   "execution_count": 3,
   "metadata": {
    "nbsphinx": "hidden"
   },
   "outputs": [
    {
     "data": {
      "image/png": "[encoded data removed]",
      "text/plain": [
       "<Figure size 432x288 with 1 Axes>"
      ]
     },
     "metadata": {},
     "output_type": "display_data"
    }
   ],
   "source": [
    "\n",
    "plt.plot(x, y_u, 'ro')\n",
    "plt.show()"
   ]
  },
  {
   "cell_type": "markdown",
   "metadata": {},
   "source": [
    "#### Evaluate kernels\n",
    "Corresponding kernels are defined as following:\n",
    "\n",
    "$\n",
    "k_{uu}(x_i, x_j; \\theta) = \\theta exp(-\\frac{1}{2l}(x_i-x_j)^2)\n",
    "$\n",
    "\n",
    "$\n",
    "k_{ff}(x_i,x_j;\\theta,\\phi_1, \\phi_2) \\\\\n",
    "= \\mathcal{L}_{x_i}^\\phi \\mathcal{L}_{x_j}^\\phi k_{uu}(x_i, x_j; \\theta) \\\\\n",
    "= \\mathcal{L}_{x_i}^\\phi \\left( \\phi_1 k_{uu} + \\phi_2 \\frac{\\partial}{\\partial x_j}k_{uu} \\right) \\\\\n",
    "= \\phi_1^2 k_{uu} + \\phi_1 \\phi_2 \\frac{\\partial}{\\partial x_j}k_{uu} + \\phi_1 \\phi_2 \\frac{\\partial}{\\partial x_i}k_{uu} + \\phi_2^2 \\frac{\\partial}{\\partial x_i}\\frac{\\partial}{\\partial x_j}k_{uu}\n",
    "$\n",
    "\n",
    "$k_{fu}(x_i,x_j;\\theta,\\phi_1, \\phi_2) \\\\\n",
    "= \\mathcal{L}_{x_i}^\\phi k_{uu}(x_i, x_j; \\theta) \\\\\n",
    "= \\phi_1 k_{uu} + \\phi_2 \\frac{\\partial}{\\partial x_i}k_{uu}$\n",
    "\n",
    "$k_{uf}(x_i,x_j;\\theta,\\phi_1, \\phi_2) \\\\\n",
    "= \\mathcal{L}_{x_j}^\\phi k_{uu}(x_i, x_j; \\theta) $ "
   ]
  },
  {
   "cell_type": "code",
   "execution_count": 4,
   "metadata": {
    "nbsphinx": "hidden"
   },
   "outputs": [],
   "source": [
    "x_i, x_j, theta, phi1, phi2 = sp.symbols('x_i x_j theta phi1 phi2')\n",
    "kuu_sym = sp.exp(theta*(-1)/(2)*((x_i - x_j)**2))\n",
    "kuu_fn = sp.lambdify((x_i, x_j, theta), kuu_sym, \"numpy\")\n",
    "def kuu(x, theta):\n",
    "    k = np.zeros((x.size, x.size))\n",
    "    for i in range(x.size):\n",
    "        for j in range(x.size):\n",
    "            k[i,j] = kuu_fn(x[i], x[j], theta)\n",
    "    return k"
   ]
  },
  {
   "cell_type": "code",
   "execution_count": 5,
   "metadata": {
    "nbsphinx": "hidden"
   },
   "outputs": [],
   "source": [
    "kff_sym = phi1**2*kuu_sym + phi1*phi2*sp.diff(kuu_sym, x_j) + phi1*phi2*sp.diff(kuu_sym, x_i) + phi2**2*sp.diff(kuu_sym, x_j, x_i)\n",
    "kff_fn = sp.lambdify((x_i, x_j, theta, phi1,phi2), kff_sym, \"numpy\")\n",
    "def kff(x, theta, phi1, phi2):\n",
    "    k = np.zeros((x.size, x.size))\n",
    "    for i in range(x.size):\n",
    "        for j in range(x.size):\n",
    "            k[i,j] = kff_fn(x[i], x[j], theta, phi1, phi2)\n",
    "    return k"
   ]
  },
  {
   "cell_type": "code",
   "execution_count": 6,
   "metadata": {
    "nbsphinx": "hidden"
   },
   "outputs": [],
   "source": [
    "kfu_sym = phi1*kuu_sym + phi2*sp.diff(kuu_sym, x_i)\n",
    "kfu_fn = sp.lambdify((x_i, x_j, theta, phi1, phi2), kfu_sym, \"numpy\")\n",
    "def kfu(x1, x2, theta, phi1, phi2):\n",
    "    k = np.zeros((x1.size, x2.size))\n",
    "    for i in range(x1.size):\n",
    "        for j in range(x2.size):\n",
    "            k[i,j] = kfu_fn(x1[i], x2[j], theta, phi1, phi2)\n",
    "    return k"
   ]
  },
  {
   "cell_type": "code",
   "execution_count": 7,
   "metadata": {
    "nbsphinx": "hidden"
   },
   "outputs": [],
   "source": [
    "def kuf(x1, x2, theta, phi1, phi2):\n",
    "    return kfu(x1,x2,theta,phi1, phi2).T"
   ]
  },
  {
   "cell_type": "markdown",
   "metadata": {
    "nbsphinx": "hidden"
   },
   "source": [
    "#### step 3: define negative log marginal likelihood  \n",
    "\n",
    "\n",
    "\n",
    "$K = \\begin{bmatrix}\n",
    "k_{uu}(X_u, X_u; \\theta) + \\sigma_u^2I & k_{uf}(X_u, X_f; \\theta, \\phi) \\\\\n",
    "k_{fu}(X_f, X_u; \\theta, \\phi) & k_{ff}(X_f, X_f; \\theta, \\phi) + \\sigma_f^2I\n",
    "\\end{bmatrix}$\n",
    "\n",
    "For simplicity, assume $\\sigma_u = \\sigma_f$.\n",
    "\n",
    "$\\mathcal{NLML} = \\frac{1}{2} \\left[ log|K| + y^TK^{-1}y + Nlog(2\\pi) \\right]$\n",
    "\n",
    "where $y = \\begin{bmatrix}\n",
    "y_u \\\\\n",
    "y_f\n",
    "\\end{bmatrix}$"
   ]
  },
  {
   "cell_type": "code",
   "execution_count": 8,
   "metadata": {
    "nbsphinx": "hidden"
   },
   "outputs": [],
   "source": [
    "def nlml(params, x1, x2, y1, y2, s):\n",
    "    params = np.exp(params)\n",
    "    K = np.block([\n",
    "        [kuu(x1, params[0]) + s*np.identity(x1.size), kuf(x1, x2, params[0], params[1], params[2])],\n",
    "        [kfu(x1, x2, params[0], params[1], params[2]), kff(x2, params[0], params[1], params[2]) + s*np.identity(x2.size)]\n",
    "    ])\n",
    "    y = np.concatenate((y1, y2))\n",
    "    val = 0.5*(np.log(abs(np.linalg.det(K))) + np.mat(y) * np.linalg.inv(K) * np.mat(y).T)\n",
    "    return val.item(0)"
   ]
  },
  {
   "cell_type": "code",
   "execution_count": 9,
   "metadata": {
    "nbsphinx": "hidden"
   },
   "outputs": [
    {
     "data": {
      "text/plain": [
       "5931076.32677611"
      ]
     },
     "execution_count": 9,
     "metadata": {},
     "output_type": "execute_result"
    }
   ],
   "source": [
    "nlml((1,2,5), x, x, y_u, y_f, 1e-7)\n"
   ]
  },
  {
   "cell_type": "markdown",
   "metadata": {},
   "source": [
    "#### step 4: optimise hyperparameters\n"
   ]
  },
  {
   "cell_type": "code",
   "execution_count": 10,
   "metadata": {
    "nbsphinx": "hidden",
    "scrolled": true
   },
   "outputs": [
    {
     "data": {
      "text/plain": [
       " final_simplex: (array([[-1.39714666,  0.69312524,  1.60943933],\n",
       "       [-1.39716425,  0.69312265,  1.60943972],\n",
       "       [-1.39716166,  0.69312471,  1.60943954],\n",
       "       [-1.39705231,  0.69312267,  1.60943986]]), array([-277.79956725, -277.79956724, -277.79956723, -277.79956722]))\n",
       "           fun: -277.7995672535838\n",
       "       message: 'Optimization terminated successfully.'\n",
       "          nfev: 314\n",
       "           nit: 174\n",
       "        status: 0\n",
       "       success: True\n",
       "             x: array([-1.39714666,  0.69312524,  1.60943933])"
      ]
     },
     "execution_count": 10,
     "metadata": {},
     "output_type": "execute_result"
    }
   ],
   "source": [
    "m = minimize(nlml, np.random.rand(3), args=(x, x, y_u, y_f, 1e-7), method=\"Nelder-Mead\")\n",
    "m"
   ]
  },
  {
   "cell_type": "code",
   "execution_count": 11,
   "metadata": {},
   "outputs": [
    {
     "data": {
      "text/plain": [
       "1.9999561258347431"
      ]
     },
     "execution_count": 11,
     "metadata": {},
     "output_type": "execute_result"
    }
   ],
   "source": [
    "\n",
    "np.exp(m.x[1])\n"
   ]
  },
  {
   "cell_type": "code",
   "execution_count": 12,
   "metadata": {},
   "outputs": [
    {
     "data": {
      "text/plain": [
       "5.000007099626661"
      ]
     },
     "execution_count": 12,
     "metadata": {},
     "output_type": "execute_result"
    }
   ],
   "source": [
    "np.exp(m.x[2])"
   ]
  },
  {
   "cell_type": "code",
   "execution_count": null,
   "metadata": {},
   "outputs": [],
   "source": []
  }
 ],
 "metadata": {
  "celltoolbar": "Edit Metadata",
  "kernelspec": {
   "display_name": "Python 3",
   "language": "python",
   "name": "python3"
  },
  "language_info": {
   "codemirror_mode": {
    "name": "ipython",
    "version": 3
   },
   "file_extension": ".py",
   "mimetype": "text/x-python",
   "name": "python",
   "nbconvert_exporter": "python",
   "pygments_lexer": "ipython3",
   "version": "3.6.5"
  }
 },
 "nbformat": 4,
 "nbformat_minor": 2
}
