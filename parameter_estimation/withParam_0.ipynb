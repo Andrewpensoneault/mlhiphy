{
 "cells": [
  {
   "cell_type": "markdown",
   "metadata": {},
   "source": [
    "## 1D linear operator with 3 parameters \n",
    "\n",
    "\n",
    "\n",
    "$\\mathcal{L}_x^\\phi := \\phi_1 \\cdot + \\phi_2\\frac{d}{dx}\\cdot + \\phi_3\\frac{d^2}{dx^2}\\cdot$ \n",
    "\n",
    "$u(x) = sin(x)$\n",
    "\n",
    "$f(x) = \\phi_1 sin(x) + \\phi_2 cos(x) - \\phi_3 sin(x) $\n",
    "\n",
    "Problem at hand:\n",
    "\n",
    "Given $\\{X_u, y_u\\}$ and $\\{X_f, y_f\\}$, estimate $\\phi_1$ $\\phi_2$ $\\phi_3$.\n",
    "\n",
    "\n",
    "#### step 1: simulate data\n",
    "\n",
    "\n",
    "Use $\\phi_1 = 2$    $ \\phi_2 = 5$   $ \\phi_3 = 0$ \n"
   ]
  },
  {
   "cell_type": "code",
   "execution_count": 1,
   "metadata": {},
   "outputs": [],
   "source": [
    "import numpy as np\n",
    "import sympy as sp\n",
    "from scipy.optimize import minimize\n",
    "import matplotlib.pyplot as plt"
   ]
  },
  {
   "cell_type": "code",
   "execution_count": 2,
   "metadata": {},
   "outputs": [],
   "source": [
    "x = np.random.rand(20)\n",
    "phi1 = 2.0\n",
    "phi2 = 5.0\n",
    "phi3 = 0.0\n",
    "y_u = np.sin(x)\n",
    "y_f = phi1*np.sin(x) + phi2*np.cos(x) - phi3*np.sin(x)"
   ]
  },
  {
   "cell_type": "code",
   "execution_count": 3,
   "metadata": {},
   "outputs": [
    {
     "data": {
      "image/png": "[encoded data removed]",
      "text/plain": [
       "<Figure size 432x288 with 1 Axes>"
      ]
     },
     "metadata": {},
     "output_type": "display_data"
    }
   ],
   "source": [
    "\n",
    "plt.plot(x, y_u, 'ro')\n",
    "plt.show()"
   ]
  },
  {
   "cell_type": "markdown",
   "metadata": {},
   "source": [
    "#### step 2: create covariance matrix\n",
    "\n",
    "\n",
    "\n",
    "This step uses information about $\\mathcal{L}_x^\\phi$ but not about $u(x)$ or $f(x)$.\n",
    "\n",
    "$k_{uu}(x_i, x_j; \\theta) =  exp(-\\frac{1}{2}\\theta(x_i-x_j)^2)$\n"
   ]
  },
  {
   "cell_type": "code",
   "execution_count": 4,
   "metadata": {},
   "outputs": [],
   "source": [
    "x_i, x_j, theta, phi1, phi2, phi3 = sp.symbols('x_i x_j theta phi1 phi2 phi3')\n",
    "kuu_sym = sp.exp(theta*(-1)/(2)*((x_i - x_j)**2))\n",
    "kuu_fn = sp.lambdify((x_i, x_j, theta), kuu_sym, \"numpy\")\n",
    "def kuu(x, theta):\n",
    "    k = np.zeros((x.size, x.size))\n",
    "    for i in range(x.size):\n",
    "        for j in range(x.size):\n",
    "            k[i,j] = kuu_fn(x[i], x[j], theta)\n",
    "    return k"
   ]
  },
  {
   "cell_type": "markdown",
   "metadata": {},
   "source": [
    "$k_{ff}(x_i,x_j;\\theta,\\phi) \\\\\n",
    "= \\mathcal{L}_{x_i}^\\phi \\mathcal{L}_{x_j}^\\phi k_{uu}(x_i, x_j; \\theta) \\\\\n",
    "= \\mathcal{L}_{x_i}^\\phi \\left( \\phi_1 k_{uu} + \\phi_2 \\frac{\\partial}{\\partial x_j}k_{uu} +\\phi_3 \\frac{\\partial^2}{\\partial x_j^2}k_{uu} \\right) \\\\\n",
    "=( \\phi_1 k_{uu} + \\phi_2 \\frac{\\partial}{\\partial x_i}k_{uu} +\\phi_3 \\frac{\\partial^2}{\\partial x_i^2}k_{uu})( \\phi_1 k_{uu} + \\phi_2 \\frac{\\partial}{\\partial x_j}k_{uu} +\\phi_3 \\frac{\\partial^2}{\\partial x_j^2}k_{uu})  $"
   ]
  },
  {
   "cell_type": "code",
   "execution_count": 5,
   "metadata": {},
   "outputs": [],
   "source": [
    "kff_sym = phi1**2*kuu_sym + phi1*phi2*sp.diff(kuu_sym, x_j) + phi1*phi3*sp.diff(kuu_sym, x_j, x_j) \\\n",
    "+ phi1*phi2*sp.diff(kuu_sym, x_i) + phi2**2*sp.diff(kuu_sym, x_i, x_j) + phi2*phi3* sp.diff(kuu_sym, x_i,x_j, x_j)\\\n",
    "+ phi1*phi3*sp.diff(kuu_sym, x_i, x_i)+phi2*phi3* sp.diff(kuu_sym, x_i,x_i, x_j)+phi3*phi3* sp.diff(kuu_sym,x_i, x_i,x_j, x_j)\n",
    "kff_fn = sp.lambdify((x_i, x_j, theta, phi1,phi2,phi3), kff_sym, \"numpy\")\n",
    "def kff(x, theta, phi1, phi2,phi3):\n",
    "    k = np.zeros((x.size, x.size))\n",
    "    for i in range(x.size):\n",
    "        for j in range(x.size):\n",
    "            k[i,j] = kff_fn(x[i], x[j], theta, phi1, phi2, phi3)\n",
    "    return k"
   ]
  },
  {
   "cell_type": "markdown",
   "metadata": {},
   "source": [
    "$k_{fu}(x_i,x_j;\\theta,\\phi) \\\\\n",
    "= \\mathcal{L}_{x_i}^\\phi k_{uu}(x_i, x_j; \\theta) \\\\\n",
    "= \\phi_1 k_{uu} + \\phi_2 \\frac{\\partial}{\\partial x_i}k_{uu}+\\phi_3 \\frac{\\partial^2}{\\partial x_i^2}k_{uu}$"
   ]
  },
  {
   "cell_type": "code",
   "execution_count": 6,
   "metadata": {},
   "outputs": [],
   "source": [
    "kfu_sym = phi1*kuu_sym + phi2*sp.diff(kuu_sym, x_i)+ phi3*sp.diff(kuu_sym, x_i, x_i)\n",
    "kfu_fn = sp.lambdify((x_i, x_j, theta, phi1, phi2,phi3), kfu_sym, \"numpy\")\n",
    "def kfu(x1, x2, theta, phi1, phi2,phi3):\n",
    "    k = np.zeros((x1.size, x2.size))\n",
    "    for i in range(x1.size):\n",
    "        for j in range(x2.size):\n",
    "            k[i,j] = kfu_fn(x1[i], x2[j], theta, phi1, phi2,phi3)\n",
    "    return k"
   ]
  },
  {
   "cell_type": "markdown",
   "metadata": {},
   "source": [
    "$k_{uf}(x_i,x_j;\\theta,\\phi) \\\\\n",
    "= \\mathcal{L}_{x_j}^\\phi k_{uu}(x_i, x_j; \\theta) $ \n"
   ]
  },
  {
   "cell_type": "code",
   "execution_count": 7,
   "metadata": {},
   "outputs": [],
   "source": [
    "def kuf(x1, x2, theta, phi1, phi2,phi3):\n",
    "    return kfu(x1,x2,theta,phi1, phi2,phi3).T"
   ]
  },
  {
   "cell_type": "markdown",
   "metadata": {},
   "source": [
    "#### step 3: define negative log marginal likelihood  \n",
    "\n",
    "\n",
    "\n",
    "$K = \\begin{bmatrix}\n",
    "k_{uu}(X_u, X_u; \\theta) + \\sigma_u^2I & k_{uf}(X_u, X_f; \\theta, \\phi) \\\\\n",
    "k_{fu}(X_f, X_u; \\theta, \\phi) & k_{ff}(X_f, X_f; \\theta, \\phi) + \\sigma_f^2I\n",
    "\\end{bmatrix}$\n",
    "\n",
    "For simplicity, assume $\\sigma_u = \\sigma_f$.\n",
    "\n",
    "$\\mathcal{NLML} = \\frac{1}{2} \\left[ log|K| + y^TK^{-1}y + Nlog(2\\pi) \\right]$\n",
    "\n",
    "where $y = \\begin{bmatrix}\n",
    "y_u \\\\\n",
    "y_f\n",
    "\\end{bmatrix}$"
   ]
  },
  {
   "cell_type": "code",
   "execution_count": 8,
   "metadata": {},
   "outputs": [],
   "source": [
    "def nlml(params, x1, x2, y1, y2, s):\n",
    "    params = np.exp(params)\n",
    "    K = np.block([\n",
    "        [kuu(x1, params[0]) + s*np.identity(x1.size), kuf(x1, x2, params[0], params[1], params[2], params[3])],\n",
    "        [kfu(x1, x2, params[0], params[1], params[2], params[3]), kff(x2, params[0], params[1], params[2], params[3])\\\n",
    "         + s*np.identity(x2.size)]\n",
    "    ])\n",
    "    y = np.concatenate((y1, y2))\n",
    "    val = 0.5*(np.log(abs(np.linalg.det(K))) + np.mat(y) * np.linalg.inv(K) * np.mat(y).T)\n",
    "    return val.item(0)"
   ]
  },
  {
   "cell_type": "code",
   "execution_count": 9,
   "metadata": {},
   "outputs": [
    {
     "data": {
      "text/plain": [
       "7097924.853239822"
      ]
     },
     "execution_count": 9,
     "metadata": {},
     "output_type": "execute_result"
    }
   ],
   "source": [
    "nlml((1,2,5,0), x, x, y_u, y_f, 1e-7)\n"
   ]
  },
  {
   "cell_type": "markdown",
   "metadata": {},
   "source": [
    "#### step 4: optimise hyperparameters\n"
   ]
  },
  {
   "cell_type": "code",
   "execution_count": 10,
   "metadata": {
    "scrolled": true
   },
   "outputs": [
    {
     "data": {
      "text/plain": [
       " final_simplex: (array([[-1.47903045,  1.08310217,  1.60976406, -0.04442562],\n",
       "       [-1.47904763,  1.08310303,  1.6097639 , -0.04442487],\n",
       "       [-1.47900349,  1.08310201,  1.60976403, -0.04442682],\n",
       "       [-1.47903184,  1.08310234,  1.60976404, -0.04442554],\n",
       "       [-1.47897221,  1.08310174,  1.60976393, -0.04442824]]), array([-277.17837789, -277.1783778 , -277.17837778, -277.17837761,\n",
       "       -277.17837754]))\n",
       "           fun: -277.17837788518443\n",
       "       message: 'Optimization terminated successfully.'\n",
       "          nfev: 346\n",
       "           nit: 204\n",
       "        status: 0\n",
       "       success: True\n",
       "             x: array([-1.47903045,  1.08310217,  1.60976406, -0.04442562])"
      ]
     },
     "execution_count": 10,
     "metadata": {},
     "output_type": "execute_result"
    }
   ],
   "source": [
    "m = minimize(nlml, np.random.rand(4), args=(x, x, y_u, y_f, 1e-7), method=\"Nelder-Mead\")\n",
    "m"
   ]
  },
  {
   "cell_type": "code",
   "execution_count": 11,
   "metadata": {},
   "outputs": [
    {
     "data": {
      "text/plain": [
       "2.9538286267497105"
      ]
     },
     "execution_count": 11,
     "metadata": {},
     "output_type": "execute_result"
    }
   ],
   "source": [
    "\n",
    "np.exp(m.x[1]) ## phi1\n"
   ]
  },
  {
   "cell_type": "code",
   "execution_count": 12,
   "metadata": {},
   "outputs": [
    {
     "data": {
      "text/plain": [
       "5.001631015982664"
      ]
     },
     "execution_count": 12,
     "metadata": {},
     "output_type": "execute_result"
    }
   ],
   "source": [
    "np.exp(m.x[2]) ## phi2"
   ]
  },
  {
   "cell_type": "code",
   "execution_count": 13,
   "metadata": {},
   "outputs": [
    {
     "data": {
      "text/plain": [
       "0.9565467473507118"
      ]
     },
     "execution_count": 13,
     "metadata": {},
     "output_type": "execute_result"
    }
   ],
   "source": [
    "np.exp(m.x[3]) ## phi3"
   ]
  },
  {
   "cell_type": "markdown",
   "metadata": {},
   "source": [
    "$f(x) = \\phi_1sin(x) + \\phi_2 cos(x)- \\phi_3sin(x)  $\n",
    "\n",
    "$f(x) = (\\phi_1- \\phi_3)sin(x) + \\phi_2 cos(x)  $\n",
    "\n",
    "where $\\phi_1- \\phi_3$ should be around 2.0, and $\\phi_2$ around 5.0"
   ]
  },
  {
   "cell_type": "code",
   "execution_count": null,
   "metadata": {},
   "outputs": [],
   "source": []
  },
  {
   "cell_type": "code",
   "execution_count": null,
   "metadata": {},
   "outputs": [],
   "source": []
  }
 ],
 "metadata": {
  "kernelspec": {
   "display_name": "Python 3",
   "language": "python",
   "name": "python3"
  },
  "language_info": {
   "codemirror_mode": {
    "name": "ipython",
    "version": 3
   },
   "file_extension": ".py",
   "mimetype": "text/x-python",
   "name": "python",
   "nbconvert_exporter": "python",
   "pygments_lexer": "ipython3",
   "version": "3.6.5"
  }
 },
 "nbformat": 4,
 "nbformat_minor": 2
}
