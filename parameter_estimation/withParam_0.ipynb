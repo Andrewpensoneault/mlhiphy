{
 "cells": [
  {
   "cell_type": "markdown",
   "metadata": {},
   "source": [
    "## 1D linear operator with a zero parameter\n",
    "\n",
    "We have shown that parameter estimation works well with positive parameters. In some complex problems, one might include some extra terms in the predicted function, whose parameter equals to 0 in the end. To check if the framework works in such case, we construct the following example:\n",
    "\n",
    "\\begin{align*}\n",
    "\\mathcal{L}_x^\\phi &:= \\phi_1 \\cdot + \\phi_2\\frac{d}{dx}\\cdot + \\phi_3\\frac{d^2}{dx^2}\\cdot \\\\\n",
    "u(x) &= sin(x) \\\\\n",
    "f(x) &= \\mathcal{L}_x^\\phi u(x)\\\\\n",
    "&=\\phi_1 sin(x) + \\phi_2 cos(x) - \\phi_3 sin(x) \\\\\n",
    "&=(\\phi_1- \\phi_3)sin(x) + \\phi_2 cos(x) \\\\\n",
    "x &\\in [0, 1] \\\\\n",
    "\\end{align*}\n",
    "\n",
    "#### Simulate data\n",
    "We assume $\\phi_1 = 2$ and $\\phi_3 = 5$, and $cos(x)$ is the extra term with $\\phi_2 = 0$, then the final solution is:\n",
    "\n",
    "\\begin{align*}\n",
    "f(x) &= -3sin(x) \n",
    "\\end{align*}"
   ]
  },
  {
   "cell_type": "code",
   "execution_count": 1,
   "metadata": {
    "nbsphinx": "hidden"
   },
   "outputs": [],
   "source": [
    "import numpy as np\n",
    "import sympy as sp\n",
    "from scipy.optimize import minimize\n",
    "import matplotlib.pyplot as plt"
   ]
  },
  {
   "cell_type": "code",
   "execution_count": 2,
   "metadata": {
    "nbsphinx": "hidden"
   },
   "outputs": [],
   "source": [
    "x = np.random.rand(20)\n",
    "phi1 = 2.0\n",
    "phi2 = 0.0\n",
    "phi3 = 5.0\n",
    "y_u = np.sin(x)\n",
    "y_f = phi1*np.sin(x) + phi2*np.cos(x) - phi3*np.sin(x)"
   ]
  },
  {
   "cell_type": "code",
   "execution_count": 3,
   "metadata": {
    "nbsphinx": "hidden"
   },
   "outputs": [
    {
     "data": {
      "image/png": "[encoded data removed]",
      "text/plain": [
       "<Figure size 432x288 with 1 Axes>"
      ]
     },
     "metadata": {},
     "output_type": "display_data"
    }
   ],
   "source": [
    "\n",
    "plt.plot(x, y_u, 'ro')\n",
    "plt.show()"
   ]
  },
  {
   "cell_type": "markdown",
   "metadata": {},
   "source": [
    "#### Evaluate kernels\n",
    "Corresponding kernels are defined as following:\n",
    "\n",
    "$k _ { u u } \\left( x _ { i } , x _ { j } ; \\theta \\right) = \\theta \\exp \\left( - \\frac { 1 } { 2 l } \\left( x _ { i } - x _ { j } \\right) ^ { 2 } \\right)$\n",
    "\n",
    "$\\left. \\begin{array} { l } { k _ { f f } \\left( x _ { i } , x _ { j } ; \\theta , \\phi _ { 1 } , \\phi _ { 2 } , \\phi _ { 3 } \\right) } \\\\ { = \\mathcal { L } _ { x _ { i } } ^ { \\phi } \\mathcal { L } _ { x _ { j } } ^ { \\phi } k _ { u u } \\left( x _ { i } , x _ { j } ; \\theta \\right) } \\\\ { = \\mathcal { L } _ { x _ { i } } ^ { \\phi } \\left( \\phi _ { 1 } k _ { u u } + \\phi _ { 2 } \\frac { \\partial } { \\partial x _ { j } } k _ { u u } + \\phi _ { 3 } \\frac { \\partial ^ { 2 } } { \\partial x _ { j } ^ { 2 } } k _ { u u } \\right) } \\\\ { = \\left( \\phi _ { 1 } k _ { u u } + \\phi _ { 2 } \\frac { \\partial } { \\partial x _ { i } } k _ { u u } + \\phi _ { 3 } \\frac { \\partial ^ { 2 } } { \\partial x _ { i } ^ { 2 } } k _ { u u } \\right) \\left( \\phi _ { 1 } k _ { u u } + \\phi _ { 2 } \\frac { \\partial } { \\partial x _ { j } } k _ { u u } + \\phi _ { 3 } \\frac { \\partial ^ { 2 } } { \\partial x _ { j } ^ { 2 } } k _ { u u } \\right) } \\end{array} \\right.$\n",
    "\n",
    "$\\left. \\begin{array} { l } { k _ { f u } \\left( x _ { i } , x _ { j } ; \\theta , \\phi _ { 1 } , \\phi _ { 2 } , \\phi _ { 3 } \\right) } \\\\ { = \\mathcal { L } _ { x _ { i } } ^ { \\phi } k _ { u u } \\left( x _ { i } , x _ { j } ; \\theta \\right) } \\\\ { = \\phi _ { 1 } k _ { u u } + \\phi _ { 2 } \\frac { \\partial } { \\partial x _ { i } } k _ { u u } + \\phi _ { 3 } \\frac { \\partial ^ { 2 } } { \\partial x _ { i } ^ { 2 } } k _ { u u } } \\end{array} \\right.$\n",
    "\n",
    "$\\left. \\begin{array} { l } { k _ { u f } \\left( x _ { i } , x _ { j } ; \\theta , \\phi _ { 1 } , \\phi _ { 2 } , \\phi _ { 3 } \\right) } \\\\ { = \\mathcal { L } _ { x _ { i } } ^ { \\phi } k _ { u u } \\left( x _ { i } , x _ { j } ; \\theta \\right) } \\end{array} \\right.$ "
   ]
  },
  {
   "cell_type": "code",
   "execution_count": 4,
   "metadata": {
    "nbsphinx": "hidden"
   },
   "outputs": [],
   "source": [
    "x_i, x_j, theta, phi1, phi2, phi3 = sp.symbols('x_i x_j theta phi1 phi2 phi3')\n",
    "kuu_sym = sp.exp(theta*(-1)/(2)*((x_i - x_j)**2))\n",
    "kuu_fn = sp.lambdify((x_i, x_j, theta), kuu_sym, \"numpy\")\n",
    "def kuu(x, theta):\n",
    "    k = np.zeros((x.size, x.size))\n",
    "    for i in range(x.size):\n",
    "        for j in range(x.size):\n",
    "            k[i,j] = kuu_fn(x[i], x[j], theta)\n",
    "    return k"
   ]
  },
  {
   "cell_type": "markdown",
   "metadata": {
    "nbsphinx": "hidden"
   },
   "source": [
    "$k_{ff}(x_i,x_j;\\theta,\\phi_1, \\phi_2,\\phi_3) \\\\\n",
    "= \\mathcal{L}_{x_i}^\\phi \\mathcal{L}_{x_j}^\\phi k_{uu}(x_i, x_j; \\theta) \\\\\n",
    "= \\mathcal{L}_{x_i}^\\phi \\left( \\phi_1 k_{uu} + \\phi_2 \\frac{\\partial}{\\partial x_j}k_{uu} +\\phi_3 \\frac{\\partial^2}{\\partial x_j^2}k_{uu} \\right) \\\\\n",
    "=( \\phi_1 k_{uu} + \\phi_2 \\frac{\\partial}{\\partial x_i}k_{uu} +\\phi_3 \\frac{\\partial^2}{\\partial x_i^2}k_{uu})( \\phi_1 k_{uu} + \\phi_2 \\frac{\\partial}{\\partial x_j}k_{uu} +\\phi_3 \\frac{\\partial^2}{\\partial x_j^2}k_{uu})  $"
   ]
  },
  {
   "cell_type": "code",
   "execution_count": 5,
   "metadata": {
    "nbsphinx": "hidden"
   },
   "outputs": [],
   "source": [
    "kff_sym = phi1**2*kuu_sym + phi1*phi2*sp.diff(kuu_sym, x_j) + phi1*phi3*sp.diff(kuu_sym, x_j, x_j) \\\n",
    "+ phi1*phi2*sp.diff(kuu_sym, x_i) + phi2**2*sp.diff(kuu_sym, x_i, x_j) + phi2*phi3* sp.diff(kuu_sym, x_i,x_j, x_j)\\\n",
    "+ phi1*phi3*sp.diff(kuu_sym, x_i, x_i)+phi2*phi3* sp.diff(kuu_sym, x_i,x_i, x_j)+phi3*phi3* sp.diff(kuu_sym,x_i, x_i,x_j, x_j)\n",
    "kff_fn = sp.lambdify((x_i, x_j, theta, phi1,phi2,phi3), kff_sym, \"numpy\")\n",
    "def kff(x, theta, phi1, phi2,phi3):\n",
    "    k = np.zeros((x.size, x.size))\n",
    "    for i in range(x.size):\n",
    "        for j in range(x.size):\n",
    "            k[i,j] = kff_fn(x[i], x[j], theta, phi1, phi2, phi3)\n",
    "    return k"
   ]
  },
  {
   "cell_type": "markdown",
   "metadata": {
    "nbsphinx": "hidden"
   },
   "source": [
    "$k_{fu}(x_i,x_j;\\theta,\\phi_1, \\phi_2,\\phi_3) \\\\\n",
    "= \\mathcal{L}_{x_i}^\\phi k_{uu}(x_i, x_j; \\theta) \\\\\n",
    "= \\phi_1 k_{uu} + \\phi_2 \\frac{\\partial}{\\partial x_i}k_{uu}+\\phi_3 \\frac{\\partial^2}{\\partial x_i^2}k_{uu}$"
   ]
  },
  {
   "cell_type": "code",
   "execution_count": 6,
   "metadata": {
    "nbsphinx": "hidden"
   },
   "outputs": [],
   "source": [
    "kfu_sym = phi1*kuu_sym + phi2*sp.diff(kuu_sym, x_i)+ phi3*sp.diff(kuu_sym, x_i, x_i)\n",
    "kfu_fn = sp.lambdify((x_i, x_j, theta, phi1, phi2,phi3), kfu_sym, \"numpy\")\n",
    "def kfu(x1, x2, theta, phi1, phi2,phi3):\n",
    "    k = np.zeros((x1.size, x2.size))\n",
    "    for i in range(x1.size):\n",
    "        for j in range(x2.size):\n",
    "            k[i,j] = kfu_fn(x1[i], x2[j], theta, phi1, phi2,phi3)\n",
    "    return k"
   ]
  },
  {
   "cell_type": "markdown",
   "metadata": {
    "nbsphinx": "hidden"
   },
   "source": [
    "$k_{uf}(x_i,x_j;\\theta,\\phi_1, \\phi_2,\\phi_3) \\\\\n",
    "= \\mathcal{L}_{x_j}^\\phi k_{uu}(x_i, x_j; \\theta) $ \n"
   ]
  },
  {
   "cell_type": "code",
   "execution_count": 7,
   "metadata": {
    "nbsphinx": "hidden"
   },
   "outputs": [],
   "source": [
    "def kuf(x1, x2, theta, phi1, phi2,phi3):\n",
    "    return kfu(x1,x2,theta,phi1, phi2,phi3).T"
   ]
  },
  {
   "cell_type": "markdown",
   "metadata": {
    "nbsphinx": "hidden"
   },
   "source": [
    "#### step 3: define negative log marginal likelihood  \n",
    "\n",
    "\n",
    "\n",
    "$K = \\begin{bmatrix}\n",
    "k_{uu}(X_u, X_u; \\theta) + \\sigma_u^2I & k_{uf}(X_u, X_f; \\theta, \\phi) \\\\\n",
    "k_{fu}(X_f, X_u; \\theta, \\phi) & k_{ff}(X_f, X_f; \\theta, \\phi) + \\sigma_f^2I\n",
    "\\end{bmatrix}$\n",
    "\n",
    "For simplicity, assume $\\sigma_u = \\sigma_f$.\n",
    "\n",
    "$\\mathcal{NLML} = \\frac{1}{2} \\left[ log|K| + y^TK^{-1}y + Nlog(2\\pi) \\right]$\n",
    "\n",
    "where $y = \\begin{bmatrix}\n",
    "y_u \\\\\n",
    "y_f\n",
    "\\end{bmatrix}$"
   ]
  },
  {
   "cell_type": "code",
   "execution_count": 8,
   "metadata": {
    "nbsphinx": "hidden"
   },
   "outputs": [],
   "source": [
    "def nlml(params, x1, x2, y1, y2, s):\n",
    "    params = np.exp(params)\n",
    "    K = np.block([\n",
    "        [kuu(x1, params[0]) + s*np.identity(x1.size), kuf(x1, x2, params[0], params[1], params[2], params[3])],\n",
    "        [kfu(x1, x2, params[0], params[1], params[2], params[3]), kff(x2, params[0], params[1], params[2], params[3])\\\n",
    "         + s*np.identity(x2.size)]\n",
    "    ])\n",
    "    y = np.concatenate((y1, y2))\n",
    "    val = 0.5*(np.log(abs(np.linalg.det(K))) + np.mat(y) * np.linalg.inv(K) * np.mat(y).T)\n",
    "    return val.item(0)"
   ]
  },
  {
   "cell_type": "code",
   "execution_count": 9,
   "metadata": {
    "nbsphinx": "hidden"
   },
   "outputs": [
    {
     "data": {
      "text/plain": [
       "36468.690188550885"
      ]
     },
     "execution_count": 9,
     "metadata": {},
     "output_type": "execute_result"
    }
   ],
   "source": [
    "nlml((1,2,0,5), x, x, y_u, y_f, 1e-7)\n"
   ]
  },
  {
   "cell_type": "markdown",
   "metadata": {},
   "source": [
    "#### Optimise hyperparameters\n"
   ]
  },
  {
   "cell_type": "code",
   "execution_count": 10,
   "metadata": {
    "nbsphinx": "hidden",
    "scrolled": true
   },
   "outputs": [
    {
     "data": {
      "text/plain": [
       " final_simplex: (array([[ -1.47463694,  -5.29166242, -10.89281252,   1.10033754],\n",
       "       [ -1.46817998,  -5.11598219, -10.60706109,   1.10072159],\n",
       "       [ -1.47254863,  -5.1254956 , -10.62591272,   1.10052017],\n",
       "       [ -1.46861919,  -5.06459858, -10.52555486,   1.10067852],\n",
       "       [ -1.47381445,  -4.97714942, -10.3891964 ,   1.10100227]]), array([-272.60168991, -272.60022835, -272.59924525, -272.59900154,\n",
       "       -272.598892  ]))\n",
       "           fun: -272.60168990963575\n",
       "       message: 'Maximum number of function evaluations has been exceeded.'\n",
       "          nfev: 800\n",
       "           nit: 480\n",
       "        status: 1\n",
       "       success: False\n",
       "             x: array([ -1.47463694,  -5.29166242, -10.89281252,   1.10033754])"
      ]
     },
     "execution_count": 10,
     "metadata": {},
     "output_type": "execute_result"
    }
   ],
   "source": [
    "m = minimize(nlml, np.random.rand(4), args=(x, x, y_u, y_f, 1e-7), method=\"Nelder-Mead\")\n",
    "m"
   ]
  },
  {
   "cell_type": "code",
   "execution_count": 11,
   "metadata": {
    "nbsphinx": "hidden"
   },
   "outputs": [],
   "source": [
    "\n",
    "phi1 = np.exp(m.x[1]) ## phi1\n"
   ]
  },
  {
   "cell_type": "code",
   "execution_count": 12,
   "metadata": {
    "nbsphinx": "hidden"
   },
   "outputs": [],
   "source": [
    "phi2 = np.exp(m.x[2]) ## phi2"
   ]
  },
  {
   "cell_type": "code",
   "execution_count": 13,
   "metadata": {
    "nbsphinx": "hidden"
   },
   "outputs": [],
   "source": [
    "phi3 = np.exp(m.x[3]) ## phi3"
   ]
  },
  {
   "cell_type": "markdown",
   "metadata": {
    "nbsphinx": "hidden"
   },
   "source": [
    "$f(x) = \\phi_1sin(x) + \\phi_2 cos(x)- \\phi_3sin(x)  $\n",
    "\n",
    "$f(x) = (\\phi_1- \\phi_3)sin(x) + \\phi_2 cos(x)  $\n",
    "\n",
    "where $\\phi_1- \\phi_3$ should be around 2.0, and $\\phi_2$ around 5.0"
   ]
  },
  {
   "cell_type": "code",
   "execution_count": 14,
   "metadata": {
    "nbsphinx": "hidden"
   },
   "outputs": [],
   "source": [
    "phi = [phi1 -phi3, phi2]"
   ]
  },
  {
   "cell_type": "code",
   "execution_count": 15,
   "metadata": {},
   "outputs": [
    {
     "data": {
      "text/plain": [
       "[-3.000146833148997, 1.8591380119754502e-05]"
      ]
     },
     "execution_count": 15,
     "metadata": {},
     "output_type": "execute_result"
    }
   ],
   "source": [
    "phi # [phi1 - phi3, phi2]"
   ]
  }
 ],
 "metadata": {
  "celltoolbar": "Edit Metadata",
  "kernelspec": {
   "display_name": "Python 3",
   "language": "python",
   "name": "python3"
  },
  "language_info": {
   "codemirror_mode": {
    "name": "ipython",
    "version": 3
   },
   "file_extension": ".py",
   "mimetype": "text/x-python",
   "name": "python",
   "nbconvert_exporter": "python",
   "pygments_lexer": "ipython3",
   "version": "3.6.5"
  }
 },
 "nbformat": 4,
 "nbformat_minor": 2
}
