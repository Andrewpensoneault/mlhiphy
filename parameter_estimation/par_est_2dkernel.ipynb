{
 "cells": [
  {
   "cell_type": "markdown",
   "metadata": {},
   "source": [
    "## Parameter estimation for a linear operator using Gaussian processes\n",
    "\n",
    "\n",
    "Assumptions about the linear operator:\n",
    "\n",
    "$\\mathcal{L}_x^\\phi u(x) = f(x)$\n",
    "\n",
    "$u(x) \\sim \\mathcal{GP}(0, k_{uu}(x,x',\\theta))$\n",
    "\n",
    "$f(x) \\sim \\mathcal{GP}(0, k_{ff}(x,x',\\theta,\\phi))$\n",
    "\n",
    "$y_u = u(X_u) + \\epsilon_u; \\epsilon_u \\sim \\mathcal{N}(0, \\sigma_u^2I)$\n",
    "\n",
    "$y_f = f(X_f) + \\epsilon_f; \\epsilon_f \\sim \\mathcal{N}(0, \\sigma_f^2I)$\n",
    "\n",
    "Taking a simple operator as example:\n",
    "\n",
    "$\\mathcal{L}_x^\\phi := \\phi \\cdot + \\frac{d}{dx_1}\\cdot + \\frac{d^2}{dx_2^2}\\cdot$\n",
    "\n",
    "$u(x) = x_1 x_2 - x_2^2$\n",
    "\n",
    "$f(x) = \\phi x_1 x_2 - \\phi x_2^2 + x_2 - 2$\n",
    "\n",
    "Problem at hand:\n",
    "\n",
    "Given $\\{X_u, y_u\\}$ and $\\{X_f, y_f\\}$, estimate $\\phi$.\n",
    "\n",
    "\n",
    "#### step 1: Simulate data\n",
    "\n",
    "\n",
    "Use $\\phi = 2$\n"
   ]
  },
  {
   "cell_type": "code",
   "execution_count": 1,
   "metadata": {
    "collapsed": true,
    "nbsphinx": "hidden"
   },
   "outputs": [],
   "source": [
    "import numpy as np\n",
    "import sympy as sp\n",
    "from scipy.optimize import minimize\n",
    "import matplotlib.pyplot as plt"
   ]
  },
  {
   "cell_type": "code",
   "execution_count": 2,
   "metadata": {},
   "outputs": [],
   "source": [
    "x = np.random.rand(10,2)\n",
    "y_u = np.multiply(x[:,0], x[:,1]) - x[:,1]**2\n",
    "y_f = 2.0*y_u + x[:,1] - 2"
   ]
  },
  {
   "cell_type": "code",
   "execution_count": 3,
   "metadata": {},
   "outputs": [
    {
     "data": {
      "text/plain": [
       "10"
      ]
     },
     "execution_count": 3,
     "metadata": {},
     "output_type": "execute_result"
    }
   ],
   "source": [
    "x.shape[0]"
   ]
  },
  {
   "cell_type": "markdown",
   "metadata": {},
   "source": [
    "#### step 2: Evaluate kernels\n",
    "\n",
    "\n",
    "\n",
    "This step uses information about $\\mathcal{L}_x^\\phi$ but not about $u(x)$ or $f(x)$.\n",
    "\n",
    "$k_{uu}(x_i, x_j; \\theta) =  exp(-\\theta_1(x_{i,1}-x_{j,1})^2 -\\theta_2(x_{i,2}-x_{j,2})^2)$\n"
   ]
  },
  {
   "cell_type": "code",
   "execution_count": 4,
   "metadata": {},
   "outputs": [],
   "source": [
    "xi1, xj1, xi2, xj2, theta1, theta2, phi = sp.symbols('xi1 xj1 xi2 xj2 theta1 theta2 phi')\n",
    "kuu_sym = sp.exp(-theta1*((xi1 - xj1)**2) - theta2*((xi2 - xj2)**2))\n",
    "kuu_fn = sp.lambdify((xi1, xj1, xi2, xj2, theta1, theta2), kuu_sym, \"numpy\")\n",
    "def kuu(x, theta1, theta2):\n",
    "    k = np.zeros((x.shape[0], x.shape[0]))\n",
    "    for i in range(x.shape[0]):\n",
    "        for j in range(x.shape[0]):\n",
    "            k[i,j] = kuu_fn(x[i,0], x[j,0], x[i,1], x[j,1], theta1, theta2)\n",
    "    return k"
   ]
  },
  {
   "cell_type": "markdown",
   "metadata": {},
   "source": [
    "$k_{ff}(x_i,x_j;\\theta,\\phi) \\\\\n",
    "= \\mathcal{L}_{x_i}^\\phi \\mathcal{L}_{x_j}^\\phi k_{uu}(x_i, x_j; \\theta) \\\\\n",
    "= \\mathcal{L}_{x_i}^\\phi \\left( \\phi k_{uu} + \\frac{\\partial}{\\partial x_{j,1}}k_{uu} + \\frac{\\partial^2}{\\partial^2 x_{j,2}}k_{uu}\\right) \\\\\n",
    "= \\phi^2 k_{uu} + \\phi \\frac{\\partial}{\\partial x_{j,1}}k_{uu} + \\phi \\frac{\\partial^2}{\\partial^2 x_{j,2}}k_{uu} + \\phi \\frac{\\partial}{\\partial x_{i,1}}k_{uu} + \\frac{\\partial}{\\partial x_{i,1}}\\frac{\\partial}{\\partial x_{j,1}}k_{uu} + \\frac{\\partial}{\\partial x_{i,1}}\\frac{\\partial^2}{\\partial^2 x_{j,2}}k_{uu} + \\phi \\frac{\\partial^2}{\\partial^2 x_{i,2}}k_{uu} + \\frac{\\partial^2}{\\partial^2 x_{i,2}}\\frac{\\partial}{\\partial x_{j,1}}k_{uu} + \\frac{\\partial^2}{\\partial^2 x_{i,2}}\\frac{\\partial^2}{\\partial^2 x_{j,2}}k_{uu}$"
   ]
  },
  {
   "cell_type": "code",
   "execution_count": 5,
   "metadata": {
    "collapsed": true
   },
   "outputs": [],
   "source": [
    "kff_sym = phi**2*kuu_sym \\\n",
    "            + phi*sp.diff(kuu_sym, xj1) \\\n",
    "            + phi*sp.diff(kuu_sym, xj2, xj2) \\\n",
    "            + phi*sp.diff(kuu_sym, xi1) \\\n",
    "            + sp.diff(kuu_sym, xj1, xi1) \\\n",
    "            + sp.diff(kuu_sym, xj2, xj2, xi1) \\\n",
    "            + phi*sp.diff(kuu_sym, xi2, xi2) \\\n",
    "            + sp.diff(kuu_sym, xj1, xi2, xi2) \\\n",
    "            + sp.diff(kuu_sym, xj2, xj2, xi2, xi2)\n",
    "kff_fn = sp.lambdify((xi1, xj1, xi2, xj2, theta1, theta2, phi), kff_sym, \"numpy\")\n",
    "def kff(x, theta1, theta2, phi):\n",
    "    k = np.zeros((x.shape[0], x.shape[0]))\n",
    "    for i in range(x.shape[0]):\n",
    "        for j in range(x.shape[0]):\n",
    "            k[i,j] = kff_fn(x[i,0], x[j,0], x[i,1], x[j,1], theta1, theta2, phi)\n",
    "    return k"
   ]
  },
  {
   "cell_type": "markdown",
   "metadata": {},
   "source": [
    "$k_{fu}(x_i,x_j;\\theta,\\phi) \\\\\n",
    "= \\mathcal{L}_{x_i}^\\phi k_{uu}(x_i, x_j; \\theta) \\\\\n",
    "= \\phi k_{uu} + \\frac{\\partial}{\\partial x_{i,1}}k_{uu} + \\frac{\\partial^2}{\\partial x_{i,2}^2}k_{uu}$"
   ]
  },
  {
   "cell_type": "code",
   "execution_count": 6,
   "metadata": {
    "collapsed": true
   },
   "outputs": [],
   "source": [
    "kfu_sym = phi*kuu_sym + sp.diff(kuu_sym, xi1) + sp.diff(kuu_sym, xi2, xi2)\n",
    "kfu_fn = sp.lambdify((xi1, xj1, xi2, xj2, theta1, theta2, phi), kfu_sym, \"numpy\")\n",
    "def kfu(x, theta1, theta2, phi):\n",
    "    k = np.zeros((x.shape[0], x.shape[0]))\n",
    "    for i in range(x.shape[0]):\n",
    "        for j in range(x.shape[0]):\n",
    "            k[i,j] = kfu_fn(x[i,0], x[j,0], x[i,1], x[j,1], theta1, theta2, phi)\n",
    "    return k"
   ]
  },
  {
   "cell_type": "code",
   "execution_count": 7,
   "metadata": {
    "collapsed": true
   },
   "outputs": [],
   "source": [
    "def kuf(x, theta1, theta2, phi):\n",
    "    return kfu(x, theta1, theta2, phi).T"
   ]
  },
  {
   "cell_type": "markdown",
   "metadata": {},
   "source": [
    "#### step 3: define negative log marginal likelihood  \n",
    "\n",
    "\n",
    "\n",
    "$K = \\begin{bmatrix}\n",
    "k_{uu}(X_u, X_u; \\theta) + \\sigma_u^2I & k_{uf}(X_u, X_f; \\theta, \\phi) \\\\\n",
    "k_{fu}(X_f, X_u; \\theta, \\phi) & k_{ff}(X_f, X_f; \\theta, \\phi) + \\sigma_f^2I\n",
    "\\end{bmatrix}$\n",
    "\n",
    "For simplicity, assume $\\sigma_u = \\sigma_f$.\n",
    "\n",
    "$\\mathcal{NLML} = \\frac{1}{2} \\left[ log|K| + y^TK^{-1}y + Nlog(2\\pi) \\right]$\n",
    "\n",
    "where $y = \\begin{bmatrix}\n",
    "y_u \\\\\n",
    "y_f\n",
    "\\end{bmatrix}$"
   ]
  },
  {
   "cell_type": "code",
   "execution_count": 8,
   "metadata": {
    "collapsed": true
   },
   "outputs": [],
   "source": [
    "def nlml(params, x, y1, y2, s):\n",
    "    params = np.exp(params)\n",
    "    K = np.block([\n",
    "        [\n",
    "            kuu(x, params[0], params[1]) + s*np.identity(x.shape[0]),\n",
    "            kuf(x, params[0], params[1], params[2])\n",
    "        ],\n",
    "        [\n",
    "            kfu(x, params[0], params[1], params[2]),\n",
    "            kff(x, params[0], params[1], params[2]) + s*np.identity(x.shape[0])\n",
    "        ]\n",
    "    ])\n",
    "    y = np.concatenate((y1, y2))\n",
    "    val = 0.5*(np.log(abs(np.linalg.det(K))) \\\n",
    "               + np.mat(y) * np.linalg.inv(K) * np.mat(y).T)\n",
    "    return val.item(0)"
   ]
  },
  {
   "cell_type": "code",
   "execution_count": 9,
   "metadata": {},
   "outputs": [
    {
     "data": {
      "text/plain": [
       "-5.782860181060707"
      ]
     },
     "execution_count": 9,
     "metadata": {},
     "output_type": "execute_result"
    }
   ],
   "source": [
    "nlml((1, 1, 0.69), x, y_u, y_f, 1e-6)"
   ]
  },
  {
   "cell_type": "markdown",
   "metadata": {},
   "source": [
    "#### step 4: Optimise hyperparameters\n"
   ]
  },
  {
   "cell_type": "code",
   "execution_count": 10,
   "metadata": {
    "collapsed": true,
    "scrolled": false
   },
   "outputs": [],
   "source": [
    "nlml_wp = lambda params: nlml(params, x, y_u, y_f, 1e-7)\n",
    "m = minimize(nlml_wp, np.random.rand(3), method=\"Nelder-Mead\")"
   ]
  },
  {
   "cell_type": "code",
   "execution_count": 11,
   "metadata": {},
   "outputs": [
    {
     "data": {
      "text/plain": [
       " final_simplex: (array([[-2.14541894, -0.79255199,  0.75524789],\n",
       "       [-2.14536881, -0.79252757,  0.75526145],\n",
       "       [-2.14547886, -0.79248655,  0.75524377],\n",
       "       [-2.14537636, -0.7925724 ,  0.75527505]]), array([-54.20687619, -54.20687617, -54.20687613, -54.20687611]))\n",
       "           fun: -54.206876191529446\n",
       "       message: 'Optimization terminated successfully.'\n",
       "          nfev: 179\n",
       "           nit: 98\n",
       "        status: 0\n",
       "       success: True\n",
       "             x: array([-2.14541894, -0.79255199,  0.75524789])"
      ]
     },
     "execution_count": 11,
     "metadata": {},
     "output_type": "execute_result"
    }
   ],
   "source": [
    "m"
   ]
  },
  {
   "cell_type": "code",
   "execution_count": 12,
   "metadata": {},
   "outputs": [
    {
     "data": {
      "text/plain": [
       "array([0.117019  , 0.45268807, 2.12813901])"
      ]
     },
     "execution_count": 12,
     "metadata": {},
     "output_type": "execute_result"
    }
   ],
   "source": [
    "np.exp(m.x)"
   ]
  }
 ],
 "metadata": {
  "kernelspec": {
   "display_name": "Python 3",
   "language": "python",
   "name": "python3"
  },
  "language_info": {
   "codemirror_mode": {
    "name": "ipython",
    "version": 3
   },
   "file_extension": ".py",
   "mimetype": "text/x-python",
   "name": "python",
   "nbconvert_exporter": "python",
   "pygments_lexer": "ipython3",
   "version": "3.6.5"
  }
 },
 "nbformat": 4,
 "nbformat_minor": 2
}
