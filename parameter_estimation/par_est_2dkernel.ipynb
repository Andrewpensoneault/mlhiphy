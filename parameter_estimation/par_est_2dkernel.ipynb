{
 "cells": [
  {
   "cell_type": "markdown",
   "metadata": {
    "raw_mimetype": "text/latex"
   },
   "source": [
    "## 2D Linear operator with one parameter\n",
    "\n",
    "\n",
    "Along the same lines as the previous example, we take a two-dimensional linear operator corresponding to a two-dimensional system with a single parameter. As previously explained, we set our problem up as follows:\n"
   ]
  },
  {
   "cell_type": "raw",
   "metadata": {
    "raw_mimetype": "text/latex"
   },
   "source": [
    "\\begin{align*}\n",
    "\\mathcal{L}_\\bar{x}^\\phi u(\\bar{x}) &= f(\\bar{x}), \\quad \\bar{x} := (x_1, x_2)^T \\\\\n",
    "\\mathbb{X} := [0,1]^2; \\quad \\mathbb{K} &\\subset \\mathbb{R}; \\quad u,f \\in C(\\mathbb{X}, \\mathbb{K}) \\\\\n",
    "\\mathcal{L}_\\bar{x}^\\phi &: C(\\mathbb{X}, \\mathbb{K}) \\rightarrow C(\\mathbb{X}, \\mathbb{K})\\\\\n",
    "\\mathcal{L}_x^\\phi &:= \\phi \\cdot + \\frac{d}{dx_1}\\cdot + \\frac{d^2}{dx_2^2}\\cdot\n",
    "\\end{align*}"
   ]
  },
  {
   "cell_type": "markdown",
   "metadata": {},
   "source": [
    "It is easy to verify that $\\mathcal{L}_\\bar{x}^\\phi$ is linear and continuous. A suitable solution for the operator is\n",
    "\n",
    "\\begin{align*}\n",
    "u(\\bar{x}) &= x_1 x_2 - x_2^2 \\\\\n",
    "f(\\bar{x}) &= \\phi x_1 x_2 - \\phi x_2^2 + x_2 - 2 \\end{align*}\n",
    "\n",
    "Now, we use the same Gaussian priors as before, except that they are now defined on a two-dimensional space. \n",
    "\n",
    "\\begin{align*}\n",
    "u(\\bar{x}) &\\sim \\mathcal{GP}(0, k_{uu}(\\bar{x},\\bar{x}',\\theta)) \\\\\n",
    "f(\\bar{x}) &\\sim \\mathcal{GP}(0, k_{ff}(\\bar{x},\\bar{x}',\\theta,\\phi)) \\\\\n",
    "y_u &= u(X) + \\epsilon_u; \\; \\epsilon_u \\sim \\mathcal{N}(0, \\sigma_u^2I) \\\\\n",
    "y_f &= f(X) + \\epsilon_f; \\; \\epsilon_f \\sim \\mathcal{N}(0, \\sigma_f^2I) \\end{align*}\n",
    "\n",
    "\n",
    "The parameter estimation problem for the linear operator described above is to estimate $\\phi$, given $\\{x, y_u, y_f\\}$. Notice that we evaluate $u, f$ on the same set of points because it makes sense from a physics point of view.\n",
    "\n",
    "\n",
    "#### Simulate data\n",
    "\n",
    "\n",
    "We use $\\phi = 2$ and try to estimate it.\n"
   ]
  },
  {
   "cell_type": "code",
   "execution_count": 1,
   "metadata": {
    "collapsed": true,
    "nbsphinx": "hidden"
   },
   "outputs": [],
   "source": [
    "import numpy as np\n",
    "import sympy as sp\n",
    "from scipy.optimize import minimize\n",
    "import matplotlib.pyplot as plt\n",
    "import time"
   ]
  },
  {
   "cell_type": "code",
   "execution_count": 2,
   "metadata": {
    "collapsed": true
   },
   "outputs": [],
   "source": [
    "def get_simulated_data(n, phi):\n",
    "    x = np.random.rand(n,2)\n",
    "    y_u = np.multiply(x[:,0], x[:,1]) - x[:,1]**2\n",
    "    y_f = phi*y_u + x[:,1] - 2\n",
    "    return (x, y_u, y_f)"
   ]
  },
  {
   "cell_type": "markdown",
   "metadata": {},
   "source": [
    "#### Evaluate kernels\n",
    "\n",
    "\n",
    "\n",
    "The implementation of the kernels is straightforward as done earlier. Consequently, the corresponding code has been omitted from the report.\n",
    "\n",
    "\n",
    "1. $k_{uu}(\\bar{x}_i, \\bar{x}_j; \\theta) =  \\theta e^{(-l_1 (x_{i,1}-x_{j,1})^2 -l_2 (x_{i,2}-x_{j,2})^2)}$\n",
    "2. $k_{ff}(\\bar{x}_i,\\bar{x}_j;\\theta,\\phi) = \\mathcal{L}_{\\bar{x}_i}^\\phi \\mathcal{L}_{\\bar{x}_j}^\\phi k_{uu}(\\bar{x}_i, \\bar{x}_j; \\theta) \\\\\n",
    "= \\mathcal{L}_{\\bar{x}_i}^\\phi \\left( \\phi k_{uu} + \\frac{\\partial}{\\partial x_{j,1}}k_{uu} + \\frac{\\partial^2}{\\partial^2 x_{j,2}}k_{uu}\\right) \\\\\n",
    "= \\phi^2 k_{uu} + \\phi \\frac{\\partial}{\\partial x_{j,1}}k_{uu} + \\phi \\frac{\\partial}{\\partial x_{i,1}}k_{uu} \\\\\n",
    " \\quad + \\phi \\frac{\\partial^2}{\\partial^2 x_{j,2}}k_{uu} + \\frac{\\partial}{\\partial x_{i,1}}\\frac{\\partial}{\\partial x_{j,1}}k_{uu} + \\phi \\frac{\\partial^2}{\\partial^2 x_{i,2}}k_{uu} \\\\\n",
    " \\quad + \\frac{\\partial}{\\partial x_{i,1}}\\frac{\\partial^2}{\\partial^2 x_{j,2}}k_{uu} + \\frac{\\partial^2}{\\partial^2 x_{i,2}}\\frac{\\partial}{\\partial x_{j,1}}k_{uu} + \\frac{\\partial^2}{\\partial^2 x_{i,2}}\\frac{\\partial^2}{\\partial^2 x_{j,2}}k_{uu}$\n",
    "3. $k_{fu}(\\bar{x}_i,\\bar{x}_j;\\theta,\\phi) = \\mathcal{L}_{\\bar{x}_i}^\\phi k_{uu}(\\bar{x}_i, \\bar{x}_j; \\theta) \\\\\n",
    "= \\phi k_{uu} + \\frac{\\partial}{\\partial x_{i,1}}k_{uu} + \\frac{\\partial^2}{\\partial x_{i,2}^2}k_{uu}$\n"
   ]
  },
  {
   "cell_type": "code",
   "execution_count": 3,
   "metadata": {
    "collapsed": true,
    "nbsphinx": "hidden"
   },
   "outputs": [],
   "source": [
    "xi1, xj1, xi2, xj2, theta, l1, l2, phi = sp.symbols('xi1 xj1 xi2 xj2 theta l1 l2 phi')\n",
    "# kuu_sym = theta*sp.exp(-((xi1 - xj1)**2)/(2*l1) - ((xi2 - xj2)**2)/(2*l2))\n",
    "kuu_sym = theta*sp.exp(-l1*((xi1 - xj1)**2) - l2*((xi2 - xj2)**2))\n",
    "kuu_fn = sp.lambdify((xi1, xj1, xi2, xj2, theta, l1, l2), kuu_sym, \"numpy\")\n",
    "def kuu(x, theta, l1, l2):\n",
    "    k = np.zeros((x.shape[0], x.shape[0]))\n",
    "    for i in range(x.shape[0]):\n",
    "        for j in range(x.shape[0]):\n",
    "            k[i,j] = kuu_fn(x[i,0], x[j,0], x[i,1], x[j,1], theta, l1, l2)\n",
    "    return k"
   ]
  },
  {
   "cell_type": "code",
   "execution_count": 4,
   "metadata": {
    "collapsed": true,
    "nbsphinx": "hidden"
   },
   "outputs": [],
   "source": [
    "kff_sym = phi**2*kuu_sym \\\n",
    "            + phi*sp.diff(kuu_sym, xj1) \\\n",
    "            + phi*sp.diff(kuu_sym, xj2, xj2) \\\n",
    "            + phi*sp.diff(kuu_sym, xi1) \\\n",
    "            + sp.diff(kuu_sym, xj1, xi1) \\\n",
    "            + sp.diff(kuu_sym, xj2, xj2, xi1) \\\n",
    "            + phi*sp.diff(kuu_sym, xi2, xi2) \\\n",
    "            + sp.diff(kuu_sym, xj1, xi2, xi2) \\\n",
    "            + sp.diff(kuu_sym, xj2, xj2, xi2, xi2)\n",
    "kff_fn = sp.lambdify((xi1, xj1, xi2, xj2, theta, l1, l2, phi), kff_sym, \"numpy\")\n",
    "def kff(x, theta, l1, l2, phi):\n",
    "    k = np.zeros((x.shape[0], x.shape[0]))\n",
    "    for i in range(x.shape[0]):\n",
    "        for j in range(x.shape[0]):\n",
    "            k[i,j] = kff_fn(x[i,0], x[j,0], x[i,1], x[j,1], theta, l1, l2, phi)\n",
    "    return k"
   ]
  },
  {
   "cell_type": "code",
   "execution_count": 5,
   "metadata": {
    "collapsed": true,
    "nbsphinx": "hidden"
   },
   "outputs": [],
   "source": [
    "kfu_sym = phi*kuu_sym + sp.diff(kuu_sym, xi1) + sp.diff(kuu_sym, xi2, xi2)\n",
    "kfu_fn = sp.lambdify((xi1, xj1, xi2, xj2, theta, l1, l2, phi), kfu_sym, \"numpy\")\n",
    "def kfu(x, theta, l1, l2, phi):\n",
    "    k = np.zeros((x.shape[0], x.shape[0]))\n",
    "    for i in range(x.shape[0]):\n",
    "        for j in range(x.shape[0]):\n",
    "            k[i,j] = kfu_fn(x[i,0], x[j,0], x[i,1], x[j,1], theta, l1, l2, phi)\n",
    "    return k"
   ]
  },
  {
   "cell_type": "code",
   "execution_count": 6,
   "metadata": {
    "collapsed": true,
    "nbsphinx": "hidden"
   },
   "outputs": [],
   "source": [
    "def kuf(x, theta, l1, l2, phi):\n",
    "    return kfu(x, theta, l1, l2, phi).T"
   ]
  },
  {
   "cell_type": "markdown",
   "metadata": {
    "nbsphinx": "hidden"
   },
   "source": [
    "#### NLML\n",
    "\n",
    "\n",
    "\n",
    "$K = \\begin{bmatrix}\n",
    "k_{uu}(X_u, X_u; \\theta) + \\sigma_u^2I & k_{uf}(X_u, X_f; \\theta, \\phi) \\\\\n",
    "k_{fu}(X_f, X_u; \\theta, \\phi) & k_{ff}(X_f, X_f; \\theta, \\phi) + \\sigma_f^2I\n",
    "\\end{bmatrix}$\n",
    "\n",
    "For simplicity, assume $\\sigma_u = \\sigma_f$.\n",
    "\n",
    "$\\mathcal{NLML} = \\frac{1}{2} \\left[ log|K| + y^TK^{-1}y + Nlog(2\\pi) \\right]$\n",
    "\n",
    "where $y = \\begin{bmatrix}\n",
    "y_u \\\\\n",
    "y_f\n",
    "\\end{bmatrix}$"
   ]
  },
  {
   "cell_type": "code",
   "execution_count": 7,
   "metadata": {
    "collapsed": true,
    "nbsphinx": "hidden"
   },
   "outputs": [],
   "source": [
    "def nlml(params, x, y1, y2, s):\n",
    "    params = np.exp(params)\n",
    "    K = np.block([\n",
    "        [\n",
    "            kuu(x, params[0], params[1], params[2]) + s*np.identity(x.shape[0]),\n",
    "            kuf(x, params[0], params[1], params[2], params[3])\n",
    "        ],\n",
    "        [\n",
    "            kfu(x, params[0], params[1], params[2], params[3]),\n",
    "            kff(x, params[0], params[1], params[2], params[3]) + s*np.identity(x.shape[0])\n",
    "        ]\n",
    "    ])\n",
    "    y = np.concatenate((y1, y2))\n",
    "    val = 0.5*(np.log(abs(np.linalg.det(K))) \\\n",
    "               + np.mat(y) * np.linalg.inv(K) * np.mat(y).T)\n",
    "    return val.item(0)"
   ]
  },
  {
   "cell_type": "code",
   "execution_count": 8,
   "metadata": {},
   "outputs": [
    {
     "data": {
      "text/plain": [
       "10.124377463652147"
      ]
     },
     "execution_count": 8,
     "metadata": {},
     "output_type": "execute_result"
    }
   ],
   "source": [
    "(x, yu, yf) = get_simulated_data(10, 2)\n",
    "nlml((1, 1, 1, 0.69), x, yu, yf, 1e-6)"
   ]
  },
  {
   "cell_type": "markdown",
   "metadata": {},
   "source": [
    "#### Optimize hyperparameters\n"
   ]
  },
  {
   "cell_type": "code",
   "execution_count": 9,
   "metadata": {
    "collapsed": true,
    "scrolled": false
   },
   "outputs": [],
   "source": [
    "nlml_wp = lambda params: nlml(params, x, yu, yf, 1e-7)\n",
    "m = minimize(nlml_wp, np.random.rand(4), method=\"Nelder-Mead\")"
   ]
  },
  {
   "cell_type": "code",
   "execution_count": 10,
   "metadata": {
    "nbsphinx": "hidden"
   },
   "outputs": [
    {
     "data": {
      "text/plain": [
       " final_simplex: (array([[14.07131834, -9.9997044 , -7.54723392,  0.69562933],\n",
       "       [14.07131834, -9.9997044 , -7.54723392,  0.69562933],\n",
       "       [14.07131834, -9.9997044 , -7.54723392,  0.69562933],\n",
       "       [14.07131834, -9.9997044 , -7.54723392,  0.69562933],\n",
       "       [14.07131834, -9.9997044 , -7.54723392,  0.69562933]]), array([-87.1620591, -87.1620591, -87.1620591, -87.1620591, -87.1620591]))\n",
       "           fun: -87.16205910024283\n",
       "       message: 'Optimization terminated successfully.'\n",
       "          nfev: 663\n",
       "           nit: 297\n",
       "        status: 0\n",
       "       success: True\n",
       "             x: array([14.07131834, -9.9997044 , -7.54723392,  0.69562933])"
      ]
     },
     "execution_count": 10,
     "metadata": {},
     "output_type": "execute_result"
    }
   ],
   "source": [
    "m"
   ]
  },
  {
   "cell_type": "code",
   "execution_count": 11,
   "metadata": {},
   "outputs": [
    {
     "data": {
      "text/plain": [
       "array([1.29150445e+06, 4.54133519e-05, 5.27567407e-04, 2.00497047e+00])"
      ]
     },
     "execution_count": 11,
     "metadata": {},
     "output_type": "execute_result"
    }
   ],
   "source": [
    "np.exp(m.x)"
   ]
  },
  {
   "cell_type": "markdown",
   "metadata": {},
   "source": [
    "The optimized hyperparameters are:\n",
    "\n",
    "|Parameter | Value |\n",
    "|----------|-------|\n",
    "| $\\theta$ | 1.29150445e+06 |\n",
    "| $l_1$    | 4.54133519e-05 |\n",
    "| $l_2$    | 5.27567407e-04 |\n",
    "| $\\phi$   | 2.00497047 |"
   ]
  },
  {
   "cell_type": "markdown",
   "metadata": {},
   "source": [
    "#### Analysis\n",
    "\n",
    "\n",
    "To investigate error properties for this model, we run simulations from 5 to 25 datapoints with 5 samples of random data in each case which is 100 samples. The absolute error in the parameter estimate, $|\\phi_{est} - \\phi_{true}|$ is plotted in the left figure below. The execution time is plotted to the right; it includes the time taken to simulate the data and the time taken by the optimization routine."
   ]
  },
  {
   "cell_type": "code",
   "execution_count": 12,
   "metadata": {
    "collapsed": true,
    "nbsphinx": "hidden"
   },
   "outputs": [],
   "source": [
    "n_range = np.arange(5, 25)\n",
    "plot_data = np.zeros((5, n_range.size, 4))\n",
    "for j in range(plot_data.shape[0]):\n",
    "    for i in range(plot_data.shape[1]):\n",
    "        start_time = time.time()\n",
    "        (x, y1, y2) = get_simulated_data(n_range[i], 2)\n",
    "        nlml_wp = lambda params: nlml(params, x, y1, y2, 1e-7)\n",
    "        m = minimize(nlml_wp, np.random.rand(4), method=\"Nelder-Mead\")\n",
    "        end_time = time.time()\n",
    "        plot_data[j,i,:] = np.array([m.nfev, m.nit, np.exp(m.x[3]), end_time - start_time])"
   ]
  },
  {
   "cell_type": "code",
   "execution_count": 75,
   "metadata": {
    "collapsed": true,
    "nbsphinx": "hidden",
    "scrolled": false
   },
   "outputs": [],
   "source": [
    "from matplotlib.ticker import MaxNLocator\n",
    "\n",
    "f, (ax1, ax2) = plt.subplots(ncols=2, nrows=1, figsize=(12,4))\n",
    "\n",
    "for i in range(plot_data.shape[0]):\n",
    "    ax1.plot(n_range[2:], abs(plot_data[i,2:,2] -2), \"ob\")\n",
    "ax1.plot(n_range[2:], np.amin(abs(np.amin(plot_data, axis=2) - 2), axis=0)[2:])\n",
    "ax1.xaxis.set_major_locator(MaxNLocator(integer=True))\n",
    "ax1.set(xlabel = \"Number of data points\", ylabel = \"Absolute error\")\n",
    "ax1.set_title(\"(A) Error in estimate of the parameter\")\n",
    "ax1.axhline(0.005, color='red', linestyle='--')\n",
    "\n",
    "for i in range(plot_data.shape[0]):\n",
    "    ax2.plot(n_range[2:], plot_data[i,2:,3], \"ob\")\n",
    "ax2.set(xlabel = \"Number of data points\", ylabel = \"Execution time\")\n",
    "ax2.set_title(\"(B) Execution time benchmark\")\n",
    "ax2.xaxis.set_major_locator(MaxNLocator(integer=True))"
   ]
  },
  {
   "cell_type": "code",
   "execution_count": 76,
   "metadata": {
    "label": "fig:pe2d_analysis",
    "scrolled": false
   },
   "outputs": [
    {
     "data": {
      "image/png": "[encoded data removed]",
      "text/plain": [
       "<matplotlib.figure.Figure at 0x10e662160>"
      ]
     },
     "metadata": {},
     "output_type": "display_data"
    }
   ],
   "source": [
    "plt.show()"
   ]
  },
  {
   "cell_type": "raw",
   "metadata": {
    "raw_mimetype": "text/latex"
   },
   "source": [
    "It is common practice to select the best of a set of minimisation results with different starting points. In this case, assuming we take the minimum out of 5 iterations for a given sample(n data points), the absolute error is bounded by 0.005 for n > 10. The blue line connects the minimum absolute error for every n. We employ this trick in further notebooks.\n",
    "\n",
    "The execution time shows a monotonically increasing trend when increasing the number of data points."
   ]
  }
 ],
 "metadata": {
  "celltoolbar": "Edit Metadata",
  "kernelspec": {
   "display_name": "Python 3",
   "language": "python",
   "name": "python3"
  },
  "language_info": {
   "codemirror_mode": {
    "name": "ipython",
    "version": 3
   },
   "file_extension": ".py",
   "mimetype": "text/x-python",
   "name": "python",
   "nbconvert_exporter": "python",
   "pygments_lexer": "ipython3",
   "version": "3.6.5"
  }
 },
 "nbformat": 4,
 "nbformat_minor": 2
}
