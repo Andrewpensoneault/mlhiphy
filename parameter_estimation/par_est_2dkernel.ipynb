{
 "cells": [
  {
   "cell_type": "markdown",
   "metadata": {},
   "source": [
    "## Parameter estimation for a 2D system\n",
    "\n",
    "\n",
    "Along the same lines as the previous example, we take a 2-dimensional linear operator corresponding to a 2-dimensional system with a single parameter. As previously explained, we setup our problem as below:\n",
    "\n",
    "\n",
    "\\begin{align*}\n",
    "\\mathcal{L}_\\bar{x}^\\phi u(\\bar{x}) &= f(\\bar{x}), \\quad \\bar{x} := (x_1, x_2)^T \\\\\n",
    "\\mathbb{X} := [0,1]^2; \\mathbb{K} &\\subset \\mathbb{R}; u,f \\in C(\\mathbb{X}, \\mathbb{K}) \\\\\n",
    "\\mathcal{L}_\\bar{x}^\\phi &: C(\\mathbb{X}, \\mathbb{K}) \\rightarrow C(\\mathbb{X}, \\mathbb{K})\\\\\n",
    "\\mathcal{L}_x^\\phi &:= \\phi \\cdot + \\frac{d}{dx_1}\\cdot + \\frac{d^2}{dx_2^2}\\cdot\n",
    "\\end{align*}\n",
    "\n",
    "It is easy to verify that $\\mathcal{L}_\\bar{x}^\\phi$ is linear and continuous. A suitable solution for the operator is\n",
    "\n",
    "\\begin{align*}\n",
    "u(\\bar{x}) &= x_1 x_2 - x_2^2 \\\\\n",
    "f(\\bar{x}) &= \\phi x_1 x_2 - \\phi x_2^2 + x_2 - 2\n",
    "\\end{align*}\n",
    "\n",
    "Now, we put the Gaussian priors as earlier, except that they are now defined on a 2-dimensional space. The exact form of the prior and calculations are discussed in a later section.\n",
    "\n",
    "\\begin{align*}\n",
    "u(\\bar{x}) &\\sim \\mathcal{GP}(0, k_{uu}(\\bar{x},\\bar{x}',\\theta)) \\\\\n",
    "f(\\bar{x}) &\\sim \\mathcal{GP}(0, k_{ff}(\\bar{x},\\bar{x}',\\theta,\\phi)) \\\\\n",
    "y_u &= u(X) + \\epsilon_u; \\epsilon_u \\sim \\mathcal{N}(0, \\sigma_u^2I) \\\\\n",
    "y_f &= f(X) + \\epsilon_f; \\epsilon_f \\sim \\mathcal{N}(0, \\sigma_f^2I)\n",
    "\\end{align*}\n",
    "\n",
    "\n",
    "The parameter estimation problem for the linear operator described above is to estimate $\\phi$, given $\\{x, y_u, y_f\\}$. Notice that we evaluate $u, f$ on the same set of points because it makes sense from a physics point of view.\n",
    "\n",
    "\n",
    "#### Simulate data\n",
    "\n",
    "\n",
    "We use $\\phi = 2$ and try to estimate it.\n"
   ]
  },
  {
   "cell_type": "code",
   "execution_count": 1,
   "metadata": {
    "collapsed": true,
    "nbsphinx": "hidden"
   },
   "outputs": [],
   "source": [
    "import numpy as np\n",
    "import sympy as sp\n",
    "from scipy.optimize import minimize\n",
    "import matplotlib.pyplot as plt\n",
    "import time"
   ]
  },
  {
   "cell_type": "code",
   "execution_count": 2,
   "metadata": {
    "collapsed": true
   },
   "outputs": [],
   "source": [
    "def get_simulated_data(n, phi):\n",
    "    x = np.random.rand(n,2)\n",
    "    y_u = np.multiply(x[:,0], x[:,1]) - x[:,1]**2\n",
    "    y_f = phi*y_u + x[:,1] - 2\n",
    "    return (x, y_u, y_f)"
   ]
  },
  {
   "cell_type": "markdown",
   "metadata": {},
   "source": [
    "#### Evaluate kernels\n",
    "\n",
    "\n",
    "\n",
    "The implementation of the kernels is straightforward as done earlier. Consequently, the corresponding code has been omitted from the report.\n",
    "\n",
    "\\begin{align*}\n",
    "k_{uu}(\\bar{x}_i, \\bar{x}_j; \\theta) &=  \\theta exp(-\\frac{(x_{i,1}-x_{j,1})^2}{2l_1} -\\frac{(x_{i,2}-x_{j,2})^2}{2l_2})\\\\\n",
    "k_{ff}(\\bar{x}_i,\\bar{x}_j;\\theta,\\phi) &= \\mathcal{L}_{\\bar{x}_i}^\\phi \\mathcal{L}_{\\bar{x}_j}^\\phi k_{uu}(\\bar{x}_i, \\bar{x}_j; \\theta) \\\\\n",
    "&= \\mathcal{L}_{\\bar{x}_i}^\\phi \\left( \\phi k_{uu} + \\frac{\\partial}{\\partial x_{j,1}}k_{uu} + \\frac{\\partial^2}{\\partial^2 x_{j,2}}k_{uu}\\right) \\\\\n",
    "&= \\phi^2 k_{uu} + \\phi \\frac{\\partial}{\\partial x_{j,1}}k_{uu} + \\phi \\frac{\\partial}{\\partial x_{i,1}}k_{uu} \\\\\n",
    "& \\quad + \\phi \\frac{\\partial^2}{\\partial^2 x_{j,2}}k_{uu} + \\frac{\\partial}{\\partial x_{i,1}}\\frac{\\partial}{\\partial x_{j,1}}k_{uu} + \\phi \\frac{\\partial^2}{\\partial^2 x_{i,2}}k_{uu} \\\\\n",
    "& \\quad + \\frac{\\partial}{\\partial x_{i,1}}\\frac{\\partial^2}{\\partial^2 x_{j,2}}k_{uu} + \\frac{\\partial^2}{\\partial^2 x_{i,2}}\\frac{\\partial}{\\partial x_{j,1}}k_{uu} + \\frac{\\partial^2}{\\partial^2 x_{i,2}}\\frac{\\partial^2}{\\partial^2 x_{j,2}}k_{uu}\\\\\n",
    "k_{fu}(\\bar{x}_i,\\bar{x}_j;\\theta,\\phi) &= \\mathcal{L}_{\\bar{x}_i}^\\phi k_{uu}(\\bar{x}_i, \\bar{x}_j; \\theta) \\\\\n",
    "&= \\phi k_{uu} + \\frac{\\partial}{\\partial x_{i,1}}k_{uu} + \\frac{\\partial^2}{\\partial x_{i,2}^2}k_{uu}\n",
    "\\end{align*}\n"
   ]
  },
  {
   "cell_type": "code",
   "execution_count": 3,
   "metadata": {
    "collapsed": true,
    "nbsphinx": "hidden"
   },
   "outputs": [],
   "source": [
    "xi1, xj1, xi2, xj2, theta, l1, l2, phi = sp.symbols('xi1 xj1 xi2 xj2 theta l1 l2 phi')\n",
    "# kuu_sym = theta*sp.exp(-((xi1 - xj1)**2)/(2*l1) - ((xi2 - xj2)**2)/(2*l2))\n",
    "kuu_sym = theta*sp.exp(-l1*((xi1 - xj1)**2) - l2*((xi2 - xj2)**2))\n",
    "kuu_fn = sp.lambdify((xi1, xj1, xi2, xj2, theta, l1, l2), kuu_sym, \"numpy\")\n",
    "def kuu(x, theta, l1, l2):\n",
    "    k = np.zeros((x.shape[0], x.shape[0]))\n",
    "    for i in range(x.shape[0]):\n",
    "        for j in range(x.shape[0]):\n",
    "            k[i,j] = kuu_fn(x[i,0], x[j,0], x[i,1], x[j,1], theta, l1, l2)\n",
    "    return k"
   ]
  },
  {
   "cell_type": "code",
   "execution_count": 4,
   "metadata": {
    "collapsed": true,
    "nbsphinx": "hidden"
   },
   "outputs": [],
   "source": [
    "kff_sym = phi**2*kuu_sym \\\n",
    "            + phi*sp.diff(kuu_sym, xj1) \\\n",
    "            + phi*sp.diff(kuu_sym, xj2, xj2) \\\n",
    "            + phi*sp.diff(kuu_sym, xi1) \\\n",
    "            + sp.diff(kuu_sym, xj1, xi1) \\\n",
    "            + sp.diff(kuu_sym, xj2, xj2, xi1) \\\n",
    "            + phi*sp.diff(kuu_sym, xi2, xi2) \\\n",
    "            + sp.diff(kuu_sym, xj1, xi2, xi2) \\\n",
    "            + sp.diff(kuu_sym, xj2, xj2, xi2, xi2)\n",
    "kff_fn = sp.lambdify((xi1, xj1, xi2, xj2, theta, l1, l2, phi), kff_sym, \"numpy\")\n",
    "def kff(x, theta, l1, l2, phi):\n",
    "    k = np.zeros((x.shape[0], x.shape[0]))\n",
    "    for i in range(x.shape[0]):\n",
    "        for j in range(x.shape[0]):\n",
    "            k[i,j] = kff_fn(x[i,0], x[j,0], x[i,1], x[j,1], theta, l1, l2, phi)\n",
    "    return k"
   ]
  },
  {
   "cell_type": "code",
   "execution_count": 5,
   "metadata": {
    "collapsed": true,
    "nbsphinx": "hidden"
   },
   "outputs": [],
   "source": [
    "kfu_sym = phi*kuu_sym + sp.diff(kuu_sym, xi1) + sp.diff(kuu_sym, xi2, xi2)\n",
    "kfu_fn = sp.lambdify((xi1, xj1, xi2, xj2, theta, l1, l2, phi), kfu_sym, \"numpy\")\n",
    "def kfu(x, theta, l1, l2, phi):\n",
    "    k = np.zeros((x.shape[0], x.shape[0]))\n",
    "    for i in range(x.shape[0]):\n",
    "        for j in range(x.shape[0]):\n",
    "            k[i,j] = kfu_fn(x[i,0], x[j,0], x[i,1], x[j,1], theta, l1, l2, phi)\n",
    "    return k"
   ]
  },
  {
   "cell_type": "code",
   "execution_count": 6,
   "metadata": {
    "collapsed": true,
    "nbsphinx": "hidden"
   },
   "outputs": [],
   "source": [
    "def kuf(x, theta, l1, l2, phi):\n",
    "    return kfu(x, theta, l1, l2, phi).T"
   ]
  },
  {
   "cell_type": "markdown",
   "metadata": {
    "nbsphinx": "hidden"
   },
   "source": [
    "#### NLML\n",
    "\n",
    "\n",
    "\n",
    "$K = \\begin{bmatrix}\n",
    "k_{uu}(X_u, X_u; \\theta) + \\sigma_u^2I & k_{uf}(X_u, X_f; \\theta, \\phi) \\\\\n",
    "k_{fu}(X_f, X_u; \\theta, \\phi) & k_{ff}(X_f, X_f; \\theta, \\phi) + \\sigma_f^2I\n",
    "\\end{bmatrix}$\n",
    "\n",
    "For simplicity, assume $\\sigma_u = \\sigma_f$.\n",
    "\n",
    "$\\mathcal{NLML} = \\frac{1}{2} \\left[ log|K| + y^TK^{-1}y + Nlog(2\\pi) \\right]$\n",
    "\n",
    "where $y = \\begin{bmatrix}\n",
    "y_u \\\\\n",
    "y_f\n",
    "\\end{bmatrix}$"
   ]
  },
  {
   "cell_type": "code",
   "execution_count": 7,
   "metadata": {
    "collapsed": true,
    "nbsphinx": "hidden"
   },
   "outputs": [],
   "source": [
    "def nlml(params, x, y1, y2, s):\n",
    "    params = np.exp(params)\n",
    "    K = np.block([\n",
    "        [\n",
    "            kuu(x, params[0], params[1], params[2]) + s*np.identity(x.shape[0]),\n",
    "            kuf(x, params[0], params[1], params[2], params[3])\n",
    "        ],\n",
    "        [\n",
    "            kfu(x, params[0], params[1], params[2], params[3]),\n",
    "            kff(x, params[0], params[1], params[2], params[3]) + s*np.identity(x.shape[0])\n",
    "        ]\n",
    "    ])\n",
    "    y = np.concatenate((y1, y2))\n",
    "    val = 0.5*(np.log(abs(np.linalg.det(K))) \\\n",
    "               + np.mat(y) * np.linalg.inv(K) * np.mat(y).T)\n",
    "    return val.item(0)"
   ]
  },
  {
   "cell_type": "code",
   "execution_count": 8,
   "metadata": {},
   "outputs": [
    {
     "data": {
      "text/plain": [
       "10.124377463652147"
      ]
     },
     "execution_count": 8,
     "metadata": {},
     "output_type": "execute_result"
    }
   ],
   "source": [
    "(x, yu, yf) = get_simulated_data(10, 2)\n",
    "nlml((1, 1, 1, 0.69), x, yu, yf, 1e-6)"
   ]
  },
  {
   "cell_type": "markdown",
   "metadata": {},
   "source": [
    "#### Optimise hyperparameters\n"
   ]
  },
  {
   "cell_type": "code",
   "execution_count": 9,
   "metadata": {
    "collapsed": true,
    "scrolled": false
   },
   "outputs": [],
   "source": [
    "nlml_wp = lambda params: nlml(params, x, yu, yf, 1e-7)\n",
    "m = minimize(nlml_wp, np.random.rand(4), method=\"Nelder-Mead\")"
   ]
  },
  {
   "cell_type": "code",
   "execution_count": 10,
   "metadata": {},
   "outputs": [
    {
     "data": {
      "text/plain": [
       " final_simplex: (array([[14.07131834, -9.9997044 , -7.54723392,  0.69562933],\n",
       "       [14.07131834, -9.9997044 , -7.54723392,  0.69562933],\n",
       "       [14.07131834, -9.9997044 , -7.54723392,  0.69562933],\n",
       "       [14.07131834, -9.9997044 , -7.54723392,  0.69562933],\n",
       "       [14.07131834, -9.9997044 , -7.54723392,  0.69562933]]), array([-87.1620591, -87.1620591, -87.1620591, -87.1620591, -87.1620591]))\n",
       "           fun: -87.16205910024283\n",
       "       message: 'Optimization terminated successfully.'\n",
       "          nfev: 663\n",
       "           nit: 297\n",
       "        status: 0\n",
       "       success: True\n",
       "             x: array([14.07131834, -9.9997044 , -7.54723392,  0.69562933])"
      ]
     },
     "execution_count": 10,
     "metadata": {},
     "output_type": "execute_result"
    }
   ],
   "source": [
    "m"
   ]
  },
  {
   "cell_type": "code",
   "execution_count": 11,
   "metadata": {},
   "outputs": [
    {
     "data": {
      "text/plain": [
       "array([1.29150445e+06, 4.54133519e-05, 5.27567407e-04, 2.00497047e+00])"
      ]
     },
     "execution_count": 11,
     "metadata": {},
     "output_type": "execute_result"
    }
   ],
   "source": [
    "np.exp(m.x)"
   ]
  },
  {
   "cell_type": "markdown",
   "metadata": {},
   "source": [
    "#### Analysis"
   ]
  },
  {
   "cell_type": "code",
   "execution_count": 12,
   "metadata": {
    "collapsed": true,
    "nbsphinx": "hidden"
   },
   "outputs": [],
   "source": [
    "n_range = np.arange(5, 25)\n",
    "plot_data = np.zeros((5, n_range.size, 4))\n",
    "for j in range(plot_data.shape[0]):\n",
    "    for i in range(plot_data.shape[1]):\n",
    "        start_time = time.time()\n",
    "        (x, y1, y2) = get_simulated_data(n_range[i], 2)\n",
    "        nlml_wp = lambda params: nlml(params, x, y1, y2, 1e-7)\n",
    "        m = minimize(nlml_wp, np.random.rand(4), method=\"Nelder-Mead\")\n",
    "        end_time = time.time()\n",
    "        plot_data[j,i,:] = np.array([m.nfev, m.nit, np.exp(m.x[3]), end_time - start_time])"
   ]
  },
  {
   "cell_type": "code",
   "execution_count": 13,
   "metadata": {
    "nbsphinx": "hidden",
    "scrolled": false
   },
   "outputs": [
    {
     "data": {
      "text/plain": [
       "[<matplotlib.text.Text at 0x10b0de940>, <matplotlib.text.Text at 0x10b0cd438>]"
      ]
     },
     "execution_count": 13,
     "metadata": {},
     "output_type": "execute_result"
    }
   ],
   "source": [
    "f, (ax1, ax2) = plt.subplots(ncols=2, nrows=1, figsize=(12,4))\n",
    "\n",
    "for i in range(plot_data.shape[0]):\n",
    "    ax1.plot(n_range, abs(plot_data[i,:,2] -2))\n",
    "ax1.set(xlabel = \"Number of data points\", ylabel = \"Absolute error\")\n",
    "ax1.axhline(0.05, color='black', linestyle='-.')\n",
    "\n",
    "for i in range(plot_data.shape[0]):\n",
    "    ax2.plot(n_range, plot_data[i,:,3])\n",
    "ax2.set(xlabel = \"Number of data points\", ylabel = \"Execution time\")"
   ]
  },
  {
   "cell_type": "code",
   "execution_count": 14,
   "metadata": {
    "scrolled": true
   },
   "outputs": [
    {
     "data": {
      "image/png": "[encoded data removed]",
      "text/plain": [
       "<matplotlib.figure.Figure at 0x10b022518>"
      ]
     },
     "metadata": {},
     "output_type": "display_data"
    }
   ],
   "source": [
    "plt.show()"
   ]
  },
  {
   "cell_type": "markdown",
   "metadata": {},
   "source": [
    "We notice that the absolute error is bounded at 0.01 for a short range of the number of data points. The irregularity can be fixed by doing multiple optimisations and taking the minimum from the results. We employ this trick in further notebooks.\n",
    "\n",
    "The execution time shows a monotonic trend upong increasing the number of data points."
   ]
  }
 ],
 "metadata": {
  "celltoolbar": "Edit Metadata",
  "kernelspec": {
   "display_name": "Python 3",
   "language": "python",
   "name": "python3"
  },
  "language_info": {
   "codemirror_mode": {
    "name": "ipython",
    "version": 3
   },
   "file_extension": ".py",
   "mimetype": "text/x-python",
   "name": "python",
   "nbconvert_exporter": "python",
   "pygments_lexer": "ipython3",
   "version": "3.6.5"
  }
 },
 "nbformat": 4,
 "nbformat_minor": 2
}
