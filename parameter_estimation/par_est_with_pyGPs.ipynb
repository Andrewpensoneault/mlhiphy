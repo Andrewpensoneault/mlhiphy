{
 "cells": [
  {
   "cell_type": "raw",
   "metadata": {
    "raw_mimetype": "text/restructuredtext"
   },
   "source": [
    "Parameter Estimation for a linear operator using pyGPs\n",
    "======================================================\n",
    "\n",
    "\n",
    "When starting to work on this project, we were looking for a suitable Python package giving us the capabilities we needed concerning Gaussian Processes. We therefore implemented the early code using the pyGPs-package :cite:`JMLR:v16:neumann15a`. It is a package best suited for classical Gaussian Process Regression or Classification. After installing pyGPs and testing it, using the provided test data, there appeared an 'Intel MKL FATAL ERROR: Cannot load mkl_intel_thread.dll' - error, which we were not able to resolve. By switching from Windows to a Linux Cluster, this issue could be circumvented.\n",
    "\n",
    "Our approach with pyGPs went as follows:\n",
    "\n",
    "1. We assume Gaussian Priors with zero mean and an RBF Kernel for u and f, i.e.: \n",
    "\n",
    "   .. math::\n",
    "\n",
    "\t\tu(x) \\sim \\mathcal{GP}(0, k_{uu}(x, x'; \\sigma_u, l_u)) \\\\\n",
    "\t\tf(x) \\sim \\mathcal{GP}(0, k_{ff}(x, x'; \\sigma_f, l_f))\n",
    "\n",
    "2. Given the data :math:`\\{X_u, Y_u\\}` and :math:`\\{X_f, Y_f\\}`, we can now optimize the hyperparameters of the two Gaussian \n",
    "   Processes separately using pyGPs.\n",
    "\n",
    "3. Since :math:`f=\\mathcal{L}_x^{\\phi} u(x)`, we know that the covariance matrix for f is given by\n",
    "   :math:`k_f = \\mathcal{L}_{x'}^{\\phi} \\mathcal{L}_x^{\\phi} k_{uu}` (cf. Chapter 1.3.1). As an approximation, we set :math:`k_f    = k_{ff}`. As a consequence, also\n",
    "\n",
    "   .. math::\n",
    "\n",
    "\t\tk_f(x_i, x_i) = k_{ff}(x_i, x_i)\n",
    "\t\n",
    "   must hold for all data points :math:`x_i`. Rearranging leads to some function\n",
    "\n",
    "   .. math::\n",
    "\n",
    "\t\t\\phi = g(\\sigma_u, \\sigma_f, l_u),\n",
    "\t\n",
    "   which we can evaluate.\n",
    "   \n",
    "Now this approach worked for simple examples (e.g. in the Example implementation), though it failed for more complicated ones. As an attempt to resolve this problem, we wanted to avoid the approximation in step 3 and work with the correct covariance matrix instead. The pyGPs-package allows the user to define custom covariance functions. This was of no avail mainly due to incongruities in the pyGPs source code regarding the derivatives of covariance functions in combination with insufficient documentation in that regard and the resulting complexity of the task itself. As an example, we have included a custom covariance function in the appendix. We finally ceased expanding upon this approach, since it is not clear, whether the independent optimization of the hyperparameters for the functions u and f would yield the result we are striving for."
   ]
  },
  {
   "cell_type": "markdown",
   "metadata": {},
   "source": [
    "#### Example implementation"
   ]
  },
  {
   "cell_type": "markdown",
   "metadata": {},
   "source": [
    "Assumptions: \n",
    "\n",
    "$\\mathcal{L}_x^{\\phi}u(x) = f(x)$ \n",
    "\n",
    "$u(x) \\sim \\mathcal{GP}(0, k_{uu}(x, x'; \\theta))$ \n",
    "\n",
    "$f(x) \\sim \\mathcal{GP}(0, k_{ff}(x, x'; \\theta, \\phi))$\n",
    "\n",
    "$\\theta = \\{\\sigma, l\\}$\n",
    "\n",
    "Chosen operator:\n",
    "$\\mathcal{L}_x^{\\phi}u(x) = \\phi*u(x)$\n",
    "\n",
    "We choose the following two functions to sample the data \n",
    "(The factor 12 can be varied):"
   ]
  },
  {
   "cell_type": "raw",
   "metadata": {
    "raw_mimetype": "text/latex"
   },
   "source": [
    "\\begin{align*}\n",
    "    u(x) = \\sqrt{x}\n",
    "\\end{align*}\n",
    "\n",
    "\\begin{align*}\n",
    "    f(x) = 12*u(x) = 12 \\sqrt{x} \n",
    "\\end{align*}"
   ]
  },
  {
   "cell_type": "markdown",
   "metadata": {},
   "source": [
    "Problem at hand: Given $\\{X_u, y_u\\}$ and $\\{X_f, y_f\\}$, estimate $\\phi$.\n",
    "\n",
    "We clearly expect $\\phi$ to be estimated as being as close to 12 as possible.\n",
    "\n",
    "We will get an estimate of 12.05 using 15 evenly spaced data samples in the interval $[0, 2\\pi]$.\n",
    "\n",
    "We employ a GP with a RBF kernel for u and f:\n",
    "\n",
    "$k_{uu}(x_i, x_j; \\theta_u) = \\sigma_u^2 \\exp(-\\frac{1}{2l_u^2}(x_i - x_j)^2)$\n",
    "\n",
    "$k_{ff}(x_i, x_j; \\theta_f) = \\sigma_f^2 \\exp(-\\frac{1}{2l_f^2}(x_i - x_j)^2)$\n",
    "\n",
    "We use the known transformation behavior of Gaussian Processes:\n",
    "\n",
    "$k_{ff}(x_i, x_j; \\theta, \\phi) \\\\\n",
    "= \\mathcal{L}_{x_i}^{\\phi}\\mathcal{L}_{x_j}^{\\phi}k_{uu}(x_i, x_j; \\theta) \\\\\n",
    "= \\phi^2\\sigma_u^2 \\exp(-\\frac{1}{2l_u^2}(x_i - x_j)^2)$\n",
    "\n",
    "Equating the two expressions we have for $k_{ff}$ and comparing a diagonal entry (where $x_i = x_j$), it follows that\n",
    "$\\sigma_f^2 = \\phi^2\\sigma_u^2$, i.e.: "
   ]
  },
  {
   "cell_type": "raw",
   "metadata": {
    "raw_mimetype": "text/latex"
   },
   "source": [
    "\\begin{align*}\n",
    "    \\phi = \\frac{\\sigma_f}{\\sigma_u}\n",
    "\\end{align*}"
   ]
  },
  {
   "cell_type": "code",
   "execution_count": 9,
   "metadata": {},
   "outputs": [
    {
     "name": "stderr",
     "output_type": "stream",
     "text": [
      "Number of line searches 40\n",
      "Number of line searches 40\n"
     ]
    },
    {
     "name": "stdout",
     "output_type": "stream",
     "text": [
      "12.049201003414321\n"
     ]
    }
   ],
   "source": [
    "def main():\n",
    "    \n",
    "    import numpy as np\n",
    "    import pyGPs\n",
    "    \n",
    "    # Generating data:\n",
    "    # Keeping it as simple as possible, using sine instead of sqrt the pyGPs-\n",
    "    # optimizer won't be able to calculate the optimal hyperparameters, \n",
    "    # independent of the method\n",
    "    x_u = np.linspace(0, 2*np.pi, 15)\n",
    "    y_u = np.sqrt(x_u)       \n",
    "\n",
    "    x_f = x_u\n",
    "    y_f = 12.0*np.sqrt(x_f)\n",
    "\n",
    "    # The function u is assumed to be a Gaussian Process. \n",
    "    # After a linear transformation, f has to be a Gaussian Process as well.\n",
    "\n",
    "    model_u = pyGPs.GPR()\n",
    "    model_u.setData(x_u, y_u)\n",
    "    model_u.optimize(x_u, y_u)\n",
    "\n",
    "    model_f = pyGPs.GPR()\n",
    "    model_f.setData(x_f, y_f)\n",
    "    model_f.optimize(x_f, y_f)\n",
    "\n",
    "    # Note that in hyp only the logarithm of the hyperparameter is stored!\n",
    "    # Characteristic length-scale l is equal to np.exp(hyp[0]) (Default: 1)\n",
    "    # Signal variance sigma is equal to np.exp(hyp[1]) (Default: 1)\n",
    "\n",
    "    # This should give 12 as output:\n",
    "    print(np.exp(model_f.covfunc.hyp[1])/np.exp(model_u.covfunc.hyp[1]))          \n",
    "    \n",
    "# Prevents execution by Sphinx:\n",
    "if __name__ == '__main__':  \n",
    "    \n",
    "    main()"
   ]
  }
 ],
 "metadata": {
  "celltoolbar": "Raw Cell Format",
  "kernelspec": {
   "display_name": "Python 3",
   "language": "python",
   "name": "python3"
  },
  "language_info": {
   "codemirror_mode": {
    "name": "ipython",
    "version": 3
   },
   "file_extension": ".py",
   "mimetype": "text/x-python",
   "name": "python",
   "nbconvert_exporter": "python",
   "pygments_lexer": "ipython3",
   "version": "3.6.5"
  }
 },
 "nbformat": 4,
 "nbformat_minor": 2
}
