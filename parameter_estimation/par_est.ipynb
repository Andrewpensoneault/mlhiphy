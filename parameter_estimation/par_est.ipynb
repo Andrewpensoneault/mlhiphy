{
 "cells": [
  {
   "cell_type": "markdown",
   "metadata": {
    "raw_mimetype": "text/latex"
   },
   "source": [
    "## Parameter estimation for a linear operator using Gaussian processes\n",
    "\n",
    "\n",
    "This chapter introduces a basic example of the framework developed in Chapter 3. We take a one-dimensional system with a single parameter and extract an operator out of it.\n",
    "\n",
    "\n",
    "\\begin{align*}\n",
    "\\mathcal{L}_x^\\phi u(x) &= f(x) \\\\\n",
    "\\mathcal{L}_x^\\phi &:= \\phi \\cdot + \\frac{d}{dx}\\cdot\n",
    "\\end{align*}\n",
    "\n",
    "It is trivial to verify linearity of the operator:\n",
    "\n",
    "\\begin{align*}\n",
    "u, f : [0, 2\\pi] &\\rightarrow \\mathbb{K}, \\alpha, \\beta \\in \\mathbb{R} \\\\\n",
    "\\mathcal{L}_x^\\phi (\\alpha u + \\beta f) &= \\phi (\\alpha u + \\beta f) + \\frac{d}{dx}(\\alpha u + \\beta f) \\\\\n",
    "&= \\alpha \\phi u + \\beta \\phi f + \\alpha \\frac{d}{dx}u + \\beta \\frac{d}{dx}f \\\\\n",
    "&= \\alpha \\mathcal{L}_x^\\phi u + \\beta \\mathcal{L}_x^\\phi f\n",
    "\\end{align*}\n",
    "\n",
    "One of the solutions to this system might be:\n",
    "\n",
    "\\begin{align*}\n",
    "u(x) &= sin(x) \\\\\n",
    "f(x) &= \\phi sin(x) + cos(x) \\\\\n",
    "x &\\in [0, 2\\pi]\n",
    "\\end{align*}\n",
    "\n",
    "We define Gaussian priors on the input and output:\n",
    "\n",
    "\\begin{align*}\n",
    "u(x) &\\sim \\mathcal{GP}(0, k_{uu}(x,x',\\theta)) \\\\\n",
    "f(x) &\\sim \\mathcal{GP}(0, k_{ff}(x,x',\\theta,\\phi))\n",
    "\\end{align*}\n",
    "\n",
    "A noisy data model for the above system can be defined as:\n",
    "\n",
    "\\begin{align*}\n",
    "y_u &= u(X_u) + \\epsilon_u; \\epsilon_u \\sim \\mathcal{N}(0, \\sigma_u^2I)\\\\\n",
    "y_f &= f(X_f) + \\epsilon_f; \\epsilon_f \\sim \\mathcal{N}(0, \\sigma_f^2I)\n",
    "\\end{align*}\n",
    "\n",
    "For the sake of simplicity, we ignore the noise terms $\\epsilon_u$ and $\\epsilon_f$ while simulating the data. They're nevertheless, necessary when computing the negative log marginal likelihood (NLML) so that the resulting covariance matrix is not singular.\n",
    "\n",
    "\n",
    "For the parameter estimation problem for the linear operator described above, we are given $\\{X_u, y_u\\}$, $\\{X_f, y_f\\}$ and we need to estimate $\\phi$.\n",
    "\n",
    "\n",
    "**Remark** : A number of code cells from the notebook are missing in the report. This has been done to improve readability. For the complete notebook, please check the github repository.\n",
    "\n",
    "\n",
    "#### Step 1: Simulate data\n",
    "\n",
    "\n",
    "We use $\\phi = 2$.\n"
   ]
  },
  {
   "cell_type": "code",
   "execution_count": 1,
   "metadata": {
    "collapsed": true,
    "nbsphinx": "hidden"
   },
   "outputs": [],
   "source": [
    "import numpy as np\n",
    "import sympy as sp\n",
    "from scipy.optimize import minimize\n",
    "import matplotlib.pyplot as plt\n",
    "import time"
   ]
  },
  {
   "cell_type": "code",
   "execution_count": 2,
   "metadata": {
    "collapsed": true
   },
   "outputs": [],
   "source": [
    "def get_simulated_data(n1, n2, phi):\n",
    "    x_u = np.linspace(0,2*np.pi,n1)\n",
    "    y_u = np.sin(x_u)\n",
    "    x_f = np.linspace(0,2*np.pi, n2)\n",
    "    y_f = phi*np.sin(x_f) + np.cos(x_f)\n",
    "    return(x_u, y_u, x_f, y_f)"
   ]
  },
  {
   "cell_type": "code",
   "execution_count": 3,
   "metadata": {
    "nbsphinx": "hidden"
   },
   "outputs": [
    {
     "data": {
      "text/plain": [
       "[<matplotlib.text.Text at 0x10f92de48>, <matplotlib.text.Text at 0x10f9207b8>]"
      ]
     },
     "execution_count": 3,
     "metadata": {},
     "output_type": "execute_result"
    }
   ],
   "source": [
    "(x_u, y_u, x_f, y_f) = get_simulated_data(10, 5, 2)\n",
    "f, (ax1, ax2) = plt.subplots(ncols=2, nrows=1, sharey=True, figsize=(10,3))\n",
    "f.suptitle(\"Input and Output for the operator\")\n",
    "ax1.plot(x_u, y_u, 'o')\n",
    "ax1.set(xlabel= \"x\", ylabel= \"u(x)\")\n",
    "ax2.plot(x_f, y_f, 'ro')\n",
    "ax2.set(xlabel= \"x\", ylabel= \"f(x)\")"
   ]
  },
  {
   "cell_type": "code",
   "execution_count": 4,
   "metadata": {
    "scrolled": true
   },
   "outputs": [
    {
     "data": {
      "image/png": "[encoded data removed]",
      "text/plain": [
       "<matplotlib.figure.Figure at 0x10f8841d0>"
      ]
     },
     "metadata": {},
     "output_type": "display_data"
    }
   ],
   "source": [
    "plt.show()"
   ]
  },
  {
   "cell_type": "markdown",
   "metadata": {},
   "source": [
    "#### Step 2: Evaluate kernels\n",
    "\n",
    "\n",
    "We use the RBF kernel defined as:\n",
    "\n",
    "\\begin{align*}\n",
    "k_{uu}(x_i, x_j; \\theta) = \\theta exp(-\\frac{1}{2l}(x_i-x_j)^2)\n",
    "\\end{align*}\n",
    "\n",
    " throughout the report. It is worth noting that this step uses information about $\\mathcal{L}_x^\\phi$ but not about $u(x)$ or $f(x)$. The derivatives are computed using *sympy*."
   ]
  },
  {
   "cell_type": "code",
   "execution_count": 5,
   "metadata": {
    "collapsed": true
   },
   "outputs": [],
   "source": [
    "x_i, x_j, theta, l, phi = sp.symbols('x_i x_j theta l phi')\n",
    "kuu_sym = theta*sp.exp(-((x_i - x_j)**2)/(2*l))\n",
    "kuu_fn = sp.lambdify((x_i, x_j, theta, l), kuu_sym, \"numpy\")\n",
    "def kuu(x, theta, l):\n",
    "    k = np.zeros((x.size, x.size))\n",
    "    for i in range(x.size):\n",
    "        for j in range(x.size):\n",
    "            k[i,j] = kuu_fn(x[i], x[j], theta, l)\n",
    "    return k"
   ]
  },
  {
   "cell_type": "markdown",
   "metadata": {},
   "source": [
    "\\begin{align*}\n",
    "k_{ff}(x_i,x_j;\\theta,\\phi) &= \\mathcal{L}_{x_i}^\\phi \\mathcal{L}_{x_j}^\\phi k_{uu}(x_i, x_j; \\theta) \\\\\n",
    "&= \\mathcal{L}_{x_i}^\\phi \\left( \\phi k_{uu} + \\frac{\\partial}{\\partial x_j}k_{uu} \\right) \\\\\n",
    "&= \\phi^2 k_{uu} + \\phi \\frac{\\partial}{\\partial x_j}k_{uu} + \\phi \\frac{\\partial}{\\partial x_i}k_{uu} + \\frac{\\partial}{\\partial x_i}\\frac{\\partial}{\\partial x_j}k_{uu} \\\\\n",
    "&= \\theta exp(-\\frac{1}{2l}(x_i-x_j)^2)\\left[ \\phi^2 + 2\\phi |x_i-x_j| + (x_i-x_j)^2 + 1 \\right]\n",
    "\\end{align*}"
   ]
  },
  {
   "cell_type": "code",
   "execution_count": 6,
   "metadata": {
    "collapsed": true
   },
   "outputs": [],
   "source": [
    "kff_sym = phi**2*kuu_sym \\\n",
    "            + phi*sp.diff(kuu_sym, x_j) \\\n",
    "            + phi*sp.diff(kuu_sym, x_i) \\\n",
    "            + sp.diff(kuu_sym, x_j, x_i)\n",
    "kff_fn = sp.lambdify((x_i, x_j, theta, l, phi), kff_sym, \"numpy\")\n",
    "def kff(x, theta, l, phi):\n",
    "    k = np.zeros((x.size, x.size))\n",
    "    for i in range(x.size):\n",
    "        for j in range(x.size):\n",
    "            k[i,j] = kff_fn(x[i], x[j], theta, l, phi)\n",
    "    return k"
   ]
  },
  {
   "cell_type": "markdown",
   "metadata": {},
   "source": [
    "\\begin{align*}\n",
    "k_{fu}(x_i,x_j;\\theta,\\phi) &= \\mathcal{L}_{x_i}^\\phi k_{uu}(x_i, x_j; \\theta) \\\\\n",
    "&= \\phi k_{uu} + \\frac{\\partial}{\\partial x_i}k_{uu}  \\\\\n",
    "&= \\theta exp(-\\frac{1}{2l}(x_i-x_j)^2) \\left[ (\\frac{1}{2})2|x_i-x_j| + \\phi \\right] \\\\\n",
    "&= \\theta exp(-\\frac{1}{2l}(x_i-x_j)^2)(\\phi + |x_i-x_j|)\n",
    "\\end{align*}"
   ]
  },
  {
   "cell_type": "code",
   "execution_count": 7,
   "metadata": {
    "collapsed": true
   },
   "outputs": [],
   "source": [
    "kfu_sym = phi*kuu_sym + sp.diff(kuu_sym, x_i)\n",
    "kfu_fn = sp.lambdify((x_i, x_j, theta, l, phi), kfu_sym, \"numpy\")\n",
    "def kfu(x1, x2, theta, l, phi):\n",
    "    k = np.zeros((x2.size, x1.size))\n",
    "    for i in range(x2.size):\n",
    "        for j in range(x1.size):\n",
    "            k[i,j] = kfu_fn(x2[i], x1[j], theta, l, phi)\n",
    "    return k"
   ]
  },
  {
   "cell_type": "markdown",
   "metadata": {},
   "source": [
    "\\begin{align*}\n",
    "k_{uf}(x_i,x_j;\\theta,\\phi) &= \\mathcal{L}_{x_j}^\\phi k_{uu}(x_i, x_j; \\theta) \\\\\n",
    "&= \\phi k_{uu} + \\frac{\\partial}{\\partial x_j}k_{uu}  \\\\\n",
    "&= \\theta exp(-\\frac{1}{2l}(x_i-x_j)^2) \\left[ (\\frac{1}{2})2|x_i-x_j| + \\phi \\right]\\\\\n",
    "&= \\theta exp(-\\frac{1}{2l}(x_i-x_j)^2)(\\phi+|x_i-x_j|)\n",
    "\\end{align*}"
   ]
  },
  {
   "cell_type": "code",
   "execution_count": 8,
   "metadata": {
    "collapsed": true
   },
   "outputs": [],
   "source": [
    "def kuf(x1, x2, theta, l, phi):\n",
    "    return kfu(x1, x2, theta, l, phi).T"
   ]
  },
  {
   "cell_type": "markdown",
   "metadata": {},
   "source": [
    "#### Step 3: Compute the negative log marginal likelihood(NLML)\n",
    "\n",
    "\n",
    "\\begin{align*}\n",
    "K = \\begin{bmatrix}\n",
    "k_{uu}(X_u, X_u; \\theta) + \\sigma_u^2I & k_{uf}(X_u, X_f; \\theta, \\phi) \\\\\n",
    "k_{fu}(X_f, X_u; \\theta, \\phi) & k_{ff}(X_f, X_f; \\theta, \\phi) + \\sigma_f^2I\n",
    "\\end{bmatrix}\n",
    "\\end{align*}\n",
    "\n",
    "For simplicity, assume $\\sigma_u = \\sigma_f$.\n",
    "\n",
    "\\begin{align*}\n",
    "\\mathcal{NLML} = \\frac{1}{2} \\left[ log|K| + y^TK^{-1}y + Nlog(2\\pi) \\right]\n",
    "\\end{align*}\n",
    "\n",
    "where $y = \\begin{bmatrix}\n",
    "y_u \\\\\n",
    "y_f\n",
    "\\end{bmatrix}$."
   ]
  },
  {
   "cell_type": "code",
   "execution_count": 9,
   "metadata": {
    "collapsed": true
   },
   "outputs": [],
   "source": [
    "def nlml(params, x1, x2, y1, y2, s):\n",
    "    params = np.exp(params)\n",
    "    K = np.block([\n",
    "        [\n",
    "            kuu(x1, params[0], params[1]) + s*np.identity(x1.size),\n",
    "            kuf(x1, x2, params[0], params[1], params[2])\n",
    "        ],\n",
    "        [\n",
    "            kfu(x1, x2, params[0], params[1], params[2]),\n",
    "            kff(x2, params[0], params[1], params[2]) + s*np.identity(x2.size)\n",
    "        ]\n",
    "    ])\n",
    "    y = np.concatenate((y1, y2))\n",
    "    val = 0.5*(np.log(abs(np.linalg.det(K))) \\\n",
    "               + np.mat(y) * np.linalg.inv(K) * np.mat(y).T)\n",
    "    return val.item(0)"
   ]
  },
  {
   "cell_type": "markdown",
   "metadata": {},
   "source": [
    "#### Step 4: Optimise hyperparameters\n"
   ]
  },
  {
   "cell_type": "code",
   "execution_count": 10,
   "metadata": {
    "collapsed": true,
    "scrolled": false
   },
   "outputs": [],
   "source": [
    "nlml_wp = lambda params: nlml(params, x_u, x_f, y_u, y_f, 1e-6)\n",
    "m = minimize(nlml_wp, np.random.rand(3), method=\"Nelder-Mead\")"
   ]
  },
  {
   "cell_type": "code",
   "execution_count": 11,
   "metadata": {
    "nbsphinx": "hidden"
   },
   "outputs": [
    {
     "data": {
      "text/plain": [
       " final_simplex: (array([[0.93516584, 1.7964658 , 0.6930528 ],\n",
       "       [0.93512382, 1.79645141, 0.69305285],\n",
       "       [0.93515609, 1.79646814, 0.69305285],\n",
       "       [0.93523114, 1.79648141, 0.69305283]]), array([-49.83003662, -49.83003662, -49.83003662, -49.83003662]))\n",
       "           fun: -49.830036619948515\n",
       "       message: 'Optimization terminated successfully.'\n",
       "          nfev: 319\n",
       "           nit: 178\n",
       "        status: 0\n",
       "       success: True\n",
       "             x: array([0.93516584, 1.7964658 , 0.6930528 ])"
      ]
     },
     "execution_count": 11,
     "metadata": {},
     "output_type": "execute_result"
    }
   ],
   "source": [
    "m"
   ]
  },
  {
   "cell_type": "code",
   "execution_count": 12,
   "metadata": {},
   "outputs": [
    {
     "data": {
      "text/plain": [
       "1.9998112423066141"
      ]
     },
     "execution_count": 12,
     "metadata": {},
     "output_type": "execute_result"
    }
   ],
   "source": [
    "np.exp(m.x[2])"
   ]
  },
  {
   "cell_type": "markdown",
   "metadata": {},
   "source": [
    "The estimated value comes very close to the actual value.\n",
    "\n",
    "### Analysis"
   ]
  },
  {
   "cell_type": "code",
   "execution_count": 16,
   "metadata": {
    "nbsphinx": "hidden"
   },
   "outputs": [
    {
     "name": "stderr",
     "output_type": "stream",
     "text": [
      "/usr/local/lib/python3.6/site-packages/numpy/linalg/linalg.py:1874: RuntimeWarning: overflow encountered in det\n",
      "  r = _umath_linalg.det(a, signature=signature)\n"
     ]
    }
   ],
   "source": [
    "n_range = np.arange(5, 25)\n",
    "plot_data = np.zeros((5, n_range.size, 4))\n",
    "for j in range(plot_data.shape[0]):\n",
    "    for i in range(plot_data.shape[1]):\n",
    "        start_time = time.time()\n",
    "        (x1, x2, y1, y2) = get_simulated_data(n_range[i], n_range[i], 2)\n",
    "        nlml_wp = lambda params: nlml(params, x1, x2, y1, y2, 1e-4)\n",
    "        m = minimize(nlml_wp, np.random.rand(3), method=\"Nelder-Mead\")\n",
    "        end_time = time.time()\n",
    "        plot_data[j,i,:] = np.array([m.nfev, m.nit, np.exp(m.x[2]), end_time - start_time])"
   ]
  },
  {
   "cell_type": "code",
   "execution_count": 17,
   "metadata": {
    "nbsphinx": "hidden"
   },
   "outputs": [
    {
     "data": {
      "text/plain": [
       "[<matplotlib.text.Text at 0x110e23908>, <matplotlib.text.Text at 0x110e1c6d8>]"
      ]
     },
     "execution_count": 17,
     "metadata": {},
     "output_type": "execute_result"
    }
   ],
   "source": [
    "f, (ax1, ax2) = plt.subplots(ncols=2, nrows=1, figsize=(12,4))\n",
    "\n",
    "for i in range(plot_data.shape[0]):\n",
    "    ax1.plot(n_range, abs(plot_data[i,:,2] -2))\n",
    "ax1.set(xlabel = \"Number of data points\", ylabel = \"Absolute error\")\n",
    "\n",
    "for i in range(plot_data.shape[0]):\n",
    "    ax2.plot(n_range, plot_data[i,:,3])\n",
    "ax2.set(xlabel = \"Number of data points\", ylabel = \"Execution time\")"
   ]
  },
  {
   "cell_type": "code",
   "execution_count": 18,
   "metadata": {
    "scrolled": true
   },
   "outputs": [
    {
     "data": {
      "image/png": "[encoded data removed]",
      "text/plain": [
       "<matplotlib.figure.Figure at 0x10fdb5c88>"
      ]
     },
     "metadata": {},
     "output_type": "display_data"
    }
   ],
   "source": [
    "plt.show()"
   ]
  },
  {
   "cell_type": "markdown",
   "metadata": {},
   "source": [
    "The erratic behaviour of the absolute error might be happening because of the choice of our solution. Sine and cosine seem to not be the best choice of solutions. In the next chapter, we look at polynomials and hope that this does not occur."
   ]
  }
 ],
 "metadata": {
  "celltoolbar": "Edit Metadata",
  "kernelspec": {
   "display_name": "Python 3",
   "language": "python",
   "name": "python3"
  },
  "language_info": {
   "codemirror_mode": {
    "name": "ipython",
    "version": 3
   },
   "file_extension": ".py",
   "mimetype": "text/x-python",
   "name": "python",
   "nbconvert_exporter": "python",
   "pygments_lexer": "ipython3",
   "version": "3.6.5"
  }
 },
 "nbformat": 4,
 "nbformat_minor": 2
}
