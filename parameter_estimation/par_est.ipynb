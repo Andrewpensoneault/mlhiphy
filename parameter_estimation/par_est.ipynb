{
 "cells": [
  {
   "cell_type": "markdown",
   "metadata": {
    "raw_mimetype": "text/latex"
   },
   "source": [
    "## 1D Linear operator with one parameter\n",
    "\n",
    "\n",
    "This chapter introduces a basic example of the framework developed in Chapter 3. We take a one-dimensional system with a single parameter and extract an operator out of it.\n",
    "\n",
    "\n",
    "\\begin{align*}\n",
    "\\mathcal{L}_x^\\phi u(x) &= f(x) \\\\\n",
    "\\mathcal{L}_x^\\phi &:= \\phi \\cdot + \\frac{d}{dx}\\cdot\n",
    "\\end{align*}\n",
    "\n",
    "It is trivial to verify linearity of the operator:\n",
    "\n",
    "\\begin{align*}\n",
    "u, f : [0, 2\\pi] &\\rightarrow \\mathbb{K}, \\alpha, \\beta \\in \\mathbb{R} \\\\\n",
    "\\mathcal{L}_x^\\phi (\\alpha u + \\beta f) &= \\phi (\\alpha u + \\beta f) + \\frac{d}{dx}(\\alpha u + \\beta f) \\\\\n",
    "&= \\alpha \\phi u + \\beta \\phi f + \\alpha \\frac{d}{dx}u + \\beta \\frac{d}{dx}f \\\\\n",
    "&= \\alpha \\mathcal{L}_x^\\phi u + \\beta \\mathcal{L}_x^\\phi f\n",
    "\\end{align*}\n",
    "\n",
    "One of the solutions to this system might be:\n",
    "\n",
    "\\begin{align*}\n",
    "u(x) &= x^3 \\\\\n",
    "f(x) &= \\phi x^3 + 3x^2 \\\\\n",
    "x &\\in [0, 1]\n",
    "\\end{align*}\n",
    "\n",
    "We define Gaussian priors on the input and output:\n",
    "\n",
    "\\begin{align*}\n",
    "u(x) &\\sim \\mathcal{GP}(0, k_{uu}(x,x',\\theta)) \\\\\n",
    "f(x) &\\sim \\mathcal{GP}(0, k_{ff}(x,x',\\theta,\\phi))\n",
    "\\end{align*}\n",
    "\n",
    "A noisy data model for the above system can be defined as:\n",
    "\n",
    "\\begin{align*}\n",
    "y_u &= u(X_u) + \\epsilon_u; \\epsilon_u \\sim \\mathcal{N}(0, \\sigma_u^2I)\\\\\n",
    "y_f &= f(X_f) + \\epsilon_f; \\epsilon_f \\sim \\mathcal{N}(0, \\sigma_f^2I)\n",
    "\\end{align*}\n",
    "\n",
    "For the sake of simplicity, we ignore the noise terms $\\epsilon_u$ and $\\epsilon_f$ while simulating the data. They're nevertheless beneficial, when computing the negative log marginal likelihood (NLML) so that the resulting covariance matrix is mostly more well-behaved for reasons as they were outlined in the **!!!preface(if it's in the paper!)**.\n",
    "\n",
    "\n",
    "For the parameter estimation problem for the linear operator described above, we are given $\\{X_u, y_u\\}$, $\\{X_f, y_f\\}$ and we need to estimate $\\phi$.\n",
    "\n",
    "\n",
    "**Remark** : A number of code cells from the notebook are missing in the report. This has been done to improve readability. For the complete notebook, please check the github repository.\n",
    "\n",
    "\n",
    "#### Step 1: Simulate data\n",
    "\n",
    "\n",
    "We use $\\phi = 2$.\n"
   ]
  },
  {
   "cell_type": "code",
   "execution_count": 1,
   "metadata": {
    "collapsed": true,
    "nbsphinx": "hidden"
   },
   "outputs": [],
   "source": [
    "import numpy as np\n",
    "import sympy as sp\n",
    "from scipy.optimize import minimize\n",
    "import matplotlib.pyplot as plt\n",
    "import time"
   ]
  },
  {
   "cell_type": "code",
   "execution_count": 2,
   "metadata": {
    "collapsed": true
   },
   "outputs": [],
   "source": [
    "def get_simulated_data(n1, n2, phi):\n",
    "    x_u = np.random.rand(n1)\n",
    "    y_u = np.power(x_u, 3)\n",
    "    x_f = np.random.rand(n2)\n",
    "    y_f = phi*np.power(x_f, 3) + 3*np.power(x_f,2)\n",
    "    return(x_u, y_u, x_f, y_f)"
   ]
  },
  {
   "cell_type": "code",
   "execution_count": 3,
   "metadata": {
    "nbsphinx": "hidden"
   },
   "outputs": [
    {
     "data": {
      "text/plain": [
       "[<matplotlib.text.Text at 0x1104fb048>, <matplotlib.text.Text at 0x1104e6940>]"
      ]
     },
     "execution_count": 3,
     "metadata": {},
     "output_type": "execute_result"
    }
   ],
   "source": [
    "(x_u, y_u, x_f, y_f) = get_simulated_data(10, 7, 2)\n",
    "f, (ax1, ax2) = plt.subplots(ncols=2, nrows=1, sharey=True, figsize=(10,3))\n",
    "f.suptitle(\"Input and Output for the operator\")\n",
    "ax1.plot(x_u, y_u, 'o')\n",
    "ax1.set(xlabel= \"x\", ylabel= \"u(x)\")\n",
    "ax2.plot(x_f, y_f, 'ro')\n",
    "ax2.set(xlabel= \"x\", ylabel= \"f(x)\")"
   ]
  },
  {
   "cell_type": "code",
   "execution_count": 4,
   "metadata": {
    "scrolled": true
   },
   "outputs": [
    {
     "data": {
      "image/png": "[encoded data removed]",
      "text/plain": [
       "<matplotlib.figure.Figure at 0x11044f0f0>"
      ]
     },
     "metadata": {},
     "output_type": "display_data"
    }
   ],
   "source": [
    "plt.show()"
   ]
  },
  {
   "cell_type": "markdown",
   "metadata": {},
   "source": [
    "#### Step 2: Evaluate kernels\n",
    "\n",
    "\n",
    "We use the RBF kernel defined as:\n",
    "\n",
    "\\begin{align*}\n",
    "k_{uu}(x_i, x_j; \\theta) = \\theta exp(-\\frac{1}{2l}(x_i-x_j)^2)\n",
    "\\end{align*}\n",
    "\n",
    "throughout the report. It is worth noting that this step uses information about $\\mathcal{L}_x^\\phi$ but not about $u(x)$ or $f(x)$. The derivatives are computed using *sympy*."
   ]
  },
  {
   "cell_type": "code",
   "execution_count": 5,
   "metadata": {
    "collapsed": true
   },
   "outputs": [],
   "source": [
    "x_i, x_j, theta, l, phi = sp.symbols('x_i x_j theta l phi')\n",
    "kuu_sym = theta*sp.exp(-l*((x_i - x_j)**2))\n",
    "kuu_fn = sp.lambdify((x_i, x_j, theta, l), kuu_sym, \"numpy\")\n",
    "def kuu(x, theta, l):\n",
    "    k = np.zeros((x.size, x.size))\n",
    "    for i in range(x.size):\n",
    "        for j in range(x.size):\n",
    "            k[i,j] = kuu_fn(x[i], x[j], theta, l)\n",
    "    return k"
   ]
  },
  {
   "cell_type": "markdown",
   "metadata": {},
   "source": [
    "\\begin{align*}\n",
    "k_{ff}(x_i,x_j;\\theta,\\phi) &= \\mathcal{L}_{x_i}^\\phi \\mathcal{L}_{x_j}^\\phi k_{uu}(x_i, x_j; \\theta) \\\\\n",
    "&= \\mathcal{L}_{x_i}^\\phi \\left( \\phi k_{uu} + \\frac{\\partial}{\\partial x_j}k_{uu} \\right) \\\\\n",
    "&= \\phi^2 k_{uu} + \\phi \\frac{\\partial}{\\partial x_j}k_{uu} + \\phi \\frac{\\partial}{\\partial x_i}k_{uu} + \\frac{\\partial}{\\partial x_i}\\frac{\\partial}{\\partial x_j}k_{uu} \\\\\n",
    "&= \\theta exp(-\\frac{1}{2l}(x_i-x_j)^2)\\left[ \\phi^2 + 2\\phi |x_i-x_j| + (x_i-x_j)^2 + 1 \\right]\n",
    "\\end{align*}"
   ]
  },
  {
   "cell_type": "code",
   "execution_count": 6,
   "metadata": {
    "collapsed": true
   },
   "outputs": [],
   "source": [
    "kff_sym = phi**2*kuu_sym \\\n",
    "            + phi*sp.diff(kuu_sym, x_j) \\\n",
    "            + phi*sp.diff(kuu_sym, x_i) \\\n",
    "            + sp.diff(kuu_sym, x_j, x_i)\n",
    "kff_fn = sp.lambdify((x_i, x_j, theta, l, phi), kff_sym, \"numpy\")\n",
    "def kff(x, theta, l, phi):\n",
    "    k = np.zeros((x.size, x.size))\n",
    "    for i in range(x.size):\n",
    "        for j in range(x.size):\n",
    "            k[i,j] = kff_fn(x[i], x[j], theta, l, phi)\n",
    "    return k"
   ]
  },
  {
   "cell_type": "markdown",
   "metadata": {},
   "source": [
    "\\begin{align*}\n",
    "k_{fu}(x_i,x_j;\\theta,\\phi) &= \\mathcal{L}_{x_i}^\\phi k_{uu}(x_i, x_j; \\theta) \\\\\n",
    "&= \\phi k_{uu} + \\frac{\\partial}{\\partial x_i}k_{uu}  \\\\\n",
    "&= \\theta exp(-\\frac{1}{2l}(x_i-x_j)^2) \\left[ (\\frac{1}{2})2|x_i-x_j| + \\phi \\right] \\\\\n",
    "&= \\theta exp(-\\frac{1}{2l}(x_i-x_j)^2)(\\phi + |x_i-x_j|)\n",
    "\\end{align*}"
   ]
  },
  {
   "cell_type": "code",
   "execution_count": 7,
   "metadata": {
    "collapsed": true
   },
   "outputs": [],
   "source": [
    "kfu_sym = phi*kuu_sym + sp.diff(kuu_sym, x_i)\n",
    "kfu_fn = sp.lambdify((x_i, x_j, theta, l, phi), kfu_sym, \"numpy\")\n",
    "def kfu(x1, x2, theta, l, phi):\n",
    "    k = np.zeros((x2.size, x1.size))\n",
    "    for i in range(x2.size):\n",
    "        for j in range(x1.size):\n",
    "            k[i,j] = kfu_fn(x2[i], x1[j], theta, l, phi)\n",
    "    return k"
   ]
  },
  {
   "cell_type": "markdown",
   "metadata": {},
   "source": [
    "\\begin{align*}\n",
    "k_{uf}(x_i,x_j;\\theta,\\phi) &= \\mathcal{L}_{x_j}^\\phi k_{uu}(x_i, x_j; \\theta) \\\\\n",
    "&= \\phi k_{uu} + \\frac{\\partial}{\\partial x_j}k_{uu}  \\\\\n",
    "&= \\theta exp(-\\frac{1}{2l}(x_i-x_j)^2) \\left[ (\\frac{1}{2})2|x_i-x_j| + \\phi \\right]\\\\\n",
    "&= \\theta exp(-\\frac{1}{2l}(x_i-x_j)^2)(\\phi+|x_i-x_j|)\n",
    "\\end{align*}"
   ]
  },
  {
   "cell_type": "code",
   "execution_count": 8,
   "metadata": {
    "collapsed": true
   },
   "outputs": [],
   "source": [
    "def kuf(x1, x2, theta, l, phi):\n",
    "    return kfu(x1, x2, theta, l, phi).T"
   ]
  },
  {
   "cell_type": "markdown",
   "metadata": {},
   "source": [
    "#### Step 3: Compute the negative log marginal likelihood(NLML)\n",
    "\n",
    "The following covariance matrix is the result of our discussion at the end of Chapter 1.3.1, with an added noise parameter:\n",
    "\n",
    "\\begin{align*}\n",
    "K = \\begin{bmatrix}\n",
    "k_{uu}(X_u, X_u; \\theta) + \\sigma_u^2I & k_{uf}(X_u, X_f; \\theta, \\phi) \\\\\n",
    "k_{fu}(X_f, X_u; \\theta, \\phi) & k_{ff}(X_f, X_f; \\theta, \\phi) + \\sigma_f^2I\n",
    "\\end{bmatrix}\n",
    "\\end{align*}\n",
    "\n",
    "For simplicity, assume $\\sigma_u = \\sigma_f$.\n",
    "\n",
    "\\begin{align*}\n",
    "\\mathcal{NLML} = \\frac{1}{2} \\left[ log|K| + y^TK^{-1}y + Nlog(2\\pi) \\right]\n",
    "\\end{align*}\n",
    "\n",
    "where $y = \\begin{bmatrix}\n",
    "y_u \\\\\n",
    "y_f\n",
    "\\end{bmatrix}$."
   ]
  },
  {
   "cell_type": "code",
   "execution_count": 9,
   "metadata": {
    "collapsed": true
   },
   "outputs": [],
   "source": [
    "def nlml(params, x1, x2, y1, y2, s):\n",
    "    params = np.exp(params)\n",
    "    K = np.block([\n",
    "        [\n",
    "            kuu(x1, params[0], params[1]) + s*np.identity(x1.size),\n",
    "            kuf(x1, x2, params[0], params[1], params[2])\n",
    "        ],\n",
    "        [\n",
    "            kfu(x1, x2, params[0], params[1], params[2]),\n",
    "            kff(x2, params[0], params[1], params[2]) + s*np.identity(x2.size)\n",
    "        ]\n",
    "    ])\n",
    "    y = np.concatenate((y1, y2))\n",
    "    val = 0.5*(np.log(abs(np.linalg.det(K))) \\\n",
    "               + np.mat(y) * np.linalg.inv(K) * np.mat(y).T)\n",
    "    return val.item(0)"
   ]
  },
  {
   "cell_type": "markdown",
   "metadata": {},
   "source": [
    "#### Step 4: Optimize hyperparameters\n"
   ]
  },
  {
   "cell_type": "code",
   "execution_count": 10,
   "metadata": {
    "collapsed": true,
    "scrolled": false
   },
   "outputs": [],
   "source": [
    "nlml_wp = lambda params: nlml(params, x_u, x_f, y_u, y_f, 1e-6)\n",
    "m = minimize(nlml_wp, np.random.rand(3), method=\"Nelder-Mead\")"
   ]
  },
  {
   "cell_type": "code",
   "execution_count": 11,
   "metadata": {
    "nbsphinx": "hidden"
   },
   "outputs": [
    {
     "data": {
      "text/plain": [
       " final_simplex: (array([[ 2.47686625, -0.7450802 ,  0.69374954],\n",
       "       [ 2.47693005, -0.74510427,  0.69374962],\n",
       "       [ 2.47692091, -0.74510869,  0.69374958],\n",
       "       [ 2.47688263, -0.74508511,  0.69374952]]), array([-74.87118536, -74.87118536, -74.87118535, -74.87118535]))\n",
       "           fun: -74.87118535724949\n",
       "       message: 'Optimization terminated successfully.'\n",
       "          nfev: 321\n",
       "           nit: 174\n",
       "        status: 0\n",
       "       success: True\n",
       "             x: array([ 2.47686625, -0.7450802 ,  0.69374954])"
      ]
     },
     "execution_count": 11,
     "metadata": {},
     "output_type": "execute_result"
    }
   ],
   "source": [
    "m"
   ]
  },
  {
   "cell_type": "code",
   "execution_count": 12,
   "metadata": {},
   "outputs": [
    {
     "data": {
      "text/plain": [
       "array([11.90390211,  0.47469623,  2.00120508])"
      ]
     },
     "execution_count": 12,
     "metadata": {},
     "output_type": "execute_result"
    }
   ],
   "source": [
    "np.exp(m.x)"
   ]
  },
  {
   "cell_type": "markdown",
   "metadata": {},
   "source": [
    "The estimated value comes very close to the actual value.\n",
    "\n",
    "For the current model, we get the following optimal values of the hyperparameters:\n",
    "\n",
    "| Parameter | Value |\n",
    "|-----------|-------|\n",
    "| $\\theta$  |11.90390211 |\n",
    "| $l$       |0.47469623 |\n",
    "| $\\phi$    |2.00120508 |"
   ]
  }
 ],
 "metadata": {
  "celltoolbar": "Edit Metadata",
  "kernelspec": {
   "display_name": "Python 3",
   "language": "python",
   "name": "python3"
  },
  "language_info": {
   "codemirror_mode": {
    "name": "ipython",
    "version": 3
   },
   "file_extension": ".py",
   "mimetype": "text/x-python",
   "name": "python",
   "nbconvert_exporter": "python",
   "pygments_lexer": "ipython3",
   "version": "3.6.5"
  }
 },
 "nbformat": 4,
 "nbformat_minor": 2
}
