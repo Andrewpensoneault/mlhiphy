{
 "cells": [
  {
   "cell_type": "markdown",
   "metadata": {
    "raw_mimetype": "text/latex"
   },
   "source": [
    "## Parameter estimation for a linear operator using Gaussian processes\n",
    "\n",
    "\n",
    "Assumptions about the linear operator:\n",
    "\n",
    "$\n",
    "\\begin{gather}\n",
    "\\mathcal{L}_x^\\phi u(x) &= f(x) \\\\\n",
    "u(x) &\\sim \\mathcal{GP}(0, k_{uu}(x,x',\\theta))\n",
    "\\end{gather}\n",
    "$\n",
    "\n",
    "\n",
    "\n",
    "$f(x) \\sim \\mathcal{GP}(0, k_{ff}(x,x',\\theta,\\phi))$\n",
    "\n",
    "$y_u = u(X_u) + \\epsilon_u; \\epsilon_u \\sim \\mathcal{N}(0, \\sigma_u^2I)$\n",
    "\n",
    "$y_f = f(X_f) + \\epsilon_f; \\epsilon_f \\sim \\mathcal{N}(0, \\sigma_f^2I)$\n",
    "\n",
    "Taking a simple operator as example:\n",
    "\n",
    "$\\mathcal{L}_x^\\phi := \\phi \\cdot + \\frac{d}{dx}\\cdot$\n",
    "\n",
    "$u(x) = sin(x)$\n",
    "\n",
    "$f(x) = \\phi sin(x) + cos(x)$\n",
    "\n",
    "Problem at hand:\n",
    "\n",
    "Given $\\{X_u, y_u\\}$ and $\\{X_f, y_f\\}$, estimate $\\phi$.\n",
    "\n",
    "\n",
    "#### step 1: Simulate data\n",
    "\n",
    "\n",
    "Use $\\phi = 2$\n"
   ]
  },
  {
   "cell_type": "code",
   "execution_count": 1,
   "metadata": {
    "collapsed": true,
    "nbsphinx": "hidden"
   },
   "outputs": [],
   "source": [
    "import numpy as np\n",
    "import sympy as sp\n",
    "from scipy.optimize import minimize\n",
    "import matplotlib.pyplot as plt"
   ]
  },
  {
   "cell_type": "code",
   "execution_count": 2,
   "metadata": {
    "collapsed": true
   },
   "outputs": [],
   "source": [
    "def get_simulated_data(n1, n2, phi):\n",
    "    x_u = np.linspace(0,2*np.pi,n1)\n",
    "    y_u = np.sin(x_u)\n",
    "    x_f = np.linspace(0,2*np.pi, n2)\n",
    "    y_f = phi*np.sin(x_f) + np.cos(x_f)\n",
    "    return(x_u, y_u, x_f, y_f)"
   ]
  },
  {
   "cell_type": "code",
   "execution_count": 3,
   "metadata": {
    "nbsphinx": "hidden"
   },
   "outputs": [
    {
     "data": {
      "text/plain": [
       "[<matplotlib.text.Text at 0x113d32eb8>, <matplotlib.text.Text at 0x113d247f0>]"
      ]
     },
     "execution_count": 3,
     "metadata": {},
     "output_type": "execute_result"
    }
   ],
   "source": [
    "(x_u, y_u, x_f, y_f) = get_simulated_data(10, 5, 2)\n",
    "f, (ax1, ax2) = plt.subplots(ncols=2, nrows=1, sharey=True, figsize=(10,3))\n",
    "f.suptitle(\"Input and Output for the operator\")\n",
    "ax1.plot(x_u, y_u, 'o')\n",
    "ax1.set(xlabel= \"x\", ylabel= \"u(x)\")\n",
    "ax2.plot(x_f, y_f, 'ro')\n",
    "ax2.set(xlabel= \"x\", ylabel= \"f(x)\")"
   ]
  },
  {
   "cell_type": "code",
   "execution_count": 4,
   "metadata": {},
   "outputs": [
    {
     "data": {
      "image/png": "[encoded data removed]",
      "text/plain": [
       "<matplotlib.figure.Figure at 0x113c84240>"
      ]
     },
     "metadata": {},
     "output_type": "display_data"
    }
   ],
   "source": [
    "plt.show()"
   ]
  },
  {
   "cell_type": "markdown",
   "metadata": {},
   "source": [
    "#### step 2: Evaluate kernels\n",
    "\n",
    "\n",
    "\n",
    "This step uses information about $\\mathcal{L}_x^\\phi$ but not about $u(x)$ or $f(x)$.\n",
    "\n",
    "$k_{uu}(x_i, x_j; \\theta) = \\theta exp(-\\frac{1}{2l}(x_i-x_j)^2)$\n"
   ]
  },
  {
   "cell_type": "code",
   "execution_count": 5,
   "metadata": {
    "collapsed": true
   },
   "outputs": [],
   "source": [
    "x_i, x_j, theta, l, phi = sp.symbols('x_i x_j theta l phi')\n",
    "kuu_sym = theta*sp.exp(-((x_i - x_j)**2)/(2*l))\n",
    "kuu_fn = sp.lambdify((x_i, x_j, theta, l), kuu_sym, \"numpy\")\n",
    "def kuu(x, theta, l):\n",
    "    k = np.zeros((x.size, x.size))\n",
    "    for i in range(x.size):\n",
    "        for j in range(x.size):\n",
    "            k[i,j] = kuu_fn(x[i], x[j], theta, l)\n",
    "    return k"
   ]
  },
  {
   "cell_type": "markdown",
   "metadata": {},
   "source": [
    "$k_{ff}(x_i,x_j;\\theta,\\phi) \\\\\n",
    "= \\mathcal{L}_{x_i}^\\phi \\mathcal{L}_{x_j}^\\phi k_{uu}(x_i, x_j; \\theta) \\\\\n",
    "= \\mathcal{L}_{x_i}^\\phi \\left( \\phi k_{uu} + \\frac{\\partial}{\\partial x_j}k_{uu} \\right) \\\\\n",
    "= \\phi^2 k_{uu} + \\phi \\frac{\\partial}{\\partial x_j}k_{uu} + \\phi \\frac{\\partial}{\\partial x_i}k_{uu} + \\frac{\\partial}{\\partial x_i}\\frac{\\partial}{\\partial x_j}k_{uu}$\n",
    "\n",
    "More explicit calculations follow:\n",
    "\n",
    "$\\mathcal{L}_{x_i}^\\phi \\mathcal{L}_{x_j}^\\phi \\left[ \\theta exp(-\\frac{1}{2}(x_i-x_j)^2) \\right] \\\\\n",
    "= \\mathcal{L}_{x_i}^\\phi \\left[ \\theta exp(-\\frac{1}{2}(x_i-x_j)^2)\\left(\\phi + (-\\frac{1}{2})2(x_i-x_j)(-1) \\right) \\right] \\\\\n",
    "= \\mathcal{L}_{x_i}^\\phi \\left[\\theta exp(-\\frac{1}{2}(x_i-x_j)^2)(\\phi + x_i - x_j) \\right] \\\\\n",
    "= \\phi \\theta exp(-\\frac{1}{2}(x_i-x_j)^2)(\\phi+x_i-x_j) + \\theta exp(-\\frac{1}{2}(x_i-x_j)^2)\\left[ -\\frac{1}{2}2(x_i-x_j)(\\phi+x_i-x_j) + 1 \\right] \\\\\n",
    "= \\theta exp(-\\frac{1}{2}(x_i-x_j)^2)\\left[ \\phi^2 - (x_i-x_j)^2 + 1 \\right]$"
   ]
  },
  {
   "cell_type": "code",
   "execution_count": 6,
   "metadata": {
    "collapsed": true
   },
   "outputs": [],
   "source": [
    "kff_sym = phi**2*kuu_sym \\\n",
    "            + phi*sp.diff(kuu_sym, x_j) \\\n",
    "            + phi*sp.diff(kuu_sym, x_i) \\\n",
    "            + sp.diff(kuu_sym, x_j, x_i)\n",
    "kff_fn = sp.lambdify((x_i, x_j, theta, l, phi), kff_sym, \"numpy\")\n",
    "def kff(x, theta, l, phi):\n",
    "    k = np.zeros((x.size, x.size))\n",
    "    for i in range(x.size):\n",
    "        for j in range(x.size):\n",
    "            k[i,j] = kff_fn(x[i], x[j], theta, l, phi)\n",
    "    return k"
   ]
  },
  {
   "cell_type": "markdown",
   "metadata": {},
   "source": [
    "$k_{fu}(x_i,x_j;\\theta,\\phi) \\\\\n",
    "= \\mathcal{L}_{x_i}^\\phi k_{uu}(x_i, x_j; \\theta) \\\\\n",
    "= \\phi k_{uu} + \\frac{\\partial}{\\partial x_i}k_{uu}  \\\\\n",
    "= \\mathcal{L}_{x_i}^\\phi \\left[ \\theta exp(-\\frac{1}{2}(x_i-x_j)^2) \\right] \\\\\n",
    "= \\theta exp(-\\frac{1}{2}(x_i-x_j)^2) \\left[ (-\\frac{1}{2})2(x_i-x_j) + \\phi \\right] \\\\\n",
    "= \\theta exp(-\\frac{1}{2}(x_i-x_j)^2)(\\phi-x_i+x_j)$"
   ]
  },
  {
   "cell_type": "code",
   "execution_count": 7,
   "metadata": {
    "collapsed": true
   },
   "outputs": [],
   "source": [
    "kfu_sym = phi*kuu_sym + sp.diff(kuu_sym, x_i)\n",
    "kfu_fn = sp.lambdify((x_i, x_j, theta, l, phi), kfu_sym, \"numpy\")\n",
    "def kfu(x1, x2, theta, l, phi):\n",
    "    k = np.zeros((x2.size, x1.size))\n",
    "    for i in range(x2.size):\n",
    "        for j in range(x1.size):\n",
    "            k[i,j] = kfu_fn(x2[i], x1[j], theta, l, phi)\n",
    "    return k"
   ]
  },
  {
   "cell_type": "markdown",
   "metadata": {},
   "source": [
    "$k_{uf}(x_i,x_j;\\theta,\\phi) \\\\\n",
    "= \\mathcal{L}_{x_j}^\\phi k_{uu}(x_i, x_j; \\theta) \\\\\n",
    "= \\mathcal{L}_{x_j}^\\phi \\left[ \\theta exp(-\\frac{1}{2}(x_i-x_j)^2) \\right] \\\\\n",
    "= \\theta exp(-\\frac{1}{2}(x_i-x_j)^2) \\left[ (-\\frac{1}{2})2(x_i-x_j)(-1) + \\phi \\right]\\\\\n",
    "= \\theta exp(-\\frac{1}{2}(x_i-x_j)^2)(\\phi+x_i-x_j)$"
   ]
  },
  {
   "cell_type": "code",
   "execution_count": 8,
   "metadata": {
    "collapsed": true
   },
   "outputs": [],
   "source": [
    "def kuf(x1, x2, theta, l, phi):\n",
    "    return kfu(x1, x2, theta, l, phi).T"
   ]
  },
  {
   "cell_type": "markdown",
   "metadata": {},
   "source": [
    "#### step 3: define negative log marginal likelihood  \n",
    "\n",
    "\n",
    "\n",
    "$K = \\begin{bmatrix}\n",
    "k_{uu}(X_u, X_u; \\theta) + \\sigma_u^2I & k_{uf}(X_u, X_f; \\theta, \\phi) \\\\\n",
    "k_{fu}(X_f, X_u; \\theta, \\phi) & k_{ff}(X_f, X_f; \\theta, \\phi) + \\sigma_f^2I\n",
    "\\end{bmatrix}$\n",
    "\n",
    "For simplicity, assume $\\sigma_u = \\sigma_f$.\n",
    "\n",
    "$\\mathcal{NLML} = \\frac{1}{2} \\left[ log|K| + y^TK^{-1}y + Nlog(2\\pi) \\right]$\n",
    "\n",
    "where $y = \\begin{bmatrix}\n",
    "y_u \\\\\n",
    "y_f\n",
    "\\end{bmatrix}$"
   ]
  },
  {
   "cell_type": "code",
   "execution_count": 9,
   "metadata": {
    "collapsed": true
   },
   "outputs": [],
   "source": [
    "def nlml(params, x1, x2, y1, y2, s):\n",
    "    params = np.exp(params)\n",
    "    K = np.block([\n",
    "        [\n",
    "            kuu(x1, params[0], params[1]) + s*np.identity(x1.size),\n",
    "            kuf(x1, x2, params[0], params[1], params[2])\n",
    "        ],\n",
    "        [\n",
    "            kfu(x1, x2, params[0], params[1], params[2]),\n",
    "            kff(x2, params[0], params[1], params[2]) + s*np.identity(x2.size)\n",
    "        ]\n",
    "    ])\n",
    "    y = np.concatenate((y1, y2))\n",
    "    val = 0.5*(np.log(abs(np.linalg.det(K))) \\\n",
    "               + np.mat(y) * np.linalg.inv(K) * np.mat(y).T)\n",
    "    return val.item(0)"
   ]
  },
  {
   "cell_type": "markdown",
   "metadata": {},
   "source": [
    "#### step 4: Optimise hyperparameters\n"
   ]
  },
  {
   "cell_type": "code",
   "execution_count": 10,
   "metadata": {
    "collapsed": true,
    "scrolled": false
   },
   "outputs": [],
   "source": [
    "nlml_wp = lambda params: nlml(params, x_u, x_f, y_u, y_f, 1e-6)\n",
    "m = minimize(nlml_wp, np.random.rand(3), method=\"Nelder-Mead\")"
   ]
  },
  {
   "cell_type": "code",
   "execution_count": 11,
   "metadata": {},
   "outputs": [
    {
     "data": {
      "text/plain": [
       " final_simplex: (array([[0.93521207, 1.79647932, 0.69305277],\n",
       "       [0.9351297 , 1.7964666 , 0.69305276],\n",
       "       [0.9351952 , 1.79648597, 0.69305284],\n",
       "       [0.93525633, 1.79647415, 0.69305289]]), array([-49.83003662, -49.83003661, -49.83003661, -49.83003661]))\n",
       "           fun: -49.83003661738112\n",
       "       message: 'Optimization terminated successfully.'\n",
       "          nfev: 316\n",
       "           nit: 173\n",
       "        status: 0\n",
       "       success: True\n",
       "             x: array([0.93521207, 1.79647932, 0.69305277])"
      ]
     },
     "execution_count": 11,
     "metadata": {},
     "output_type": "execute_result"
    }
   ],
   "source": [
    "m"
   ]
  },
  {
   "cell_type": "code",
   "execution_count": 12,
   "metadata": {},
   "outputs": [
    {
     "data": {
      "text/plain": [
       "array([2.54775371, 6.02838606, 1.99981118])"
      ]
     },
     "execution_count": 12,
     "metadata": {},
     "output_type": "execute_result"
    }
   ],
   "source": [
    "np.exp(m.x)"
   ]
  },
  {
   "cell_type": "markdown",
   "metadata": {},
   "source": [
    "#### Analysis"
   ]
  }
 ],
 "metadata": {
  "celltoolbar": "Raw Cell Format",
  "kernelspec": {
   "display_name": "Python 3",
   "language": "python",
   "name": "python3"
  },
  "language_info": {
   "codemirror_mode": {
    "name": "ipython",
    "version": 3
   },
   "file_extension": ".py",
   "mimetype": "text/x-python",
   "name": "python",
   "nbconvert_exporter": "python",
   "pygments_lexer": "ipython3",
   "version": "3.6.5"
  }
 },
 "nbformat": 4,
 "nbformat_minor": 2
}
