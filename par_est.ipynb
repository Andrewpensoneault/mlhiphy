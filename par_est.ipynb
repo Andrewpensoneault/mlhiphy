{
 "cells": [
  {
   "cell_type": "markdown",
   "metadata": {},
   "source": [
    "## Parameter estimation for a linear operator using Gaussian processes\n",
    "\n",
    "\n",
    "Assumptions about the linear operator:\n",
    "\n",
    "$\\mathcal{L}_x^\\phi u(x) = f(x)$\n",
    "\n",
    "$u(x) \\sim \\mathcal{GP}(0, k_{uu}(x,x',\\theta))$\n",
    "\n",
    "$f(x) \\sim \\mathcal{GP}(0, k_{ff}(x,x',\\theta,\\phi))$\n",
    "\n",
    "$y_u = u(X_u) + \\epsilon_u; \\epsilon_u \\sim \\mathcal{N}(0, \\sigma_u^2I)$\n",
    "\n",
    "$y_f = f(X_f) + \\epsilon_f; \\epsilon_f \\sim \\mathcal{N}(0, \\sigma_f^2I)$\n",
    "\n",
    "Taking a simple operator as example:\n",
    "\n",
    "$\\mathcal{L}_x^\\phi := \\phi \\cdot + \\frac{d}{dx}\\cdot$\n",
    "\n",
    "$u(x) = sin(x)$\n",
    "\n",
    "$f(x) = \\phi sin(x) + cos(x)$\n",
    "\n",
    "Problem at hand:\n",
    "\n",
    "Given $\\{X_u, y_u\\}$ and $\\{X_f, y_f\\}$, estimate $\\phi$.\n",
    "\n",
    "\n",
    "#### step 1: simulate data\n",
    "\n",
    "\n",
    "Use $\\phi = 2$\n"
   ]
  },
  {
   "cell_type": "code",
   "execution_count": 1,
   "metadata": {
    "collapsed": true
   },
   "outputs": [],
   "source": [
    "import numpy as np\n",
    "import sympy as sp\n",
    "from scipy.optimize import minimize\n",
    "import matplotlib.pyplot as plt"
   ]
  },
  {
   "cell_type": "code",
   "execution_count": 2,
   "metadata": {
    "collapsed": true
   },
   "outputs": [],
   "source": [
    "x_u = np.linspace(0,2*np.pi,10)\n",
    "y_u = np.sin(x_u)\n",
    "x_f = np.linspace(0,2*np.pi, 10)\n",
    "y_f = 2.0*np.sin(x_f) + np.cos(x_f)"
   ]
  },
  {
   "cell_type": "code",
   "execution_count": 3,
   "metadata": {},
   "outputs": [
    {
     "data": {
      "image/png": "[encoded data removed]",
      "text/plain": [
       "<matplotlib.figure.Figure at 0x110703b00>"
      ]
     },
     "metadata": {},
     "output_type": "display_data"
    }
   ],
   "source": [
    "plt.plot(x_u,y_u)\n",
    "plt.show()"
   ]
  },
  {
   "cell_type": "code",
   "execution_count": 4,
   "metadata": {},
   "outputs": [
    {
     "data": {
      "image/png": "[encoded data removed]",
      "text/plain": [
       "<matplotlib.figure.Figure at 0x11083d978>"
      ]
     },
     "metadata": {},
     "output_type": "display_data"
    }
   ],
   "source": [
    "x1 = np.linspace(0,2*np.pi,100)\n",
    "y1 = 2.0*np.sin(x1) + np.cos(x1)\n",
    "plt.plot(x1,y1)\n",
    "plt.show()"
   ]
  },
  {
   "cell_type": "markdown",
   "metadata": {},
   "source": [
    "#### step 2: create covariance matrix\n",
    "\n",
    "\n",
    "\n",
    "This step uses information about $\\mathcal{L}_x^\\phi$ but not about $u(x)$ or $f(x)$.\n",
    "\n",
    "$k_{uu}(x_i, x_j; \\theta) = \\theta exp(-\\frac{1}{2}(x_i-x_j)^2)$\n"
   ]
  },
  {
   "cell_type": "code",
   "execution_count": 5,
   "metadata": {},
   "outputs": [],
   "source": [
    "x_i, x_j, theta, phi = sp.symbols('x_i x_j theta phi')\n",
    "kuu_sym = theta*sp.exp(-1/(2)*((x_i - x_j)**2))\n",
    "kuu_fn = sp.lambdify((x_i, x_j, theta), kuu_sym, \"numpy\")\n",
    "def kuu(x, theta):\n",
    "    k = np.zeros((x.size, x.size))\n",
    "    for i in range(x.size):\n",
    "        for j in range(x.size):\n",
    "            k[i,j] = kuu_fn(x[i], x[j], theta)\n",
    "    return k"
   ]
  },
  {
   "cell_type": "markdown",
   "metadata": {},
   "source": [
    "$k_{ff}(x_i,x_j;\\theta,\\phi) \\\\\n",
    "= \\mathcal{L}_{x_i}^\\phi \\mathcal{L}_{x_j}^\\phi k_{uu}(x_i, x_j; \\theta) \\\\\n",
    "= \\mathcal{L}_{x_i}^\\phi \\left( \\phi k_{uu} + \\frac{\\partial}{\\partial x_j}k_{uu} \\right) \\\\\n",
    "= \\phi^2 k_{uu} + \\phi \\frac{\\partial}{\\partial x_j}k_{uu} + \\phi \\frac{\\partial}{\\partial x_i}k_{uu} + \\frac{\\partial}{\\partial x_i}\\frac{\\partial}{\\partial x_j}k_{uu}\\\\ $\n",
    "\n",
    "More explicit calculations follow:\n",
    "\n",
    "$= \\mathcal{L}_{x_i}^\\phi \\mathcal{L}_{x_j}^\\phi \\left( \\theta exp(-\\frac{1}{2}(x_i-x_j)^2) \\right] \\\\\n",
    "= \\mathcal{L}_{x_i}^\\phi \\left[ \\theta exp(-\\frac{1}{2}(x_i-x_j)^2)\\left(\\phi + (-\\frac{1}{2})2(x_i-x_j)(-1) \\right) \\right] \\\\\n",
    "= \\mathcal{L}_{x_i}^\\phi \\left[\\theta exp(-\\frac{1}{2}(x_i-x_j)^2)(\\phi + x_i - x_j) \\right] \\\\\n",
    "= \\phi \\theta exp(-\\frac{1}{2}(x_i-x_j)^2)(\\phi+x_i-x_j) + \\theta exp(-\\frac{1}{2}(x_i-x_j)^2)\\left[ -\\frac{1}{2}2(x_i-x_j)(\\phi+x_i-x_j) + 1 \\right] \\\\\n",
    "= \\theta exp(-\\frac{1}{2}(x_i-x_j)^2)\\left[ \\phi^2 - (x_i-x_j)^2 + 1 \\right]$"
   ]
  },
  {
   "cell_type": "code",
   "execution_count": 6,
   "metadata": {},
   "outputs": [],
   "source": [
    "kff_sym = phi**2*kuu_sym + phi*sp.diff(kuu_sym, x_j) + phi*sp.diff(kuu_sym, x_i) + sp.diff(kuu_sym, x_j, x_i)\n",
    "kff_fn = sp.lambdify((x_i, x_j, theta, phi), kff_sym, \"numpy\")\n",
    "def kff(x, theta, phi):\n",
    "    k = np.zeros((x.size, x.size))\n",
    "    for i in range(x.size):\n",
    "        for j in range(x.size):\n",
    "            k[i,j] = kff_fn(x[i], x[j], theta, phi)\n",
    "    return k"
   ]
  },
  {
   "cell_type": "markdown",
   "metadata": {},
   "source": [
    "$k_{fu}(x_i,x_j;\\theta,\\phi) \\\\\n",
    "= \\mathcal{L}_{x_i}^\\phi k_{uu}(x_i, x_j; \\theta) \\\\\n",
    "= \\phi k_{uu} + \\frac{\\partial}{\\partial x_i}k_{uu}  \\\\\n",
    "= \\mathcal{L}_{x_i}^\\phi \\left[ \\theta exp(-\\frac{1}{2}(x_i-x_j)^2) \\right] \\\\\n",
    "= \\theta exp(-\\frac{1}{2}(x_i-x_j)^2) \\left[ (-\\frac{1}{2})2(x_i-x_j) + \\phi \\right] \\\\\n",
    "= \\theta exp(-\\frac{1}{2}(x_i-x_j)^2)(\\phi-x_i+x_j)$"
   ]
  },
  {
   "cell_type": "code",
   "execution_count": 7,
   "metadata": {},
   "outputs": [],
   "source": [
    "kfu_sym = phi*kuu_sym + sp.diff(kuu_sym, x_i)\n",
    "kfu_fn = sp.lambdify((x_i, x_j, theta, phi), kfu_sym, \"numpy\")\n",
    "def kfu(x1, x2, theta, phi):\n",
    "    k = np.zeros((x1.size, x2.size))\n",
    "    for i in range(x1.size):\n",
    "        for j in range(x2.size):\n",
    "            k[i,j] = kfu_fn(x1[i], x2[j], theta, phi)\n",
    "    return k"
   ]
  },
  {
   "cell_type": "markdown",
   "metadata": {},
   "source": [
    "$k_{uf}(x_i,x_j;\\theta,\\phi) \\\\\n",
    "= \\mathcal{L}_{x_j}^\\phi k_{uu}(x_i, x_j; \\theta) \\\\\n",
    "= \\mathcal{L}_{x_j}^\\phi \\left[ \\theta exp(-\\frac{1}{2}(x_i-x_j)^2) \\right] \\\\\n",
    "= \\theta exp(-\\frac{1}{2}(x_i-x_j)^2) \\left[ (-\\frac{1}{2})2(x_i-x_j)(-1) + \\phi \\right]\\\\\n",
    "= \\theta exp(-\\frac{1}{2}(x_i-x_j)^2)(\\phi+x_i-x_j)$"
   ]
  },
  {
   "cell_type": "code",
   "execution_count": 8,
   "metadata": {
    "collapsed": true
   },
   "outputs": [],
   "source": [
    "def kuf(x1, x2, theta, phi):\n",
    "    return kfu(x1,x2,theta,phi).T"
   ]
  },
  {
   "cell_type": "markdown",
   "metadata": {},
   "source": [
    "#### step 3: define negative log marginal likelihood  \n",
    "\n",
    "\n",
    "\n",
    "$K = \\begin{bmatrix}\n",
    "k_{uu}(X_u, X_u; \\theta) + \\sigma_u^2I & k_{uf}(X_u, X_f; \\theta, \\phi) \\\\\n",
    "k_{fu}(X_f, X_u; \\theta, \\phi) & k_{ff}(X_f, X_f; \\theta, \\phi) + \\sigma_f^2I\n",
    "\\end{bmatrix}$\n",
    "\n",
    "For simplicity, assume $\\sigma_u = \\sigma_f$.\n",
    "\n",
    "$\\mathcal{NLML} = \\frac{1}{2} \\left[ log|K| + y^TK^{-1}y + Nlog(2\\pi) \\right]$\n",
    "\n",
    "where $y = \\begin{bmatrix}\n",
    "y_u \\\\\n",
    "y_f\n",
    "\\end{bmatrix}$"
   ]
  },
  {
   "cell_type": "code",
   "execution_count": 9,
   "metadata": {
    "collapsed": true
   },
   "outputs": [],
   "source": [
    "def nlml(params, x1, x2, y1, y2, s):\n",
    "    K = np.block([\n",
    "        [kuu(x1, params[0]) + s*np.identity(x1.size), kuf(x1, x2, params[0], params[1])],\n",
    "        [kfu(x1, x2, params[0], params[1]), kff(x2, params[0], params[1]) + s*np.identity(x2.size)]\n",
    "    ])\n",
    "    y = np.concatenate((y1, y2))\n",
    "    val = 0.5*(np.log(abs(np.linalg.det(K))) + np.mat(y) * np.linalg.inv(K) * np.mat(y).T)\n",
    "    return val.item(0)"
   ]
  },
  {
   "cell_type": "code",
   "execution_count": 16,
   "metadata": {},
   "outputs": [
    {
     "data": {
      "text/plain": [
       "-49.506869382523455"
      ]
     },
     "execution_count": 16,
     "metadata": {},
     "output_type": "execute_result"
    }
   ],
   "source": [
    "nlml((1, 2), x_u, x_f, y_u, y_f, 1e-6)"
   ]
  },
  {
   "cell_type": "markdown",
   "metadata": {},
   "source": [
    "#### step 4: optimise hyperparameters\n"
   ]
  },
  {
   "cell_type": "code",
   "execution_count": 11,
   "metadata": {
    "scrolled": true
   },
   "outputs": [
    {
     "data": {
      "text/plain": [
       " final_simplex: (array([[0.2339862 , 2.00000114],\n",
       "       [0.23400558, 2.00000344],\n",
       "       [0.23389067, 2.00000342]]), array([-54.80042016, -54.80042014, -54.80042004]))\n",
       "           fun: -54.80042016441411\n",
       "       message: 'Optimization terminated successfully.'\n",
       "          nfev: 98\n",
       "           nit: 52\n",
       "        status: 0\n",
       "       success: True\n",
       "             x: array([0.2339862 , 2.00000114])"
      ]
     },
     "execution_count": 11,
     "metadata": {},
     "output_type": "execute_result"
    }
   ],
   "source": [
    "minimize(nlml, np.random.rand(2), args=(x_u, x_f, y_u, y_f, 1e-6), method=\"Nelder-Mead\")"
   ]
  },
  {
   "cell_type": "markdown",
   "metadata": {},
   "source": [
    "### Using pyGPs (Arthur's Idea)"
   ]
  },
  {
   "cell_type": "code",
   "execution_count": 12,
   "metadata": {},
   "outputs": [
    {
     "name": "stderr",
     "output_type": "stream",
     "text": [
      "Number of line searches 14\n",
      "Number of line searches 40\n"
     ]
    }
   ],
   "source": [
    "import pyGPs\n",
    "model_u = pyGPs.GPR()\n",
    "model_u.setData(x_u, y_u)\n",
    "model_u.optimize(x_u, y_u)\n",
    "\n",
    "model_f = pyGPs.GPR()\n",
    "model_f.setData(x_f, y_f)\n",
    "model_f.optimize(x_f, y_f)\n"
   ]
  },
  {
   "cell_type": "code",
   "execution_count": 13,
   "metadata": {},
   "outputs": [
    {
     "name": "stdout",
     "output_type": "stream",
     "text": [
      "[3.01008812 7.20765418]\n",
      "[3.05519677 3.43110287]\n"
     ]
    }
   ],
   "source": [
    "print(np.exp(model_f.covfunc.hyp))\n",
    "print(np.exp(model_u.covfunc.hyp))"
   ]
  },
  {
   "cell_type": "code",
   "execution_count": 14,
   "metadata": {},
   "outputs": [
    {
     "data": {
      "text/plain": [
       "2.075025301252897"
      ]
     },
     "execution_count": 14,
     "metadata": {},
     "output_type": "execute_result"
    }
   ],
   "source": [
    "s_u = np.exp(model_u.covfunc.hyp[1])\n",
    "l_u = np.exp(model_u.covfunc.hyp[0])\n",
    "s_f = np.exp(model_f.covfunc.hyp[1])\n",
    "phi = ((s_f/s_u)**2 - 1/l_u**2)**0.5\n",
    "phi"
   ]
  },
  {
   "cell_type": "code",
   "execution_count": 15,
   "metadata": {},
   "outputs": [
    {
     "data": {
      "image/png": "[encoded data removed]",
      "text/plain": [
       "<matplotlib.figure.Figure at 0x110bd9ac8>"
      ]
     },
     "metadata": {},
     "output_type": "display_data"
    }
   ],
   "source": [
    "x_p = np.linspace(0,2*np.pi,100)\n",
    "y_p = model_f.predict(x_p)\n",
    "# plot predictions\n",
    "plt.plot(x_p,y_p[0])\n",
    "plt.show()"
   ]
  }
 ],
 "metadata": {
  "kernelspec": {
   "display_name": "Python 3",
   "language": "python",
   "name": "python3"
  },
  "language_info": {
   "codemirror_mode": {
    "name": "ipython",
    "version": 3
   },
   "file_extension": ".py",
   "mimetype": "text/x-python",
   "name": "python",
   "nbconvert_exporter": "python",
   "pygments_lexer": "ipython3",
   "version": "3.6.5"
  }
 },
 "nbformat": 4,
 "nbformat_minor": 2
}
