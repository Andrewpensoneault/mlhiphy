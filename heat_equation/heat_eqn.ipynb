{
 "cells": [
  {
   "cell_type": "markdown",
   "metadata": {},
   "source": [
    "## Heat Eq (without discretisation)\n",
    "\n",
    "\n",
    "$\\mathcal{L}_{\\bar{x}}^{\\phi}u(\\bar{x}) = \\frac{\\partial}{\\partial t}u(\\bar{x}) - \\phi \\frac{\\partial^2}{\\partial x^2}u(\\bar{x}) = f(\\bar{x})$, where $\\bar{x} = (t, x) \\in \\mathbb{R}^2$\n",
    "\n",
    "$u(x,t) = e^{-t}sin(2\\pi x)$\n",
    "\n",
    "$f(x,t) = e^{-t}(4\\pi^2 - 1)sin(2\\pi x)$\n",
    "\n",
    "\n",
    "#### Step 1: simulate data"
   ]
  },
  {
   "cell_type": "code",
   "execution_count": null,
   "metadata": {
    "collapsed": true
   },
   "outputs": [],
   "source": [
    "import time\n",
    "import numpy as np\n",
    "import sympy as sp\n",
    "from scipy.optimize import minimize"
   ]
  },
  {
   "cell_type": "code",
   "execution_count": null,
   "metadata": {
    "collapsed": true
   },
   "outputs": [],
   "source": [
    "n = 10\n",
    "np.random.seed(int(time.time()))\n",
    "t = np.random.rand(n)\n",
    "x = np.random.rand(n)"
   ]
  },
  {
   "cell_type": "code",
   "execution_count": null,
   "metadata": {
    "scrolled": true
   },
   "outputs": [],
   "source": [
    "y_u = np.multiply(np.exp(-t), np.sin(2*np.pi*x))\n",
    "y_f = (4*np.pi**2 - 1) * np.multiply(np.exp(-t), np.sin(2*np.pi*x))"
   ]
  },
  {
   "cell_type": "markdown",
   "metadata": {},
   "source": [
    "#### Step 2: evaluate kernels and covariance matrix\n",
    "\n",
    "Declare symbols"
   ]
  },
  {
   "cell_type": "code",
   "execution_count": null,
   "metadata": {
    "collapsed": true
   },
   "outputs": [],
   "source": [
    "x_i, x_j, t_i, t_j, theta, phi = sp.symbols('x_i x_j t_i t_j theta phi')"
   ]
  },
  {
   "cell_type": "markdown",
   "metadata": {},
   "source": [
    "$k_{uu}(x_i, x_j, t_i, t_j; \\theta) = \\theta exp \\left[ -\\frac{1}{2} \\left( (x_i-x_j)^2 + (t_i-t_j)^2 \\right) \\right]$"
   ]
  },
  {
   "cell_type": "code",
   "execution_count": null,
   "metadata": {
    "collapsed": true
   },
   "outputs": [],
   "source": [
    "kuu_sym = sp.exp(-theta*((x_i - x_j)**2 + (t_i - t_j)**2))\n",
    "kuu_fn = sp.lambdify((x_i, x_j, t_i, t_j, theta), kuu_sym, \"numpy\")\n",
    "def kuu(t, x, theta):\n",
    "    k = np.zeros((t.size, t.size))\n",
    "    for i in range(t.size):\n",
    "        for j in range(t.size):\n",
    "            k[i,j] = kuu_fn(x[i], x[j], t[i], t[j], theta)\n",
    "    return k"
   ]
  },
  {
   "cell_type": "markdown",
   "metadata": {},
   "source": [
    "$k_{ff}(\\bar{x}_i,\\bar{x}_j;\\theta,\\phi) \\\\\n",
    "= \\mathcal{L}_{\\bar{x}_i}^\\phi \\mathcal{L}_{\\bar{x}_j}^\\phi k_{uu}(\\bar{x}_i, \\bar{x}_j; \\theta) \\\\\n",
    "= \\mathcal{L}_{\\bar{x}_i}^\\phi \\left[ \\frac{\\partial}{\\partial t_j}k_{uu} - \\phi \\frac{\\partial^2}{\\partial x_j^2} k_{uu} \\right] \\\\\n",
    "= \\frac{\\partial}{\\partial t_i}\\frac{\\partial}{\\partial t_j}k_{uu} - \\phi \\left[ \\frac{\\partial}{\\partial t_i}\\frac{\\partial^2}{\\partial x_j^2}k_{uu} + \\frac{\\partial^2}{\\partial x_i^2}\\frac{\\partial}{\\partial t_j}k_{uu} \\right] + \\phi^2 \\frac{\\partial^2}{\\partial x_i^2}\\frac{\\partial^2}{\\partial x_j^2}k_{uu}$"
   ]
  },
  {
   "cell_type": "code",
   "execution_count": null,
   "metadata": {
    "collapsed": true
   },
   "outputs": [],
   "source": [
    "kff_sym = sp.diff(kuu_sym, t_j, t_i) \\\n",
    "        - phi*sp.diff(kuu_sym,x_j,x_j,t_i) \\\n",
    "        - phi*sp.diff(kuu_sym,t_j,x_i,x_i) \\\n",
    "        + phi**2*sp.diff(kuu_sym,x_j,x_j,x_i,x_i)\n",
    "kff_fn = sp.lambdify((x_i, x_j, t_i, t_j, theta, phi), kff_sym, \"numpy\")\n",
    "def kff(t, x, theta, p):\n",
    "    k = np.zeros((t.size, t.size))\n",
    "    for i in range(t.size):\n",
    "        for j in range(t.size):\n",
    "            k[i,j] = kff_fn(x[i], x[j], t[i], t[j], theta, p)\n",
    "    return k"
   ]
  },
  {
   "cell_type": "markdown",
   "metadata": {},
   "source": [
    "$k_{fu}(\\bar{x}_i,\\bar{x}_j;\\theta,\\phi) \\\\\n",
    "= \\mathcal{L}_{\\bar{x}_i}^\\phi k_{uu}(\\bar{x}_i, \\bar{x}_j; \\theta) \\\\\n",
    "= \\frac{\\partial}{\\partial t_i}k_{uu} - \\phi \\frac{\\partial^2}{\\partial x_i^2}k_{uu}$"
   ]
  },
  {
   "cell_type": "code",
   "execution_count": null,
   "metadata": {
    "collapsed": true
   },
   "outputs": [],
   "source": [
    "kfu_sym = sp.diff(kuu_sym,t_i) - phi*sp.diff(kuu_sym,x_i,x_i)\n",
    "kfu_fn = sp.lambdify((x_i, x_j, t_i, t_j, theta, phi), kfu_sym, \"numpy\")\n",
    "def kfu(t, x, theta, p):\n",
    "    k = np.zeros((t.size, t.size))\n",
    "    for i in range(t.size):\n",
    "        for j in range(t.size):\n",
    "            k[i,j] = kfu_fn(x[i], x[j], t[i], t[j], theta, p)\n",
    "    return k"
   ]
  },
  {
   "cell_type": "code",
   "execution_count": null,
   "metadata": {
    "collapsed": true
   },
   "outputs": [],
   "source": [
    "def kuf(t, x, theta, p):\n",
    "    return kfu(t, x, theta, p).T"
   ]
  },
  {
   "cell_type": "markdown",
   "metadata": {},
   "source": [
    "#### Step 3: create covariance matrix and NLML\n",
    "\n",
    "```\n",
    "params = [theta, phi]\n",
    "```"
   ]
  },
  {
   "cell_type": "code",
   "execution_count": null,
   "metadata": {
    "collapsed": true
   },
   "outputs": [],
   "source": [
    "def nlml(params, t, x, y1, y2, s):\n",
    "    params = np.exp(params)\n",
    "    K = np.block([\n",
    "        [\n",
    "            kuu(t, x, params[0]) + s*np.identity(x.size),\n",
    "            kuf(t, x, params[0], params[1])\n",
    "        ],\n",
    "        [\n",
    "            kfu(t, x, params[0], params[1]),\n",
    "            kff(t, x, params[0], params[1]) + s*np.identity(x.size)\n",
    "        ]\n",
    "    ])\n",
    "    y = np.concatenate((y1, y2))\n",
    "    val = 0.5*(np.log(abs(np.linalg.det(K))) + np.mat(y) * np.linalg.inv(K) * np.mat(y).T)\n",
    "    return val.item(0)"
   ]
  },
  {
   "cell_type": "code",
   "execution_count": null,
   "metadata": {},
   "outputs": [],
   "source": [
    "nlml((1,1), t, x, y_u, y_f, 1e-6)"
   ]
  },
  {
   "cell_type": "markdown",
   "metadata": {},
   "source": [
    "#### Step 4: Optimise hyperparameters"
   ]
  },
  {
   "cell_type": "code",
   "execution_count": null,
   "metadata": {
    "scrolled": false
   },
   "outputs": [],
   "source": [
    "%%timeit\n",
    "nlml_wp = lambda params: nlml(params, t, x, y_u, y_f, 1e-7)\n",
    "minimize(nlml_wp, np.random.rand(2), method=\"Nelder-Mead\", options={'maxiter' : 5000, 'fatol' : 0.001})"
   ]
  },
  {
   "cell_type": "code",
   "execution_count": null,
   "metadata": {
    "collapsed": true
   },
   "outputs": [],
   "source": [
    "def minimize_restarts(t, x, y_u, y_f, n = 10):\n",
    "    nlml_wp = lambda params: nlml(params, t, x, y_u, y_f, 1e-7)\n",
    "    all_results = []\n",
    "    for it in range(0,n):\n",
    "        all_results.append(minimize(nlml_wp, np.random.rand(2), method=\"Nelder-Mead\", options={'maxiter' : 5000, 'fatol' : 0.001}))\n",
    "    filtered_results = [m for m in all_results if 0 == m.status]\n",
    "    return min(filtered_results, key = lambda x: x.fun)"
   ]
  },
  {
   "cell_type": "code",
   "execution_count": null,
   "metadata": {},
   "outputs": [],
   "source": [
    "m = minimize_restarts(t, x, y_u, y_f, 20)\n",
    "m"
   ]
  },
  {
   "cell_type": "markdown",
   "metadata": {},
   "source": [
    "##### Estimated value of $\\alpha$"
   ]
  },
  {
   "cell_type": "code",
   "execution_count": null,
   "metadata": {},
   "outputs": [],
   "source": [
    "np.exp(m.x[1])"
   ]
  }
 ],
 "metadata": {
  "kernelspec": {
   "display_name": "Python 3",
   "language": "python",
   "name": "python3"
  },
  "language_info": {
   "codemirror_mode": {
    "name": "ipython",
    "version": 3
   },
   "file_extension": ".py",
   "mimetype": "text/x-python",
   "name": "python",
   "nbconvert_exporter": "python",
   "pygments_lexer": "ipython3",
   "version": "3.6.5"
  }
 },
 "nbformat": 4,
 "nbformat_minor": 2
}
