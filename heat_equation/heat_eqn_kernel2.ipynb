{
 "cells": [
  {
   "cell_type": "markdown",
   "metadata": {},
   "source": [
    "## Heat Eq with 2-parameter kernel\n",
    "\n",
    "\n",
    "$\\mathcal{L}_{\\bar{x}}^{\\phi}u(\\bar{x}) = \\frac{\\partial}{\\partial t}u(\\bar{x}) - \\phi \\frac{\\partial^2}{\\partial x^2}u(\\bar{x}) = f(\\bar{x})$, where $\\bar{x} = (t, x) \\in \\mathbb{R}^2$\n",
    "\n",
    "$u(x,t) = e^{-t}sin(2\\pi x)$\n",
    "\n",
    "$f(x,t) = e^{-t}(4\\pi^2 - 1)sin(2\\pi x)$\n",
    "\n",
    "\n",
    "#### Step 1: simulate data"
   ]
  },
  {
   "cell_type": "code",
   "execution_count": null,
   "metadata": {
    "collapsed": true
   },
   "outputs": [],
   "source": [
    "import time\n",
    "import numpy as np\n",
    "import sympy as sp\n",
    "from scipy.optimize import minimize\n",
    "from scipy.optimize import minimize_scalar\n",
    "import matplotlib.pyplot as plt"
   ]
  },
  {
   "cell_type": "code",
   "execution_count": null,
   "metadata": {
    "collapsed": true
   },
   "outputs": [],
   "source": [
    "n = 10\n",
    "np.random.seed(int(time.time()))\n",
    "t = np.random.rand(n)\n",
    "x = np.random.rand(n)"
   ]
  },
  {
   "cell_type": "code",
   "execution_count": null,
   "metadata": {
    "collapsed": true
   },
   "outputs": [],
   "source": [
    "#y_u = 2*np.square(x_u) + np.multiply(x_u, t_u) + np.random.normal(0,1, x_u.size)\n",
    "#y_f = x_f - 4*12.0 + np.random.normal(0,1, x_f.size)\n",
    "\n",
    "y_u = np.multiply(np.exp(-t), np.sin(2*np.pi*x))\n",
    "y_f = (4*np.pi**2 - 1) * np.multiply(np.exp(-t), np.sin(2*np.pi*x))"
   ]
  },
  {
   "cell_type": "markdown",
   "metadata": {},
   "source": [
    "#### Step 2: evaluate kernels and covariance matrix\n",
    "\n",
    "Declare symbols"
   ]
  },
  {
   "cell_type": "code",
   "execution_count": null,
   "metadata": {
    "collapsed": true
   },
   "outputs": [],
   "source": [
    "x_i, x_j, t_i, t_j, theta1, theta2, phi = sp.symbols('x_i x_j t_i t_j theta1 theta2 phi')"
   ]
  },
  {
   "cell_type": "markdown",
   "metadata": {},
   "source": [
    "$k_{uu}(x_i, x_j, t_i, t_j; \\theta) =  exp \\left[ -\\theta_1 (x_i-x_j)^2 - \\theta_2 (t_i-t_j)^2 \\right]$"
   ]
  },
  {
   "cell_type": "code",
   "execution_count": null,
   "metadata": {
    "collapsed": true
   },
   "outputs": [],
   "source": [
    "kuu_sym = sp.exp(-theta1*(x_i - x_j)**2 - theta2*(t_i - t_j)**2)\n",
    "kuu_fn = sp.lambdify((x_i, x_j, t_i, t_j, theta1, theta2), kuu_sym, \"numpy\")\n",
    "def kuu(t, x, theta1, theta2):\n",
    "    k = np.zeros((t.size, t.size))\n",
    "    for i in range(t.size):\n",
    "        for j in range(t.size):\n",
    "            k[i,j] = kuu_fn(x[i], x[j], t[i], t[j], theta1, theta2)\n",
    "    return k"
   ]
  },
  {
   "cell_type": "markdown",
   "metadata": {},
   "source": [
    "$k_{ff}(\\bar{x}_i,\\bar{x}_j;\\theta,\\phi) \\\\\n",
    "= \\mathcal{L}_{\\bar{x}_i}^\\phi \\mathcal{L}_{\\bar{x}_j}^\\phi k_{uu}(\\bar{x}_i, \\bar{x}_j; \\theta) \\\\\n",
    "= \\mathcal{L}_{\\bar{x}_i}^\\phi \\left[ \\frac{\\partial}{\\partial t_j}k_{uu} - \\phi \\frac{\\partial^2}{\\partial x_j^2} k_{uu} \\right] \\\\\n",
    "= \\frac{\\partial}{\\partial t_i}\\frac{\\partial}{\\partial t_j}k_{uu} - \\phi \\left[ \\frac{\\partial}{\\partial t_i}\\frac{\\partial^2}{\\partial x_j^2}k_{uu} + \\frac{\\partial^2}{\\partial x_i^2}\\frac{\\partial}{\\partial t_j}k_{uu} \\right] + \\phi^2 \\frac{\\partial^2}{\\partial x_i^2}\\frac{\\partial^2}{\\partial x_j^2}k_{uu}$"
   ]
  },
  {
   "cell_type": "code",
   "execution_count": null,
   "metadata": {
    "collapsed": true
   },
   "outputs": [],
   "source": [
    "kff_sym = sp.diff(kuu_sym, t_j, t_i) \\\n",
    "        - phi*sp.diff(kuu_sym,x_j,x_j,t_i) \\\n",
    "        - phi*sp.diff(kuu_sym,t_j,x_i,x_i) \\\n",
    "        + phi**2*sp.diff(kuu_sym,x_j,x_j,x_i,x_i)\n",
    "kff_fn = sp.lambdify((x_i, x_j, t_i, t_j, theta1, theta2, phi), kff_sym, \"numpy\")\n",
    "def kff(t, x, theta1, theta2, p):\n",
    "    k = np.zeros((t.size, t.size))\n",
    "    for i in range(t.size):\n",
    "        for j in range(t.size):\n",
    "            k[i,j] = kff_fn(x[i], x[j], t[i], t[j], theta1, theta2, p)\n",
    "    return k"
   ]
  },
  {
   "cell_type": "markdown",
   "metadata": {},
   "source": [
    "$k_{fu}(\\bar{x}_i,\\bar{x}_j;\\theta,\\phi) \\\\\n",
    "= \\mathcal{L}_{\\bar{x}_i}^\\phi k_{uu}(\\bar{x}_i, \\bar{x}_j; \\theta) \\\\\n",
    "= \\frac{\\partial}{\\partial t_i}k_{uu} - \\phi \\frac{\\partial^2}{\\partial x_i^2}k_{uu}$"
   ]
  },
  {
   "cell_type": "code",
   "execution_count": null,
   "metadata": {
    "collapsed": true
   },
   "outputs": [],
   "source": [
    "kfu_sym = sp.diff(kuu_sym,t_i) - phi*sp.diff(kuu_sym,x_i,x_i)\n",
    "kfu_fn = sp.lambdify((x_i, x_j, t_i, t_j, theta1, theta2, phi), kfu_sym, \"numpy\")\n",
    "def kfu(t, x, theta1, theta2, p):\n",
    "    k = np.zeros((t.size, t.size))\n",
    "    for i in range(t.size):\n",
    "        for j in range(t.size):\n",
    "            k[i,j] = kfu_fn(x[i], x[j], t[i], t[j], theta1, theta2, p)\n",
    "    return k"
   ]
  },
  {
   "cell_type": "code",
   "execution_count": null,
   "metadata": {
    "collapsed": true
   },
   "outputs": [],
   "source": [
    "def kuf(t, x, theta1, theta2, p):\n",
    "    return kfu(t, x, theta1, theta2, p).T"
   ]
  },
  {
   "cell_type": "markdown",
   "metadata": {},
   "source": [
    "#### Step 3: create covariance matrix and NLML\n",
    "\n",
    "```\n",
    "params = [sig_u, l_u, phi]\n",
    "```"
   ]
  },
  {
   "cell_type": "code",
   "execution_count": null,
   "metadata": {
    "collapsed": true
   },
   "outputs": [],
   "source": [
    "def nlml(params, t, x, y1, y2, s):\n",
    "    params = np.exp(params)\n",
    "    K = np.block([\n",
    "        [\n",
    "            kuu(t, x, params[0], params[1]) + s*np.identity(x.size),\n",
    "            kuf(t, x, params[0], params[1], params[2])\n",
    "        ],\n",
    "        [\n",
    "            kfu(t, x, params[0], params[1], params[2]),\n",
    "            kff(t, x, params[0], params[1], params[2]) + s*np.identity(x.size)\n",
    "        ]\n",
    "    ])\n",
    "    y = np.concatenate((y1, y2))\n",
    "    val = 0.5*(np.log(abs(np.linalg.det(K))) + np.mat(y) * np.linalg.inv(K) * np.mat(y).T)\n",
    "    return val.item(0)"
   ]
  },
  {
   "cell_type": "code",
   "execution_count": null,
   "metadata": {},
   "outputs": [],
   "source": [
    "nlml((1,1,0), t, x, y_u, y_f, 1e-6)"
   ]
  },
  {
   "cell_type": "code",
   "execution_count": null,
   "metadata": {
    "scrolled": false
   },
   "outputs": [],
   "source": [
    "%%timeit\n",
    "nlml_wp = lambda params: nlml(params, t, x, y_u, y_f, 1e-7)\n",
    "minimize(nlml_wp, np.random.rand(3), method=\"Nelder-Mead\", options={'maxiter' : 5000, 'fatol' : 0.001})"
   ]
  },
  {
   "cell_type": "code",
   "execution_count": null,
   "metadata": {
    "collapsed": true
   },
   "outputs": [],
   "source": [
    "def minimize_restarts(t, x, y_u, y_f, n = 10):\n",
    "    nlml_wp = lambda params: nlml(params, t, x, y_u, y_f, 1e-7)\n",
    "    all_results = []\n",
    "    for it in range(0,n):\n",
    "        all_results.append(minimize(nlml_wp, np.random.rand(3), method=\"Nelder-Mead\", options={'maxiter' : 5000, 'fatol' : 0.001}))\n",
    "    filtered_results = [m for m in all_results if 0 == m.status]\n",
    "    return min(filtered_results, key = lambda x: x.fun)"
   ]
  },
  {
   "cell_type": "code",
   "execution_count": null,
   "metadata": {},
   "outputs": [],
   "source": [
    "m = minimize_restarts(t, x, y_u, y_f, 20)\n",
    "m"
   ]
  },
  {
   "cell_type": "markdown",
   "metadata": {},
   "source": [
    "##### Estimated value of $\\alpha$"
   ]
  },
  {
   "cell_type": "code",
   "execution_count": null,
   "metadata": {},
   "outputs": [],
   "source": [
    "np.exp(m.x[2])"
   ]
  },
  {
   "cell_type": "markdown",
   "metadata": {
    "collapsed": true
   },
   "source": [
    "### Analysis\n",
    "\n",
    "#### Contour lines for likelihood"
   ]
  },
  {
   "cell_type": "code",
   "execution_count": null,
   "metadata": {
    "collapsed": true
   },
   "outputs": [],
   "source": [
    "delta = 0.01\n",
    "theta1_range = np.arange(1, 2, delta)\n",
    "theta2_range = np.arange(-2, -1, delta)\n",
    "theta1_mesh, theta2_mesh = np.meshgrid(theta1_range, theta2_range)\n",
    "nlml_mesh_fn = lambda mesh1, mesh2: nlml(np.array([mesh1, mesh2, 0]), t, x, y_u, y_f, 1e-7)\n",
    "nlml_mesh = np.zeros(theta1_mesh.shape)\n",
    "for i in range(nlml_mesh.shape[0]):\n",
    "    for j in range(nlml_mesh.shape[1]):\n",
    "        nlml_mesh[i][j] = nlml_mesh_fn(theta1_mesh[i][j], theta2_mesh[i][j])"
   ]
  },
  {
   "cell_type": "code",
   "execution_count": null,
   "metadata": {},
   "outputs": [],
   "source": [
    "plt.figure()\n",
    "CS = plt.contour(theta1_mesh, theta2_mesh, nlml_mesh, np.arange(-5,4))\n",
    "plt.clabel(CS, inline=1, fontsize=10)\n",
    "plt.show()"
   ]
  },
  {
   "cell_type": "code",
   "execution_count": null,
   "metadata": {
    "scrolled": true
   },
   "outputs": [],
   "source": [
    "plt.figure()\n",
    "CS = plt.contour(np.exp(theta1_mesh), np.exp(theta2_mesh), nlml_mesh, np.arange(-5,4))\n",
    "plt.clabel(CS, inline=1, fontsize=10)\n",
    "plt.show()"
   ]
  },
  {
   "cell_type": "markdown",
   "metadata": {},
   "source": [
    "#### Profile likelihood for $\\theta_1$"
   ]
  },
  {
   "cell_type": "code",
   "execution_count": null,
   "metadata": {
    "collapsed": true
   },
   "outputs": [],
   "source": [
    "theta1_optim = np.zeros(theta1_range.size)\n",
    "for i in range(theta1_range.size):\n",
    "    nlml_opt_theta2 = lambda t2 : nlml(np.array([theta1_range[i], t2, 0]), t, x, y_u, y_f, 1e-7)\n",
    "    m = minimize_scalar(nlml_opt_theta2)\n",
    "    theta1_optim[i] = m['fun']"
   ]
  },
  {
   "cell_type": "code",
   "execution_count": null,
   "metadata": {},
   "outputs": [],
   "source": [
    "plt.plot(theta1_range, theta1_optim)\n",
    "plt.show()"
   ]
  },
  {
   "cell_type": "markdown",
   "metadata": {},
   "source": [
    "#### Profile likelihood for $\\theta_2$"
   ]
  },
  {
   "cell_type": "code",
   "execution_count": null,
   "metadata": {
    "collapsed": true
   },
   "outputs": [],
   "source": [
    "theta2_optim = np.zeros(theta2_range.size)\n",
    "for i in range(theta2_range.size):\n",
    "    def nlml_opt_theta1(t1):\n",
    "        return nlml(np.array([t1, theta2_range[i], 0]), t, x, y_u, y_f, 1e-7)\n",
    "    m = minimize_scalar(nlml_opt_theta1)\n",
    "    theta2_optim[i] = m['fun']"
   ]
  },
  {
   "cell_type": "code",
   "execution_count": null,
   "metadata": {},
   "outputs": [],
   "source": [
    "plt.plot(theta2_range, theta2_optim)\n",
    "plt.show()"
   ]
  },
  {
   "cell_type": "code",
   "execution_count": null,
   "metadata": {},
   "outputs": [],
   "source": [
    "plt.pcolormesh(theta1_mesh, theta2_mesh, nlml_mesh)\n",
    "plt.show()"
   ]
  },
  {
   "cell_type": "code",
   "execution_count": null,
   "metadata": {
    "collapsed": true
   },
   "outputs": [],
   "source": []
  }
 ],
 "metadata": {
  "kernelspec": {
   "display_name": "Python 3",
   "language": "python",
   "name": "python3"
  },
  "language_info": {
   "codemirror_mode": {
    "name": "ipython",
    "version": 3
   },
   "file_extension": ".py",
   "mimetype": "text/x-python",
   "name": "python",
   "nbconvert_exporter": "python",
   "pygments_lexer": "ipython3",
   "version": "3.6.5"
  }
 },
 "nbformat": 4,
 "nbformat_minor": 2
}
