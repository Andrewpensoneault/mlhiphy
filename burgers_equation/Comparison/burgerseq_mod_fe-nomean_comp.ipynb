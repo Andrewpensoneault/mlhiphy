{
 "cells": [
  {
   "cell_type": "markdown",
   "metadata": {},
   "source": [
    "## Burgers Equation - Forward Euler/0-estimation\n",
    "#### Parameter estimation for Burgers' Equation using Gaussian processes (Forward Euler scheme)\n",
    "\n",
    "\n",
    "#### Problem Setup\n",
    "\n",
    "$u_t + u u_{x} = \\nu u_{x}$\n",
    "\n",
    "$u(x,t) = \\frac{x}{1+t}$ => We'd expect $\\nu = 0$\n",
    "\n",
    "$u_0(x) := u(x,0) = x$\n",
    "\n",
    "$x \\in [0, 1], t \\in \\{0, \\tau \\}$\n",
    "\n",
    "Using the forward Euler scheme, the equation can be re-written as:\n",
    "\n",
    "$\\frac{u_n - u_{n-1}}{\\tau} + u_{n-1} \\frac{d}{dx}u_{n-1}  = \\nu \\frac{d^2}{dx}u_{n-1}$\n",
    "\n",
    "and setting the factor $u_{n-1} = u_0(x) = x$ (no mean used! Should give a better result) to deal with the non-linearity:\n",
    "\n",
    "$\\tau \\nu \\frac{d^2}{dx}u_{n-1} - \\tau x \\frac{d}{dx}u_{n-1} + u_{n-1} = u_{n}$\n",
    "\n",
    "\n",
    "Consider $u_{n-1}$ to be a Gaussian process.\n",
    "\n",
    "$u_{n-1} \\sim \\mathcal{GP}(0, k_{uu}(x_i, x_j, \\theta))$\n",
    "\n",
    "And the linear operator:\n",
    "\n",
    "$\\mathcal{L}_x^\\nu = \\cdot + \\tau \\nu \\frac{d}{dx}\\cdot - \\tau x \\frac{d}{dx} \\cdot$\n",
    "\n",
    "so that\n",
    "\n",
    "$\\mathcal{L}_x^\\nu u_{n-1} = u_n$\n",
    "\n",
    "Problem at hand: estimate $\\nu$ (should be $\\nu = 0$ in the end).\n",
    "\n",
    "For the sake of simplicity, take $u := u_{n-1}$ and $f := u_n$.\n",
    "\n",
    "\n",
    "#### step 1: Simulate data\n",
    "\n",
    "Take data points at $t = 0$ for $(u_{n-1})$ and $t = \\tau$ for $(u_n)$, where $\\tau$ is the time step."
   ]
  },
  {
   "cell_type": "code",
   "execution_count": 23,
   "metadata": {},
   "outputs": [],
   "source": [
    "import numpy as np\n",
    "import sympy as sp\n",
    "import warnings\n",
    "from scipy.optimize import minimize\n",
    "import matplotlib.pyplot as plt"
   ]
  },
  {
   "cell_type": "code",
   "execution_count": 24,
   "metadata": {},
   "outputs": [],
   "source": [
    "tau = 0.001\n",
    "def get_simulated_data(tau, alpha, beta):\n",
    "    # Random numbers in [alpha, beta]\n",
    "    x = np.random.rand(20)*(beta - alpha) + alpha\n",
    "    y_u = x\n",
    "    y_f = x/(1+tau)\n",
    "    return (x, y_u, y_f)"
   ]
  },
  {
   "cell_type": "markdown",
   "metadata": {},
   "source": [
    "#### Step 2:Evaluate kernels\n",
    "\n",
    "$k_{nn}(x_i, x_j; \\theta) = \\theta exp(-\\frac{1}{2l}(x_i-x_j)^2)$"
   ]
  },
  {
   "cell_type": "code",
   "execution_count": 25,
   "metadata": {},
   "outputs": [],
   "source": [
    "x_i, x_j, theta, l, nu = sp.symbols('x_i x_j theta l nu')\n",
    "kuu_sym = theta*sp.exp(-1/(2*l)*((x_i - x_j)**2))\n",
    "kuu_fn = sp.lambdify((x_i, x_j, theta, l), kuu_sym, \"numpy\")\n",
    "def kuu(x, theta, l):\n",
    "    k = np.zeros((x.size, x.size))\n",
    "    for i in range(x.size):\n",
    "        for j in range(x.size):\n",
    "            k[i,j] = kuu_fn(x[i], x[j], theta, l)\n",
    "    return k"
   ]
  },
  {
   "cell_type": "markdown",
   "metadata": {},
   "source": [
    "$k_{ff}(x_i,x_j;\\theta,\\phi) \\\\\n",
    "= \\mathcal{L}_{x_i}^\\nu \\mathcal{L}_{x_j}^\\nu k_{uu}(x_i, x_j; \\theta) \\\\\n",
    "= k_{uu} + \\tau \\nu \\frac{d}{dx_i}k_{uu} - \\tau x_i \\frac{d}{dx_i}k_{uu} + \\tau \\nu \\frac{d}{dx_j}k_{uu} + \\tau^2 \\nu^2 \\frac{d}{dx_i} \\frac{d}{dx_j}k_{uu} - \\tau^2 \\nu x_i\\frac{d^2}{dx_i dx_j} k_{uu} - \\tau x_j \\frac{d}{dx_j}k_{uu} - \\tau^2 \\nu x_j \\frac{d^2}{dx_i dx_j} k_{uu} + \\tau^2 x_i x_j \\frac{d^2}{dx_i dx_j}k_{uu}$"
   ]
  },
  {
   "cell_type": "code",
   "execution_count": 26,
   "metadata": {},
   "outputs": [],
   "source": [
    "kff_sym = kuu_sym \\\n",
    "        + tau*nu*sp.diff(kuu_sym, x_i) \\\n",
    "        - tau*x_i*sp.diff(kuu_sym, x_i) \\\n",
    "        + tau*nu*sp.diff(kuu_sym, x_j) \\\n",
    "        + tau**2*nu**2*sp.diff(kuu_sym, x_j, x_i) \\\n",
    "        - tau**2*nu*x_i*sp.diff(kuu_sym, x_j, x_i) \\\n",
    "        - tau*x_j*sp.diff(kuu_sym, x_j) \\\n",
    "        - tau**2*nu*x_j*sp.diff(kuu_sym, x_j, x_i) \\\n",
    "        + tau**2*x_i*x_j*sp.diff(kuu_sym, x_j, x_i)\n",
    "kff_fn = sp.lambdify((x_i, x_j, theta, l, nu), kff_sym, \"numpy\")\n",
    "def kff(x, theta, l, nu):\n",
    "    k = np.zeros((x.size, x.size))\n",
    "    for i in range(x.size):\n",
    "        for j in range(x.size):\n",
    "            k[i,j] = kff_fn(x[i], x[j], theta, l, nu)\n",
    "    return k"
   ]
  },
  {
   "cell_type": "markdown",
   "metadata": {},
   "source": [
    "$k_{fu}(x_i,x_j;\\theta,\\phi) \\\\\n",
    "= \\mathcal{L}_{x_i}^\\nu k_{uu}(x_i, x_j; \\theta) \\\\\n",
    "= k_{uu} + \\tau \\nu \\frac{d}{dx_i}k_{uu} - \\tau x_i\\frac{d}{dx_i}k_{uu}$"
   ]
  },
  {
   "cell_type": "code",
   "execution_count": 27,
   "metadata": {},
   "outputs": [],
   "source": [
    "kfu_sym = kuu_sym + tau*nu*sp.diff(kuu_sym, x_i) - tau*x_i*sp.diff(kuu_sym, x_i)\n",
    "kfu_fn = sp.lambdify((x_i, x_j, theta, l, nu), kfu_sym, \"numpy\")\n",
    "def kfu(x, theta, l, nu):\n",
    "    k = np.zeros((x.size, x.size))\n",
    "    for i in range(x.size):\n",
    "        for j in range(x.size):\n",
    "            k[i,j] = kfu_fn(x[i], x[j], theta, l, nu)\n",
    "    return k"
   ]
  },
  {
   "cell_type": "code",
   "execution_count": 28,
   "metadata": {},
   "outputs": [],
   "source": [
    "def kuf(x, theta, l, nu):\n",
    "    return kfu(x,theta, l, nu).T"
   ]
  },
  {
   "cell_type": "markdown",
   "metadata": {},
   "source": [
    "#### Step 3: Compute NLML"
   ]
  },
  {
   "cell_type": "code",
   "execution_count": 29,
   "metadata": {},
   "outputs": [],
   "source": [
    "def nlml(params, x, y1, y2, s):\n",
    "    theta_exp = np.exp(params[0]) \n",
    "    l_exp = np.exp(params[1])\n",
    "    K = np.block([\n",
    "        [kuu(x, theta_exp, l_exp) + s*np.identity(x.size), kuf(x, theta_exp, l_exp, params[2])],\n",
    "        [kfu(x, theta_exp, l_exp, params[2]), kff(x, theta_exp, l_exp, params[2]) + s*np.identity(x.size)]\n",
    "    ])\n",
    "    y = np.concatenate((y1, y2))\n",
    "    val = 0.5*(np.log(abs(np.linalg.det(K))) + np.mat(y) * np.linalg.inv(K) * np.mat(y).T)\n",
    "    return val.item(0)"
   ]
  },
  {
   "cell_type": "markdown",
   "metadata": {},
   "source": [
    "#### Step 4: Optimise hyperparameters"
   ]
  },
  {
   "cell_type": "code",
   "execution_count": 38,
   "metadata": {},
   "outputs": [
    {
     "name": "stdout",
     "output_type": "stream",
     "text": [
      "14.6 s ± 798 ms per loop (mean ± std. dev. of 7 runs, 1 loop each)\n"
     ]
    }
   ],
   "source": [
    "%%timeit\n",
    "(x, y_u, y_f) = get_simulated_data(tau, 0, 1)\n",
    "m = minimize(nlml, np.random.rand(3), args=(x, y_u, y_f, 1e-7), method=\"Nelder-Mead\")"
   ]
  },
  {
   "cell_type": "code",
   "execution_count": 36,
   "metadata": {},
   "outputs": [],
   "source": [
    "results = []\n",
    "for n in range(10):\n",
    "    (x, y_u, y_f) = get_simulated_data(tau, n, n+1)\n",
    "    warnings.filterwarnings(\"ignore\")\n",
    "    m = minimize(nlml, np.random.rand(3), args=(x, y_u, y_f, 1e-7), method=\"Nelder-Mead\", options = {'maxiter' : 1000})\n",
    "    if m.status == 0:\n",
    "        results.append(m.x[2])"
   ]
  },
  {
   "cell_type": "code",
   "execution_count": 31,
   "metadata": {},
   "outputs": [
    {
     "data": {
      "text/plain": [
       "[0.000559966750333337,\n",
       " 0.0016907407267387404,\n",
       " 0.0024748815659894757,\n",
       " 0.0036254494778221623,\n",
       " 0.004338349097329195,\n",
       " 0.0052319685083120114,\n",
       " 0.006486625446119625,\n",
       " 0.0072930009374944154,\n",
       " 0.008210700508848801,\n",
       " 0.009958709193246491]"
      ]
     },
     "execution_count": 31,
     "metadata": {},
     "output_type": "execute_result"
    }
   ],
   "source": [
    "results"
   ]
  },
  {
   "cell_type": "code",
   "execution_count": 32,
   "metadata": {},
   "outputs": [
    {
     "data": {
      "text/plain": [
       "[<matplotlib.lines.Line2D at 0x22e05e05a90>]"
      ]
     },
     "execution_count": 32,
     "metadata": {},
     "output_type": "execute_result"
    },
    {
     "data": {
      "image/png": "[encoded data removed]",
      "text/plain": [
       "<Figure size 432x288 with 1 Axes>"
      ]
     },
     "metadata": {},
     "output_type": "display_data"
    }
   ],
   "source": [
    "lin = np.linspace(1,len(results),len(results))\n",
    "plt.plot(lin, results)"
   ]
  },
  {
   "cell_type": "markdown",
   "metadata": {},
   "source": [
    "- The results of the first run (with an increasing length of the interval [alpha, beta]):\n",
    "    \n",
    "results = [0.0005310856122395808,\n",
    " 0.0003428072035434465,\n",
    " 0.0011232479569141262,\n",
    " 0.0022636752135821313,\n",
    " 0.0022616550320778746,\n",
    " -0.005003144177170458,\n",
    " -0.0123704500391504,\n",
    " 0.0017474643621885146]\n",
    " \n",
    "with an average error of 0.003,\n",
    "\n",
    "where beta is given by the values on the x-axis."
   ]
  },
  {
   "cell_type": "markdown",
   "metadata": {},
   "source": [
    "- The result of the second run (with an increasing shift of the interval [beta - 1, beta]):\n",
    "\n",
    "results =\n",
    "[0.000559966750333337,\n",
    " 0.0016907407267387404,\n",
    " 0.0024748815659894757,\n",
    " 0.0036254494778221623,\n",
    " 0.004338349097329195,\n",
    " 0.0052319685083120114,\n",
    " 0.006486625446119625,\n",
    " 0.0072930009374944154,\n",
    " 0.008210700508848801,\n",
    " 0.009958709193246491]\n",
    " \n",
    "with an average error of 0.005,\n",
    " \n",
    "where beta is given by the values on the x-axis."
   ]
  },
  {
   "cell_type": "code",
   "execution_count": null,
   "metadata": {},
   "outputs": [],
   "source": []
  }
 ],
 "metadata": {
  "kernelspec": {
   "display_name": "Python 3",
   "language": "python",
   "name": "python3"
  },
  "language_info": {
   "codemirror_mode": {
    "name": "ipython",
    "version": 3
   },
   "file_extension": ".py",
   "mimetype": "text/x-python",
   "name": "python",
   "nbconvert_exporter": "python",
   "pygments_lexer": "ipython3",
   "version": "3.6.5"
  }
 },
 "nbformat": 4,
 "nbformat_minor": 2
}
