{
 "cells": [
  {
   "cell_type": "markdown",
   "metadata": {},
   "source": [
    "## Burgers Equation - Forward Euler/0-estimation\n",
    "#### Parameter estimation for Burgers' Equation using Gaussian processes (Forward Euler scheme)\n",
    "\n",
    "\n",
    "#### Problem Setup\n",
    "\n",
    "$u_t + u u_{x} = \\nu u_{xx}$\n",
    "\n",
    "$u(x,t) = \\frac{x}{1+t}$ => We'd expect $\\nu = 0$\n",
    "\n",
    "$u_0(x) := u(x,0) = x$\n",
    "\n",
    "$x \\in [0, 1], t \\in \\{0, \\tau \\}$\n",
    "\n",
    "Using the forward Euler scheme, the equation can be re-written as:\n",
    "\n",
    "$\\frac{u_n - u_{n-1}}{\\tau} + u_{n-1} \\frac{d}{dx}u_{n-1}  = \\nu \\frac{d^2}{dx^2}u_{n-1}$\n",
    "\n",
    "and setting the factor $u_{n-1} = \\mu_{n-1}$ to deal with the non-linearity:\n",
    "\n",
    "$\\tau \\nu \\frac{d^2}{dx^2}u_{n-1} - \\tau \\mu_{n-1} \\frac{d}{dx}u_{n-1} + u_{n-1} = u_{n}$\n",
    "\n",
    "\n",
    "Consider $u_{n-1}$ to be a Gaussian process.\n",
    "\n",
    "$u_{n-1} \\sim \\mathcal{GP}(0, k_{uu}(x_i, x_j, \\theta))$\n",
    "\n",
    "And the linear operator:\n",
    "\n",
    "$\\mathcal{L}_x^\\nu = \\cdot + \\tau \\nu \\frac{d^2}{dx^2}\\cdot - \\tau \\mu_{n-1} \\frac{d}{dx} \\cdot$\n",
    "\n",
    "so that\n",
    "\n",
    "$\\mathcal{L}_x^\\nu u_{n-1} = u_n$\n",
    "\n",
    "Problem at hand: estimate $\\nu$ (should be $\\nu = 0$ in the end).\n",
    "\n",
    "For the sake of simplicity, take $u := u_{n-1}$ and $f := u_n$.\n",
    "\n",
    "\n",
    "#### step 1: Simulate data\n",
    "\n",
    "Take data points at $t = 0$ for $(u_{n-1})$ and $t = \\tau$ for $(u_n)$, where $\\tau$ is the time step."
   ]
  },
  {
   "cell_type": "code",
   "execution_count": 6,
   "metadata": {},
   "outputs": [],
   "source": [
    "import numpy as np\n",
    "import sympy as sp\n",
    "from scipy.optimize import minimize\n",
    "import matplotlib.pyplot as plt"
   ]
  },
  {
   "cell_type": "code",
   "execution_count": 7,
   "metadata": {},
   "outputs": [],
   "source": [
    "tau = 0.001                     # Seems to be a good value for the time step\n",
    "def get_simulated_data(tau):\n",
    "    x = np.random.rand(50)\n",
    "    y_u = x\n",
    "    y_f = x/(1+tau)\n",
    "    return (x, y_u, y_f)\n",
    "\n",
    "(x, y_u, y_f) = get_simulated_data(tau)"
   ]
  },
  {
   "cell_type": "code",
   "execution_count": 8,
   "metadata": {},
   "outputs": [
    {
     "data": {
      "image/png": "[encoded data removed]",
      "text/plain": [
       "<Figure size 432x288 with 1 Axes>"
      ]
     },
     "metadata": {},
     "output_type": "display_data"
    }
   ],
   "source": [
    "plt.plot(x, y_u, 'ro')\n",
    "plt.show()"
   ]
  },
  {
   "cell_type": "code",
   "execution_count": 9,
   "metadata": {},
   "outputs": [
    {
     "data": {
      "image/png": "[encoded data removed]",
      "text/plain": [
       "<Figure size 432x288 with 1 Axes>"
      ]
     },
     "metadata": {},
     "output_type": "display_data"
    }
   ],
   "source": [
    "plt.plot(x, y_f, 'bo')\n",
    "plt.show()"
   ]
  },
  {
   "cell_type": "markdown",
   "metadata": {},
   "source": [
    "#### Step 2:Evaluate kernels\n",
    "\n",
    "$k_{nn}(x_i, x_j; \\theta) = \\theta exp(-\\frac{1}{2l}(x_i-x_j)^2)$"
   ]
  },
  {
   "cell_type": "code",
   "execution_count": 10,
   "metadata": {},
   "outputs": [],
   "source": [
    "x_i, x_j, theta, l, nu = sp.symbols('x_i x_j theta l nu')\n",
    "mu = np.mean(y_u)\n",
    "kuu_sym = theta*sp.exp(-1/(2*l)*((x_i - x_j)**2))\n",
    "kuu_fn = sp.lambdify((x_i, x_j, theta, l), kuu_sym, \"numpy\")\n",
    "def kuu(x, theta, l):\n",
    "    k = np.zeros((x.size, x.size))\n",
    "    for i in range(x.size):\n",
    "        for j in range(x.size):\n",
    "            k[i,j] = kuu_fn(x[i], x[j], theta, l)\n",
    "    return k"
   ]
  },
  {
   "cell_type": "markdown",
   "metadata": {},
   "source": [
    "$k_{ff}(x_i,x_j;\\theta,\\phi) \\\\\n",
    "= \\mathcal{L}_{x_i}^\\nu \\mathcal{L}_{x_j}^\\nu k_{uu}(x_i, x_j; \\theta) \\\\\n",
    "= k_{uu} + \\tau \\nu \\frac{d^2}{dx_i^2}k_{uu} - \\tau \\mu_{n-1} \\frac{d}{dx_i}k_{uu} + \\tau \\nu \\frac{d^2}{dx_j^2}k_{uu} + \\tau^2 \\nu^2 \\frac{d^2}{dx_i^2} \\frac{d^2}{dx_j^2}k_{uu} - \\tau^2 \\nu \\mu_{n-1}\\frac{d^3}{dx_i^2 dx_j} k_{uu} - \\tau \\mu_{n-1} \\frac{d}{dx_j}k_{uu} - \\tau^2 \\nu \\mu_{n-1} \\frac{d^3}{dx_i^2 dx_j} k_{uu} + \\tau^2 \\mu_{n-1}^2 \\frac{d^2}{dx_i dx_j}k_{uu}$"
   ]
  },
  {
   "cell_type": "code",
   "execution_count": 11,
   "metadata": {},
   "outputs": [],
   "source": [
    "kff_sym = kuu_sym \\\n",
    "        + tau*nu*sp.diff(kuu_sym, x_i, x_i) \\\n",
    "        - tau*mu*sp.diff(kuu_sym, x_i) \\\n",
    "        + tau*nu*sp.diff(kuu_sym, x_j, x_j) \\\n",
    "        + tau**2*nu**2*sp.diff(kuu_sym, x_j, x_j, x_i, x_i) \\\n",
    "        - tau**2*nu*mu*sp.diff(kuu_sym, x_j, x_i, x_i) \\\n",
    "        - tau*mu*sp.diff(kuu_sym, x_j) \\\n",
    "        - tau**2*nu*mu*sp.diff(kuu_sym, x_j, x_i, x_i) \\\n",
    "        + tau**2*mu**2*sp.diff(kuu_sym, x_j, x_i)\n",
    "kff_fn = sp.lambdify((x_i, x_j, theta, l, nu), kff_sym, \"numpy\")\n",
    "def kff(x, theta, l, nu):\n",
    "    k = np.zeros((x.size, x.size))\n",
    "    for i in range(x.size):\n",
    "        for j in range(x.size):\n",
    "            k[i,j] = kff_fn(x[i], x[j], theta, l, nu)\n",
    "    return k"
   ]
  },
  {
   "cell_type": "markdown",
   "metadata": {},
   "source": [
    "$k_{fu}(x_i,x_j;\\theta,\\phi) \\\\\n",
    "= \\mathcal{L}_{x_i}^\\nu k_{uu}(x_i, x_j; \\theta) \\\\\n",
    "= k_{uu} + \\tau \\nu \\frac{d^2}{dx_i^2}k_{uu} - \\tau \\mu_{n-1}\\frac{d}{dx_i}k_{uu}$"
   ]
  },
  {
   "cell_type": "code",
   "execution_count": 12,
   "metadata": {},
   "outputs": [],
   "source": [
    "kfu_sym = kuu_sym + tau*nu*sp.diff(kuu_sym, x_i, x_i) - tau*mu*sp.diff(kuu_sym, x_i)\n",
    "kfu_fn = sp.lambdify((x_i, x_j, theta, l, nu), kfu_sym, \"numpy\")\n",
    "def kfu(x, theta, l, nu):\n",
    "    k = np.zeros((x.size, x.size))\n",
    "    for i in range(x.size):\n",
    "        for j in range(x.size):\n",
    "            k[i,j] = kfu_fn(x[i], x[j], theta, l, nu)\n",
    "    return k"
   ]
  },
  {
   "cell_type": "code",
   "execution_count": 13,
   "metadata": {},
   "outputs": [],
   "source": [
    "def kuf(x, theta, l, nu):\n",
    "    return kfu(x,theta, l, nu).T"
   ]
  },
  {
   "cell_type": "markdown",
   "metadata": {},
   "source": [
    "#### Step 3: Compute NLML"
   ]
  },
  {
   "cell_type": "code",
   "execution_count": 14,
   "metadata": {},
   "outputs": [],
   "source": [
    "def nlml(params, x, y1, y2, s):\n",
    "    theta_exp = np.exp(params[0]) \n",
    "    l_exp = np.exp(params[1])\n",
    "    K = np.block([\n",
    "        [kuu(x, theta_exp, l_exp) + s*np.identity(x.size), kuf(x, theta_exp, l_exp, params[2])],\n",
    "        [kfu(x, theta_exp, l_exp, params[2]), kff(x, theta_exp, l_exp, params[2]) + s*np.identity(x.size)]\n",
    "    ])\n",
    "    y = np.concatenate((y1, y2))\n",
    "    val = 0.5*(np.log(abs(np.linalg.det(K))) + np.mat(y) * np.linalg.inv(K) * np.mat(y).T)\n",
    "    return val.item(0)"
   ]
  },
  {
   "cell_type": "markdown",
   "metadata": {},
   "source": [
    "#### Step 4: Optimise hyperparameters"
   ]
  },
  {
   "cell_type": "code",
   "execution_count": 15,
   "metadata": {},
   "outputs": [],
   "source": [
    "m = minimize(nlml, np.random.rand(3), args=(x, y_u, y_f, 1e-3), method=\"Nelder-Mead\", options = {'maxiter' : 1000})"
   ]
  },
  {
   "cell_type": "code",
   "execution_count": 16,
   "metadata": {},
   "outputs": [
    {
     "data": {
      "text/plain": [
       "1.5168075668818615"
      ]
     },
     "execution_count": 16,
     "metadata": {},
     "output_type": "execute_result"
    }
   ],
   "source": [
    "m.x[2]"
   ]
  },
  {
   "cell_type": "code",
   "execution_count": null,
   "metadata": {},
   "outputs": [],
   "source": [
    "# Note that the output makes sense, since u_{xx} will vanish anyways when we have u(x,t) = x/(1+t), so the setting of \n",
    "# nu will make almost no difference at all."
   ]
  },
  {
   "cell_type": "code",
   "execution_count": 17,
   "metadata": {},
   "outputs": [
    {
     "data": {
      "text/plain": [
       " final_simplex: (array([[1.78632466, 2.80824731, 1.51680757],\n",
       "       [1.78632785, 2.80824925, 1.51675349],\n",
       "       [1.78632558, 2.8082476 , 1.51680193],\n",
       "       [1.7863264 , 2.80824837, 1.51680866]]), array([-332.35315413, -332.35315413, -332.35315413, -332.35315413]))\n",
       "           fun: -332.3531541313487\n",
       "       message: 'Optimization terminated successfully.'\n",
       "          nfev: 332\n",
       "           nit: 182\n",
       "        status: 0\n",
       "       success: True\n",
       "             x: array([1.78632466, 2.80824731, 1.51680757])"
      ]
     },
     "execution_count": 17,
     "metadata": {},
     "output_type": "execute_result"
    }
   ],
   "source": [
    "m"
   ]
  },
  {
   "cell_type": "code",
   "execution_count": 18,
   "metadata": {},
   "outputs": [
    {
     "data": {
      "text/plain": [
       "-332.3528340127645"
      ]
     },
     "execution_count": 18,
     "metadata": {},
     "output_type": "execute_result"
    }
   ],
   "source": [
    "nlml((1.78, 2.81, 0), x, y_u, y_f, 1e-3)"
   ]
  },
  {
   "cell_type": "code",
   "execution_count": null,
   "metadata": {},
   "outputs": [],
   "source": []
  }
 ],
 "metadata": {
  "kernelspec": {
   "display_name": "Python 3",
   "language": "python",
   "name": "python3"
  },
  "language_info": {
   "codemirror_mode": {
    "name": "ipython",
    "version": 3
   },
   "file_extension": ".py",
   "mimetype": "text/x-python",
   "name": "python",
   "nbconvert_exporter": "python",
   "pygments_lexer": "ipython3",
   "version": "3.6.5"
  }
 },
 "nbformat": 4,
 "nbformat_minor": 2
}
